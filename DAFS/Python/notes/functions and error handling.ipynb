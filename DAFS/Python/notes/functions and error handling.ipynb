{
 "cells": [
  {
   "cell_type": "markdown",
   "id": "fc17e00a-4f16-4695-b5d7-2fec283f9f2f",
   "metadata": {},
   "source": [
    "# function\n",
    "\n",
    "its a block of code.It excecutes whenever it call.\n",
    "used to find logical error\n"
   ]
  },
  {
   "cell_type": "markdown",
   "id": "29491aa1-c51a-452c-93a4-1c0b648a77bd",
   "metadata": {
    "jp-MarkdownHeadingCollapsed": true
   },
   "source": [
    "### 5 types of function\n",
    "\n",
    "1. inbuild (sum,len)\n",
    "2. User defined fn\n",
    "3. Lambda fn\n",
    "4. recursive fn\n",
    "5. high order fn"
   ]
  },
  {
   "cell_type": "markdown",
   "id": "1418b832-d0aa-4d3c-9abc-134c18b284d4",
   "metadata": {
    "jp-MarkdownHeadingCollapsed": true
   },
   "source": [
    "### inbuild fn"
   ]
  },
  {
   "cell_type": "code",
   "execution_count": null,
   "id": "ca0cd94d-835a-4c9e-9d1b-48f37091084a",
   "metadata": {},
   "outputs": [],
   "source": []
  },
  {
   "cell_type": "code",
   "execution_count": 3,
   "id": "03136a60-5c50-4808-a888-7220a06cc136",
   "metadata": {},
   "outputs": [
    {
     "name": "stdout",
     "output_type": "stream",
     "text": [
      "5\n"
     ]
    }
   ],
   "source": [
    "def add(a,b):\n",
    "    print(a+b)\n",
    "add(2,3)"
   ]
  },
  {
   "cell_type": "code",
   "execution_count": 8,
   "id": "ba043670-5ff8-4e26-b299-69dc95ed3b3d",
   "metadata": {},
   "outputs": [],
   "source": [
    "# parameters to declare a variable\n",
    "\n",
    "\n",
    "# def function_name(parameters): function declaring\n",
    "#     block of codes\n",
    "\n",
    "\n",
    "\n",
    "# function_name(arguments)      function calling"
   ]
  },
  {
   "cell_type": "code",
   "execution_count": 10,
   "id": "fea4363b-35b3-4c04-b04d-80be940f72dd",
   "metadata": {},
   "outputs": [
    {
     "name": "stdout",
     "output_type": "stream",
     "text": [
      "60\n",
      "5\n",
      "Odd\n"
     ]
    }
   ],
   "source": [
    "def add(a,b):\n",
    "    print(a+b)\n",
    "\n",
    "def sub(a,b):\n",
    "    print(a-b)\n",
    "\n",
    "def even(n):\n",
    "    if n%2==0:\n",
    "        print(\"Even\")\n",
    "    else:\n",
    "        print(\"Odd\")\n",
    "\n",
    "add(8,52)\n",
    "sub(10,5)\n",
    "even(8555)"
   ]
  },
  {
   "cell_type": "markdown",
   "id": "27a3f0ad-cf8f-4d27-9998-534e24b6d295",
   "metadata": {
    "jp-MarkdownHeadingCollapsed": true
   },
   "source": [
    "### arguments (args)"
   ]
  },
  {
   "cell_type": "code",
   "execution_count": 13,
   "id": "639d1c90-2a7d-4011-8f4a-935ff60e1c55",
   "metadata": {},
   "outputs": [],
   "source": [
    "# 1. posstional args\n",
    "# 2. keyword args\n",
    "# 3. deafult args"
   ]
  },
  {
   "cell_type": "code",
   "execution_count": 14,
   "id": "7020f1d2-4100-4593-8b34-4a1cbd3b41c1",
   "metadata": {},
   "outputs": [
    {
     "name": "stdout",
     "output_type": "stream",
     "text": [
      "30\n"
     ]
    }
   ],
   "source": [
    "# 1. posstional args\n",
    "\n",
    "def add1(a,b):\n",
    "    print(a+b)\n",
    "\n",
    "add1(10,20)"
   ]
  },
  {
   "cell_type": "code",
   "execution_count": 17,
   "id": "68932adb-94a0-4e2d-9b54-c3aec1d562a5",
   "metadata": {},
   "outputs": [
    {
     "name": "stdout",
     "output_type": "stream",
     "text": [
      "A is 20\n",
      "B is 10\n",
      "30\n"
     ]
    }
   ],
   "source": [
    "# 2. keyword args\n",
    "\n",
    "def add2(a,b):\n",
    "    print('A is',a)\n",
    "    print('B is',b)\n",
    "    print(a+b)\n",
    "\n",
    "add2(b=10,a=20)"
   ]
  },
  {
   "cell_type": "code",
   "execution_count": 18,
   "id": "31b780d2-8170-4e3c-871f-fd5f701edb1c",
   "metadata": {},
   "outputs": [
    {
     "name": "stdout",
     "output_type": "stream",
     "text": [
      "40\n",
      "30\n"
     ]
    }
   ],
   "source": [
    "# 3. deafult args\n",
    "\n",
    "def add3(a,b=30):\n",
    "    print(a+b)\n",
    "\n",
    "add3(10)\n",
    "\n",
    "add3(10,20)"
   ]
  },
  {
   "cell_type": "markdown",
   "id": "09bcd2a3-a504-497c-8e6c-e824273c4ca2",
   "metadata": {
    "jp-MarkdownHeadingCollapsed": true
   },
   "source": [
    "### variable possion arguments"
   ]
  },
  {
   "cell_type": "code",
   "execution_count": 19,
   "id": "97c86ae0-f8a3-4fbf-9aa3-502827cad334",
   "metadata": {},
   "outputs": [
    {
     "name": "stdout",
     "output_type": "stream",
     "text": [
      "55\n"
     ]
    }
   ],
   "source": [
    "def add4(*nums):\n",
    "    print(sum(nums))\n",
    "add4(1,2,3,4,5,6,7,8,9,10)"
   ]
  },
  {
   "cell_type": "code",
   "execution_count": null,
   "id": "f99da8e4-f34f-44aa-9b36-760a16db1bb2",
   "metadata": {},
   "outputs": [],
   "source": [
    "what is fn\n",
    "types of fn\n",
    "types of args\n",
    "diff bw return and print"
   ]
  },
  {
   "cell_type": "code",
   "execution_count": 20,
   "id": "6ba13d01-34f8-463e-8450-1cf6b2c38651",
   "metadata": {},
   "outputs": [
    {
     "name": "stdout",
     "output_type": "stream",
     "text": [
      "55\n",
      "less then 100\n"
     ]
    }
   ],
   "source": [
    "def add5(*args):\n",
    "    return sum(args)\n",
    "res = add5(1,2,3,4,5,6,7,8,9,10)\n",
    "\n",
    "print(res)\n",
    "\n",
    "if res>100:\n",
    "    print(\"more than 100\")\n",
    "else:\n",
    "    print(\"less then 100\")"
   ]
  },
  {
   "cell_type": "markdown",
   "id": "f890677a-c5da-49f9-94c9-d8033aa6fcb8",
   "metadata": {
    "jp-MarkdownHeadingCollapsed": true
   },
   "source": [
    "### return"
   ]
  },
  {
   "cell_type": "code",
   "execution_count": 3,
   "id": "a175a7cf-2b9c-49b7-87c7-81944dcaccca",
   "metadata": {},
   "outputs": [
    {
     "name": "stdout",
     "output_type": "stream",
     "text": [
      "40\n"
     ]
    }
   ],
   "source": [
    "def add(a,b):\n",
    "    return a+b\n",
    "def sub(a,b):\n",
    "    return a-b\n",
    "\n",
    "a1 = add(5,3)\n",
    "a2 = sub(7,2)\n",
    "\n",
    "def mul(a,b):\n",
    "    print(a*b)\n",
    "    \n",
    "mul(a1,a2)"
   ]
  },
  {
   "cell_type": "code",
   "execution_count": 12,
   "id": "26dd01ab-1d38-4917-84eb-812bf4a86293",
   "metadata": {},
   "outputs": [
    {
     "name": "stdout",
     "output_type": "stream",
     "text": [
      "30\n"
     ]
    }
   ],
   "source": [
    "def multi(a,b):\n",
    "    return a+b  # first return only works\n",
    "    return a-b\n",
    "ans=multi(10,20)\n",
    "print(ans)"
   ]
  },
  {
   "cell_type": "code",
   "execution_count": 8,
   "id": "69c1b020-3cb1-4d87-bd85-692189603729",
   "metadata": {},
   "outputs": [
    {
     "name": "stdout",
     "output_type": "stream",
     "text": [
      "(30, -10, 200)\n"
     ]
    }
   ],
   "source": [
    "def multi(a,b):\n",
    "    return a+b,a-b,a*b # reurns packed data(tuple)\n",
    "ans=multi(10,20)\n",
    "print(ans)"
   ]
  },
  {
   "cell_type": "code",
   "execution_count": 9,
   "id": "6532a342-76fc-4e6a-b6a4-737747ab8624",
   "metadata": {},
   "outputs": [
    {
     "name": "stdout",
     "output_type": "stream",
     "text": [
      "30\n"
     ]
    }
   ],
   "source": [
    "def multi(a,b):\n",
    "    return a+b,a-b,a*b # reurns packed data(tuple)\n",
    "ans=multi(10,20)\n",
    "print(ans[0])"
   ]
  },
  {
   "cell_type": "code",
   "execution_count": 11,
   "id": "56e5f67d-b339-467b-b9ce-d871ab48cec5",
   "metadata": {},
   "outputs": [
    {
     "name": "stdout",
     "output_type": "stream",
     "text": [
      "30\n",
      "-10\n",
      "200\n"
     ]
    }
   ],
   "source": [
    "def multi(a,b):\n",
    "    return a+b,a-b,a*b # reurns packed data(tuple)\n",
    "add,sub,prod=multi(10,20)  # data unpack\n",
    "print(add)\n",
    "print(sub)\n",
    "print(prod)"
   ]
  },
  {
   "cell_type": "code",
   "execution_count": 17,
   "id": "a07e897e-ad91-4d89-9734-09663d77c380",
   "metadata": {},
   "outputs": [
    {
     "name": "stdin",
     "output_type": "stream",
     "text": [
      "Enter number of Days: 3\n",
      "Enter the day 1 sale value: 4\n",
      "Enter the day 2 sale value: 5\n",
      "Enter the day 3 sale value: 6\n"
     ]
    },
    {
     "name": "stdout",
     "output_type": "stream",
     "text": [
      "15\n"
     ]
    }
   ],
   "source": [
    "def totsales(days):\n",
    "    tot = 0\n",
    "    for i in range(days):\n",
    "        n = int(input(f\"Enter the day {i+1} sale value:\"))\n",
    "        tot+=n\n",
    "    print(tot)\n",
    "\n",
    "totsales(int(input(\"Enter number of Days:\")))"
   ]
  },
  {
   "cell_type": "markdown",
   "id": "14efe19f-c2f2-4e8f-9ea8-90a1e05f5dd1",
   "metadata": {},
   "source": [
    "### lambda fn"
   ]
  },
  {
   "cell_type": "code",
   "execution_count": 18,
   "id": "f820f0f3-c680-4e9f-8e58-6b11d0ab28b8",
   "metadata": {},
   "outputs": [],
   "source": [
    "# lambda argg : expression"
   ]
  },
  {
   "cell_type": "code",
   "execution_count": 19,
   "id": "03624d92-e8b4-4c94-a404-af0d1c29d06f",
   "metadata": {},
   "outputs": [
    {
     "data": {
      "text/plain": [
       "3"
      ]
     },
     "execution_count": 19,
     "metadata": {},
     "output_type": "execute_result"
    }
   ],
   "source": [
    "add = lambda a,b : a+b\n",
    "add(1,2)"
   ]
  },
  {
   "cell_type": "code",
   "execution_count": 20,
   "id": "17c954b2-3940-459b-8a2a-4015b8738ba0",
   "metadata": {},
   "outputs": [
    {
     "data": {
      "text/plain": [
       "4"
      ]
     },
     "execution_count": 20,
     "metadata": {},
     "output_type": "execute_result"
    }
   ],
   "source": [
    "squ = lambda a : a**2\n",
    "squ(2)"
   ]
  },
  {
   "cell_type": "code",
   "execution_count": 21,
   "id": "6c9287ff-78e0-4377-8290-ec76fb55bc0b",
   "metadata": {},
   "outputs": [
    {
     "data": {
      "text/plain": [
       "55"
      ]
     },
     "execution_count": 21,
     "metadata": {},
     "output_type": "execute_result"
    }
   ],
   "source": [
    "add_multi_num = lambda *a : sum(a)\n",
    "add_multi_num(1,2,3,4,5,6,7,8,9,10)"
   ]
  },
  {
   "cell_type": "code",
   "execution_count": 16,
   "id": "ba6af94b-5460-4b93-bfc4-7e233d92e7cf",
   "metadata": {},
   "outputs": [
    {
     "data": {
      "text/plain": [
       "[8, 6, 2, 8]"
      ]
     },
     "execution_count": 16,
     "metadata": {},
     "output_type": "execute_result"
    }
   ],
   "source": [
    "res = lambda x : [i for i in x if i%2==0]\n",
    "res([1,5,8,6,3,2,5,8,11])"
   ]
  },
  {
   "cell_type": "code",
   "execution_count": 18,
   "id": "235164ae-f2f1-4900-af71-a589ed767284",
   "metadata": {},
   "outputs": [
    {
     "name": "stdout",
     "output_type": "stream",
     "text": [
      "[8, 6, 2, 8]\n"
     ]
    }
   ],
   "source": [
    "res = lambda x: [num for num in x if num % 2 == 0]\n",
    "print(res([1,5,8,6,3,2,5,8,11]))  # Output: [8, 6, 2, 8]\n"
   ]
  },
  {
   "cell_type": "code",
   "execution_count": 15,
   "id": "94ff3301-5721-47dd-9547-095e73680664",
   "metadata": {},
   "outputs": [
    {
     "name": "stdout",
     "output_type": "stream",
     "text": [
      "\n",
      "Here is a list of the Python keywords.  Enter any keyword to get more help.\n",
      "\n",
      "False               class               from                or\n",
      "None                continue            global              pass\n",
      "True                def                 if                  raise\n",
      "and                 del                 import              return\n",
      "as                  elif                in                  try\n",
      "assert              else                is                  while\n",
      "async               except              lambda              with\n",
      "await               finally             nonlocal            yield\n",
      "break               for                 not                 \n",
      "\n"
     ]
    }
   ],
   "source": [
    "help(\"keywords\")"
   ]
  },
  {
   "cell_type": "markdown",
   "id": "60ecd128-b80f-4416-a501-b259090f37fc",
   "metadata": {},
   "source": [
    "### higher order fn ------------ function that activates another function\n",
    "\n",
    "1. filter(function, iteration) #filter under condition\n",
    "2. map(function, iteration) #map used for expression(it will return true false if we use condition)"
   ]
  },
  {
   "cell_type": "code",
   "execution_count": 21,
   "id": "d0f4357e-8c99-4801-a888-a93a4fd0d9bb",
   "metadata": {},
   "outputs": [
    {
     "name": "stdout",
     "output_type": "stream",
     "text": [
      "[2, 66, 8, 4, 6, 2]\n"
     ]
    }
   ],
   "source": [
    "list1 = [11,2,55,3,66,8,4,5,6,2]\n",
    "res = list(filter(lambda x : x%2==0, list1))\n",
    "print(res)"
   ]
  },
  {
   "cell_type": "code",
   "execution_count": 25,
   "id": "ad0588bd-1962-4a3e-8212-268b854ce6cd",
   "metadata": {},
   "outputs": [
    {
     "name": "stdout",
     "output_type": "stream",
     "text": [
      "[False, True, False, False, True, True, True, False, True, True]\n"
     ]
    }
   ],
   "source": [
    "# unnessary function of map\n",
    "\n",
    "list1 = [11,2,55,3,66,8,4,5,6,2]\n",
    "res = list(map(lambda x : x%2==0, list1))\n",
    "print(res)"
   ]
  },
  {
   "cell_type": "code",
   "execution_count": 22,
   "id": "4ea003bd-0119-40be-bdc1-0199531c1068",
   "metadata": {},
   "outputs": [
    {
     "name": "stdout",
     "output_type": "stream",
     "text": [
      "[1399, 2399, 3399, 4399, 5399]\n"
     ]
    }
   ],
   "source": [
    "sal = [1000,2000,3000,4000,5000]\n",
    "\n",
    "rev = list(map(lambda x : x+399,sal))\n",
    "\n",
    "print(rev)"
   ]
  },
  {
   "cell_type": "code",
   "execution_count": 23,
   "id": "2c141faf-e4f6-46fd-a860-a7413488e4fb",
   "metadata": {},
   "outputs": [
    {
     "name": "stdout",
     "output_type": "stream",
     "text": [
      "[1000, 2000, 3000, 4000, 5000]\n"
     ]
    }
   ],
   "source": [
    "# wrong use of filter\n",
    "\n",
    "sal = [1000,2000,3000,4000,5000]\n",
    "\n",
    "rev = list(filter(lambda x : x+399,sal))\n",
    "\n",
    "print(rev)"
   ]
  },
  {
   "cell_type": "code",
   "execution_count": 26,
   "id": "98c6f3c7-bafd-4979-a26d-3e390a4191a2",
   "metadata": {},
   "outputs": [
    {
     "name": "stdout",
     "output_type": "stream",
     "text": [
      "Lambdas\n",
      "*******\n",
      "\n",
      "   lambda_expr ::= \"lambda\" [parameter_list] \":\" expression\n",
      "\n",
      "Lambda expressions (sometimes called lambda forms) are used to create\n",
      "anonymous functions. The expression \"lambda parameters: expression\"\n",
      "yields a function object.  The unnamed object behaves like a function\n",
      "object defined with:\n",
      "\n",
      "   def <lambda>(parameters):\n",
      "       return expression\n",
      "\n",
      "See section Function definitions for the syntax of parameter lists.\n",
      "Note that functions created with lambda expressions cannot contain\n",
      "statements or annotations.\n",
      "\n",
      "Related help topics: FUNCTIONS\n",
      "\n"
     ]
    }
   ],
   "source": [
    "help(\"lambda\")"
   ]
  },
  {
   "cell_type": "code",
   "execution_count": 27,
   "id": "70cf0cc1-1383-4841-af3f-1d434ad336bd",
   "metadata": {},
   "outputs": [
    {
     "name": "stdout",
     "output_type": "stream",
     "text": [
      "Help on class filter in module builtins:\n",
      "\n",
      "class filter(object)\n",
      " |  filter(function or None, iterable) --> filter object\n",
      " |\n",
      " |  Return an iterator yielding those items of iterable for which function(item)\n",
      " |  is true. If function is None, return the items that are true.\n",
      " |\n",
      " |  Methods defined here:\n",
      " |\n",
      " |  __getattribute__(self, name, /)\n",
      " |      Return getattr(self, name).\n",
      " |\n",
      " |  __iter__(self, /)\n",
      " |      Implement iter(self).\n",
      " |\n",
      " |  __next__(self, /)\n",
      " |      Implement next(self).\n",
      " |\n",
      " |  __reduce__(...)\n",
      " |      Return state information for pickling.\n",
      " |\n",
      " |  ----------------------------------------------------------------------\n",
      " |  Static methods defined here:\n",
      " |\n",
      " |  __new__(*args, **kwargs)\n",
      " |      Create and return a new object.  See help(type) for accurate signature.\n",
      "\n"
     ]
    }
   ],
   "source": [
    "help(\"filter\")"
   ]
  },
  {
   "cell_type": "markdown",
   "id": "f0c8d5fa-f35f-476c-860f-8cb42d87c049",
   "metadata": {},
   "source": [
    "# error handling\n",
    "\n",
    "try..... except.........finally"
   ]
  },
  {
   "cell_type": "code",
   "execution_count": 33,
   "id": "3221fdea-4a59-43a7-8bbb-122faa6cceec",
   "metadata": {},
   "outputs": [
    {
     "name": "stdout",
     "output_type": "stream",
     "text": [
      "Enter above 0 value\n",
      "Program completed\n"
     ]
    }
   ],
   "source": [
    "def div(a,b):\n",
    "    return a/b\n",
    "\n",
    "try:                                  #trying given code\n",
    "    res = div(5,0)\n",
    "#exception handling\n",
    "except ZeroDivisionError:             #if error known print/actions to user. so they can identify issue\n",
    "    print(\"Enter above 0 value\")\n",
    "\n",
    "except Exception as e:                #if error unknown print that error\n",
    "    print(e)\n",
    "\n",
    "finally:                             # it runs after \n",
    "    print(\"Program completed\")\n",
    "    "
   ]
  },
  {
   "cell_type": "code",
   "execution_count": null,
   "id": "264aec41-ad84-4d9e-b9d4-5e302d8ed8d5",
   "metadata": {},
   "outputs": [],
   "source": []
  }
 ],
 "metadata": {
  "kernelspec": {
   "display_name": "Python 3 (ipykernel)",
   "language": "python",
   "name": "python3"
  },
  "language_info": {
   "codemirror_mode": {
    "name": "ipython",
    "version": 3
   },
   "file_extension": ".py",
   "mimetype": "text/x-python",
   "name": "python",
   "nbconvert_exporter": "python",
   "pygments_lexer": "ipython3",
   "version": "3.12.9"
  }
 },
 "nbformat": 4,
 "nbformat_minor": 5
}
