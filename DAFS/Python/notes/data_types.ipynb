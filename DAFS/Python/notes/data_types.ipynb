{
 "cells": [
  {
   "cell_type": "code",
   "execution_count": 1,
   "id": "a3db099a-f08a-421b-9608-f632fbe15cb3",
   "metadata": {},
   "outputs": [
    {
     "name": "stdout",
     "output_type": "stream",
     "text": [
      "30\n"
     ]
    }
   ],
   "source": [
    "a=10\n",
    "b=20\n",
    "print(a+b)"
   ]
  },
  {
   "cell_type": "code",
   "execution_count": 2,
   "id": "e878bc3b-0e35-4d6d-96b5-ac903ef57f17",
   "metadata": {},
   "outputs": [
    {
     "name": "stdout",
     "output_type": "stream",
     "text": [
      "-10\n"
     ]
    }
   ],
   "source": [
    "a=10\n",
    "b=20\n",
    "print(a-b)"
   ]
  },
  {
   "cell_type": "code",
   "execution_count": 3,
   "id": "94ad372b-9ffe-4b75-be7b-199cace81b1c",
   "metadata": {},
   "outputs": [
    {
     "name": "stdout",
     "output_type": "stream",
     "text": [
      "200\n"
     ]
    }
   ],
   "source": [
    "a=10\n",
    "b=20\n",
    "print(a*b)"
   ]
  },
  {
   "cell_type": "code",
   "execution_count": 4,
   "id": "fc2479cd-9f5e-49cd-a607-15dfe9e464e6",
   "metadata": {},
   "outputs": [
    {
     "name": "stdout",
     "output_type": "stream",
     "text": [
      "0.5\n"
     ]
    }
   ],
   "source": [
    "a=10\n",
    "b=20\n",
    "print(a/b)"
   ]
  },
  {
   "cell_type": "code",
   "execution_count": 5,
   "id": "e60c2b42-4078-4577-9acb-1014e3622204",
   "metadata": {},
   "outputs": [
    {
     "name": "stdout",
     "output_type": "stream",
     "text": [
      "0\n"
     ]
    }
   ],
   "source": [
    "a=10\n",
    "b=20\n",
    "print(a//b)"
   ]
  },
  {
   "cell_type": "code",
   "execution_count": 6,
   "id": "865dcb5e-e270-42d8-b9a6-5990a04a1571",
   "metadata": {},
   "outputs": [
    {
     "name": "stdout",
     "output_type": "stream",
     "text": [
      "10\n"
     ]
    }
   ],
   "source": [
    "a=10\n",
    "b=20\n",
    "print(a%b)"
   ]
  },
  {
   "cell_type": "code",
   "execution_count": 7,
   "id": "4b68249d-c28d-4218-ac59-aa88f1470dda",
   "metadata": {},
   "outputs": [],
   "source": [
    "name='rajesh'"
   ]
  },
  {
   "cell_type": "code",
   "execution_count": 8,
   "id": "e65cd948-0abf-4deb-be7c-7229bbf8826a",
   "metadata": {},
   "outputs": [
    {
     "data": {
      "text/plain": [
       "'j'"
      ]
     },
     "execution_count": 8,
     "metadata": {},
     "output_type": "execute_result"
    }
   ],
   "source": [
    "name[2]"
   ]
  },
  {
   "cell_type": "code",
   "execution_count": 9,
   "id": "a8d58212-011a-4067-a7ed-1d2813e84cd4",
   "metadata": {},
   "outputs": [
    {
     "data": {
      "text/plain": [
       "'aj'"
      ]
     },
     "execution_count": 9,
     "metadata": {},
     "output_type": "execute_result"
    }
   ],
   "source": [
    "name[1:3]"
   ]
  },
  {
   "cell_type": "code",
   "execution_count": 10,
   "id": "d35ec0fd-92ab-45ee-809c-aed95d3187b2",
   "metadata": {},
   "outputs": [
    {
     "data": {
      "text/plain": [
       "'ajesh'"
      ]
     },
     "execution_count": 10,
     "metadata": {},
     "output_type": "execute_result"
    }
   ],
   "source": [
    "name[1:]"
   ]
  },
  {
   "cell_type": "code",
   "execution_count": 11,
   "id": "783426c0-1b37-4fc0-9263-095b0486a702",
   "metadata": {},
   "outputs": [
    {
     "data": {
      "text/plain": [
       "'raje'"
      ]
     },
     "execution_count": 11,
     "metadata": {},
     "output_type": "execute_result"
    }
   ],
   "source": [
    "name[:4]"
   ]
  },
  {
   "cell_type": "code",
   "execution_count": 12,
   "id": "d10a9a78-b20b-457c-97ac-5a7b70a6e345",
   "metadata": {},
   "outputs": [
    {
     "data": {
      "text/plain": [
       "'aj'"
      ]
     },
     "execution_count": 12,
     "metadata": {},
     "output_type": "execute_result"
    }
   ],
   "source": [
    "name[1:2+1]"
   ]
  },
  {
   "cell_type": "code",
   "execution_count": 13,
   "id": "9736e41f-f35c-4b94-bf0d-82b6a50c918b",
   "metadata": {},
   "outputs": [
    {
     "data": {
      "text/plain": [
       "'rajesh'"
      ]
     },
     "execution_count": 13,
     "metadata": {},
     "output_type": "execute_result"
    }
   ],
   "source": [
    "name[::]"
   ]
  },
  {
   "cell_type": "code",
   "execution_count": 14,
   "id": "170ccbb2-38c0-4b65-96fb-f4d96bd93a24",
   "metadata": {},
   "outputs": [
    {
     "data": {
      "text/plain": [
       "'hsejar'"
      ]
     },
     "execution_count": 14,
     "metadata": {},
     "output_type": "execute_result"
    }
   ],
   "source": [
    "name[::-1]"
   ]
  },
  {
   "cell_type": "code",
   "execution_count": 15,
   "id": "db5c7739-b4a6-413e-8123-d25da903cce1",
   "metadata": {},
   "outputs": [
    {
     "data": {
      "text/plain": [
       "6"
      ]
     },
     "execution_count": 15,
     "metadata": {},
     "output_type": "execute_result"
    }
   ],
   "source": [
    "len(name)"
   ]
  },
  {
   "cell_type": "code",
   "execution_count": 20,
   "id": "94353c1c-2ccb-45f6-93cf-2ae3acb9e393",
   "metadata": {},
   "outputs": [
    {
     "data": {
      "text/plain": [
       "'h'"
      ]
     },
     "execution_count": 20,
     "metadata": {},
     "output_type": "execute_result"
    }
   ],
   "source": [
    "name[-1]"
   ]
  },
  {
   "cell_type": "code",
   "execution_count": 21,
   "id": "41e7125d-5eb8-4438-92e0-18aec34568d6",
   "metadata": {},
   "outputs": [
    {
     "data": {
      "text/plain": [
       "'es'"
      ]
     },
     "execution_count": 21,
     "metadata": {},
     "output_type": "execute_result"
    }
   ],
   "source": [
    "name[-3:-1]"
   ]
  },
  {
   "cell_type": "code",
   "execution_count": 22,
   "id": "c27cf707-2ef2-4b69-baa5-c45238659638",
   "metadata": {},
   "outputs": [],
   "source": [
    "course='data analyst'"
   ]
  },
  {
   "cell_type": "code",
   "execution_count": 23,
   "id": "24166a15-d89a-444e-bdd9-22ecb237f71f",
   "metadata": {},
   "outputs": [
    {
     "data": {
      "text/plain": [
       "12"
      ]
     },
     "execution_count": 23,
     "metadata": {},
     "output_type": "execute_result"
    }
   ],
   "source": [
    "len(course)"
   ]
  },
  {
   "cell_type": "code",
   "execution_count": 27,
   "id": "d6ef92cb-94e7-4384-9120-d1838c82ed83",
   "metadata": {},
   "outputs": [
    {
     "data": {
      "text/plain": [
       "'lys'"
      ]
     },
     "execution_count": 27,
     "metadata": {},
     "output_type": "execute_result"
    }
   ],
   "source": [
    "course[-4:-1]"
   ]
  },
  {
   "cell_type": "code",
   "execution_count": 28,
   "id": "c194c8d5-77ba-404b-9d29-1388590adca7",
   "metadata": {},
   "outputs": [
    {
     "data": {
      "text/plain": [
       "'t'"
      ]
     },
     "execution_count": 28,
     "metadata": {},
     "output_type": "execute_result"
    }
   ],
   "source": [
    "course[-1]"
   ]
  },
  {
   "cell_type": "code",
   "execution_count": 30,
   "id": "05d6b850-8075-4337-98f2-98409cfb7166",
   "metadata": {},
   "outputs": [
    {
     "data": {
      "text/plain": [
       "'yst'"
      ]
     },
     "execution_count": 30,
     "metadata": {},
     "output_type": "execute_result"
    }
   ],
   "source": [
    "course[-3:]"
   ]
  },
  {
   "cell_type": "code",
   "execution_count": 32,
   "id": "61cc528a-fdff-41c1-a262-fb8c5b9aed98",
   "metadata": {},
   "outputs": [
    {
     "data": {
      "text/plain": [
       "'DATA ANALYST'"
      ]
     },
     "execution_count": 32,
     "metadata": {},
     "output_type": "execute_result"
    }
   ],
   "source": [
    "course.upper()"
   ]
  },
  {
   "cell_type": "code",
   "execution_count": 33,
   "id": "3f9d15c4-cff3-4a02-a7d4-c2a26087eadb",
   "metadata": {},
   "outputs": [
    {
     "data": {
      "text/plain": [
       "'data analyst'"
      ]
     },
     "execution_count": 33,
     "metadata": {},
     "output_type": "execute_result"
    }
   ],
   "source": [
    "course.lower()"
   ]
  },
  {
   "cell_type": "code",
   "execution_count": 34,
   "id": "a819f605-ccc4-416d-a511-6241594c1542",
   "metadata": {},
   "outputs": [
    {
     "data": {
      "text/plain": [
       "'Data analyst'"
      ]
     },
     "execution_count": 34,
     "metadata": {},
     "output_type": "execute_result"
    }
   ],
   "source": [
    "course.capitalize()"
   ]
  },
  {
   "cell_type": "code",
   "execution_count": 37,
   "id": "7f4e2e75-3d61-47a5-b8b5-f80a873838d7",
   "metadata": {},
   "outputs": [
    {
     "data": {
      "text/plain": [
       "False"
      ]
     },
     "execution_count": 37,
     "metadata": {},
     "output_type": "execute_result"
    }
   ],
   "source": [
    "course.startswith('s')"
   ]
  },
  {
   "cell_type": "code",
   "execution_count": 38,
   "id": "2e2ceeeb-dde3-47b3-9b53-3121bb7f2323",
   "metadata": {},
   "outputs": [
    {
     "data": {
      "text/plain": [
       "'data analyst'"
      ]
     },
     "execution_count": 38,
     "metadata": {},
     "output_type": "execute_result"
    }
   ],
   "source": [
    "course"
   ]
  },
  {
   "cell_type": "code",
   "execution_count": 39,
   "id": "ece0d69c-1437-4bec-aadc-0cf505bef31f",
   "metadata": {},
   "outputs": [
    {
     "data": {
      "text/plain": [
       "True"
      ]
     },
     "execution_count": 39,
     "metadata": {},
     "output_type": "execute_result"
    }
   ],
   "source": [
    "course.startswith('d')"
   ]
  },
  {
   "cell_type": "code",
   "execution_count": 40,
   "id": "b7d8e2e3-8ce3-47eb-b255-479c3afa228f",
   "metadata": {},
   "outputs": [
    {
     "data": {
      "text/plain": [
       "False"
      ]
     },
     "execution_count": 40,
     "metadata": {},
     "output_type": "execute_result"
    }
   ],
   "source": [
    "course.endswith('d')"
   ]
  },
  {
   "cell_type": "code",
   "execution_count": 41,
   "id": "48bb630f-1f38-404f-895e-4b35b180f557",
   "metadata": {},
   "outputs": [
    {
     "data": {
      "text/plain": [
       "True"
      ]
     },
     "execution_count": 41,
     "metadata": {},
     "output_type": "execute_result"
    }
   ],
   "source": [
    "course.endswith('t')"
   ]
  },
  {
   "cell_type": "code",
   "execution_count": 46,
   "id": "dd67f9c0-628d-47cf-9201-0d0b616538d8",
   "metadata": {},
   "outputs": [
    {
     "data": {
      "text/plain": [
       "False"
      ]
     },
     "execution_count": 46,
     "metadata": {},
     "output_type": "execute_result"
    }
   ],
   "source": [
    "course\n",
    "course.isalpha()"
   ]
  },
  {
   "cell_type": "code",
   "execution_count": 45,
   "id": "64d746ee-74a7-461f-a06b-e8f86499a1d1",
   "metadata": {},
   "outputs": [
    {
     "name": "stdout",
     "output_type": "stream",
     "text": [
      "rajesh\n"
     ]
    },
    {
     "data": {
      "text/plain": [
       "True"
      ]
     },
     "execution_count": 45,
     "metadata": {},
     "output_type": "execute_result"
    }
   ],
   "source": [
    "print(name)\n",
    "name.isalpha()"
   ]
  },
  {
   "cell_type": "code",
   "execution_count": 49,
   "id": "b4cfec24-cf40-40bf-9a1c-efcbc62907cb",
   "metadata": {},
   "outputs": [
    {
     "data": {
      "text/plain": [
       "False"
      ]
     },
     "execution_count": 49,
     "metadata": {},
     "output_type": "execute_result"
    }
   ],
   "source": [
    "name1='rajeshsj12'\n",
    "name1.isalpha()"
   ]
  },
  {
   "cell_type": "code",
   "execution_count": 50,
   "id": "bc15f2e3-cf4f-42ee-a733-54779cdd714d",
   "metadata": {},
   "outputs": [
    {
     "data": {
      "text/plain": [
       "'/media/rajesh/Rajesh/Pyhton/SLA_Training'"
      ]
     },
     "execution_count": 50,
     "metadata": {},
     "output_type": "execute_result"
    }
   ],
   "source": [
    "pwd"
   ]
  },
  {
   "cell_type": "code",
   "execution_count": 51,
   "id": "52e44736-9749-44f1-b82a-fcff4381499a",
   "metadata": {},
   "outputs": [
    {
     "data": {
      "text/plain": [
       "str"
      ]
     },
     "execution_count": 51,
     "metadata": {},
     "output_type": "execute_result"
    }
   ],
   "source": [
    "numbering = '123456'\n",
    "type(numbering)"
   ]
  },
  {
   "cell_type": "code",
   "execution_count": 52,
   "id": "93040e99-2eb4-4b72-b5a0-fa8fae78e10a",
   "metadata": {},
   "outputs": [
    {
     "data": {
      "text/plain": [
       "True"
      ]
     },
     "execution_count": 52,
     "metadata": {},
     "output_type": "execute_result"
    }
   ],
   "source": [
    "numbering.isdigit()"
   ]
  },
  {
   "cell_type": "code",
   "execution_count": 54,
   "id": "47300602-e5eb-417d-a07b-fff7f57e361a",
   "metadata": {},
   "outputs": [
    {
     "data": {
      "text/plain": [
       "False"
      ]
     },
     "execution_count": 54,
     "metadata": {},
     "output_type": "execute_result"
    }
   ],
   "source": [
    "numbering1 = '123456a'\n",
    "numbering1.isdigit()"
   ]
  },
  {
   "cell_type": "code",
   "execution_count": 61,
   "id": "bec10d52-b691-40d3-a322-d07961e7f052",
   "metadata": {},
   "outputs": [
    {
     "name": "stdout",
     "output_type": "stream",
     "text": [
      "   sla best     intitute     \n"
     ]
    }
   ],
   "source": [
    "unwanted_space = '   sla best     intitute     '\n",
    "print(unwanted_space)"
   ]
  },
  {
   "cell_type": "code",
   "execution_count": 62,
   "id": "2ba5e9e5-a8e2-4be7-9a32-66db023b887f",
   "metadata": {},
   "outputs": [
    {
     "data": {
      "text/plain": [
       "'sla best     intitute'"
      ]
     },
     "execution_count": 62,
     "metadata": {},
     "output_type": "execute_result"
    }
   ],
   "source": [
    "unwanted_space.strip()"
   ]
  },
  {
   "cell_type": "code",
   "execution_count": 64,
   "id": "04063c9e-140e-4fe0-b4ab-7947a5f1aa3f",
   "metadata": {},
   "outputs": [
    {
     "name": "stdout",
     "output_type": "stream",
     "text": [
      "   sla best     intitute     \n",
      "   sla best     intitute\n"
     ]
    }
   ],
   "source": [
    "print(unwanted_space)\n",
    "print(unwanted_space.rstrip())"
   ]
  },
  {
   "cell_type": "code",
   "execution_count": 65,
   "id": "004eaf32-727f-4d9d-9316-55cc10694a87",
   "metadata": {},
   "outputs": [
    {
     "name": "stdout",
     "output_type": "stream",
     "text": [
      "   sla best     intitute     \n",
      "sla best     intitute     \n"
     ]
    }
   ],
   "source": [
    "print(unwanted_space)\n",
    "print(unwanted_space.lstrip())"
   ]
  },
  {
   "cell_type": "code",
   "execution_count": 66,
   "id": "ab2e6d8c-c1d0-4b3b-9886-a22505f5d142",
   "metadata": {},
   "outputs": [],
   "source": [
    "sent1 = \"python is easy\""
   ]
  },
  {
   "cell_type": "code",
   "execution_count": 70,
   "id": "c0892ce0-5863-4038-a848-d0f114af6e07",
   "metadata": {},
   "outputs": [
    {
     "data": {
      "text/plain": [
       "'Python is easy'"
      ]
     },
     "execution_count": 70,
     "metadata": {},
     "output_type": "execute_result"
    }
   ],
   "source": [
    "sent1.capitalize()"
   ]
  },
  {
   "cell_type": "code",
   "execution_count": 69,
   "id": "85517ef5-ea59-45f7-ac33-11eb6105315f",
   "metadata": {},
   "outputs": [
    {
     "data": {
      "text/plain": [
       "'Python Is Easy'"
      ]
     },
     "execution_count": 69,
     "metadata": {},
     "output_type": "execute_result"
    }
   ],
   "source": [
    "sent1.title()"
   ]
  },
  {
   "cell_type": "code",
   "execution_count": 71,
   "id": "cd9a9235-fe13-4379-9097-0e381cd8e07a",
   "metadata": {},
   "outputs": [
    {
     "data": {
      "text/plain": [
       "'python is easy'"
      ]
     },
     "execution_count": 71,
     "metadata": {},
     "output_type": "execute_result"
    }
   ],
   "source": [
    "sent1"
   ]
  },
  {
   "cell_type": "code",
   "execution_count": 72,
   "id": "36be63ca-7b92-4a2a-a68e-55448ec94f15",
   "metadata": {},
   "outputs": [
    {
     "data": {
      "text/plain": [
       "'data is easy'"
      ]
     },
     "execution_count": 72,
     "metadata": {},
     "output_type": "execute_result"
    }
   ],
   "source": [
    "sent1.replace('python','data')"
   ]
  },
  {
   "cell_type": "code",
   "execution_count": 73,
   "id": "83567bec-7e88-4743-84a0-5c8050e18fb6",
   "metadata": {},
   "outputs": [
    {
     "data": {
      "text/plain": [
       "'data is easy'"
      ]
     },
     "execution_count": 73,
     "metadata": {},
     "output_type": "execute_result"
    }
   ],
   "source": [
    "sent1 = sent1.replace('python','data')\n",
    "sent1"
   ]
  },
  {
   "cell_type": "code",
   "execution_count": 75,
   "id": "d1257016-6888-4bd9-a6e3-854e9b977300",
   "metadata": {},
   "outputs": [
    {
     "data": {
      "text/plain": [
       "'DATA'"
      ]
     },
     "execution_count": 75,
     "metadata": {},
     "output_type": "execute_result"
    }
   ],
   "source": [
    "'data'.upper()"
   ]
  },
  {
   "cell_type": "code",
   "execution_count": 90,
   "id": "7b947754-2bb9-4d87-8bc9-81048ce12c7b",
   "metadata": {},
   "outputs": [
    {
     "name": "stdout",
     "output_type": "stream",
     "text": [
      "[1, 2, 3, 2, 2.2, 'sla', True, False, 'Rajesh12']\n"
     ]
    }
   ],
   "source": [
    "listing = [1,2,3,2,2.2,'sla',True, False, 'Rajesh12']\n",
    "print(listing)"
   ]
  },
  {
   "cell_type": "code",
   "execution_count": 91,
   "id": "34cda505-c013-4379-8d10-8b577412b851",
   "metadata": {},
   "outputs": [
    {
     "data": {
      "text/plain": [
       "'sla'"
      ]
     },
     "execution_count": 91,
     "metadata": {},
     "output_type": "execute_result"
    }
   ],
   "source": [
    "listing[5]"
   ]
  },
  {
   "cell_type": "code",
   "execution_count": 92,
   "id": "867766c1-a2cb-4c1d-a5c8-2b3cc9d40e46",
   "metadata": {},
   "outputs": [
    {
     "data": {
      "text/plain": [
       "[2, 3, 2, 2.2, 'sla']"
      ]
     },
     "execution_count": 92,
     "metadata": {},
     "output_type": "execute_result"
    }
   ],
   "source": [
    "listing[1:5+1]"
   ]
  },
  {
   "cell_type": "code",
   "execution_count": 93,
   "id": "5cfdabdc-11cf-46e3-9075-7a55b046d698",
   "metadata": {},
   "outputs": [
    {
     "data": {
      "text/plain": [
       "['Rajesh12', False, True, 'sla', 2.2, 2, 3, 2, 1]"
      ]
     },
     "execution_count": 93,
     "metadata": {},
     "output_type": "execute_result"
    }
   ],
   "source": [
    "listing[::-1]"
   ]
  },
  {
   "cell_type": "code",
   "execution_count": 99,
   "id": "3075cac3-d832-471f-8e35-ee4360be86d6",
   "metadata": {},
   "outputs": [
    {
     "data": {
      "text/plain": [
       "[10, 20, 30, 40, 50, 10, 'sla', 6.7]"
      ]
     },
     "execution_count": 99,
     "metadata": {},
     "output_type": "execute_result"
    }
   ],
   "source": [
    "num = [10,20,30,40,50,10,'sla',6.7]\n",
    "num"
   ]
  },
  {
   "cell_type": "code",
   "execution_count": 96,
   "id": "8c98752c-c5f8-437e-bfbb-6c3442f7f71d",
   "metadata": {},
   "outputs": [],
   "source": [
    "#list methods\n",
    "#append\n",
    "#extend\n",
    "#insert"
   ]
  },
  {
   "cell_type": "code",
   "execution_count": 101,
   "id": "af11cc58-540c-4278-9b13-42febaad090b",
   "metadata": {},
   "outputs": [
    {
     "data": {
      "text/plain": [
       "[10, 20, 30, 40, 50, 10, 'sla', 6.7, 100]"
      ]
     },
     "execution_count": 101,
     "metadata": {},
     "output_type": "execute_result"
    }
   ],
   "source": [
    "num.append(100)\n",
    "num"
   ]
  },
  {
   "cell_type": "code",
   "execution_count": 102,
   "id": "9a80011a-a3a4-460f-a485-198baa3f681e",
   "metadata": {},
   "outputs": [
    {
     "data": {
      "text/plain": [
       "[10, 20, 30, 40, 50, 10, 'sla', 6.7, 100, 200, True]"
      ]
     },
     "execution_count": 102,
     "metadata": {},
     "output_type": "execute_result"
    }
   ],
   "source": [
    "num.extend([200,True])\n",
    "num"
   ]
  },
  {
   "cell_type": "code",
   "execution_count": 107,
   "id": "5731260c-0091-4c6a-a930-cbd3b8faa061",
   "metadata": {},
   "outputs": [
    {
     "data": {
      "text/plain": [
       "['powerbi', 'python']"
      ]
     },
     "execution_count": 107,
     "metadata": {},
     "output_type": "execute_result"
    }
   ],
   "source": [
    "course = ['powerbi','python']\n",
    "course"
   ]
  },
  {
   "cell_type": "code",
   "execution_count": 108,
   "id": "dfd39bb6-2e17-4ec7-b424-bf193f77bcc7",
   "metadata": {},
   "outputs": [
    {
     "data": {
      "text/plain": [
       "['powerbi', 'sql', 'python']"
      ]
     },
     "execution_count": 108,
     "metadata": {},
     "output_type": "execute_result"
    }
   ],
   "source": [
    "course.insert(1,'sql')\n",
    "course"
   ]
  },
  {
   "cell_type": "code",
   "execution_count": 109,
   "id": "d3282b81-7cdd-400a-ad57-9fb873557206",
   "metadata": {},
   "outputs": [
    {
     "data": {
      "text/plain": [
       "['powerbi', 'sql', 'sql', 'python']"
      ]
     },
     "execution_count": 109,
     "metadata": {},
     "output_type": "execute_result"
    }
   ],
   "source": [
    "course.insert(1,'sql')\n",
    "course"
   ]
  },
  {
   "cell_type": "code",
   "execution_count": 110,
   "id": "7615a495-3898-44f8-943f-3d8218082673",
   "metadata": {},
   "outputs": [
    {
     "data": {
      "text/plain": [
       "['powerbi', 'sql', 'ml', 'sql', 'python']"
      ]
     },
     "execution_count": 110,
     "metadata": {},
     "output_type": "execute_result"
    }
   ],
   "source": [
    "course.insert(2,'ml')\n",
    "course"
   ]
  },
  {
   "cell_type": "code",
   "execution_count": 111,
   "id": "ab0315ee-e8ac-4fcc-aa61-bd7b7ac03293",
   "metadata": {},
   "outputs": [],
   "source": [
    "#remove\n",
    "#pop\n",
    "#clear"
   ]
  },
  {
   "cell_type": "code",
   "execution_count": 112,
   "id": "f7ec9f58-2c12-411d-9b03-87d44039ac6f",
   "metadata": {},
   "outputs": [
    {
     "data": {
      "text/plain": [
       "['powerbi', 'ml', 'sql', 'python']"
      ]
     },
     "execution_count": 112,
     "metadata": {},
     "output_type": "execute_result"
    }
   ],
   "source": [
    "course.remove('sql')\n",
    "course"
   ]
  },
  {
   "cell_type": "code",
   "execution_count": 113,
   "id": "e5c9ffd3-b708-4668-8535-3780ea3a7bd9",
   "metadata": {},
   "outputs": [
    {
     "data": {
      "text/plain": [
       "'sql'"
      ]
     },
     "execution_count": 113,
     "metadata": {},
     "output_type": "execute_result"
    }
   ],
   "source": [
    "course.pop(2)"
   ]
  },
  {
   "cell_type": "code",
   "execution_count": 114,
   "id": "b23fa64d-79f9-4652-a53c-e83f392953c5",
   "metadata": {},
   "outputs": [
    {
     "data": {
      "text/plain": [
       "['powerbi', 'ml', 'python']"
      ]
     },
     "execution_count": 114,
     "metadata": {},
     "output_type": "execute_result"
    }
   ],
   "source": [
    "course"
   ]
  },
  {
   "cell_type": "code",
   "execution_count": 115,
   "id": "9df51c4a-0065-466c-b979-ca261d38639a",
   "metadata": {},
   "outputs": [
    {
     "data": {
      "text/plain": [
       "'python'"
      ]
     },
     "execution_count": 115,
     "metadata": {},
     "output_type": "execute_result"
    }
   ],
   "source": [
    "course.pop()"
   ]
  },
  {
   "cell_type": "code",
   "execution_count": 116,
   "id": "38971dc9-3105-4a1e-b2b9-98604802b84d",
   "metadata": {},
   "outputs": [
    {
     "data": {
      "text/plain": [
       "['powerbi', 'ml']"
      ]
     },
     "execution_count": 116,
     "metadata": {},
     "output_type": "execute_result"
    }
   ],
   "source": [
    "course"
   ]
  },
  {
   "cell_type": "code",
   "execution_count": 117,
   "id": "8ec6868e-3de5-4d36-beda-681163fc9cc1",
   "metadata": {},
   "outputs": [],
   "source": [
    "course.clear()"
   ]
  },
  {
   "cell_type": "code",
   "execution_count": 118,
   "id": "f1cf48e8-8cfe-4cb4-b3e5-9630d452e3a6",
   "metadata": {},
   "outputs": [
    {
     "data": {
      "text/plain": [
       "[]"
      ]
     },
     "execution_count": 118,
     "metadata": {},
     "output_type": "execute_result"
    }
   ],
   "source": [
    "course"
   ]
  },
  {
   "cell_type": "markdown",
   "id": "16ecdfc5-c39e-453c-b337-0ea0611667c4",
   "metadata": {},
   "source": [
    "# tuple"
   ]
  },
  {
   "cell_type": "code",
   "execution_count": 2,
   "id": "9d83bcc6-3be2-412d-8556-48def747a62b",
   "metadata": {},
   "outputs": [
    {
     "name": "stdout",
     "output_type": "stream",
     "text": [
      "<class 'tuple'>\n"
     ]
    }
   ],
   "source": [
    "num = (10,20,30,40,50,[10,20,30],'rajesh',True)\n",
    "print(type(num))"
   ]
  },
  {
   "cell_type": "code",
   "execution_count": 3,
   "id": "7aa8ab2a-535a-4118-82f4-642927191d6b",
   "metadata": {},
   "outputs": [
    {
     "data": {
      "text/plain": [
       "(10, 20, 30, 40, 50, [10, 20, 30], 'rajesh', True)"
      ]
     },
     "execution_count": 3,
     "metadata": {},
     "output_type": "execute_result"
    }
   ],
   "source": [
    "num"
   ]
  },
  {
   "cell_type": "code",
   "execution_count": 4,
   "id": "fd3a1888-f198-44a9-97f2-c44293a482f9",
   "metadata": {},
   "outputs": [
    {
     "data": {
      "text/plain": [
       "[10, 20, 30, 40, 50, [10, 20, 30], 'rajesh', True]"
      ]
     },
     "execution_count": 4,
     "metadata": {},
     "output_type": "execute_result"
    }
   ],
   "source": [
    "num=list(num)\n",
    "num"
   ]
  },
  {
   "cell_type": "code",
   "execution_count": 5,
   "id": "a79aef3e-e44b-4e4d-8880-9f6df6db0e51",
   "metadata": {},
   "outputs": [],
   "source": [
    "num.append(100)"
   ]
  },
  {
   "cell_type": "code",
   "execution_count": 6,
   "id": "5af7688b-1813-4f34-8c86-06b72d96a45f",
   "metadata": {},
   "outputs": [
    {
     "data": {
      "text/plain": [
       "[10, 20, 30, 40, 50, [10, 20, 30], 'rajesh', True, 100]"
      ]
     },
     "execution_count": 6,
     "metadata": {},
     "output_type": "execute_result"
    }
   ],
   "source": [
    "num"
   ]
  },
  {
   "cell_type": "code",
   "execution_count": 7,
   "id": "41909ee0-2d8b-4b38-a73c-3a42b53ebe4b",
   "metadata": {},
   "outputs": [
    {
     "data": {
      "text/plain": [
       "(10, 20, 30, 40, 50, [10, 20, 30], 'rajesh', True, 100)"
      ]
     },
     "execution_count": 7,
     "metadata": {},
     "output_type": "execute_result"
    }
   ],
   "source": [
    "num = tuple(num)\n",
    "num"
   ]
  },
  {
   "cell_type": "markdown",
   "id": "3b1aa543-41ca-4deb-b213-e2a514378f4a",
   "metadata": {},
   "source": [
    "# set{}"
   ]
  },
  {
   "cell_type": "code",
   "execution_count": 10,
   "id": "14fd2083-17a8-4d67-ace4-1c17f53b8498",
   "metadata": {},
   "outputs": [
    {
     "data": {
      "text/plain": [
       "{(7, 6), 4.5, 90, 'ai', 'powerbi'}"
      ]
     },
     "execution_count": 10,
     "metadata": {},
     "output_type": "execute_result"
    }
   ],
   "source": [
    "course = {'powerbi','ai',90,4.5,(7,6)}\n",
    "course"
   ]
  },
  {
   "cell_type": "code",
   "execution_count": 11,
   "id": "df511925-79ce-47cc-8585-7061b3a4b881",
   "metadata": {},
   "outputs": [
    {
     "ename": "TypeError",
     "evalue": "unhashable type: 'list'",
     "output_type": "error",
     "traceback": [
      "\u001b[0;31m---------------------------------------------------------------------------\u001b[0m",
      "\u001b[0;31mTypeError\u001b[0m                                 Traceback (most recent call last)",
      "Cell \u001b[0;32mIn[11], line 1\u001b[0m\n\u001b[0;32m----> 1\u001b[0m course1 \u001b[38;5;241m=\u001b[39m {\u001b[38;5;124m'\u001b[39m\u001b[38;5;124mpowerbi\u001b[39m\u001b[38;5;124m'\u001b[39m,\u001b[38;5;124m'\u001b[39m\u001b[38;5;124mai\u001b[39m\u001b[38;5;124m'\u001b[39m,\u001b[38;5;241m90\u001b[39m,\u001b[38;5;241m4.5\u001b[39m,(\u001b[38;5;241m7\u001b[39m,\u001b[38;5;241m6\u001b[39m),[\u001b[38;5;241m1\u001b[39m,\u001b[38;5;241m2\u001b[39m]}\n\u001b[1;32m      2\u001b[0m course1\n",
      "\u001b[0;31mTypeError\u001b[0m: unhashable type: 'list'"
     ]
    }
   ],
   "source": [
    "course1 = {'powerbi','ai',90,4.5,(7,6),[1,2]}\n",
    "course1"
   ]
  },
  {
   "cell_type": "markdown",
   "id": "6b078254-3b60-469f-a715-43f1e39054a6",
   "metadata": {},
   "source": [
    "### Methods"
   ]
  },
  {
   "cell_type": "code",
   "execution_count": 12,
   "id": "171eb644-2625-4c27-b934-d1f07ddefa41",
   "metadata": {},
   "outputs": [
    {
     "data": {
      "text/plain": [
       "{(7, 6), 4.5, 500, 90, 'ai', 'powerbi'}"
      ]
     },
     "execution_count": 12,
     "metadata": {},
     "output_type": "execute_result"
    }
   ],
   "source": [
    "course.add(500)\n",
    "course"
   ]
  },
  {
   "cell_type": "code",
   "execution_count": 13,
   "id": "4b295e18-7c90-4aef-a177-0f8ad8cac00c",
   "metadata": {},
   "outputs": [
    {
     "data": {
      "text/plain": [
       "{(7, 6), 1000, 2000, 4.5, 500, 90, 'ai', 'powerbi'}"
      ]
     },
     "execution_count": 13,
     "metadata": {},
     "output_type": "execute_result"
    }
   ],
   "source": [
    "course.update({1000,2000})\n",
    "course"
   ]
  },
  {
   "cell_type": "code",
   "execution_count": 15,
   "id": "61cc2e7a-84df-4156-9eca-bd331ec9a04e",
   "metadata": {},
   "outputs": [
    {
     "data": {
      "text/plain": [
       "{(7, 6), 1000, 2000, 3000, 4.5, 4000, 500, 90, 'ai', 'powerbi'}"
      ]
     },
     "execution_count": 15,
     "metadata": {},
     "output_type": "execute_result"
    }
   ],
   "source": [
    "course.update([3000,4000])\n",
    "course"
   ]
  },
  {
   "cell_type": "code",
   "execution_count": 16,
   "id": "d3a80d0d-0495-49b9-8acf-34874f2140a8",
   "metadata": {},
   "outputs": [
    {
     "data": {
      "text/plain": [
       "{(7, 6), 1000, 2000, 3000, 4.5, 4000, 500, 5000, 6000, 90, 'ai', 'powerbi'}"
      ]
     },
     "execution_count": 16,
     "metadata": {},
     "output_type": "execute_result"
    }
   ],
   "source": [
    "course.update((5000,6000))\n",
    "course"
   ]
  },
  {
   "cell_type": "code",
   "execution_count": 17,
   "id": "ae5f4e4e-b5b1-4162-8048-d1ce90faef4a",
   "metadata": {},
   "outputs": [
    {
     "ename": "TypeError",
     "evalue": "'set' object is not subscriptable",
     "output_type": "error",
     "traceback": [
      "\u001b[0;31m---------------------------------------------------------------------------\u001b[0m",
      "\u001b[0;31mTypeError\u001b[0m                                 Traceback (most recent call last)",
      "Cell \u001b[0;32mIn[17], line 1\u001b[0m\n\u001b[0;32m----> 1\u001b[0m course[\u001b[38;5;241m2\u001b[39m]\n",
      "\u001b[0;31mTypeError\u001b[0m: 'set' object is not subscriptable"
     ]
    }
   ],
   "source": [
    "course[2]"
   ]
  },
  {
   "cell_type": "code",
   "execution_count": 21,
   "id": "8df1ceaf-5078-4ea6-b7bd-aec937aacff3",
   "metadata": {},
   "outputs": [
    {
     "name": "stdout",
     "output_type": "stream",
     "text": [
      "4.5\n",
      "powerbi\n",
      "5000\n",
      "2000\n",
      "(7, 6)\n",
      "90\n",
      "4000\n",
      "1000\n",
      "6000\n",
      "500\n",
      "3000\n",
      "ai\n"
     ]
    }
   ],
   "source": [
    "for i in course:\n",
    "    print(i)"
   ]
  },
  {
   "cell_type": "code",
   "execution_count": 22,
   "id": "e4efd9c6-2ceb-4725-9f96-d1b339cc482b",
   "metadata": {},
   "outputs": [
    {
     "data": {
      "text/plain": [
       "{(7, 6), 1000, 2000, 4.5, 4000, 500, 5000, 6000, 90, 'ai', 'powerbi'}"
      ]
     },
     "execution_count": 22,
     "metadata": {},
     "output_type": "execute_result"
    }
   ],
   "source": [
    "course.remove(3000)\n",
    "course"
   ]
  },
  {
   "cell_type": "code",
   "execution_count": 23,
   "id": "f3d9e5a7-0fce-46e1-9052-b69aad3e2402",
   "metadata": {},
   "outputs": [
    {
     "data": {
      "text/plain": [
       "4.5"
      ]
     },
     "execution_count": 23,
     "metadata": {},
     "output_type": "execute_result"
    }
   ],
   "source": [
    "course.pop()"
   ]
  },
  {
   "cell_type": "code",
   "execution_count": 24,
   "id": "1f86fa20-adc9-4c73-a946-1c5a710476e1",
   "metadata": {},
   "outputs": [
    {
     "ename": "TypeError",
     "evalue": "set.pop() takes no arguments (1 given)",
     "output_type": "error",
     "traceback": [
      "\u001b[0;31m---------------------------------------------------------------------------\u001b[0m",
      "\u001b[0;31mTypeError\u001b[0m                                 Traceback (most recent call last)",
      "Cell \u001b[0;32mIn[24], line 1\u001b[0m\n\u001b[0;32m----> 1\u001b[0m course\u001b[38;5;241m.\u001b[39mpop(\u001b[38;5;241m2\u001b[39m)\n",
      "\u001b[0;31mTypeError\u001b[0m: set.pop() takes no arguments (1 given)"
     ]
    }
   ],
   "source": [
    "course.pop(2)"
   ]
  },
  {
   "cell_type": "code",
   "execution_count": 25,
   "id": "7337504d-b9f3-4d57-891a-6a481099c224",
   "metadata": {},
   "outputs": [
    {
     "data": {
      "text/plain": [
       "['powerbi', 5000, 2000, (7, 6), 90, 4000, 1000, 6000, 500, 'ai']"
      ]
     },
     "execution_count": 25,
     "metadata": {},
     "output_type": "execute_result"
    }
   ],
   "source": [
    "course = list(course)\n",
    "course"
   ]
  },
  {
   "cell_type": "code",
   "execution_count": 26,
   "id": "d40a086c-4dad-444b-adaa-2298ad1b6672",
   "metadata": {},
   "outputs": [
    {
     "data": {
      "text/plain": [
       "{(7, 6), 1000, 2000, 4000, 500, 5000, 6000, 90, 'ai', 'powerbi'}"
      ]
     },
     "execution_count": 26,
     "metadata": {},
     "output_type": "execute_result"
    }
   ],
   "source": [
    "course = set(course)\n",
    "course"
   ]
  },
  {
   "cell_type": "code",
   "execution_count": 27,
   "id": "2a620b78-3ab4-472d-8b7d-2124c3869e7d",
   "metadata": {},
   "outputs": [
    {
     "data": {
      "text/plain": [
       "(4000, 'powerbi', 5000, 1000, 2000, 6000, (7, 6), 500, 90, 'ai')"
      ]
     },
     "execution_count": 27,
     "metadata": {},
     "output_type": "execute_result"
    }
   ],
   "source": [
    "course = tuple(course)\n",
    "course"
   ]
  },
  {
   "cell_type": "code",
   "execution_count": 28,
   "id": "be821bd6-087f-4d16-b036-b5f92eb88c99",
   "metadata": {},
   "outputs": [
    {
     "data": {
      "text/plain": [
       "{(7, 6), 1000, 2000, 4000, 500, 5000, 6000, 90, 'ai', 'powerbi'}"
      ]
     },
     "execution_count": 28,
     "metadata": {},
     "output_type": "execute_result"
    }
   ],
   "source": [
    "course = set(course)\n",
    "course"
   ]
  },
  {
   "cell_type": "code",
   "execution_count": 29,
   "id": "d137dcf4-68f3-4669-8bd6-fb54b22b5d74",
   "metadata": {},
   "outputs": [
    {
     "data": {
      "text/plain": [
       "set()"
      ]
     },
     "execution_count": 29,
     "metadata": {},
     "output_type": "execute_result"
    }
   ],
   "source": [
    "course.clear()\n",
    "course"
   ]
  },
  {
   "cell_type": "code",
   "execution_count": 31,
   "id": "5d8e27e2-d1e2-408b-a86d-9e5222eb1b08",
   "metadata": {},
   "outputs": [
    {
     "data": {
      "text/plain": [
       "{1, 2, 3, 4, 'a', 'e', 'h', 'j', 'r', 's'}"
      ]
     },
     "execution_count": 31,
     "metadata": {},
     "output_type": "execute_result"
    }
   ],
   "source": [
    "course = {1,2,3,4}\n",
    "course.update('rajesh')\n",
    "course"
   ]
  },
  {
   "cell_type": "code",
   "execution_count": 36,
   "id": "cf893006-8893-4c1b-847b-f84ac4c61188",
   "metadata": {},
   "outputs": [
    {
     "data": {
      "text/plain": [
       "{1, 2, 3, 4, 'a', 'e', 'h', 'j', 'r', 's'}"
      ]
     },
     "execution_count": 36,
     "metadata": {},
     "output_type": "execute_result"
    }
   ],
   "source": [
    "course = {1,2,3,4}\n",
    "course.update('rajesh')\n",
    "course"
   ]
  },
  {
   "cell_type": "code",
   "execution_count": 38,
   "id": "f688f342-d74b-49e7-9e9a-50cbf17bbe52",
   "metadata": {},
   "outputs": [
    {
     "data": {
      "text/plain": [
       "['__add__',\n",
       " '__class__',\n",
       " '__class_getitem__',\n",
       " '__contains__',\n",
       " '__delattr__',\n",
       " '__delitem__',\n",
       " '__dir__',\n",
       " '__doc__',\n",
       " '__eq__',\n",
       " '__format__',\n",
       " '__ge__',\n",
       " '__getattribute__',\n",
       " '__getitem__',\n",
       " '__getstate__',\n",
       " '__gt__',\n",
       " '__hash__',\n",
       " '__iadd__',\n",
       " '__imul__',\n",
       " '__init__',\n",
       " '__init_subclass__',\n",
       " '__iter__',\n",
       " '__le__',\n",
       " '__len__',\n",
       " '__lt__',\n",
       " '__mul__',\n",
       " '__ne__',\n",
       " '__new__',\n",
       " '__reduce__',\n",
       " '__reduce_ex__',\n",
       " '__repr__',\n",
       " '__reversed__',\n",
       " '__rmul__',\n",
       " '__setattr__',\n",
       " '__setitem__',\n",
       " '__sizeof__',\n",
       " '__str__',\n",
       " '__subclasshook__',\n",
       " 'append',\n",
       " 'clear',\n",
       " 'copy',\n",
       " 'count',\n",
       " 'extend',\n",
       " 'index',\n",
       " 'insert',\n",
       " 'pop',\n",
       " 'remove',\n",
       " 'reverse',\n",
       " 'sort']"
      ]
     },
     "execution_count": 38,
     "metadata": {},
     "output_type": "execute_result"
    }
   ],
   "source": [
    "dir(list)"
   ]
  },
  {
   "cell_type": "code",
   "execution_count": 39,
   "id": "c9ab5938-aa48-4c2a-a625-b34fa5fdc351",
   "metadata": {},
   "outputs": [
    {
     "data": {
      "text/plain": [
       "['__add__',\n",
       " '__class__',\n",
       " '__class_getitem__',\n",
       " '__contains__',\n",
       " '__delattr__',\n",
       " '__dir__',\n",
       " '__doc__',\n",
       " '__eq__',\n",
       " '__format__',\n",
       " '__ge__',\n",
       " '__getattribute__',\n",
       " '__getitem__',\n",
       " '__getnewargs__',\n",
       " '__getstate__',\n",
       " '__gt__',\n",
       " '__hash__',\n",
       " '__init__',\n",
       " '__init_subclass__',\n",
       " '__iter__',\n",
       " '__le__',\n",
       " '__len__',\n",
       " '__lt__',\n",
       " '__mul__',\n",
       " '__ne__',\n",
       " '__new__',\n",
       " '__reduce__',\n",
       " '__reduce_ex__',\n",
       " '__repr__',\n",
       " '__rmul__',\n",
       " '__setattr__',\n",
       " '__sizeof__',\n",
       " '__str__',\n",
       " '__subclasshook__',\n",
       " 'count',\n",
       " 'index']"
      ]
     },
     "execution_count": 39,
     "metadata": {},
     "output_type": "execute_result"
    }
   ],
   "source": [
    "dir(tuple)"
   ]
  },
  {
   "cell_type": "code",
   "execution_count": 40,
   "id": "bd2790b0-4e8a-47da-8360-562a84c1b9a1",
   "metadata": {},
   "outputs": [
    {
     "data": {
      "text/plain": [
       "['__and__',\n",
       " '__class__',\n",
       " '__class_getitem__',\n",
       " '__contains__',\n",
       " '__delattr__',\n",
       " '__dir__',\n",
       " '__doc__',\n",
       " '__eq__',\n",
       " '__format__',\n",
       " '__ge__',\n",
       " '__getattribute__',\n",
       " '__getstate__',\n",
       " '__gt__',\n",
       " '__hash__',\n",
       " '__iand__',\n",
       " '__init__',\n",
       " '__init_subclass__',\n",
       " '__ior__',\n",
       " '__isub__',\n",
       " '__iter__',\n",
       " '__ixor__',\n",
       " '__le__',\n",
       " '__len__',\n",
       " '__lt__',\n",
       " '__ne__',\n",
       " '__new__',\n",
       " '__or__',\n",
       " '__rand__',\n",
       " '__reduce__',\n",
       " '__reduce_ex__',\n",
       " '__repr__',\n",
       " '__ror__',\n",
       " '__rsub__',\n",
       " '__rxor__',\n",
       " '__setattr__',\n",
       " '__sizeof__',\n",
       " '__str__',\n",
       " '__sub__',\n",
       " '__subclasshook__',\n",
       " '__xor__',\n",
       " 'add',\n",
       " 'clear',\n",
       " 'copy',\n",
       " 'difference',\n",
       " 'difference_update',\n",
       " 'discard',\n",
       " 'intersection',\n",
       " 'intersection_update',\n",
       " 'isdisjoint',\n",
       " 'issubset',\n",
       " 'issuperset',\n",
       " 'pop',\n",
       " 'remove',\n",
       " 'symmetric_difference',\n",
       " 'symmetric_difference_update',\n",
       " 'union',\n",
       " 'update']"
      ]
     },
     "execution_count": 40,
     "metadata": {},
     "output_type": "execute_result"
    }
   ],
   "source": [
    "dir(set)"
   ]
  },
  {
   "cell_type": "code",
   "execution_count": 1,
   "id": "e0acab4a-cbe9-440c-82a1-8e1dc4b8d943",
   "metadata": {},
   "outputs": [
    {
     "data": {
      "text/plain": [
       "['__class__',\n",
       " '__class_getitem__',\n",
       " '__contains__',\n",
       " '__delattr__',\n",
       " '__delitem__',\n",
       " '__dir__',\n",
       " '__doc__',\n",
       " '__eq__',\n",
       " '__format__',\n",
       " '__ge__',\n",
       " '__getattribute__',\n",
       " '__getitem__',\n",
       " '__getstate__',\n",
       " '__gt__',\n",
       " '__hash__',\n",
       " '__init__',\n",
       " '__init_subclass__',\n",
       " '__ior__',\n",
       " '__iter__',\n",
       " '__le__',\n",
       " '__len__',\n",
       " '__lt__',\n",
       " '__ne__',\n",
       " '__new__',\n",
       " '__or__',\n",
       " '__reduce__',\n",
       " '__reduce_ex__',\n",
       " '__repr__',\n",
       " '__reversed__',\n",
       " '__ror__',\n",
       " '__setattr__',\n",
       " '__setitem__',\n",
       " '__sizeof__',\n",
       " '__str__',\n",
       " '__subclasshook__',\n",
       " 'clear',\n",
       " 'copy',\n",
       " 'fromkeys',\n",
       " 'get',\n",
       " 'items',\n",
       " 'keys',\n",
       " 'pop',\n",
       " 'popitem',\n",
       " 'setdefault',\n",
       " 'update',\n",
       " 'values']"
      ]
     },
     "execution_count": 1,
     "metadata": {},
     "output_type": "execute_result"
    }
   ],
   "source": [
    "dir(dict)"
   ]
  },
  {
   "cell_type": "code",
   "execution_count": null,
   "id": "73bb8502-23c4-4502-86dd-b920ef4ee3ed",
   "metadata": {},
   "outputs": [],
   "source": []
  }
 ],
 "metadata": {
  "kernelspec": {
   "display_name": "Python 3 (ipykernel)",
   "language": "python",
   "name": "python3"
  },
  "language_info": {
   "codemirror_mode": {
    "name": "ipython",
    "version": 3
   },
   "file_extension": ".py",
   "mimetype": "text/x-python",
   "name": "python",
   "nbconvert_exporter": "python",
   "pygments_lexer": "ipython3",
   "version": "3.12.9"
  }
 },
 "nbformat": 4,
 "nbformat_minor": 5
}
