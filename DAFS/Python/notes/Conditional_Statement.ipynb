{
 "cells": [
  {
   "cell_type": "markdown",
   "id": "8a5a2e4a-b72e-47ce-a93f-20099ac85531",
   "metadata": {},
   "source": [
    "# if, if else, elif, nested if"
   ]
  },
  {
   "cell_type": "markdown",
   "id": "568d30ed-a8bd-4865-8b62-ac520868449a",
   "metadata": {},
   "source": [
    "### +ve num or -ve num"
   ]
  },
  {
   "cell_type": "code",
   "execution_count": 1,
   "id": "fb543c6c-1c08-4b2f-bfac-97e63b614de9",
   "metadata": {},
   "outputs": [
    {
     "name": "stdout",
     "output_type": "stream",
     "text": [
      "+ve num\n"
     ]
    }
   ],
   "source": [
    "n = 5\n",
    "if (n>0):\n",
    "    print('+ve num')\n",
    "else:\n",
    "    print('-ve num')"
   ]
  },
  {
   "cell_type": "markdown",
   "id": "9bb2ef8c-fe55-4e15-8569-4562cccf6157",
   "metadata": {},
   "source": [
    "### odd or even"
   ]
  },
  {
   "cell_type": "code",
   "execution_count": 2,
   "id": "1a90c1ff-3609-4735-91b8-6a888d07d2f9",
   "metadata": {},
   "outputs": [
    {
     "name": "stdout",
     "output_type": "stream",
     "text": [
      "odd num\n"
     ]
    }
   ],
   "source": [
    "x = 25\n",
    "if (x % 2 == 0):\n",
    "    print('even num')\n",
    "else:\n",
    "    print('odd num')"
   ]
  },
  {
   "cell_type": "code",
   "execution_count": 3,
   "id": "2a503ebe-aa11-4f07-8bb9-d714c332da0d",
   "metadata": {},
   "outputs": [
    {
     "name": "stdout",
     "output_type": "stream",
     "text": [
      "+ve\n"
     ]
    }
   ],
   "source": [
    "hii = 222\n",
    "if hii > 0:\n",
    "    print(\"+ve\")\n",
    "else:\n",
    "    print(\"-ve\")"
   ]
  },
  {
   "cell_type": "code",
   "execution_count": 4,
   "id": "58f7feb6-3e2d-4592-9a9d-45913b0b3fa4",
   "metadata": {},
   "outputs": [
    {
     "name": "stdout",
     "output_type": "stream",
     "text": [
      "even\n"
     ]
    }
   ],
   "source": [
    "hello = 0\n",
    "if hello % 2 == 0:\n",
    "    print('even')\n",
    "else:\n",
    "    print('odd')"
   ]
  },
  {
   "cell_type": "code",
   "execution_count": 5,
   "id": "88f8a40a-d16c-4568-b674-c6f068f0a5a3",
   "metadata": {},
   "outputs": [
    {
     "name": "stdout",
     "output_type": "stream",
     "text": [
      "yes\n"
     ]
    }
   ],
   "source": [
    "num = 2\n",
    "if num in [1,2,3,4,5]:\n",
    "    print(\"yes\")"
   ]
  },
  {
   "cell_type": "markdown",
   "id": "03bad262-995f-4623-8fc6-c77278aa0808",
   "metadata": {},
   "source": [
    "###### num = int(input(\"Enter the a Number:\"))\n",
    "if num>0:\n",
    "    print(\"it's a +ve number\")\n",
    "else:\n",
    "    print(\"it's a -ve number\")"
   ]
  },
  {
   "cell_type": "markdown",
   "id": "896ec54e-a0c8-4118-9d8f-9cc7a431a7bd",
   "metadata": {},
   "source": [
    "### user ----sla ----login ------acess denied"
   ]
  },
  {
   "cell_type": "code",
   "execution_count": 18,
   "id": "1133043a-c09a-488d-84d3-2d307bfa9c15",
   "metadata": {},
   "outputs": [
    {
     "name": "stdin",
     "output_type": "stream",
     "text": [
      "Please Enter User Name: SLA\n"
     ]
    },
    {
     "name": "stdout",
     "output_type": "stream",
     "text": [
      "Wrong User\n"
     ]
    }
   ],
   "source": [
    "user = str(input(\"Please Enter User Name:\"))\n",
    "if user == \"sla\":\n",
    "    print(\"You got the Login Acess\")\n",
    "else:\n",
    "    print(\"Wrong User\")"
   ]
  },
  {
   "cell_type": "code",
   "execution_count": 19,
   "id": "63daab56-5b8c-4887-ad4f-fcd3d388d4a5",
   "metadata": {},
   "outputs": [
    {
     "name": "stdin",
     "output_type": "stream",
     "text": [
      "Please Enter User Name: SLA\n"
     ]
    },
    {
     "name": "stdout",
     "output_type": "stream",
     "text": [
      "You got the Login Acess\n"
     ]
    }
   ],
   "source": [
    "user = str(input(\"Please Enter User Name:\"))\n",
    "if user.lower() == \"sla\":\n",
    "    print(\"You got the Login Acess\")\n",
    "else:\n",
    "    print(\"Wrong User\")"
   ]
  },
  {
   "cell_type": "markdown",
   "id": "dae3f1d5-42dc-4fc0-9d82-942423138b10",
   "metadata": {},
   "source": [
    "### need to check num div by 7"
   ]
  },
  {
   "cell_type": "code",
   "execution_count": 23,
   "id": "52cb431a-8198-445d-bda9-7fad61cf9b1c",
   "metadata": {},
   "outputs": [
    {
     "name": "stdin",
     "output_type": "stream",
     "text": [
      "Enter a Number: 28\n"
     ]
    },
    {
     "name": "stdout",
     "output_type": "stream",
     "text": [
      "Its divied by 7\n"
     ]
    }
   ],
   "source": [
    "num = int(input(\"Enter a Number:\"))\n",
    "if num % 7 == 0:\n",
    "    print(\"Its divied by 7\")\n",
    "else:\n",
    "    print(\"Its not divied by 7\")"
   ]
  },
  {
   "cell_type": "markdown",
   "id": "a8f79400-2bd9-4d0a-a25d-d6a4ffac60d9",
   "metadata": {},
   "source": [
    "#### need to check given number is div by 2 and 4"
   ]
  },
  {
   "cell_type": "code",
   "execution_count": 25,
   "id": "6bccaf1d-8abc-4a45-b06f-d01b488502e4",
   "metadata": {},
   "outputs": [
    {
     "name": "stdin",
     "output_type": "stream",
     "text": [
      "Enter a num: 50\n"
     ]
    },
    {
     "name": "stdout",
     "output_type": "stream",
     "text": [
      "not div by 2 and 4\n"
     ]
    }
   ],
   "source": [
    "num = int(input(\"Enter a num:\"))\n",
    "if (num%2==0) and (num%4==0):\n",
    "    print(\"number is div by 2 and 4\")\n",
    "else:\n",
    "    print(\"not div by 2 and 4\")"
   ]
  },
  {
   "cell_type": "code",
   "execution_count": 26,
   "id": "c1fc7ae8-96ba-4915-8060-99f884b99bbc",
   "metadata": {},
   "outputs": [
    {
     "name": "stdin",
     "output_type": "stream",
     "text": [
      "Enter a num: 100\n"
     ]
    },
    {
     "name": "stdout",
     "output_type": "stream",
     "text": [
      "number is div by 2 and 4\n"
     ]
    }
   ],
   "source": [
    "num = int(input(\"Enter a num:\"))\n",
    "if (num%2==0) & (num%4==0):\n",
    "    print(\"number is div by 2 and 4\")\n",
    "else:\n",
    "    print(\"not div by 2 and 4\")"
   ]
  },
  {
   "cell_type": "code",
   "execution_count": 29,
   "id": "a8b2fe70-a0c5-445f-8a3a-48cb0509bcc5",
   "metadata": {},
   "outputs": [
    {
     "name": "stdin",
     "output_type": "stream",
     "text": [
      "Please Enter User Name: SOFTLOGIC\n"
     ]
    },
    {
     "name": "stdout",
     "output_type": "stream",
     "text": [
      "You got the Login Acess\n"
     ]
    }
   ],
   "source": [
    "user = str(input(\"Please Enter User Name:\"))\n",
    "if (user.lower() == \"sla\") | (user.lower() == \"softlogic\"):\n",
    "    print(\"You got the Login Acess\")\n",
    "else:\n",
    "    print(\"Wrong User\")"
   ]
  },
  {
   "cell_type": "code",
   "execution_count": 30,
   "id": "8d70106a-4c84-4913-b972-847b1ecd9ef3",
   "metadata": {},
   "outputs": [
    {
     "name": "stdin",
     "output_type": "stream",
     "text": [
      "User name SLA\n",
      "password 1234\n"
     ]
    },
    {
     "name": "stdout",
     "output_type": "stream",
     "text": [
      "Granted\n"
     ]
    }
   ],
   "source": [
    "# LOGIN --acess denied\n",
    "#username=sla\n",
    "#password=1234\n",
    "\n",
    "user = str(input(\"User name\"))\n",
    "passw = int(input(\"password\"))\n",
    "if (user.lower()==\"sla\") & (passw == 1234):\n",
    "    print(\"Granted\")\n",
    "else:\n",
    "    print(\"denied\")"
   ]
  },
  {
   "cell_type": "code",
   "execution_count": 35,
   "id": "5dc3f500-6441-49e6-9683-37a6e8646d62",
   "metadata": {},
   "outputs": [
    {
     "name": "stdin",
     "output_type": "stream",
     "text": [
      "num= 9\n"
     ]
    },
    {
     "name": "stdout",
     "output_type": "stream",
     "text": [
      "we can div by 3 or 7\n",
      "its div by 3\n"
     ]
    }
   ],
   "source": [
    "# CHECK THE GIVEN NUM DIV BY 3 OR 7\n",
    "num = int(input(\"num=\"))\n",
    "if (num%3==0) | (num%7==0):\n",
    "    print(\"we can div by 3 or 7\")\n",
    "    if num%3==0:\n",
    "        print(\"its div by 3\")\n",
    "    else:\n",
    "        print(\"its div by 7\")\n",
    "else:\n",
    "    print(\"its not\")"
   ]
  },
  {
   "cell_type": "code",
   "execution_count": 55,
   "id": "ca247b57-eeee-4b70-845f-53e3b93e4953",
   "metadata": {},
   "outputs": [
    {
     "name": "stdin",
     "output_type": "stream",
     "text": [
      "num= 7\n"
     ]
    },
    {
     "name": "stdout",
     "output_type": "stream",
     "text": [
      "yes\n"
     ]
    }
   ],
   "source": [
    "num = int(input(\"num=\"))\n",
    "res = lambda xy: \"yes\" if (num%3==0 or num%7==0) else \"no\"\n",
    "print(res(num))"
   ]
  },
  {
   "cell_type": "code",
   "execution_count": 57,
   "id": "23a702d2-78ff-4715-bcdc-ac281c4464a7",
   "metadata": {},
   "outputs": [
    {
     "name": "stdin",
     "output_type": "stream",
     "text": [
      "please enter the country america\n"
     ]
    },
    {
     "name": "stdout",
     "output_type": "stream",
     "text": [
      "Washington Dc\n"
     ]
    }
   ],
   "source": [
    "# user= india capital is delhi\n",
    "# user = usa capital is washington dc\n",
    "# srilunka capital columbo\n",
    "# other please enter valid country\n",
    "# elif (ladder)\n",
    "\n",
    "\n",
    "ctry = str(input('please enter the country'))\n",
    "if ctry == 'india':\n",
    "    print('delhi')\n",
    "elif ctry == 'america':\n",
    "    print('washington dc'.title())\n",
    "elif ctry == 'sri lanka':\n",
    "    print('columbo')\n",
    "else:\n",
    "    print('please enter valid country')"
   ]
  },
  {
   "cell_type": "code",
   "execution_count": 8,
   "id": "5a0acf48-119d-4d58-ac20-ce3001e9c834",
   "metadata": {},
   "outputs": [
    {
     "name": "stdin",
     "output_type": "stream",
     "text": [
      "Enter KM value 90\n"
     ]
    },
    {
     "name": "stdout",
     "output_type": "stream",
     "text": [
      "1800\n"
     ]
    }
   ],
   "source": [
    "km = int(input(\"Enter KM value\"))\n",
    "if km>=90:\n",
    "    print(km*20)\n",
    "elif km>=60 and km <=89:\n",
    "    print(km*15)\n",
    "elif km >= 40 and km<=59:\n",
    "    print(km*12)\n",
    "else:\n",
    "    print(km*7)"
   ]
  },
  {
   "cell_type": "code",
   "execution_count": 12,
   "id": "804addf6-f22a-4c77-ace9-3d76b8eb8f2b",
   "metadata": {},
   "outputs": [
    {
     "name": "stdin",
     "output_type": "stream",
     "text": [
      "Enter the value: 221456\n"
     ]
    },
    {
     "name": "stdout",
     "output_type": "stream",
     "text": [
      "even\n",
      "not div by 6\n"
     ]
    }
   ],
   "source": [
    "num = int(input('Enter the value:'))\n",
    "if num%2==0:\n",
    "    print('even')\n",
    "    if num%6==0:\n",
    "        print('div by 6')\n",
    "    else:\n",
    "        print('not div by 6')\n",
    "else:\n",
    "    print('odd')\n",
    "    if num%5==0:\n",
    "        print('div by 5')\n",
    "    else:\n",
    "        print('not div by 5')"
   ]
  },
  {
   "cell_type": "code",
   "execution_count": 33,
   "id": "2531bd15-8027-472c-bfe8-90d4ac1803a9",
   "metadata": {},
   "outputs": [
    {
     "name": "stdin",
     "output_type": "stream",
     "text": [
      "please enter the season(summer/winter) winter\n",
      "Enter temp: 555\n"
     ]
    },
    {
     "name": "stdout",
     "output_type": "stream",
     "text": [
      "enjoy rainy days\n"
     ]
    }
   ],
   "source": [
    "season = str(input(\"please enter the season(summer/winter)\"))\n",
    "if season.lower()==\"summer\":\n",
    "    temp = int(input(\"Enter temp:\"))\n",
    "    if temp > 40:\n",
    "        print(\"drink lot of water\")\n",
    "    else:\n",
    "        print(\"go and play\")\n",
    "elif season.lower()==\"winter\":\n",
    "    temp =int(input(\"Enter temp:\"))\n",
    "    if temp >30:\n",
    "        print(\"enjoy rainy days\")\n",
    "    else:\n",
    "        print(\"bring the umberla\")\n",
    "else:\n",
    "    print(\"please enter valid season\")"
   ]
  },
  {
   "cell_type": "code",
   "execution_count": 45,
   "id": "6c602532-3256-403d-89c7-be2b7f0db7ab",
   "metadata": {},
   "outputs": [
    {
     "name": "stdin",
     "output_type": "stream",
     "text": [
      "Gender(M/F): f\n",
      "Age: 66\n",
      "Are you working(Y/N): y\n"
     ]
    },
    {
     "name": "stdout",
     "output_type": "stream",
     "text": [
      "Eligible for Mrng Section\n"
     ]
    }
   ],
   "source": [
    "gender = str(input(\"Gender(M/F):\"))\n",
    "if gender.lower()==\"m\":\n",
    "    age = int(input(\"Age:\"))\n",
    "    if age>31:\n",
    "        print(\"You selected for evg section\")\n",
    "    elif age>14 and age<=30:\n",
    "        print(\"you selected for mrg section\")\n",
    "    else:\n",
    "        print(\"you are not eligible for this gym\")\n",
    "elif gender.lower()==\"f\":\n",
    "    age = int(input(\"Age:\"))\n",
    "    working = str(input(\"Are you working(Y/N):\"))\n",
    "    if age>=20 and working.lower()==\"y\":\n",
    "        print(\"Eligible for Mrng Section\")\n",
    "    elif age>=20 and working.lower()=='n':\n",
    "        print(\"You are eligible for Evg section\")\n",
    "    else:\n",
    "        print(\"You are not eligible for GYM\")\n",
    "else:\n",
    "    print(\"Please enter Correct gender\")"
   ]
  },
  {
   "cell_type": "code",
   "execution_count": 49,
   "id": "c803e091-69d1-41e6-b95d-fd7212142ae4",
   "metadata": {},
   "outputs": [
    {
     "name": "stdin",
     "output_type": "stream",
     "text": [
      "Country: kudhgnerg\n",
      "Price 500\n"
     ]
    },
    {
     "name": "stdout",
     "output_type": "stream",
     "text": [
      "Tax is 40%\n",
      "700.0\n"
     ]
    }
   ],
   "source": [
    "country = str(input(\"Country:\"))\n",
    "price = int(input(\"Price\"))\n",
    "if country == \"india\":\n",
    "    print(\"Tax is 25%\")\n",
    "    print(price*1.25)\n",
    "elif country == \"uk\" or country == \"england\":\n",
    "    print(\"Tax is 30%\")\n",
    "    print(price*1.30)\n",
    "elif country == \"dubai\":\n",
    "    print(\"Tax is none\")\n",
    "    print(price)\n",
    "else:\n",
    "    print(\"Tax is 40%\")\n",
    "    print(price*1.40)"
   ]
  },
  {
   "cell_type": "code",
   "execution_count": null,
   "id": "8ddbfe91-d10c-4eee-95e6-6ecdee4a836d",
   "metadata": {},
   "outputs": [],
   "source": []
  }
 ],
 "metadata": {
  "kernelspec": {
   "display_name": "Python 3 (ipykernel)",
   "language": "python",
   "name": "python3"
  },
  "language_info": {
   "codemirror_mode": {
    "name": "ipython",
    "version": 3
   },
   "file_extension": ".py",
   "mimetype": "text/x-python",
   "name": "python",
   "nbconvert_exporter": "python",
   "pygments_lexer": "ipython3",
   "version": "3.12.7"
  }
 },
 "nbformat": 4,
 "nbformat_minor": 5
}
