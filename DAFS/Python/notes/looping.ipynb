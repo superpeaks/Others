{
 "cells": [
  {
   "cell_type": "markdown",
   "id": "b80f8214-e603-448f-8633-612f5ed0a2a5",
   "metadata": {},
   "source": [
    "# for loop"
   ]
  },
  {
   "cell_type": "code",
   "execution_count": 1,
   "id": "cedc2d94-8f73-45f1-9a8c-1e58dd0584ed",
   "metadata": {},
   "outputs": [
    {
     "name": "stdout",
     "output_type": "stream",
     "text": [
      "10\n",
      "13\n",
      "15\n",
      "14\n",
      "18\n"
     ]
    }
   ],
   "source": [
    "num = [10,13,15,14,18]\n",
    "\n",
    "for i in num:\n",
    "    print(i)"
   ]
  },
  {
   "cell_type": "markdown",
   "id": "ab2487bb-5300-4e3b-a8e1-533c4ca88b5f",
   "metadata": {
    "jp-MarkdownHeadingCollapsed": true
   },
   "source": [
    "### even number print"
   ]
  },
  {
   "cell_type": "code",
   "execution_count": 2,
   "id": "4fb39ad6-e93b-4af2-9a2a-6e036cb7addd",
   "metadata": {},
   "outputs": [
    {
     "name": "stdout",
     "output_type": "stream",
     "text": [
      "10\n",
      "14\n",
      "18\n"
     ]
    }
   ],
   "source": [
    "num = [10,13,15,14,18]\n",
    "\n",
    "for i in num:\n",
    "    if i%2==0:\n",
    "        print(i)"
   ]
  },
  {
   "cell_type": "code",
   "execution_count": 5,
   "id": "5a9819b0-6aad-4624-a61c-8e7ebd1d3486",
   "metadata": {},
   "outputs": [
    {
     "name": "stdout",
     "output_type": "stream",
     "text": [
      "[2, 6, 78, 2, 6, 2, 8, 484, 494, 68, 4]\n"
     ]
    }
   ],
   "source": [
    "num = [1,2,3,45,5,6,78,9,2,5,6,2,8,484,494,68,4]\n",
    "res=[]\n",
    "for i in num:\n",
    "    if i%2==0:\n",
    "        res.append(i)\n",
    "print(res)"
   ]
  },
  {
   "cell_type": "code",
   "execution_count": 3,
   "id": "0c2efdb2-ac57-4f0e-bd7b-c7f56f267217",
   "metadata": {},
   "outputs": [
    {
     "name": "stdout",
     "output_type": "stream",
     "text": [
      "i\n",
      " \n",
      "a\n",
      "m\n",
      " \n",
      "r\n",
      "a\n",
      "j\n",
      "e\n",
      "s\n",
      "h\n"
     ]
    }
   ],
   "source": [
    "name = 'i am rajesh'\n",
    "\n",
    "for i in name:\n",
    "    print(i)"
   ]
  },
  {
   "cell_type": "markdown",
   "id": "ae3d2553-875f-4617-9a95-e6329cbf17ca",
   "metadata": {
    "jp-MarkdownHeadingCollapsed": true
   },
   "source": [
    "### reverse list"
   ]
  },
  {
   "cell_type": "code",
   "execution_count": 4,
   "id": "36fcafad-7baf-4730-a789-3d3562da5c9f",
   "metadata": {},
   "outputs": [
    {
     "name": "stdout",
     "output_type": "stream",
     "text": [
      "[2]\n",
      "[2, 6]\n",
      "[2, 6, 78]\n",
      "[2, 6, 78, 2]\n",
      "[2, 6, 78, 2, 6]\n",
      "[2, 6, 78, 2, 6, 2]\n",
      "[2, 6, 78, 2, 6, 2, 8]\n",
      "[2, 6, 78, 2, 6, 2, 8, 484]\n",
      "[2, 6, 78, 2, 6, 2, 8, 484, 494]\n",
      "[2, 6, 78, 2, 6, 2, 8, 484, 494, 68]\n",
      "[2, 6, 78, 2, 6, 2, 8, 484, 494, 68, 4]\n",
      "[2, 6, 78, 2, 6, 2, 8, 484, 494, 68, 4]\n"
     ]
    }
   ],
   "source": [
    "num = [1,2,3,45,5,6,78,9,2,5,6,2,8,484,494,68,4]\n",
    "res=[]\n",
    "for i in num:\n",
    "    if i%2==0:\n",
    "        res.append(i)\n",
    "        print(res)\n",
    "print(res)"
   ]
  },
  {
   "cell_type": "code",
   "execution_count": 6,
   "id": "5ef489be-a597-4d96-b0ca-93cacdd45602",
   "metadata": {},
   "outputs": [
    {
     "name": "stdout",
     "output_type": "stream",
     "text": [
      "[10, 15, 20]\n"
     ]
    }
   ],
   "source": [
    "num1 = [10,13,15,17,20]\n",
    "res=[]\n",
    "for i in num1:\n",
    "    if i%5==0:\n",
    "        res.append(i)\n",
    "print(res)"
   ]
  },
  {
   "cell_type": "markdown",
   "id": "6ba945c1-ab97-4f68-99a7-3590c9d45cea",
   "metadata": {
    "jp-MarkdownHeadingCollapsed": true
   },
   "source": [
    "### sum"
   ]
  },
  {
   "cell_type": "code",
   "execution_count": 7,
   "id": "ff00f150-9b87-4262-a7a6-9dc56fcab15c",
   "metadata": {},
   "outputs": [
    {
     "name": "stdout",
     "output_type": "stream",
     "text": [
      "10\n",
      "30\n",
      "60\n",
      "100\n",
      "150\n",
      "210\n",
      "280\n",
      "360\n",
      "450\n",
      "550\n",
      "660\n",
      "660\n"
     ]
    }
   ],
   "source": [
    "num = [10,20,30,40,50,60,70,80,90,100,110]\n",
    "total = 0\n",
    "for i in num:\n",
    "    total+=i\n",
    "    print(total)\n",
    "print(total)"
   ]
  },
  {
   "cell_type": "code",
   "execution_count": 14,
   "id": "cb54f2e6-75f1-402c-9766-05006f531a7a",
   "metadata": {},
   "outputs": [
    {
     "name": "stdout",
     "output_type": "stream",
     "text": [
      "660\n"
     ]
    }
   ],
   "source": [
    "num = [10,20,30,40,50,60,70,80,90,100,110]\n",
    "total = 0\n",
    "for i in num:\n",
    "    total+=i\n",
    "print(total)\n"
   ]
  },
  {
   "cell_type": "code",
   "execution_count": 15,
   "id": "b4e9fd88-683e-42b3-b1ce-9a10a8e054e7",
   "metadata": {},
   "outputs": [
    {
     "name": "stdout",
     "output_type": "stream",
     "text": [
      "660\n"
     ]
    }
   ],
   "source": [
    "print(sum(num))"
   ]
  },
  {
   "cell_type": "code",
   "execution_count": 16,
   "id": "6fa319e9-20ba-4e15-986a-4d3ec0cbaee3",
   "metadata": {},
   "outputs": [
    {
     "name": "stdout",
     "output_type": "stream",
     "text": [
      "550\n"
     ]
    }
   ],
   "source": [
    "num = [10,25,30,40,50,60,70,80,33,100,110]\n",
    "total = 0\n",
    "for i in num:\n",
    "    if i %2==0:\n",
    "        total+=i\n",
    "print(total)\n"
   ]
  },
  {
   "cell_type": "code",
   "execution_count": 17,
   "id": "d8fbf060-e460-4496-8641-79df966e1ff0",
   "metadata": {},
   "outputs": [
    {
     "name": "stdout",
     "output_type": "stream",
     "text": [
      "11\n"
     ]
    }
   ],
   "source": [
    "print(len(num))"
   ]
  },
  {
   "cell_type": "code",
   "execution_count": 18,
   "id": "f904e125-d2d4-46a7-8148-6588988dc1df",
   "metadata": {},
   "outputs": [
    {
     "name": "stdout",
     "output_type": "stream",
     "text": [
      "11\n"
     ]
    }
   ],
   "source": [
    "num = [10,25,30,40,50,60,70,80,33,100,110]\n",
    "count = 0\n",
    "for i in num:\n",
    "    count+=1\n",
    "print(count)"
   ]
  },
  {
   "cell_type": "code",
   "execution_count": 30,
   "id": "bba14816-21ca-4c5f-9876-87fba03f7d62",
   "metadata": {},
   "outputs": [
    {
     "name": "stdout",
     "output_type": "stream",
     "text": [
      "550\n",
      "2\n"
     ]
    }
   ],
   "source": [
    "num = [10,25,30,40,50,60,70,80,33,100,110]\n",
    "total=count=0\n",
    "\n",
    "for i in num:\n",
    "    if i%2==0:\n",
    "        total=total+i\n",
    "    else:\n",
    "        count=count+1\n",
    "print(total)\n",
    "print(count)"
   ]
  },
  {
   "cell_type": "markdown",
   "id": "d957294f-698e-448c-aa28-348f122c3a59",
   "metadata": {
    "jp-MarkdownHeadingCollapsed": true
   },
   "source": [
    "### work with alpha"
   ]
  },
  {
   "cell_type": "code",
   "execution_count": 34,
   "id": "cb261e2a-b092-48ee-bc76-78e009e66b48",
   "metadata": {},
   "outputs": [
    {
     "name": "stdout",
     "output_type": "stream",
     "text": [
      "['abi', 'akash']\n"
     ]
    }
   ],
   "source": [
    "names = ['abi','mukesh','saif','akash']\n",
    "new=[]\n",
    "\n",
    "for i in names:\n",
    "    if i.startswith('a'):\n",
    "        new.append(i)\n",
    "print(new)"
   ]
  },
  {
   "cell_type": "code",
   "execution_count": 35,
   "id": "8bfd2d51-611d-477a-9575-b6afa639b250",
   "metadata": {},
   "outputs": [
    {
     "data": {
      "text/plain": [
       "True"
      ]
     },
     "execution_count": 35,
     "metadata": {},
     "output_type": "execute_result"
    }
   ],
   "source": [
    "i.startswith('a')"
   ]
  },
  {
   "cell_type": "code",
   "execution_count": 44,
   "id": "af1299b9-aa1a-4220-aea7-e2228be8492f",
   "metadata": {},
   "outputs": [
    {
     "name": "stdout",
     "output_type": "stream",
     "text": [
      "5\n",
      "3\n"
     ]
    }
   ],
   "source": [
    "word = \"hello123\"\n",
    "count = 0\n",
    "count1 =0\n",
    "for i in word:\n",
    "    if i.isalpha():\n",
    "        count+=1\n",
    "    if i.isdigit():\n",
    "        count1 +=1\n",
    "print(count)\n",
    "print(count1)"
   ]
  },
  {
   "cell_type": "code",
   "execution_count": 40,
   "id": "f83a9f75-508a-46a7-84ce-a26faa47eebd",
   "metadata": {},
   "outputs": [
    {
     "data": {
      "text/plain": [
       "True"
      ]
     },
     "execution_count": 40,
     "metadata": {},
     "output_type": "execute_result"
    }
   ],
   "source": [
    "i.isnumeric()"
   ]
  },
  {
   "cell_type": "code",
   "execution_count": 48,
   "id": "ba8c2805-8b6e-4439-b83a-db98554b2b8d",
   "metadata": {},
   "outputs": [
    {
     "name": "stdout",
     "output_type": "stream",
     "text": [
      "1000\n"
     ]
    }
   ],
   "source": [
    "num = [10,225,30,400,50,600,70,80,33,1000,110]\n",
    "large = num[0]\n",
    "\n",
    "for i in num:\n",
    "    if i>large:\n",
    "        large = i\n",
    "        # print(large)\n",
    "print(large)\n"
   ]
  },
  {
   "cell_type": "code",
   "execution_count": 1,
   "id": "c29059ca-b4d8-4a4e-a996-ea95cf1b4e73",
   "metadata": {},
   "outputs": [
    {
     "name": "stdin",
     "output_type": "stream",
     "text": [
      "Enter a word madam\n"
     ]
    },
    {
     "name": "stdout",
     "output_type": "stream",
     "text": [
      "palnidrome\n"
     ]
    }
   ],
   "source": [
    "word = str(input('Enter a word'))\n",
    "rev = ''\n",
    "for i in word:\n",
    "    rev = i+rev\n",
    "if word == rev:\n",
    "    print('palnidrome')\n",
    "else:\n",
    "    print('not a palindrome')"
   ]
  },
  {
   "cell_type": "code",
   "execution_count": 2,
   "id": "7f77e948-159d-4205-87e5-4fc692eea96d",
   "metadata": {},
   "outputs": [
    {
     "name": "stdout",
     "output_type": "stream",
     "text": [
      "3\n"
     ]
    }
   ],
   "source": [
    "word = 'softlogic'\n",
    "vowels = 'aeiouAEIOU'\n",
    "count = 0\n",
    "for i in word:\n",
    "    if i in vowels:\n",
    "        count+=1\n",
    "print(count)"
   ]
  },
  {
   "cell_type": "code",
   "execution_count": 3,
   "id": "87593ae3-4214-4424-88b4-b7cff204c3c6",
   "metadata": {},
   "outputs": [
    {
     "name": "stdout",
     "output_type": "stream",
     "text": [
      "3\n",
      "2\n",
      "{'i', 'o'}\n"
     ]
    }
   ],
   "source": [
    "word = 'softlogic'\n",
    "vowels = 'aeiouAEIOU'\n",
    "count = 0\n",
    "let = []\n",
    "for i in word:\n",
    "    if i in vowels:\n",
    "        count+=1\n",
    "        let.append(i)\n",
    "print(count)\n",
    "print(len(set((let))))\n",
    "print(set((let)))"
   ]
  },
  {
   "cell_type": "code",
   "execution_count": 4,
   "id": "3ed3ccb5-8acc-4b69-9ce1-5bec67e22a32",
   "metadata": {},
   "outputs": [
    {
     "name": "stdout",
     "output_type": "stream",
     "text": [
      "[12, 15, 18]\n"
     ]
    }
   ],
   "source": [
    "l =[]\n",
    "for i in range(10,20+1):\n",
    "    if i%3==0:\n",
    "        l.append(i)\n",
    "print(l)"
   ]
  },
  {
   "cell_type": "code",
   "execution_count": 5,
   "id": "b6ad4df1-7f44-4025-82a6-51b7308e8b88",
   "metadata": {},
   "outputs": [
    {
     "name": "stdout",
     "output_type": "stream",
     "text": [
      "[105, 112, 119, 126, 133, 140, 147]\n",
      "882\n"
     ]
    }
   ],
   "source": [
    "l =[]\n",
    "s = 0\n",
    "for i in range(100,150+1):\n",
    "    if i%7==0:\n",
    "        l.append(i)\n",
    "        s+=i\n",
    "print(l)\n",
    "print(s)"
   ]
  },
  {
   "cell_type": "markdown",
   "id": "1bdf537d-c849-4111-9cda-d51af79d20fa",
   "metadata": {
    "jp-MarkdownHeadingCollapsed": true
   },
   "source": [
    "### factorial"
   ]
  },
  {
   "cell_type": "code",
   "execution_count": 6,
   "id": "7c70ae02-96d6-483e-8da4-aa4692d4bb2f",
   "metadata": {},
   "outputs": [
    {
     "name": "stdin",
     "output_type": "stream",
     "text": [
      "Enter a Num 10\n"
     ]
    },
    {
     "name": "stdout",
     "output_type": "stream",
     "text": [
      "1\n",
      "2\n",
      "3\n",
      "4\n",
      "5\n",
      "6\n",
      "7\n",
      "8\n",
      "9\n",
      "10\n",
      "3628800\n"
     ]
    }
   ],
   "source": [
    "ip = int(input('Enter a Num'))\n",
    "fac = 1\n",
    "for i in range(1,ip+1):\n",
    "    fac *=i\n",
    "    print(i)\n",
    "print(fac)"
   ]
  },
  {
   "cell_type": "markdown",
   "id": "3013f816-0d3a-452a-928b-fdc742d4ce44",
   "metadata": {
    "jp-MarkdownHeadingCollapsed": true
   },
   "source": [
    "### tables"
   ]
  },
  {
   "cell_type": "code",
   "execution_count": 7,
   "id": "dd76e2cd-c702-46e3-83d0-bafb17d35e6a",
   "metadata": {},
   "outputs": [
    {
     "name": "stdin",
     "output_type": "stream",
     "text": [
      "Enter a num: 5\n"
     ]
    },
    {
     "name": "stdout",
     "output_type": "stream",
     "text": [
      "1 x 5 = 5\n",
      "2 x 5 = 10\n",
      "3 x 5 = 15\n",
      "4 x 5 = 20\n",
      "5 x 5 = 25\n",
      "6 x 5 = 30\n",
      "7 x 5 = 35\n",
      "8 x 5 = 40\n",
      "9 x 5 = 45\n",
      "10 x 5 = 50\n"
     ]
    }
   ],
   "source": [
    "ip = int(input(\"Enter a num:\"))\n",
    "for i in range(1,10+1):\n",
    "    d=ip*i\n",
    "    print(i,\"x\",ip,\"=\",d)"
   ]
  },
  {
   "cell_type": "code",
   "execution_count": 8,
   "id": "ad74eb74-dda0-4274-9447-c40cc11a4a65",
   "metadata": {},
   "outputs": [
    {
     "name": "stdin",
     "output_type": "stream",
     "text": [
      "Enter a num: 2\n"
     ]
    },
    {
     "name": "stdout",
     "output_type": "stream",
     "text": [
      "1 x 2 = 2\n",
      "2 x 2 = 4\n",
      "3 x 2 = 6\n",
      "4 x 2 = 8\n",
      "5 x 2 = 10\n",
      "6 x 2 = 12\n",
      "7 x 2 = 14\n",
      "8 x 2 = 16\n",
      "9 x 2 = 18\n",
      "10 x 2 = 20\n",
      "110\n"
     ]
    }
   ],
   "source": [
    "ip = int(input(\"Enter a num:\"))\n",
    "s=0\n",
    "for i in range(1,10+1):\n",
    "    d=ip*i\n",
    "    s+=d\n",
    "    print(i,\"x\",ip,\"=\",d)\n",
    "print(s)"
   ]
  },
  {
   "cell_type": "code",
   "execution_count": 1,
   "id": "9d35314d-44cf-4ac4-90a2-12a4cd64dc82",
   "metadata": {},
   "outputs": [
    {
     "name": "stdin",
     "output_type": "stream",
     "text": [
      "Enter the number 5\n",
      "Enter the number 5\n",
      "Enter the number 2\n",
      "Enter the number 2\n",
      "Enter the number 6\n"
     ]
    },
    {
     "name": "stdout",
     "output_type": "stream",
     "text": [
      "sum is 20\n"
     ]
    }
   ],
   "source": [
    "s = 0\n",
    "for i in range(1,5+1):\n",
    "    num = int(input(\"Enter the number\"))\n",
    "    s+=num\n",
    "print('sum is',s)"
   ]
  },
  {
   "cell_type": "code",
   "execution_count": 2,
   "id": "6efc6610-825f-4eb0-8a72-cbe6db1f7fc3",
   "metadata": {},
   "outputs": [
    {
     "name": "stdin",
     "output_type": "stream",
     "text": [
      "Enter the name: jhbdf\n",
      "Enter the name: ajbuygdf\n",
      "Enter the name: auguygrf\n",
      "Enter the name: fgubhifg\n",
      "Enter the name: ajhug\n"
     ]
    },
    {
     "name": "stdout",
     "output_type": "stream",
     "text": [
      "['ajbuygdf', 'auguygrf', 'ajhug']\n"
     ]
    }
   ],
   "source": [
    "l=[]\n",
    "for i in range(5):\n",
    "    name = str(input(\"Enter the name:\")).lower().strip()\n",
    "    if name.startswith('a'):\n",
    "        l.append(name)\n",
    "print(l)"
   ]
  },
  {
   "cell_type": "code",
   "execution_count": 3,
   "id": "26cacf41-662b-4d51-afc0-37d480b5f194",
   "metadata": {},
   "outputs": [
    {
     "data": {
      "text/plain": [
       "153"
      ]
     },
     "execution_count": 3,
     "metadata": {},
     "output_type": "execute_result"
    }
   ],
   "source": [
    "1**3+5**3+3**3"
   ]
  },
  {
   "cell_type": "code",
   "execution_count": 11,
   "id": "d69caece-02bf-4be3-ab03-03e431e0f736",
   "metadata": {},
   "outputs": [
    {
     "name": "stdin",
     "output_type": "stream",
     "text": [
      "num 554\n"
     ]
    },
    {
     "data": {
      "text/plain": [
       "3"
      ]
     },
     "execution_count": 11,
     "metadata": {},
     "output_type": "execute_result"
    }
   ],
   "source": [
    "l=input(\"num\")\n",
    "len(l)"
   ]
  },
  {
   "cell_type": "code",
   "execution_count": 14,
   "id": "b82bc8b7-001d-4204-bbf7-f7d9a90c92c3",
   "metadata": {},
   "outputs": [
    {
     "data": {
      "text/plain": [
       "8"
      ]
     },
     "execution_count": 14,
     "metadata": {},
     "output_type": "execute_result"
    }
   ],
   "source": [
    "l = 15658468\n",
    "len(str(l))"
   ]
  },
  {
   "cell_type": "markdown",
   "id": "5f6ab9e1-5765-4d12-ac5d-ff7cc958d81f",
   "metadata": {
    "jp-MarkdownHeadingCollapsed": true
   },
   "source": [
    "### armstag number"
   ]
  },
  {
   "cell_type": "code",
   "execution_count": 38,
   "id": "974fec3e-ace6-44b1-9da5-b24d8b795000",
   "metadata": {},
   "outputs": [
    {
     "name": "stdout",
     "output_type": "stream",
     "text": [
      "0\n",
      "Armstrag num\n",
      "1\n",
      "Armstrag num\n",
      "2\n",
      "Armstrag num\n",
      "3\n",
      "Armstrag num\n",
      "4\n",
      "Armstrag num\n",
      "5\n",
      "Armstrag num\n",
      "6\n",
      "Armstrag num\n",
      "7\n",
      "Armstrag num\n",
      "8\n",
      "Armstrag num\n",
      "9\n",
      "Armstrag num\n",
      "153\n",
      "Armstrag num\n",
      "370\n",
      "Armstrag num\n",
      "371\n",
      "Armstrag num\n",
      "407\n",
      "Armstrag num\n",
      "1634\n",
      "Armstrag num\n",
      "8208\n",
      "Armstrag num\n",
      "9474\n",
      "Armstrag num\n",
      "54748\n",
      "Armstrag num\n",
      "92727\n",
      "Armstrag num\n",
      "93084\n",
      "Armstrag num\n",
      "548834\n",
      "Armstrag num\n",
      "1741725\n",
      "Armstrag num\n",
      "4210818\n",
      "Armstrag num\n",
      "9800817\n",
      "Armstrag num\n",
      "9926315\n",
      "Armstrag num\n"
     ]
    }
   ],
   "source": [
    " for i in range(10000000):   \n",
    "    # num = int(input(\"Num:\"))\n",
    "    num =i\n",
    "    tot = 0\n",
    "    leng = len(str(num))\n",
    "    for i in str(num):\n",
    "        d = int(i)**leng\n",
    "        tot+=d\n",
    "    if num==tot:\n",
    "        print(tot)\n",
    "        print(\"Armstrag num\")\n",
    "    # else:\n",
    "    #     print(\"Not an armstrong num\")"
   ]
  },
  {
   "cell_type": "code",
   "execution_count": 22,
   "id": "7758accc-828b-443b-a279-94d3dc05066c",
   "metadata": {},
   "outputs": [
    {
     "data": {
      "text/plain": [
       "80"
      ]
     },
     "execution_count": 22,
     "metadata": {},
     "output_type": "execute_result"
    }
   ],
   "source": [
    "4**2+8**2"
   ]
  },
  {
   "cell_type": "code",
   "execution_count": 29,
   "id": "f8ad4550-2586-43a0-8aa1-d10a68b49c58",
   "metadata": {},
   "outputs": [
    {
     "name": "stdout",
     "output_type": "stream",
     "text": [
      "30.0\n"
     ]
    }
   ],
   "source": [
    "num = [10,20,30,40,50]\n",
    "total = count =0\n",
    "for i in num:\n",
    "    total+=i\n",
    "    count+=1\n",
    "print(total/count)"
   ]
  },
  {
   "cell_type": "markdown",
   "id": "3a25d7c2-5e34-4182-9ff4-68d6bb8979e1",
   "metadata": {},
   "source": [
    "# breaking loop"
   ]
  },
  {
   "cell_type": "code",
   "execution_count": 40,
   "id": "729e16af-c46b-4224-af3f-fb9ea597e308",
   "metadata": {},
   "outputs": [
    {
     "name": "stdout",
     "output_type": "stream",
     "text": [
      "1\n",
      "2\n",
      "3\n",
      "4\n"
     ]
    }
   ],
   "source": [
    "num = [1,2,3,4,5,6,7,8,9]\n",
    "\n",
    "for i in num:\n",
    "    if i%5==0:\n",
    "        break\n",
    "    print(i)"
   ]
  },
  {
   "cell_type": "code",
   "execution_count": 41,
   "id": "e2f903df-dc3c-40de-8855-e69c1db7f28e",
   "metadata": {},
   "outputs": [
    {
     "name": "stdout",
     "output_type": "stream",
     "text": [
      "6\n"
     ]
    }
   ],
   "source": [
    "num = [3,6,7,8,10]\n",
    "\n",
    "for i in num:\n",
    "    if i%2==0:\n",
    "        print(i)\n",
    "        break"
   ]
  },
  {
   "cell_type": "markdown",
   "id": "cac858f0-1b59-4b59-9741-eb1bd338dc02",
   "metadata": {},
   "source": [
    "### star pattern"
   ]
  },
  {
   "cell_type": "code",
   "execution_count": 74,
   "id": "d947ac7a-d69e-4d7d-a6a1-40fec653b54f",
   "metadata": {},
   "outputs": [
    {
     "name": "stdin",
     "output_type": "stream",
     "text": [
      "Enter the num 5\n"
     ]
    },
    {
     "name": "stdout",
     "output_type": "stream",
     "text": [
      "*\n",
      "**\n",
      "***\n",
      "****\n",
      "*****\n"
     ]
    }
   ],
   "source": [
    "num = int(input(\"Enter the num\"))\n",
    "for i in range(num):\n",
    "    for j in range(i+1):\n",
    "        print('*',end='')\n",
    "    print()"
   ]
  },
  {
   "cell_type": "code",
   "execution_count": 71,
   "id": "b7350e17-f3b6-4712-8a02-de63f961f23d",
   "metadata": {},
   "outputs": [
    {
     "name": "stdin",
     "output_type": "stream",
     "text": [
      "Enter the num 5\n"
     ]
    },
    {
     "name": "stdout",
     "output_type": "stream",
     "text": [
      "*****\n",
      "****\n",
      "***\n",
      "**\n",
      "*\n"
     ]
    }
   ],
   "source": [
    "num = int(input(\"Enter the num\"))\n",
    "for i in range(num):\n",
    "    for j in range(i,num):\n",
    "        print('*',end='')\n",
    "    print()"
   ]
  },
  {
   "cell_type": "markdown",
   "id": "648257da-08c3-496b-9862-8f742cbb85ef",
   "metadata": {},
   "source": [
    "# interview qus"
   ]
  },
  {
   "cell_type": "code",
   "execution_count": 17,
   "id": "78254bd4-c68d-47fc-b4a5-c708f2e2f3a8",
   "metadata": {},
   "outputs": [
    {
     "name": "stdin",
     "output_type": "stream",
     "text": [
      "Enter the range 5\n"
     ]
    },
    {
     "name": "stdout",
     "output_type": "stream",
     "text": [
      "0\n",
      "1\n",
      "1\n",
      "2\n",
      "3\n"
     ]
    }
   ],
   "source": [
    "a=0\n",
    "b=1\n",
    "\n",
    "for i in range(int(input(\"Enter the range\"))):\n",
    "    print(a)\n",
    "    c=a+b\n",
    "    a=b\n",
    "    b=c"
   ]
  },
  {
   "cell_type": "code",
   "execution_count": 42,
   "id": "b63a2889-ce69-40d3-b4eb-6e36cb719e1d",
   "metadata": {},
   "outputs": [
    {
     "name": "stdin",
     "output_type": "stream",
     "text": [
      "Enter the range 5\n"
     ]
    },
    {
     "name": "stdout",
     "output_type": "stream",
     "text": [
      "0\n",
      "1\n",
      "1\n",
      "2\n",
      "3\n"
     ]
    }
   ],
   "source": [
    "a=0\n",
    "b=1\n",
    "\n",
    "for i in range(int(input(\"Enter the range\"))):\n",
    "    print(a)\n",
    "    # a=a+b\n",
    "    # b=a-b\n",
    "    # a=a-b\n",
    "    a,b = b, a+b"
   ]
  },
  {
   "cell_type": "code",
   "execution_count": 29,
   "id": "d8f775bb-163a-488a-874f-24722b12b284",
   "metadata": {},
   "outputs": [
    {
     "name": "stdin",
     "output_type": "stream",
     "text": [
      "Enter the num 5\n"
     ]
    },
    {
     "name": "stdout",
     "output_type": "stream",
     "text": [
      "0\n",
      "1\n",
      "1\n",
      "2\n",
      "3\n"
     ]
    }
   ],
   "source": [
    "n = int(input(\"Enter the num\"))\n",
    "a=0\n",
    "b=1\n",
    "\n",
    "if n==1:\n",
    "    print(a)\n",
    "\n",
    "else:\n",
    "    print(a)\n",
    "    print(b)\n",
    "    for i in range(2,n):\n",
    "        c=a+b\n",
    "        a=b\n",
    "        b=c\n",
    "        print(c)"
   ]
  },
  {
   "cell_type": "markdown",
   "id": "059a989c-e6c5-4a24-a3e5-b404118a550d",
   "metadata": {},
   "source": [
    "### sum of natural nums"
   ]
  },
  {
   "cell_type": "code",
   "execution_count": 35,
   "id": "1dc8bf23-b731-48ad-b498-cc948b9e2c52",
   "metadata": {},
   "outputs": [
    {
     "name": "stdin",
     "output_type": "stream",
     "text": [
      "Enter number 10\n"
     ]
    },
    {
     "name": "stdout",
     "output_type": "stream",
     "text": [
      "Sum of the natural number upto 10 is 55\n"
     ]
    }
   ],
   "source": [
    "n=int(input(\"Enter number\"))\n",
    "s = 0\n",
    "for i in range(1,n+1):\n",
    "    s+=i\n",
    "print(f\"Sum of the natural number upto {n} is {s}\")"
   ]
  },
  {
   "cell_type": "code",
   "execution_count": 33,
   "id": "6a240d2c-1641-4a65-b04a-1b1c10d5aed1",
   "metadata": {},
   "outputs": [
    {
     "data": {
      "text/plain": [
       "55"
      ]
     },
     "execution_count": 33,
     "metadata": {},
     "output_type": "execute_result"
    }
   ],
   "source": [
    "1+2+3+4+5+6+7+8+9+10\n"
   ]
  },
  {
   "cell_type": "code",
   "execution_count": 37,
   "id": "473240a5-f25d-4816-b91b-87111030cdea",
   "metadata": {},
   "outputs": [
    {
     "name": "stdin",
     "output_type": "stream",
     "text": [
      "Enter number 10\n"
     ]
    },
    {
     "name": "stdout",
     "output_type": "stream",
     "text": [
      "Sum of the squre of natural number upto 10 is 385\n"
     ]
    }
   ],
   "source": [
    "n=int(input(\"Enter number\"))\n",
    "s = 0\n",
    "for i in range(1,n+1):\n",
    "    s+=i**2\n",
    "print(f\"Sum of the squre of natural number upto {n} is {s}\")"
   ]
  },
  {
   "cell_type": "code",
   "execution_count": 38,
   "id": "b5ee1877-c197-4427-9819-7f9d8069313d",
   "metadata": {},
   "outputs": [
    {
     "data": {
      "text/plain": [
       "385"
      ]
     },
     "execution_count": 38,
     "metadata": {},
     "output_type": "execute_result"
    }
   ],
   "source": [
    "1+2*2+3*3+4*4+5*5+6*6+7*7+8*8+9*9+10*10"
   ]
  },
  {
   "cell_type": "markdown",
   "id": "be53f86d-2231-48af-b9d9-08ad8e119506",
   "metadata": {},
   "source": [
    "# while loop"
   ]
  },
  {
   "cell_type": "markdown",
   "id": "fd40e6e2-82b5-4cd9-ba12-2b1a9dbd5abf",
   "metadata": {},
   "source": [
    "excecutes a block of code until the condition remains true"
   ]
  },
  {
   "cell_type": "markdown",
   "id": "ad38c10b-71b3-49a0-b7f9-0ddd12176cc9",
   "metadata": {},
   "source": [
    "for loop finite loop\n",
    "while loop infinite loop"
   ]
  },
  {
   "cell_type": "code",
   "execution_count": 47,
   "id": "94cbae73-3341-4d64-83df-74f1b6743e12",
   "metadata": {},
   "outputs": [
    {
     "name": "stdin",
     "output_type": "stream",
     "text": [
      "Enter the name \n",
      "Enter the correct name \n",
      "Enter the correct name \n",
      "Enter the correct name \n",
      "Enter the correct name \n",
      "Enter the correct name \n",
      "Enter the correct name \n",
      "Enter the correct name \n",
      "Enter the correct name \n",
      "Enter the correct name rajesh\n"
     ]
    },
    {
     "name": "stdout",
     "output_type": "stream",
     "text": [
      "Entered name is rajesh\n"
     ]
    }
   ],
   "source": [
    "name = input(\"Enter the name\")\n",
    "while name=='':\n",
    "    name=input(\"Enter the correct name\")\n",
    "print(\"Entered name is\", name)"
   ]
  },
  {
   "cell_type": "code",
   "execution_count": 46,
   "id": "8756d263-4efe-4d97-8b8b-ce1f1392c24a",
   "metadata": {},
   "outputs": [
    {
     "name": "stdin",
     "output_type": "stream",
     "text": [
      "Enter the age 2\n",
      "Are you 18+, please Enter the age again 5\n",
      "Are you 18+, please Enter the age again 5\n",
      "Are you 18+, please Enter the age again 0\n",
      "Are you 18+, please Enter the age again 22\n"
     ]
    },
    {
     "name": "stdout",
     "output_type": "stream",
     "text": [
      "Your age is 22\n"
     ]
    }
   ],
   "source": [
    "age = int(input(\"Enter the age\"))\n",
    "\n",
    "while age<18:\n",
    "    age=int(input(\"Are you 18+, please Enter the age again\"))\n",
    "\n",
    "print(\"Your age is\",age)"
   ]
  },
  {
   "cell_type": "code",
   "execution_count": 48,
   "id": "0dc0691a-90ea-4dfe-bcd4-6fe090ec7b4a",
   "metadata": {},
   "outputs": [
    {
     "name": "stdout",
     "output_type": "stream",
     "text": [
      "1\n",
      "2\n",
      "3\n",
      "4\n",
      "5\n",
      "6\n",
      "7\n",
      "8\n",
      "9\n",
      "10\n"
     ]
    }
   ],
   "source": [
    "num = 1\n",
    "while num<11:\n",
    "    print(num)\n",
    "    num+=1"
   ]
  },
  {
   "cell_type": "code",
   "execution_count": 49,
   "id": "92bd7b59-8699-4a06-b700-c7aa81408e76",
   "metadata": {},
   "outputs": [
    {
     "name": "stdout",
     "output_type": "stream",
     "text": [
      "10\n",
      "9\n",
      "8\n",
      "7\n",
      "6\n",
      "5\n",
      "4\n",
      "3\n",
      "2\n",
      "1\n"
     ]
    }
   ],
   "source": [
    "num = 10\n",
    "\n",
    "while num>0:\n",
    "    print(num)\n",
    "    num-=1"
   ]
  },
  {
   "cell_type": "markdown",
   "id": "caf77f60-ee7c-487e-a063-219970bf85a8",
   "metadata": {},
   "source": [
    "### fibonaci nums"
   ]
  },
  {
   "cell_type": "code",
   "execution_count": 1,
   "id": "4c7bb737-be34-45b8-a719-6c23c8d21984",
   "metadata": {},
   "outputs": [
    {
     "name": "stdin",
     "output_type": "stream",
     "text": [
      "Range : 5\n"
     ]
    },
    {
     "name": "stdout",
     "output_type": "stream",
     "text": [
      "0\n",
      "1\n",
      "1\n",
      "2\n",
      "3\n"
     ]
    }
   ],
   "source": [
    "a,b=0,1\n",
    "for _ in range(int(input('Range :'))):\n",
    "    print(a)\n",
    "    a,b=b,a+b"
   ]
  },
  {
   "cell_type": "code",
   "execution_count": 5,
   "id": "41d11a75-a8ed-469f-a0c9-8a9d94692ccf",
   "metadata": {},
   "outputs": [
    {
     "name": "stdout",
     "output_type": "stream",
     "text": [
      "yes\n"
     ]
    }
   ],
   "source": [
    "n=9\n",
    "if n in range(10):\n",
    "    print(\"yes\")\n",
    "else:\n",
    "    print(\"no\")"
   ]
  },
  {
   "cell_type": "code",
   "execution_count": 6,
   "id": "8e7c6c4b-5bdb-4570-8b80-507903889ffd",
   "metadata": {},
   "outputs": [
    {
     "name": "stdout",
     "output_type": "stream",
     "text": [
      "yes\n"
     ]
    }
   ],
   "source": [
    "n=9\n",
    "if n in range(10):\n",
    "    print(\"yes\")\n",
    "else:\n",
    "    print(\"no\")"
   ]
  },
  {
   "cell_type": "markdown",
   "id": "33d27681-8ba3-434e-9eca-57bbc1532c14",
   "metadata": {},
   "source": [
    "### factorial"
   ]
  },
  {
   "cell_type": "code",
   "execution_count": 8,
   "id": "1c1d8bab-64cb-4445-b7c0-c44d4ac5ae02",
   "metadata": {},
   "outputs": [
    {
     "name": "stdin",
     "output_type": "stream",
     "text": [
      "num 5\n"
     ]
    },
    {
     "name": "stdout",
     "output_type": "stream",
     "text": [
      "120\n"
     ]
    }
   ],
   "source": [
    "num = int(input(\"num\"))\n",
    "fact=1\n",
    "for i in range(1,num+1):\n",
    "    fact*=i\n",
    "print(fact)"
   ]
  },
  {
   "cell_type": "code",
   "execution_count": 14,
   "id": "edf0147f-1f41-4f56-9204-1a453988436a",
   "metadata": {},
   "outputs": [
    {
     "name": "stdin",
     "output_type": "stream",
     "text": [
      "num 4\n"
     ]
    },
    {
     "name": "stdout",
     "output_type": "stream",
     "text": [
      "24\n"
     ]
    }
   ],
   "source": [
    "num = int(input(\"num\"))\n",
    "i=fact=1\n",
    "while i in range(1,num+1):\n",
    "    fact*=i\n",
    "    i+=1\n",
    "print(fact)"
   ]
  },
  {
   "cell_type": "code",
   "execution_count": 10,
   "id": "48d4d0e5-57ed-4936-9d3b-0961778d8a13",
   "metadata": {},
   "outputs": [
    {
     "name": "stdin",
     "output_type": "stream",
     "text": [
      "num 5\n"
     ]
    },
    {
     "name": "stdout",
     "output_type": "stream",
     "text": [
      "120\n"
     ]
    }
   ],
   "source": [
    "num = int(input(\"num\"))\n",
    "i=fact=1\n",
    "while i<=num:\n",
    "    fact*=i\n",
    "    i+=1\n",
    "print(fact)"
   ]
  },
  {
   "cell_type": "code",
   "execution_count": 15,
   "id": "ce1ae452-f4c1-465d-9fa4-4b3f0baf99b8",
   "metadata": {},
   "outputs": [
    {
     "data": {
      "text/plain": [
       "24"
      ]
     },
     "execution_count": 15,
     "metadata": {},
     "output_type": "execute_result"
    }
   ],
   "source": [
    "1*2*3*4"
   ]
  },
  {
   "cell_type": "code",
   "execution_count": null,
   "id": "06d43cfc-9646-43d6-8b6c-8703a252b558",
   "metadata": {},
   "outputs": [],
   "source": []
  },
  {
   "cell_type": "code",
   "execution_count": 57,
   "id": "33c2c578-2261-4cc6-89ef-618f7f60a3d5",
   "metadata": {},
   "outputs": [
    {
     "name": "stdout",
     "output_type": "stream",
     "text": [
      "information_schema\n",
      "mysql\n",
      "performance_schema\n",
      "sys\n"
     ]
    }
   ],
   "source": [
    "import mysql.connector\n",
    "\n",
    "# Establish connection\n",
    "conn = mysql.connector.connect(\n",
    "    host=\"localhost\",  # Example: \"localhost\"\n",
    "    user=\"root\",\n",
    "    password=\"password\"\n",
    ")\n",
    "\n",
    "# Create cursor\n",
    "cursor = conn.cursor()\n",
    "\n",
    "# Execute query to show databases\n",
    "cursor.execute(\"SHOW DATABASES\")\n",
    "\n",
    "# Fetch and print results\n",
    "for db in cursor.fetchall():\n",
    "    print(db[0])\n",
    "\n",
    "# Close connection\n",
    "cursor.close()\n",
    "conn.close()\n"
   ]
  }
 ],
 "metadata": {
  "kernelspec": {
   "display_name": "Python 3 (ipykernel)",
   "language": "python",
   "name": "python3"
  },
  "language_info": {
   "codemirror_mode": {
    "name": "ipython",
    "version": 3
   },
   "file_extension": ".py",
   "mimetype": "text/x-python",
   "name": "python",
   "nbconvert_exporter": "python",
   "pygments_lexer": "ipython3",
   "version": "3.12.9"
  }
 },
 "nbformat": 4,
 "nbformat_minor": 5
}
