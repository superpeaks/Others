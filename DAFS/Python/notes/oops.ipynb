{
 "cells": [
  {
   "cell_type": "markdown",
   "id": "dc69a9e7-7925-4407-bc26-3992d81638d0",
   "metadata": {},
   "source": [
    "# class"
   ]
  },
  {
   "cell_type": "code",
   "execution_count": 3,
   "id": "3b7c6dbb-1105-478c-84ac-8d0c54440179",
   "metadata": {},
   "outputs": [
    {
     "name": "stdout",
     "output_type": "stream",
     "text": [
      "aws,devops\n",
      "power bi, sql\n",
      "power bi, sql\n",
      "ml,ai\n"
     ]
    }
   ],
   "source": [
    "class sla():                            # class define\n",
    "    def analytics(self):                # method defined(fuction defined as method)\n",
    "        print(\"power bi, sql\")\n",
    "    def science(self):                  \n",
    "        print(\"ml,ai\")\n",
    "    def cloud(self):\n",
    "        print(\"aws,devops\")\n",
    "# in class we donot say variable, we used to say object\n",
    "stud1 = sla()                          #object recives class and which become instence\n",
    "stud1.cloud()                          # instence uses class by using theier methods\n",
    "stud1.analytics()\n",
    "\n",
    "\n",
    "stud2 = sla()\n",
    "stud2.analytics()\n",
    "stud2.science()"
   ]
  },
  {
   "cell_type": "code",
   "execution_count": 5,
   "id": "866b5e00-4657-449b-949f-24a17b3fb503",
   "metadata": {},
   "outputs": [],
   "source": [
    "# what is class and object\n",
    "# is python fully support oops\n",
    "# what is lambda fn\n",
    "# what is mean by higher order fn\n",
    "# what is user defined fn\n",
    "# what is mean by methods\n",
    "# when should i use loop\n",
    "# f. used palindrom, armstrog, prime number, fibonaci\n"
   ]
  },
  {
   "cell_type": "code",
   "execution_count": null,
   "id": "0f5da314-39e4-4b0e-a90d-e6837e7d8e98",
   "metadata": {},
   "outputs": [],
   "source": []
  }
 ],
 "metadata": {
  "kernelspec": {
   "display_name": "Python 3 (ipykernel)",
   "language": "python",
   "name": "python3"
  },
  "language_info": {
   "codemirror_mode": {
    "name": "ipython",
    "version": 3
   },
   "file_extension": ".py",
   "mimetype": "text/x-python",
   "name": "python",
   "nbconvert_exporter": "python",
   "pygments_lexer": "ipython3",
   "version": "3.12.9"
  }
 },
 "nbformat": 4,
 "nbformat_minor": 5
}
