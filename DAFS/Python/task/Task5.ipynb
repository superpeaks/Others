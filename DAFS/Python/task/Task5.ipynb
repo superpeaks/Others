{
 "cells": [
  {
   "cell_type": "code",
   "execution_count": 1,
   "id": "6784a9f7-d573-42f2-b0f0-8fa9aa91a5cc",
   "metadata": {},
   "outputs": [
    {
     "name": "stdin",
     "output_type": "stream",
     "text": [
      "Enter a num: 5\n"
     ]
    },
    {
     "name": "stdout",
     "output_type": "stream",
     "text": [
      "0\n",
      "1\n",
      "1\n",
      "2\n",
      "3\n"
     ]
    }
   ],
   "source": [
    "# The sequence starts with 0 and 1, and each subsequent number is the sum of the two preceding numbers\n",
    "a,b=0,1\n",
    "num = int(input(\"Enter a num:\"))\n",
    "for i in range(num):\n",
    "    print(a)\n",
    "    c=a+b\n",
    "    a=b\n",
    "    b=c"
   ]
  },
  {
   "cell_type": "code",
   "execution_count": 6,
   "id": "d6d90af7-ac79-4a7c-9d3f-3a24795cc9e8",
   "metadata": {},
   "outputs": [
    {
     "name": "stdin",
     "output_type": "stream",
     "text": [
      "Enter a string level\n"
     ]
    },
    {
     "name": "stdout",
     "output_type": "stream",
     "text": [
      "reverse string level\n",
      "palindrome\n"
     ]
    }
   ],
   "source": [
    "# A palindrome is a word, phrase, number, or sequence that reads the same forward and backward.\n",
    "\n",
    "ip = str(input(\"Enter a string\"))\n",
    "rev =''\n",
    "\n",
    "for i in ip:\n",
    "    rev=i+rev\n",
    "print('reverse string',rev)\n",
    "if ip==rev:\n",
    "    print('palindrome')\n",
    "else:\n",
    "    print(\"not palindrome\")\n",
    "    "
   ]
  },
  {
   "cell_type": "code",
   "execution_count": 17,
   "id": "ee94140c-dca3-45cd-8a7a-017f696b1c00",
   "metadata": {},
   "outputs": [
    {
     "name": "stdin",
     "output_type": "stream",
     "text": [
      "Num1 1\n",
      "Num2 2\n",
      "Num3 3\n",
      "Num4 4\n",
      "Num5 5\n",
      "Num6 6\n",
      "Num7 7\n",
      "Num8 8\n",
      "Num9 9\n",
      "Num10 10\n"
     ]
    },
    {
     "name": "stdout",
     "output_type": "stream",
     "text": [
      "30\n"
     ]
    }
   ],
   "source": [
    "s=0\n",
    "\n",
    "for i in range(10):\n",
    "    num=int(input(f\"Num{i+1}\"))\n",
    "    if num%2==0:\n",
    "        s+=num\n",
    "print(s)\n",
    "    "
   ]
  },
  {
   "cell_type": "code",
   "execution_count": 7,
   "id": "1b1dfd4d-c975-4b2c-9294-ced8b8cff19f",
   "metadata": {},
   "outputs": [
    {
     "name": "stdin",
     "output_type": "stream",
     "text": [
      "Val 1 54654\n",
      "Val 2 eglkhkge\n",
      "Val 3 lhkrgn\n",
      "Val 4 lkhfdg545\n",
      "Val 5 65468\n"
     ]
    },
    {
     "name": "stdout",
     "output_type": "stream",
     "text": [
      "['eglkhkge', 'lhkrgn']\n",
      "['54654', '65468']\n"
     ]
    }
   ],
   "source": [
    "la=[]\n",
    "ld=[]\n",
    "for i in range(5):\n",
    "    val=str(input(f\"Val {i+1}\"))\n",
    "    if val.isalpha():\n",
    "        la.append(val)\n",
    "    elif val.isdigit():\n",
    "        ld.append(val)\n",
    "        \n",
    "print(la)\n",
    "print(ld)"
   ]
  },
  {
   "cell_type": "code",
   "execution_count": 18,
   "id": "4f2c8482-fc32-4b4f-8933-f8f917b4e30c",
   "metadata": {},
   "outputs": [
    {
     "name": "stdout",
     "output_type": "stream",
     "text": [
      "Sum of Even 60300\n",
      "Count of odd 200\n"
     ]
    }
   ],
   "source": [
    "e=o=0\n",
    "for i in range(100,500+1):\n",
    "    if i%2==0:\n",
    "        e+=i\n",
    "    else:\n",
    "        o+=1\n",
    "print(\"Sum of Even\",e)\n",
    "print(\"Count of odd\",o)"
   ]
  },
  {
   "cell_type": "code",
   "execution_count": null,
   "id": "aeede247-b8de-4536-bb0f-ebfa2431e5c3",
   "metadata": {},
   "outputs": [],
   "source": []
  }
 ],
 "metadata": {
  "kernelspec": {
   "display_name": "Python 3 (ipykernel)",
   "language": "python",
   "name": "python3"
  },
  "language_info": {
   "codemirror_mode": {
    "name": "ipython",
    "version": 3
   },
   "file_extension": ".py",
   "mimetype": "text/x-python",
   "name": "python",
   "nbconvert_exporter": "python",
   "pygments_lexer": "ipython3",
   "version": "3.12.9"
  }
 },
 "nbformat": 4,
 "nbformat_minor": 5
}
