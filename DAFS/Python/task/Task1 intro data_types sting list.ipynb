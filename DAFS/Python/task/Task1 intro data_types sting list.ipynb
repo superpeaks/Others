{
 "cells": [
  {
   "cell_type": "markdown",
   "id": "ba238766-6cb5-459c-b139-9fd0f6c1c991",
   "metadata": {},
   "source": [
    "# ***TASK 1***"
   ]
  },
  {
   "cell_type": "markdown",
   "id": "20632f9f-dca8-423b-b1df-ad7daf773d09",
   "metadata": {},
   "source": [
    "## *WHAT IS PYTHON?*\n",
    "\n",
    "    Python is a high-level, interpreted programming language known for its simplicity and readability. It’s widely used in web development, data science, AI, automation, and more.\n",
    "Why Python?\n",
    "\n",
    "    Easy to Learn: Its simple syntax makes it great for beginners.\n",
    "\n",
    "    Versatile: Works for web apps, machine learning, scripting, and more.\n",
    "\n",
    "    Huge Community: Tons of support, libraries, and frameworks available."
   ]
  },
  {
   "cell_type": "markdown",
   "id": "fd4963ff-741f-489f-a2c9-633db3b555f0",
   "metadata": {},
   "source": [
    "# --------------------------------------------------------------------------------------------------------------------"
   ]
  },
  {
   "cell_type": "markdown",
   "id": "458c4629-9ce9-4027-9c5b-cc4cf7366863",
   "metadata": {},
   "source": [
    " Advantages os python\n",
    "\n",
    "Python has many advantages, making it one of the most popular programming languages. Here are some key benefits:\n",
    "\n",
    " 1. Easy to Learn & Use\n",
    "Python has a simple and readable syntax, making it beginner-friendly. It feels more like writing in plain English compared to other programming languages.\n",
    "\n",
    " 2. Versatile & Multi-Purpose\n",
    "You can use Python for web development, data science, machine learning, game development, automation, cybersecurity, and much more. \n",
    "\n",
    " 3. Huge Library Support\n",
    "Python has an extensive collection of built-in libraries and frameworks like NumPy, Pandas, TensorFlow, Django, Flask, and OpenCV, which help developers work efficiently.\n",
    "\n",
    " 4. Cross-Platform Compatibility\n",
    "Python runs on Windows, macOS, Linux, and even mobile devices, making it flexible for different projects.\n",
    "\n",
    " 5. Large Community & Support\n",
    "With millions of developers using Python, there's a vast amount of documentation, tutorials, and forums for troubleshooting and learning.\n",
    "\n",
    " 6. Strong Integration & Extensibility\n",
    "Python can work alongside C, C++, Java, and other languages, allowing developers to extend its functionalities.\n",
    "\n",
    " 7. Great for Automation\n",
    "Python makes task automation easy, helping businesses streamline processes like data handling, web scraping, and system management.\n",
    "\n",
    " 8. Used in AI & Machine Learning\n",
    "Python is widely used in artificial intelligence, deep learning, and data science, thanks to its powerful libraries like TensorFlow and PyTorch.\n",
    "\n",
    " 9. Excellent for Rapid Development\n",
    "Due to its high-level syntax, Python enables faster development and debugging, making it ideal for both startups and large enterprises."
   ]
  },
  {
   "cell_type": "markdown",
   "id": "b0acf8c3-e271-466a-8926-a800e604f6ee",
   "metadata": {},
   "source": [
    "# --------------------------------------------------------------------------------------------------------------------"
   ]
  },
  {
   "cell_type": "markdown",
   "id": "cce4718a-8ef5-4c85-baaf-7d77ee67554d",
   "metadata": {},
   "source": [
    " Data Types in Python.\n",
    "\n",
    "Python has several built-in data types used to store different kinds of information. Here are the main ones:\n",
    "\n",
    " 1. Numeric Types\n",
    "- int (Integer) → Whole numbers like 10, -5, 1000\n",
    "- float (Floating-point) → Decimal numbers like 3.14, -0.5, 2.0\n",
    "- complex (Complex numbers) → Numbers with a real & imaginary part like 3+5j\n",
    "\n",
    " 2. Sequence Types\n",
    "- str (String) → Text data like \"Hello, Python!\"\n",
    "- list (List) → Ordered collection like [1, 2, \"apple\", 4.5]\n",
    "- tuple (Tuple) → Immutable ordered collection like (1, \"banana\", 2.5)\n",
    "\n",
    " 3. Set Types\n",
    "- set (Set) → Unordered collection with unique elements like {1, 2, 3, 3} → {1, 2, 3}\n",
    "- frozenset (Frozen Set) → Immutable set like frozenset([1, 2, 3])\n",
    "\n",
    " 4. Mapping Type\n",
    "- dict (Dictionary) → Key-value pairs like {\"name\": \"Alice\", \"age\": 25}\n",
    "\n",
    " 5. Boolean Type\n",
    "- bool (Boolean) → Logical values True or False\n",
    "\n",
    " 6. Binary Types\n",
    "- bytes → Immutable sequence of bytes\n",
    "- bytearray → Mutable sequence of bytes\n",
    "- memoryview → Memory buffer for binary objects"
   ]
  },
  {
   "cell_type": "markdown",
   "id": "0ee4afb7-4a7f-4f85-8b3e-7411684a3956",
   "metadata": {},
   "source": [
    "# --------------------------------------------------------------------------------------------------------------------"
   ]
  },
  {
   "cell_type": "markdown",
   "id": "cdddbee3-e617-4e7d-9c05-ece1a18b5304",
   "metadata": {},
   "source": [
    " Collectios of Data Types.\n",
    "\n",
    "In Python, collections are specialized data structures that store multiple values efficiently. Here are the main types of collections:\n",
    "\n",
    " 1. List (list)\n",
    "- Ordered, changeable, and allows duplicates.\n",
    "- Example:\n",
    "  python\n",
    "  fruits = [\"apple\", \"banana\", \"cherry\"]\n",
    "  \n",
    "\n",
    " 2. Tuple (tuple)\n",
    "- Ordered, but immutable (cannot be changed).\n",
    "- Example:\n",
    "  python\n",
    "  colors = (\"red\", \"green\", \"blue\")\n",
    "  \n",
    "\n",
    " 3. Set (set)\n",
    "- Unordered, unique elements (no duplicates).\n",
    "- Example:\n",
    "  python\n",
    "  numbers = {1, 2, 3, 4, 4}   Output: {1, 2, 3, 4}\n",
    "  \n",
    "\n",
    " 4. Dictionary (dict)\n",
    "- Stores data as key-value pairs.\n",
    "- Example:\n",
    "  python\n",
    "  student = {\"name\": \"Alice\", \"age\": 25, \"grade\": \"A\"}\n",
    "  \n",
    "\n",
    " 5. Collections Module\n",
    "Python provides advanced collection types through the collections module, including:\n",
    "- Counter – Counts occurrences in a collection.\n",
    "- OrderedDict – Dictionary that remembers order.\n",
    "- defaultdict – Dictionary with default values.\n",
    "- deque – A fast double-ended queue."
   ]
  },
  {
   "cell_type": "markdown",
   "id": "57e5bafb-a46b-413f-a1d4-84101dd10e12",
   "metadata": {},
   "source": [
    "# --------------------------------------------------------------------------------------------------------------------"
   ]
  },
  {
   "cell_type": "markdown",
   "id": "8b1e21be-7902-43c0-b61c-269b7fd87d2b",
   "metadata": {},
   "source": [
    " What is Mutable and Immutable?\n",
    "\n",
    "In Python, mutable and immutable refer to whether an object can be changed after it is created.\n",
    "\n",
    " 1. Mutable Objects (Can be modified)\n",
    "- These objects allow modifications after creation.\n",
    "- Examples:\n",
    "  - Lists (list) → my_list = [1, 2, 3]\n",
    "  - Dictionaries (dict) → my_dict = {\"name\": \"Alice\", \"age\": 25}\n",
    "  - Sets (set) → my_set = {1, 2, 3}\n",
    "\n",
    " 2. Immutable Objects (Cannot be changed)\n",
    "- Once created, their values cannot be modified.\n",
    "- Examples:\n",
    "  - Strings (str) → \"hello\"\n",
    "  - Tuples (tuple) → (1, 2, 3)\n",
    "  - Numbers (int, float) → x = 10\n",
    "  - Frozen Sets (frozenset) → frozenset([1, 2, 3])\n",
    "\n",
    " Example: Mutable vs Immutable\n",
    "python\n",
    " Mutable (List can be changed)\n",
    "my_list = [1, 2, 3]\n",
    "my_list.append(4)   Now my_list = [1, 2, 3, 4]\n",
    "\n",
    " Immutable (Tuple cannot be changed)\n",
    "my_tuple = (1, 2, 3)\n",
    "my_tuple[0] = 5   Error! Tuples cannot be modified\n",
    "\n",
    "\n",
    "Mutable objects are useful when you need dynamic changes, while immutable objects ensure stability and security in your code."
   ]
  },
  {
   "cell_type": "markdown",
   "id": "a23fb8bd-1401-44c9-8cce-b34f41153708",
   "metadata": {},
   "source": [
    "# --------------------------------------------------------------------------------------------------------------------"
   ]
  },
  {
   "cell_type": "markdown",
   "id": "9bab7f92-299d-4249-8161-92d96cb4f9a8",
   "metadata": {},
   "source": [
    "## **Properties of LIST.**\n",
    "\n",
    "A **list** in Python is an **ordered, mutable collection** used to store multiple items. It allows **duplicate values** and supports various operations like adding, removing, and sorting elements. Lists can store **different data types**, including numbers, strings, and even other lists.\n",
    "\n",
    "### **Properties of Lists**\n",
    "1. **Ordered** → Items remain in a sequence.\n",
    "2. **Mutable** → You can modify elements.\n",
    "3. **Allows Duplicates** → Identical values can exist.\n",
    "4. **Dynamic Size** → Can grow or shrink.\n",
    "5. **Supports Different Data Types** → Works with numbers, strings, or other lists.\n",
    "\n",
    "### **Example of Creating a List**\n",
    "```python\n",
    "fruits = [\"apple\", \"banana\", \"cherry\"]\n",
    "print(fruits)  # Output: ['apple', 'banana', 'cherry']\n",
    "```\n",
    "\n",
    "### **Example of Modifying a List**\n",
    "```python\n",
    "numbers = [1, 2, 3]\n",
    "numbers.append(4)  # Adds 4 to the list\n",
    "numbers[1] = 10    # Changes second element\n",
    "print(numbers)  # Output: [1, 10, 3, 4]\n",
    "```\n",
    "\n",
    "### **Example of Sorting a List**\n",
    "```python\n",
    "my_list = [5, 3, 8, 1]\n",
    "my_list.sort()  # Sorts list: [1, 3, 5, 8]\n",
    "my_list.reverse()  # Reverses list: [8, 5, 3, 1]\n",
    "```\n",
    "\n",
    "Lists are **versatile and widely used** in Python for handling data efficiently."
   ]
  },
  {
   "cell_type": "markdown",
   "id": "a3cbdfbd-cf67-45d3-a94f-71cfff41d355",
   "metadata": {},
   "source": [
    "# --------------------------------------------------------------------------------------------------------------------"
   ]
  },
  {
   "cell_type": "markdown",
   "id": "82cbafbc-648a-4431-9a83-4258679e47ec",
   "metadata": {},
   "source": [
    "\n",
    " Case Changing\n",
    "- lower() – Converts all characters to lowercase.\n",
    "- upper() – Converts all characters to uppercase.\n",
    "- title() – Capitalizes the first letter of each word.\n",
    "- capitalize() – Capitalizes the first letter of the string.\n",
    "- swapcase() – Swaps uppercase and lowercase characters.\n",
    "\n",
    " String Formatting\n",
    "- format() – Formats the string with specified values.\n",
    "- f-string – An alternative to format(), used like f\"Hello {name}\".\n",
    "\n",
    " Searching & Replacing\n",
    "- find(substring) – Returns the index of the first occurrence of substring.\n",
    "- index(substring) – Similar to find(), but raises an error if not found.\n",
    "- replace(old, new) – Replaces occurrences of old with new.\n",
    "- count(substring) – Counts the number of occurrences of substring.\n",
    "- startswith(substring) – Returns True if the string starts with substring.\n",
    "- endswith(substring) – Returns True if the string ends with substring.\n",
    "\n",
    " Splitting & Joining\n",
    "- split(separator) – Splits the string into a list.\n",
    "- rsplit(separator, maxsplit) – Splits from the right with a limit.\n",
    "- partition(substring) – Splits into three parts: before, match, after.\n",
    "- rpartition(substring) – Same as partition(), but starts from the right.\n",
    "- splitlines() – Splits at newlines.\n",
    "- join(iterable) – Joins elements with the string as a separator.\n",
    "\n",
    " Whitespace & Padding\n",
    "- strip() – Removes leading and trailing whitespace.\n",
    "- lstrip() – Removes leading whitespace.\n",
    "- rstrip() – Removes trailing whitespace.\n",
    "- center(width, fillchar) – Centers the string with padding.\n",
    "- ljust(width, fillchar) – Left-aligns with padding.\n",
    "- rjust(width, fillchar) – Right-aligns with padding.\n",
    "- expandtabs(tabsize) – Converts tabs to spaces.\n",
    "\n",
    " Character Checking\n",
    "- isalnum() – Checks if all characters are alphanumeric.\n",
    "- isalpha() – Checks if all characters are alphabets.\n",
    "- isdigit() – Checks if all characters are digits.\n",
    "- isdecimal() – Checks if all characters are decimal numbers.\n",
    "- isnumeric() – Checks if all characters are numeric.\n",
    "- isidentifier() – Checks if the string is a valid Python identifier.\n",
    "- islower() – Checks if all characters are lowercase.\n",
    "- isupper() – Checks if all characters are uppercase.\n",
    "- isspace() – Checks if all characters are whitespace.\n",
    "- istitle() – Checks if the string is in title case.\n",
    "\n",
    " Encoding & Decoding\n",
    "- encode(encoding) – Encodes the string.\n",
    "- decode(encoding) – Decodes the string (for byte objects).\n",
    "\n",
    " Other Useful Methods\n",
    "- maketrans() – Creates a translation table for translate().\n",
    "- translate(table) – Translates characters using a translation table.\n",
    "- zfill(width) – Pads the string with leading zeros."
   ]
  },
  {
   "cell_type": "markdown",
   "id": "d4231306-e7c4-4169-8553-e7c402cb31e5",
   "metadata": {},
   "source": [
    "# --------------------------------------------------------------------------------------------------------------------"
   ]
  },
  {
   "cell_type": "markdown",
   "id": "aa77a316-d198-4b9e-a536-a08f2b95c9bb",
   "metadata": {},
   "source": [
    "## List"
   ]
  },
  {
   "cell_type": "markdown",
   "id": "e23dfb86-3223-4213-9a6d-31d17c8fdd33",
   "metadata": {},
   "source": [
    "Create a List"
   ]
  },
  {
   "cell_type": "code",
   "execution_count": 34,
   "id": "ae659ed3-aa54-4e1b-8470-9de60eafbb99",
   "metadata": {},
   "outputs": [],
   "source": [
    "course = ['python', ' powerbi', 'sql']"
   ]
  },
  {
   "cell_type": "markdown",
   "id": "8d0c0c56-8b19-49e8-a42f-9bf1903a1ca0",
   "metadata": {},
   "source": [
    "### a. Add ml in the list"
   ]
  },
  {
   "cell_type": "code",
   "execution_count": 35,
   "id": "7b387e3d-ac08-45fa-b05d-7f9ecc1475c6",
   "metadata": {},
   "outputs": [],
   "source": [
    "course.append('ml')"
   ]
  },
  {
   "cell_type": "code",
   "execution_count": 36,
   "id": "1c994e25-fefa-46f9-9af3-0284023c3381",
   "metadata": {},
   "outputs": [
    {
     "data": {
      "text/plain": [
       "['python', ' powerbi', 'sql', 'ml']"
      ]
     },
     "execution_count": 36,
     "metadata": {},
     "output_type": "execute_result"
    }
   ],
   "source": [
    "course"
   ]
  },
  {
   "cell_type": "markdown",
   "id": "cecb80df-696f-4884-98fa-f6f93b3da2b5",
   "metadata": {},
   "source": [
    "### b. Add dl and ai in the list"
   ]
  },
  {
   "cell_type": "code",
   "execution_count": 37,
   "id": "3ebf615b-63ef-46ca-a6f6-f03a0dad4b79",
   "metadata": {},
   "outputs": [],
   "source": [
    "course.extend(['dl', 'ai'])"
   ]
  },
  {
   "cell_type": "code",
   "execution_count": 38,
   "id": "32ff68c0-487e-42e5-936d-c55874e01d3e",
   "metadata": {},
   "outputs": [
    {
     "data": {
      "text/plain": [
       "['python', ' powerbi', 'sql', 'ml', 'dl', 'ai']"
      ]
     },
     "execution_count": 38,
     "metadata": {},
     "output_type": "execute_result"
    }
   ],
   "source": [
    "course"
   ]
  },
  {
   "cell_type": "markdown",
   "id": "8f0ed309-ddd2-4ccd-bd44-c969db92ee02",
   "metadata": {},
   "source": [
    "### c. Add 1000 in between sql and ml"
   ]
  },
  {
   "cell_type": "code",
   "execution_count": 39,
   "id": "326f39e9-e56c-425d-9688-b2f3a302d994",
   "metadata": {},
   "outputs": [],
   "source": [
    "course.insert(3, 1000)"
   ]
  },
  {
   "cell_type": "code",
   "execution_count": 40,
   "id": "a75c5ad5-05cb-46f6-9db2-781900b3a718",
   "metadata": {},
   "outputs": [
    {
     "data": {
      "text/plain": [
       "['python', ' powerbi', 'sql', 1000, 'ml', 'dl', 'ai']"
      ]
     },
     "execution_count": 40,
     "metadata": {},
     "output_type": "execute_result"
    }
   ],
   "source": [
    "course"
   ]
  },
  {
   "cell_type": "markdown",
   "id": "daa9a0f7-8f45-486f-a533-8420bd0c37d3",
   "metadata": {},
   "source": [
    "### d. Remove 1000 from list"
   ]
  },
  {
   "cell_type": "code",
   "execution_count": 41,
   "id": "3214316f-9873-40ff-bfa0-d73fc44c3e7c",
   "metadata": {},
   "outputs": [],
   "source": [
    "course.remove(1000)"
   ]
  },
  {
   "cell_type": "code",
   "execution_count": 42,
   "id": "258be600-cc41-4cdf-ba01-d0c71d13f719",
   "metadata": {},
   "outputs": [
    {
     "data": {
      "text/plain": [
       "['python', ' powerbi', 'sql', 'ml', 'dl', 'ai']"
      ]
     },
     "execution_count": 42,
     "metadata": {},
     "output_type": "execute_result"
    }
   ],
   "source": [
    "course"
   ]
  },
  {
   "cell_type": "markdown",
   "id": "f46ca98e-cd11-4a75-8848-f676039e994d",
   "metadata": {},
   "source": [
    "### e. Remove Third Index Element"
   ]
  },
  {
   "cell_type": "code",
   "execution_count": 43,
   "id": "de11578c-b1b9-4a60-a615-f5c3504c9152",
   "metadata": {},
   "outputs": [
    {
     "data": {
      "text/plain": [
       "'sql'"
      ]
     },
     "execution_count": 43,
     "metadata": {},
     "output_type": "execute_result"
    }
   ],
   "source": [
    "course.pop(2)"
   ]
  },
  {
   "cell_type": "code",
   "execution_count": 44,
   "id": "f2f60b74-c7f1-44d2-8713-c2e9caae0c97",
   "metadata": {
    "scrolled": true
   },
   "outputs": [
    {
     "data": {
      "text/plain": [
       "['python', ' powerbi', 'ml', 'dl', 'ai']"
      ]
     },
     "execution_count": 44,
     "metadata": {},
     "output_type": "execute_result"
    }
   ],
   "source": [
    "course"
   ]
  },
  {
   "cell_type": "markdown",
   "id": "47537fe2-c751-4913-8693-c517127612e6",
   "metadata": {},
   "source": [
    "### f. Clear the list"
   ]
  },
  {
   "cell_type": "code",
   "execution_count": 45,
   "id": "e0ecba53-fe7b-4655-a588-e81579aca3e5",
   "metadata": {},
   "outputs": [],
   "source": [
    "course.clear()"
   ]
  },
  {
   "cell_type": "code",
   "execution_count": 46,
   "id": "00d7926d-41a8-46a5-946b-fc81b057c186",
   "metadata": {},
   "outputs": [
    {
     "data": {
      "text/plain": [
       "[]"
      ]
     },
     "execution_count": 46,
     "metadata": {},
     "output_type": "execute_result"
    }
   ],
   "source": [
    "course"
   ]
  },
  {
   "cell_type": "markdown",
   "id": "36a0a0f3-54e8-4322-b00c-90abfcf1f9b2",
   "metadata": {},
   "source": [
    "# --------------------------------------------------------------------------------------------------------------------"
   ]
  },
  {
   "cell_type": "markdown",
   "id": "9cff18db-4f5d-4655-ad92-6d84ccad84f5",
   "metadata": {
    "jp-MarkdownHeadingCollapsed": true
   },
   "source": [
    " Differnce between remove and pop in list method\n",
    "\n",
    "The difference between remove() and pop() in Python lists is:\n",
    "\n",
    " 1. remove(value)\n",
    "- Deletes the first occurrence of the specified element.\n",
    "- If the element does not exist, it raises an error.\n",
    "- Does not return the removed item.\n",
    "\n",
    " Example:\n",
    "python\n",
    "numbers = [1, 2, 3, 4, 2]\n",
    "numbers.remove(2)   Removes the FIRST '2'\n",
    "print(numbers)   Output: [1, 3, 4, 2]\n",
    "\n",
    "\n",
    "---\n",
    "\n",
    " 2. pop(index)\n",
    "- Removes the element at the given index.\n",
    "- If no index is given, it removes the last element.\n",
    "- Returns the removed item.\n",
    "\n",
    " Example:\n",
    "python\n",
    "numbers = [10, 20, 30, 40]\n",
    "removed_item = numbers.pop(2)   Removes element at index 2 (30)\n",
    "print(numbers)   Output: [10, 20, 40]\n",
    "print(removed_item)   Output: 30\n",
    "\n",
    "\n",
    "\n",
    "\n",
    " Difference between append and expand\n",
    "\n",
    " 1. append(item)\n",
    "- Adds a single element to the end of the list.\n",
    "- If you append a list, it becomes a nested list.\n",
    "\n",
    " Example:\n",
    "python\n",
    "numbers = [1, 2, 3]\n",
    "numbers.append([4, 5])   Adding a LIST inside\n",
    "print(numbers)   Output: [1, 2, 3, [4, 5]]  (Nested List)\n",
    "\n",
    "\n",
    "---\n",
    "\n",
    " 2. extend(iterable)\n",
    "- Adds multiple elements (like another list) to the existing list.\n",
    "- Does NOT create a nested list.\n",
    "\n",
    " Example:\n",
    "python\n",
    "numbers = [1, 2, 3]\n",
    "numbers.extend([4, 5])   Adds individual elements\n",
    "print(numbers)   Output: [1, 2, 3, 4, 5]\n",
    "\n"
   ]
  },
  {
   "cell_type": "markdown",
   "id": "eb9ca016-78be-43a9-8f29-7ac3eeb035f6",
   "metadata": {},
   "source": [
    "# --------------------------------------------------------------------------------------------------------------------"
   ]
  },
  {
   "cell_type": "markdown",
   "id": "93150514-0a2a-4622-b698-2a9bdebcb30e",
   "metadata": {},
   "source": []
  },
  {
   "cell_type": "markdown",
   "id": "4bad0867-c0e8-4af7-abb3-3e2a34c14109",
   "metadata": {},
   "source": [
    "# --------------------------------------------------------------------------------------------------------------------"
   ]
  }
 ],
 "metadata": {
  "kernelspec": {
   "display_name": "Python 3 (ipykernel)",
   "language": "python",
   "name": "python3"
  },
  "language_info": {
   "codemirror_mode": {
    "name": "ipython",
    "version": 3
   },
   "file_extension": ".py",
   "mimetype": "text/x-python",
   "name": "python",
   "nbconvert_exporter": "python",
   "pygments_lexer": "ipython3",
   "version": "3.12.9"
  }
 },
 "nbformat": 4,
 "nbformat_minor": 5
}
