{
 "cells": [
  {
   "cell_type": "code",
   "execution_count": 1,
   "id": "05e64a90-1f56-4c46-a2b5-5d0106969607",
   "metadata": {},
   "outputs": [
    {
     "ename": "SyntaxError",
     "evalue": "invalid syntax (2564117857.py, line 1)",
     "output_type": "error",
     "traceback": [
      "  \u001b[36mCell\u001b[39m\u001b[36m \u001b[39m\u001b[32mIn[1]\u001b[39m\u001b[32m, line 1\u001b[39m\n\u001b[31m    \u001b[39m\u001b[31mlambda fn\u001b[39m\n             ^\n\u001b[31mSyntaxError\u001b[39m\u001b[31m:\u001b[39m invalid syntax\n"
     ]
    }
   ],
   "source": [
    "# lambda fn:\n",
    "# annonyms function which used to write simple function in one line."
   ]
  },
  {
   "cell_type": "code",
   "execution_count": 2,
   "id": "c4cb0fef-0a56-48e7-93a5-408ac3a82714",
   "metadata": {},
   "outputs": [
    {
     "name": "stdout",
     "output_type": "stream",
     "text": [
      "Object `fn` not found.\n"
     ]
    }
   ],
   "source": [
    "# Syntax for lambda fn?\n",
    "# variable = lambda arggs : expression"
   ]
  },
  {
   "cell_type": "code",
   "execution_count": 23,
   "id": "ab39ef2d-3ccc-40a2-984c-3f03c0e6630b",
   "metadata": {
    "scrolled": true
   },
   "outputs": [
    {
     "name": "stdout",
     "output_type": "stream",
     "text": [
      "33\n"
     ]
    }
   ],
   "source": [
    "val = [1,2,33,4,5,6,7]\n",
    "def larger(val):\n",
    "    largert=0\n",
    "    for i in val:\n",
    "        # num = int(input(f\"Enter the num {i+1}\"))\n",
    "        if i>largert:\n",
    "            largert = i\n",
    "    print(largert)\n",
    "\n",
    "larger(val)\n"
   ]
  },
  {
   "cell_type": "code",
   "execution_count": 20,
   "id": "d9a4021f-96d7-49d5-90b6-87a80a6c44de",
   "metadata": {},
   "outputs": [],
   "source": [
    "import pandas as pd"
   ]
  },
  {
   "cell_type": "code",
   "execution_count": null,
   "id": "e0c78027-f3c2-416e-ac4f-1b2dd188c744",
   "metadata": {},
   "outputs": [],
   "source": [
    "df = pd.read_csv(\"\")"
   ]
  }
 ],
 "metadata": {
  "kernelspec": {
   "display_name": "Python 3 (ipykernel)",
   "language": "python",
   "name": "python3"
  },
  "language_info": {
   "codemirror_mode": {
    "name": "ipython",
    "version": 3
   },
   "file_extension": ".py",
   "mimetype": "text/x-python",
   "name": "python",
   "nbconvert_exporter": "python",
   "pygments_lexer": "ipython3",
   "version": "3.12.9"
  }
 },
 "nbformat": 4,
 "nbformat_minor": 5
}
