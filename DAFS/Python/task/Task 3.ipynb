{
 "cells": [
  {
   "cell_type": "code",
   "execution_count": null,
   "id": "8e967d06-a7d5-48cd-9ac9-4c8fd42661a2",
   "metadata": {},
   "outputs": [],
   "source": []
  },
  {
   "cell_type": "markdown",
   "id": "c512ae5b-b619-4922-855c-1f42a38a5679",
   "metadata": {},
   "source": [
    " What is Nested if in python?\n",
    "\n",
    "In Python, a nested if statement is an if statement inside another if statement. It allows you to check multiple conditions sequentially. If the outer if condition is True, then the inner if condition is evaluated.\n",
    "\n",
    "Here's an example:\n",
    "\n",
    "python\n",
    "x = 10\n",
    "\n",
    "if x > 5:  # Outer if statement\n",
    "    print(\"x is greater than 5\")\n",
    "    if x > 8:  # Nested if statement\n",
    "        print(\"x is also greater than 8\")\n",
    "    else:\n",
    "        print(\"x is not greater than 8\")\n",
    "else:\n",
    "    print(\"x is 5 or less\")\n",
    "\n",
    "\n",
    " Explanation:\n",
    "1. The program first checks if x > 5. Since x = 10, the condition is True.\n",
    "2. Inside the outer if, it checks if x > 8. Since 10 > 8, it prints \"x is also greater than 8\".\n",
    "3. If x were less than or equal to 8, it would execute the else block of the nested if.\n",
    "\n",
    "Nested if statements are useful when you need to test multiple conditions in a structured way, but excessive nesting can make code harder to read. If you find your conditions becoming too deep, consider using elif or logical operators (and, or) to simplify your code."
   ]
  },
  {
   "cell_type": "markdown",
   "id": "02c43062-d786-4a8e-a8c8-742d10e11127",
   "metadata": {},
   "source": [
    " Difference Between Nested if and elif.\n",
    "\n",
    "The main difference between nested if and elif in Python lies in how they handle multiple conditions:\n",
    "\n",
    " 1. Nested if Statements:\n",
    "- An if statement inside another if statement.\n",
    "- If the outer condition is True, only then is the inner condition checked.\n",
    "- Used when conditions depend on each other.\n",
    "\n",
    "Example of nested if:\n",
    "python\n",
    "x = 10\n",
    "\n",
    "if x > 5:  \n",
    "    print(\"x is greater than 5\")\n",
    "    if x > 8:  \n",
    "        print(\"x is also greater than 8\")\n",
    "\n",
    "Here, the second condition (x > 8) is only checked if x > 5 is True.\n",
    "\n",
    "---\n",
    "\n",
    " 2. elif Statements:\n",
    "- elif means \"else if\" and is used to check multiple independent conditions sequentially.\n",
    "- If one if or elif condition is True, the remaining conditions are skipped.\n",
    "- Used when multiple options exist, but only one should execute.\n",
    "\n",
    "Example of elif:\n",
    "python\n",
    "x = 10\n",
    "\n",
    "if x > 15:\n",
    "    print(\"x is greater than 15\")\n",
    "elif x > 10:\n",
    "    print(\"x is greater than 10 but not 15\")\n",
    "elif x > 5:\n",
    "    print(\"x is greater than 5 but not 10\")\n",
    "else:\n",
    "    print(\"x is 5 or less\")\n",
    "\n"
   ]
  },
  {
   "cell_type": "code",
   "execution_count": 5,
   "id": "c45f906e-1c6c-42ed-ba53-c36a523a70a6",
   "metadata": {},
   "outputs": [
    {
     "name": "stdin",
     "output_type": "stream",
     "text": [
      "Number: 77\n"
     ]
    },
    {
     "name": "stdout",
     "output_type": "stream",
     "text": [
      "+ve\n",
      "Also it can div by 7\n"
     ]
    }
   ],
   "source": [
    "# --- +ve -ve %7\n",
    "num = int(input(\"Number:\"))\n",
    "if num>0:\n",
    "    print(\"+ve\")\n",
    "    if num%7==0:\n",
    "        print(\"Also it can div by 7\")\n",
    "    else:\n",
    "        print(\"But it cannot div by 7\")\n",
    "elif num==0:\n",
    "    print(\"its zero\")\n",
    "else:\n",
    "    print(\"-ve\")\n"
   ]
  },
  {
   "cell_type": "code",
   "execution_count": 9,
   "id": "6d4126b3-09b7-4d2a-b23c-f0ffb01bd389",
   "metadata": {},
   "outputs": [
    {
     "name": "stdin",
     "output_type": "stream",
     "text": [
      "Number: 8\n"
     ]
    },
    {
     "name": "stdout",
     "output_type": "stream",
     "text": [
      "it cannot div by 5 and 7\n"
     ]
    }
   ],
   "source": [
    "# --- %7 and 5\n",
    "num = int(input(\"Number:\"))\n",
    "if num%7==0 and num%5==0:\n",
    "    print(\"We can div by 5 and 7\")\n",
    "elif num%7==0:\n",
    "    print(\"it can div by 7\")\n",
    "elif num%5==0:\n",
    "    print(\"it can div by 5\")\n",
    "else:\n",
    "    print(\"it cannot div by 5 and 7\")"
   ]
  },
  {
   "cell_type": "code",
   "execution_count": 34,
   "id": "9d1e3aeb-b985-4db4-84af-16d66e82df4b",
   "metadata": {},
   "outputs": [
    {
     "name": "stdin",
     "output_type": "stream",
     "text": [
      "Enter the course DA,DS,CLOUD,PYFS,JYFS da\n"
     ]
    },
    {
     "name": "stdout",
     "output_type": "stream",
     "text": [
      "Fees for DA is rs.45000.0\n"
     ]
    }
   ],
   "source": [
    "[fees,da,ds,cloud,pyfs,jyfs] = [50000,0.90,0.98,0.94,0.93,0.94]\n",
    "c = str(input(\"Enter the course \"+ \"da,ds,cloud,pyfs,jyfs\".upper()))\n",
    "if c.lower() == 'da':\n",
    "    print(\"Fees for \" + c.upper()+\" is rs.\" + str(fees*da))\n",
    "elif c.lower() == 'ds':\n",
    "    print(\"Fees for \" + c.upper()+\" is rs.\" + str(fees*ds))\n",
    "elif c.lower() == 'cloud':\n",
    "    print(\"Fees for \" + c.upper()+\" is rs.\" + str(fees*cloud))\n",
    "elif c.lower() == 'pyfs':\n",
    "    print(\"Fees for \" + c.upper()+\" is rs.\" + str(fees*pyfs))\n",
    "elif c.lower() == 'jyfs':\n",
    "    print(\"Fees for \" + c.upper()+\" is rs.\" + str(fees*jyfs))\n",
    "else:\n",
    "    print(\"Please enter the correct course\")"
   ]
  },
  {
   "cell_type": "code",
   "execution_count": 6,
   "id": "998028e7-6c7d-4e5e-9583-0af9cfbc3452",
   "metadata": {},
   "outputs": [
    {
     "name": "stdin",
     "output_type": "stream",
     "text": [
      "Enter the District kuhrgk\n"
     ]
    },
    {
     "name": "stdout",
     "output_type": "stream",
     "text": [
      "There is no charity in this district\n"
     ]
    }
   ],
   "source": [
    "# Charity donate\n",
    "dist = str(input(\"Enter the District\"))\n",
    "\n",
    "if dist.lower() == \"chennai\":\n",
    "    city = str(input(\"Enter the city\"))\n",
    "    if city.lower()==\"guindy\":\n",
    "        print(\"Donate rice\")\n",
    "    elif city.lower()=='thambaram':\n",
    "        print(\"Donate Books\")\n",
    "    elif city.lower()=='kk nagar':\n",
    "        print(\"Donate Cloths\")\n",
    "    else:\n",
    "        print('There is no charity in this area')\n",
    "elif dist.lower()=='madurai':\n",
    "    city = str(input(\"Enter the city\"))\n",
    "    if city.lower()=='kk nagar':\n",
    "        print(\"Donate 5% sallary\")\n",
    "    elif city.lower()=='periyar bustand':\n",
    "        print(\"Donate food\")\n",
    "    else:\n",
    "        print('There is no charity in this area')\n",
    "else:\n",
    "    print('There is no charity in this district')"
   ]
  },
  {
   "cell_type": "code",
   "execution_count": 10,
   "id": "5f345d72-ab03-4e38-9f90-f9bc5ca56f7b",
   "metadata": {},
   "outputs": [
    {
     "name": "stdin",
     "output_type": "stream",
     "text": [
      "Enter the Brand tata\n",
      "Enter the Model curvv\n"
     ]
    },
    {
     "name": "stdout",
     "output_type": "stream",
     "text": [
      "Price: Tata Curvv – ₹10.00 Lakh\n",
      "Congrats you have 20% discount on this now the final price is 8.0 Lakh\n"
     ]
    }
   ],
   "source": [
    "# Brand model cars\n",
    "\n",
    "brand = str(input(\"Enter the Brand\"))\n",
    "\n",
    "if brand.lower() == 'ford':\n",
    "    model = str(input(\"Enter the Model\"))\n",
    "    if model.lower()=='endeavour':\n",
    "        print(\"Price: Ford Endeavour – ₹50 Lakh\")\n",
    "    elif model.lower()=='ecosport':\n",
    "        print(\"Price: Ford EcoSport 2050 – ₹8.20 Lakh\")\n",
    "    else:\n",
    "        print(\"Please go to other Brand/Model\")\n",
    "elif brand.lower()=='tata':\n",
    "    model = str(input(\"Enter the Model\"))\n",
    "    if model.lower()=='nexon':\n",
    "        print(\"Price: Tata Nexon – ₹8.00 Lakh\")\n",
    "    elif model.lower()==\"curvv\":\n",
    "        print(\"Price: Tata Curvv – ₹10.00 Lakh\")\n",
    "        print(\"Congrats you have 20% discount on this now the final price is \" + str(10*0.8)+\" Lakh\")\n",
    "    elif model.lower()==\"tiago\":\n",
    "        print(\"Price: Tata Tiago – ₹5.00 Lakh\")\n",
    "    else:\n",
    "        print(\"Please go to other Brand/Model\")\n",
    "elif brand.lower()=='hyundai':\n",
    "    model = str(input(\"Enter the Model\"))\n",
    "    if model.lower()==\"i20\":\n",
    "        print(\"Price: Hyundai i20 – ₹7.04 Lakh\")\n",
    "    elif model.lower()==\"creta\":\n",
    "        print(\"Price: Hyundai Creta – ₹11.11 Lakh\")\n",
    "    elif model.lower()==\"verna\":\n",
    "        print(\"Price: Hyundai Verna – ₹11.07 Lakh\")\n",
    "    else:\n",
    "        print(\"Please go to other Brand/Model\")\n",
    "else:\n",
    "    print(\"We donnot sell other Brands\")\n"
   ]
  },
  {
   "cell_type": "code",
   "execution_count": 15,
   "id": "fe1b3610-3685-452a-87c6-1d72fab2229c",
   "metadata": {},
   "outputs": [
    {
     "name": "stdin",
     "output_type": "stream",
     "text": [
      "Enter the Num1 10\n",
      "Enter the Num2 50\n"
     ]
    },
    {
     "name": "stdout",
     "output_type": "stream",
     "text": [
      "Num2 is largest\n"
     ]
    }
   ],
   "source": [
    "# Big number\n",
    "\n",
    "num1 = int(input(\"Enter the Num1\"))\n",
    "num2 = int(input(\"Enter the Num2\"))\n",
    "if num1!=num2:\n",
    "    if num1 > num2:\n",
    "        print(\"Num1 is largest\")\n",
    "    else:\n",
    "        print(\"Num2 is largest\")\n",
    "else:\n",
    "    print(\"Both Num are same\")"
   ]
  }
 ],
 "metadata": {
  "kernelspec": {
   "display_name": "Python 3 (ipykernel)",
   "language": "python",
   "name": "python3"
  },
  "language_info": {
   "codemirror_mode": {
    "name": "ipython",
    "version": 3
   },
   "file_extension": ".py",
   "mimetype": "text/x-python",
   "name": "python",
   "nbconvert_exporter": "python",
   "pygments_lexer": "ipython3",
   "version": "3.12.9"
  }
 },
 "nbformat": 4,
 "nbformat_minor": 5
}
