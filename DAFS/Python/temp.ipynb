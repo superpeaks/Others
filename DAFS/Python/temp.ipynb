{
 "cells": [
  {
   "cell_type": "code",
   "execution_count": 6,
   "id": "820a13a7",
   "metadata": {},
   "outputs": [
    {
     "name": "stdout",
     "output_type": "stream",
     "text": [
      "Prime Number\n"
     ]
    }
   ],
   "source": [
    "def prime(num):\n",
    "    if num>1:\n",
    "        for i in range(2,num):\n",
    "            if num%i==0:\n",
    "                return \"Not Prime Number\"\n",
    "        else:\n",
    "            return \"Prime Number\"\n",
    "    else:\n",
    "        return \"Enter More Than 1\"\n",
    "    \n",
    "\n",
    "print(prime(151))"
   ]
  },
  {
   "cell_type": "code",
   "execution_count": 18,
   "id": "8d96f316",
   "metadata": {},
   "outputs": [
    {
     "name": "stdout",
     "output_type": "stream",
     "text": [
      "{1: 14, 2: 1, 3: 2, 5: 4, 8: 3, 0: 4, 6: 1, 4: 1}\n",
      "1 in 14 times\n",
      "{'m': 2, 'a': 7, 'd': 5}\n",
      "a in 7 times\n"
     ]
    }
   ],
   "source": [
    "word = 'maadddddaaaaam'\n",
    "num = [1,2,3,5,8,0,8,8,0,5,5,0,5,6,0,3,4,1,1,1,1,1,1,1,1,1,1,1,1,1]\n",
    "\n",
    "def frq(s):\n",
    "    di = {}\n",
    "    for i in s:\n",
    "        if i in di:\n",
    "            di[i] +=1\n",
    "        else:\n",
    "            di[i]=1\n",
    "    m=0\n",
    "    for k,v in di.items():\n",
    "        if v>m:\n",
    "            res,cout = k,v\n",
    "            m=v\n",
    "    print(di)\n",
    "    return f'{res} in {cout} times'\n",
    "\n",
    "print(frq(num))\n",
    "print(frq(word))"
   ]
  },
  {
   "cell_type": "code",
   "execution_count": 32,
   "id": "62b52acc",
   "metadata": {},
   "outputs": [
    {
     "name": "stdout",
     "output_type": "stream",
     "text": [
      "3628800\n"
     ]
    },
    {
     "data": {
      "text/plain": [
       "120"
      ]
     },
     "execution_count": 32,
     "metadata": {},
     "output_type": "execute_result"
    }
   ],
   "source": [
    "def fib(n):\n",
    "    res = 1\n",
    "    for i in range(2,n+1):\n",
    "        res *=i\n",
    "    print(res)\n",
    "fib(10)\n",
    "def rfeb(n):\n",
    "    if n==1:\n",
    "        return 1\n",
    "    else:\n",
    "        return n*rfeb(n-1)\n",
    "rfeb(5)\n"
   ]
  },
  {
   "cell_type": "code",
   "execution_count": 30,
   "id": "c86fe706",
   "metadata": {},
   "outputs": [
    {
     "name": "stdout",
     "output_type": "stream",
     "text": [
      "no palindrom\n",
      "palnidrom\n",
      "palnidrom\n"
     ]
    }
   ],
   "source": [
    "def wrev(w):\n",
    "    w = str(w)\n",
    "    rev = ''\n",
    "    for i in w:\n",
    "        rev = i+rev\n",
    "    if w==rev:\n",
    "        return \"palnidrom\"\n",
    "    else:\n",
    "        return \"no palindrom\"\n",
    "      \n",
    "print(wrev(1222225555))\n",
    "print(wrev('madam'))\n",
    "print(wrev(10101))"
   ]
  },
  {
   "cell_type": "code",
   "execution_count": null,
   "id": "62a5508e",
   "metadata": {},
   "outputs": [
    {
     "name": "stdout",
     "output_type": "stream",
     "text": [
      "* \n",
      "* * \n",
      "* * * \n",
      "* * * * \n",
      "* * * * * \n",
      "* * * * \n",
      "* * * \n",
      "* * \n",
      "* \n",
      " *\n",
      " * *\n",
      " * * *\n",
      " * * * *\n",
      " * * * * *\n",
      " * * * *\n",
      " * * *\n",
      " * *\n",
      " *\n"
     ]
    }
   ],
   "source": [
    "def star(n):\n",
    "    for i in range(1,n+1):\n",
    "        print('* '*i,end='\\n')\n",
    "    for i in range(n-1,0,-1):\n",
    "        print('* '*i,end='\\n')\n",
    "    for i in range(1,n+1):\n",
    "        print(' '*n)\n",
    "        print('*'*i,end='\\n')\n",
    "    for i in range(n-1,0,-1):\n",
    "        print(' *'*i,end='\\n')\n",
    "\n",
    "star(5)"
   ]
  },
  {
   "cell_type": "code",
   "execution_count": null,
   "id": "c5d93ff4",
   "metadata": {},
   "outputs": [],
   "source": []
  }
 ],
 "metadata": {
  "kernelspec": {
   "display_name": "base",
   "language": "python",
   "name": "python3"
  },
  "language_info": {
   "codemirror_mode": {
    "name": "ipython",
    "version": 3
   },
   "file_extension": ".py",
   "mimetype": "text/x-python",
   "name": "python",
   "nbconvert_exporter": "python",
   "pygments_lexer": "ipython3",
   "version": "3.12.7"
  }
 },
 "nbformat": 4,
 "nbformat_minor": 5
}
