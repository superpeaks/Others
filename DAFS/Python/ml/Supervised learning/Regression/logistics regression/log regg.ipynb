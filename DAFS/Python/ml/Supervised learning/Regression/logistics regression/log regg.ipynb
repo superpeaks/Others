{
 "cells": [
  {
   "cell_type": "code",
   "execution_count": 3,
   "id": "6bdd75e6",
   "metadata": {},
   "outputs": [],
   "source": [
    "# !pip install scikit-learn pandas matplotlib mord"
   ]
  },
  {
   "cell_type": "code",
   "execution_count": 4,
   "id": "da1d959a",
   "metadata": {},
   "outputs": [],
   "source": [
    "import pandas as pandas\n",
    "import numpy as np\n",
    "import seaborn as sns\n",
    "from sklearn import model_selection\n",
    "from sklearn.linear_model import LogisticRegression\n",
    "from sklearn.metrics import classification_report, confusion_matrix"
   ]
  },
  {
   "cell_type": "code",
   "execution_count": null,
   "id": "d84c0da0",
   "metadata": {},
   "outputs": [],
   "source": []
  }
 ],
 "metadata": {
  "kernelspec": {
   "display_name": ".venv (3.12.3)",
   "language": "python",
   "name": "python3"
  },
  "language_info": {
   "codemirror_mode": {
    "name": "ipython",
    "version": 3
   },
   "file_extension": ".py",
   "mimetype": "text/x-python",
   "name": "python",
   "nbconvert_exporter": "python",
   "pygments_lexer": "ipython3",
   "version": "3.12.3"
  }
 },
 "nbformat": 4,
 "nbformat_minor": 5
}
