{
 "cells": [
  {
   "cell_type": "code",
   "execution_count": 3,
   "id": "cdec9104",
   "metadata": {},
   "outputs": [
    {
     "ename": "AttributeError",
     "evalue": "'list' object has no attribute 'val'",
     "output_type": "error",
     "traceback": [
      "\u001b[31m---------------------------------------------------------------------------\u001b[39m",
      "\u001b[31mAttributeError\u001b[39m                            Traceback (most recent call last)",
      "\u001b[36mCell\u001b[39m\u001b[36m \u001b[39m\u001b[32mIn[3]\u001b[39m\u001b[32m, line 3\u001b[39m\n\u001b[32m      1\u001b[39m li = [\u001b[32m0\u001b[39m,\u001b[32m1\u001b[39m,\u001b[32m2\u001b[39m,\u001b[32m5\u001b[39m,\u001b[32m6\u001b[39m,\u001b[32m5\u001b[39m,\u001b[32m6\u001b[39m]\n\u001b[32m      2\u001b[39m val = \u001b[32m0\u001b[39m\n\u001b[32m----> \u001b[39m\u001b[32m3\u001b[39m val1 = \u001b[43mli\u001b[49m\u001b[43m.\u001b[49m\u001b[43mval\u001b[49m \u001b[38;5;28;01mif\u001b[39;00m li \u001b[38;5;28;01melse\u001b[39;00m \u001b[32m0\u001b[39m\n\u001b[32m      4\u001b[39m val1\n",
      "\u001b[31mAttributeError\u001b[39m: 'list' object has no attribute 'val'"
     ]
    }
   ],
   "source": [
    "li = [0,1,2,5,6,5,6]\n",
    "val = 0\n",
    "val1 = li.val if li else 0\n",
    "val1"
   ]
  },
  {
   "cell_type": "code",
   "execution_count": null,
   "id": "e2fc13cd",
   "metadata": {},
   "outputs": [],
   "source": [
    "# Definition for singly-linked list.\n",
    "class ListNode:\n",
    "    def __init__(self, val=0, next=None):\n",
    "        self.val = val\n",
    "        self.next = next\n",
    "class Solution:\n",
    "    def addTwoNumbers(self, l1: Optional[ListNode], l2: Optional[ListNode]) -> Optional[ListNode]:\n",
    "        "
   ]
  },
  {
   "cell_type": "code",
   "execution_count": 4,
   "id": "355c22c3",
   "metadata": {},
   "outputs": [
    {
     "name": "stdout",
     "output_type": "stream",
     "text": [
      "jdfbjbdfjvbdf\n"
     ]
    }
   ],
   "source": [
    "li = [1,2]\n",
    "while li:\n",
    "    print(\"jdfbjbdfjvbdf\")\n",
    "    break\n"
   ]
  },
  {
   "cell_type": "code",
   "execution_count": null,
   "id": "125ce8e9",
   "metadata": {},
   "outputs": [],
   "source": [
    "# Definition for singly-linked list.\n",
    "class ListNode:\n",
    "    def __init__(self, val=0, next=None):\n",
    "        self.val = val\n",
    "        self.next = next\n",
    "\n",
    "def addTwoNumbers(l1: ListNode, l2: ListNode) -> ListNode:\n",
    "    # Initialize dummy node to simplify the code\n",
    "    dummy_head = ListNode(0)\n",
    "    current = dummy_head\n",
    "    carry = 0\n",
    "    \n",
    "    # Loop through both linked lists\n",
    "    while l1 or l2 or carry:\n",
    "        # Get the current digits from each list (if available)\n",
    "        val1 = l1.val if l1 else 0\n",
    "        val2 = l2.val if l2 else 0\n",
    "        \n",
    "        # Add the values and the carry\n",
    "        total = val1 + val2 + carry\n",
    "        carry = total // 10  # Update carry for next iteration\n",
    "        current.next = ListNode(total % 10)  # Create a new node for the result\n",
    "        current = current.next  # Move to the next node\n",
    "        \n",
    "        # Move to the next nodes in l1 and l2 (if available)\n",
    "        if l1: l1 = l1.next\n",
    "        if l2: l2 = l2.next\n",
    "    \n",
    "    # Return the next of dummy head (as it was just a placeholder)\n",
    "    return dummy_head.next\n"
   ]
  }
 ],
 "metadata": {
  "kernelspec": {
   "display_name": ".venv (3.13.6)",
   "language": "python",
   "name": "python3"
  },
  "language_info": {
   "codemirror_mode": {
    "name": "ipython",
    "version": 3
   },
   "file_extension": ".py",
   "mimetype": "text/x-python",
   "name": "python",
   "nbconvert_exporter": "python",
   "pygments_lexer": "ipython3",
   "version": "3.13.6"
  }
 },
 "nbformat": 4,
 "nbformat_minor": 5
}
