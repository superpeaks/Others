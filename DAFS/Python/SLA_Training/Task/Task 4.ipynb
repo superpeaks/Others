{
 "cells": [
  {
   "cell_type": "markdown",
   "id": "15105931-036c-4e15-bb49-5e269d1f508c",
   "metadata": {
    "jp-MarkdownHeadingCollapsed": true
   },
   "source": [
    " for\n",
    "for loop in Python is a control flow statement that is used to repeat a block of code a specific number of times — typically iterating over a sequence like a list, tuple, string, or range.\n",
    "\n",
    "A for loop lets you go through each item in a sequence one by one and do something with it\n",
    "\n",
    "---\n",
    "\n",
    " Basic Structure:\n",
    "python\n",
    "for variable in sequence:\n",
    "     Code to repeat\n",
    "\n",
    "\n",
    "- variable takes the value of each item in the sequence one by one.\n",
    "- The indented block (inside the loop) gets executed each time.\n",
    "\n",
    "---\n",
    "\n",
    " Example 1: Loop through a list\n",
    "python\n",
    "fruits = [\"apple\", \"banana\", \"cherry\"]\n",
    "for fruit in fruits:\n",
    "    print(fruit)\n",
    "\n",
    "Output:\n",
    "\n",
    "apple\n",
    "banana\n",
    "cherry\n",
    "\n",
    "\n",
    "---\n",
    "\n",
    " Example 2: Loop using range()\n",
    "python\n",
    "for i in range(5):\n",
    "    print(i)\n",
    "\n",
    "Output:\n",
    "\n",
    "0\n",
    "1\n",
    "2\n",
    "3\n",
    "4\n",
    "\n",
    "> range(5) generates numbers from 0 up to (but not including) 5.\n",
    "\n",
    "---\n",
    "\n",
    " Why use a for loop?\n",
    "- To perform an action multiple times.\n",
    "- To access elements one by one from a collection.\n",
    "- To simplify repetitive tasks."
   ]
  },
  {
   "cell_type": "markdown",
   "id": "96e5da1c-caca-49df-a04c-12cddf9b9109",
   "metadata": {},
   "source": [
    " What is for...else?\n",
    "In Python, a for loop can have an else block.  \n",
    "- The else block runs after the for loop finishes normally (i.e., without being interrupted by a break statement).\n",
    "- If the loop is interrupted (for example, by a break), then the else part does not execute.\n",
    "\n",
    "---\n",
    "\n",
    " Basic Structure:\n",
    "python\n",
    "for item in sequence:\n",
    "     loop body\n",
    "    if condition:\n",
    "        break\n",
    "else:\n",
    "     else block\n",
    "\n",
    "\n",
    "---\n",
    "\n",
    " Example 1: No break — else runs\n",
    "python\n",
    "for num in range(5):\n",
    "    print(num)\n",
    "else:\n",
    "    print(\"Loop completed without a break.\")\n",
    "\n",
    "Output:\n",
    "\n",
    "0for hes all numbers from 0 to 4, so the else runs.\n",
    "\n",
    "---\n",
    "\n",
    " Example 2: With break — else does not run\n",
    "python\n",
    "for num in range(5):\n",
    "    if num == 3:\n",
    "        break\n",
    "    print(num)\n",
    "else:\n",
    "    print(\"Loop completed without a break.\")\n",
    "\n",
    "Output:\n",
    "\n",
    "0\n",
    "1\n",
    "2\n",
    "\n",
    "- When num becomes 3, the loop breaks.\n",
    "- So, the else block is skipped.\n",
    "\n",
    "---\n",
    "\n",
    " Real-World Example: Searching in a list\n",
    "python\n",
    "names = [\"Alice\", \"Bob\", \"Charlie\"]\n",
    "\n",
    "for name in names:\n",
    "    if name == \"David\":\n",
    "        print(\"David found!\")\n",
    "        break\n",
    "else:\n",
    "    print(\"David not found.\")\n",
    "\n",
    "Output:\n",
    "\n",
    "David not found.\n",
    "\n",
    "- We searched all names but didn't find \"David\", so else tells us.\n",
    "\n"
   ]
  },
  {
   "cell_type": "code",
   "execution_count": 1,
   "id": "257e2fe9-ad39-4b3f-877a-490702a14cff",
   "metadata": {},
   "outputs": [
    {
     "name": "stdout",
     "output_type": "stream",
     "text": [
      "23\n"
     ]
    }
   ],
   "source": [
    "num = [10,12,11,13,23]\n",
    "total = 0\n",
    "for i in num:\n",
    "    total +=i\n",
    "print(i)"
   ]
  },
  {
   "cell_type": "code",
   "execution_count": 2,
   "id": "86d87482-43cf-4135-a5a3-00bf0592e8d7",
   "metadata": {},
   "outputs": [
    {
     "name": "stdout",
     "output_type": "stream",
     "text": [
      "4\n"
     ]
    }
   ],
   "source": [
    "num1 = [5,6,7,56]\n",
    "count = 0\n",
    "for i in num1:\n",
    "    count +=1\n",
    "print(count)"
   ]
  },
  {
   "cell_type": "code",
   "execution_count": 3,
   "id": "c5932ab3-7ce5-4944-bea6-5e7e743828ab",
   "metadata": {},
   "outputs": [
    {
     "name": "stdout",
     "output_type": "stream",
     "text": [
      "[12, 16]\n"
     ]
    }
   ],
   "source": [
    "num3=[10,12,13,15,16]\n",
    "res = []\n",
    "for i in num3:\n",
    "    if i%4==0:\n",
    "        res.append(i)\n",
    "print(res)"
   ]
  },
  {
   "cell_type": "code",
   "execution_count": 4,
   "id": "e8d5eb5a-057d-4c79-a5fd-a885156f0240",
   "metadata": {},
   "outputs": [
    {
     "name": "stdout",
     "output_type": "stream",
     "text": [
      "['ram', 'raghul']\n"
     ]
    }
   ],
   "source": [
    "name = ['hello','ram','raghul']\n",
    "res = []\n",
    "\n",
    "for i in name:\n",
    "    if i.startswith('r'):\n",
    "        res.append(i)\n",
    "print(res)\n",
    "    "
   ]
  },
  {
   "cell_type": "code",
   "execution_count": 5,
   "id": "2ebea9ab-174f-4f98-81cf-c51b749c0493",
   "metadata": {},
   "outputs": [
    {
     "name": "stdout",
     "output_type": "stream",
     "text": [
      "5\n",
      "5\n"
     ]
    }
   ],
   "source": [
    "word = 'hello12333'\n",
    "alp = count =0\n",
    "for i in word:\n",
    "    if i.isalpha():\n",
    "        alp +=1\n",
    "    if i.isdigit():\n",
    "        count +=1\n",
    "print(alp)\n",
    "print(count)\n"
   ]
  },
  {
   "cell_type": "code",
   "execution_count": 1,
   "id": "1771ea09-6269-47b5-a06a-e3bd9b296494",
   "metadata": {},
   "outputs": [
    {
     "name": "stdout",
     "output_type": "stream",
     "text": [
      "40\n"
     ]
    }
   ],
   "source": [
    "m =[11,17,13,14,40]\n",
    "large = m[0]\n",
    "for i in m:\n",
    "    if i > large:\n",
    "        large = i\n",
    "print(large)"
   ]
  }
 ],
 "metadata": {
  "kernelspec": {
   "display_name": "Python 3 (ipykernel)",
   "language": "python",
   "name": "python3"
  },
  "language_info": {
   "codemirror_mode": {
    "name": "ipython",
    "version": 3
   },
   "file_extension": ".py",
   "mimetype": "text/x-python",
   "name": "python",
   "nbconvert_exporter": "python",
   "pygments_lexer": "ipython3",
   "version": "3.12.9"
  }
 },
 "nbformat": 4,
 "nbformat_minor": 5
}
