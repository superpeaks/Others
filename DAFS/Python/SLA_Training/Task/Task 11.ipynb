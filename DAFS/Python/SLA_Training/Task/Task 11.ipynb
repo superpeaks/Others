{
 "cells": [
  {
   "cell_type": "code",
   "execution_count": 6,
   "id": "cbbad490-ad5c-42d0-99cf-b3351ff53c4e",
   "metadata": {},
   "outputs": [],
   "source": [
    "class Xyz:\n",
    "    def hyndai(self):\n",
    "        print(\"We are selling models Creta, Verna\")\n",
    "    def tata(self):\n",
    "        print(\"We are selling models punch, safari\")\n",
    "    def ford(self):\n",
    "        print(\"We are selling models Ecosport Endevour\")\n",
    "    def mahindra(self):\n",
    "        print(\"We are selling models Thar, Scorpio\")\n",
    "\n",
    "class Chennai(Xyz):\n",
    "    def sports(self):\n",
    "        print(\"We are selling models sprotes cars lamborghini. ferrari\")\n",
    "\n",
    "class Nagarkovil(Xyz):\n",
    "    def maruhti(self):\n",
    "        print(\"We are selling models Beleno, swift\")\n",
    "\n",
    "class South_Chennai(Chennai):\n",
    "    def ford(self):\n",
    "        print(\"We are selling models eco sports\")"
   ]
  },
  {
   "cell_type": "code",
   "execution_count": 7,
   "id": "13c68d62-4fcf-43fc-b344-8685d6e45b9b",
   "metadata": {},
   "outputs": [
    {
     "name": "stdout",
     "output_type": "stream",
     "text": [
      "We are selling models Creta, Verna\n",
      "We are selling models sprotes cars lamborghini. ferrari\n",
      "We are selling models eco sports\n"
     ]
    }
   ],
   "source": [
    "person1 = South_Chennai()\n",
    "person1.hyndai()\n",
    "person1.sports()\n",
    "person1.ford()"
   ]
  },
  {
   "cell_type": "markdown",
   "id": "c63154bc-c894-4224-998c-3f61308fdd38",
   "metadata": {},
   "source": [
    "## inheritance\n",
    "\n",
    "Inheritance in Python is a key feature of object-oriented programming that allows a new class (child class) to inherit attributes and methods from an existing class (parent class). This promotes code reuse and helps in creating a hierarchical class structure, making it easier to manage and extend code.\n",
    "\n",
    "1. single level (1 parent 1 child)\n",
    "2. hierachical (1 parent 2 or more child)\n",
    "3. multilevel (1 grand parent 1 parent 1 child class)\n",
    "4. multiple (2 or more parent 1 child class)\n",
    "5. hybrid (combination of above)"
   ]
  },
  {
   "cell_type": "code",
   "execution_count": null,
   "id": "866de33d-289e-45df-a129-6d21deec90b2",
   "metadata": {},
   "outputs": [],
   "source": []
  }
 ],
 "metadata": {
  "kernelspec": {
   "display_name": "Python 3 (ipykernel)",
   "language": "python",
   "name": "python3"
  },
  "language_info": {
   "codemirror_mode": {
    "name": "ipython",
    "version": 3
   },
   "file_extension": ".py",
   "mimetype": "text/x-python",
   "name": "python",
   "nbconvert_exporter": "python",
   "pygments_lexer": "ipython3",
   "version": "3.12.9"
  }
 },
 "nbformat": 4,
 "nbformat_minor": 5
}
