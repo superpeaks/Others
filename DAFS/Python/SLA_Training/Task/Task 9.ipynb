{
 "cells": [
  {
   "cell_type": "code",
   "execution_count": 1,
   "id": "c640fc00-b14f-4872-8fc5-7a40f635ce59",
   "metadata": {},
   "outputs": [],
   "source": [
    "# lambda fn:\n",
    "# annonyms function which used to write simple function in one line."
   ]
  },
  {
   "cell_type": "code",
   "execution_count": 2,
   "id": "8eced254-b1ba-4d1b-a8dd-74be70c01b9f",
   "metadata": {},
   "outputs": [
    {
     "data": {
      "text/plain": [
       "8"
      ]
     },
     "execution_count": 2,
     "metadata": {},
     "output_type": "execute_result"
    }
   ],
   "source": [
    "def larg(li):\n",
    "    largest = 0\n",
    "    for i in li:\n",
    "        if i>largest:\n",
    "            largest = i\n",
    "    return largest\n",
    "\n",
    "larg([5,1,4,2,8,6,4])"
   ]
  },
  {
   "cell_type": "code",
   "execution_count": null,
   "id": "15332b0c-6529-475a-8957-6437e211a3a2",
   "metadata": {},
   "outputs": [],
   "source": []
  }
 ],
 "metadata": {
  "kernelspec": {
   "display_name": "Python 3 (ipykernel)",
   "language": "python",
   "name": "python3"
  },
  "language_info": {
   "codemirror_mode": {
    "name": "ipython",
    "version": 3
   },
   "file_extension": ".py",
   "mimetype": "text/x-python",
   "name": "python",
   "nbconvert_exporter": "python",
   "pygments_lexer": "ipython3",
   "version": "3.12.9"
  }
 },
 "nbformat": 4,
 "nbformat_minor": 5
}
