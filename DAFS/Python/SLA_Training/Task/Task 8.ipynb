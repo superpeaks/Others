{
 "cells": [
  {
   "cell_type": "code",
   "execution_count": 3,
   "id": "a11049da-ef83-44ea-b021-4b609191d481",
   "metadata": {},
   "outputs": [],
   "source": [
    "# prime\n",
    "# table\n",
    "# using while loop"
   ]
  },
  {
   "cell_type": "code",
   "execution_count": 1,
   "id": "169ce4eb-05cd-46a4-b281-70ba9a21b69a",
   "metadata": {},
   "outputs": [
    {
     "name": "stdin",
     "output_type": "stream",
     "text": [
      "Enter the table you want 11\n",
      "Enter the range you want 5\n"
     ]
    },
    {
     "name": "stdout",
     "output_type": "stream",
     "text": [
      "1 X 11 = 11\n",
      "2 X 11 = 22\n",
      "3 X 11 = 33\n",
      "4 X 11 = 44\n",
      "5 X 11 = 55\n"
     ]
    }
   ],
   "source": [
    "table = int(input(\"Enter the table you want\"))\n",
    "ran = int(input(\"Enter the range you want\"))\n",
    "i = 1\n",
    "\n",
    "while i<=ran:\n",
    "    print(f\"{i} X {table} = {i*table}\")\n",
    "    i+=1"
   ]
  },
  {
   "cell_type": "code",
   "execution_count": 56,
   "id": "8017fde6-017b-451a-bb2d-cba110170bb8",
   "metadata": {},
   "outputs": [
    {
     "name": "stdin",
     "output_type": "stream",
     "text": [
      "Num: 5\n"
     ]
    },
    {
     "name": "stdout",
     "output_type": "stream",
     "text": [
      "prime\n"
     ]
    }
   ],
   "source": [
    "num = int(input(\"Num:\"))\n",
    "i=2\n",
    "if num<2:\n",
    "    print(\"prime\")\n",
    "else:\n",
    "    while i<num:\n",
    "        if num%i==0:\n",
    "            print(\"not prime\")\n",
    "            break\n",
    "        i+=1\n",
    "    else:\n",
    "        print(\"prime\")"
   ]
  },
  {
   "cell_type": "code",
   "execution_count": 51,
   "id": "55830a86-d4de-4488-b0cc-8967a5f22d28",
   "metadata": {},
   "outputs": [
    {
     "name": "stdin",
     "output_type": "stream",
     "text": [
      "Num: 1\n"
     ]
    },
    {
     "name": "stdout",
     "output_type": "stream",
     "text": [
      "less than 2\n"
     ]
    }
   ],
   "source": [
    "num = int(input(\"Num:\"))\n",
    "if num<2:\n",
    "    print(\"less than 2\")\n",
    "else:\n",
    "    for i in range(2,num):\n",
    "        if num%i==0:\n",
    "            print(\"not prime\")\n",
    "            break\n",
    "    else:\n",
    "        print('prime')\n",
    "            "
   ]
  },
  {
   "cell_type": "code",
   "execution_count": null,
   "id": "fe4949d2-efd4-45d0-b6d0-870f52e15d8f",
   "metadata": {},
   "outputs": [],
   "source": []
  }
 ],
 "metadata": {
  "kernelspec": {
   "display_name": "Python 3 (ipykernel)",
   "language": "python",
   "name": "python3"
  },
  "language_info": {
   "codemirror_mode": {
    "name": "ipython",
    "version": 3
   },
   "file_extension": ".py",
   "mimetype": "text/x-python",
   "name": "python",
   "nbconvert_exporter": "python",
   "pygments_lexer": "ipython3",
   "version": "3.12.9"
  }
 },
 "nbformat": 4,
 "nbformat_minor": 5
}
