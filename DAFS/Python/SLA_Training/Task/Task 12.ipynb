{
 "cells": [
  {
   "cell_type": "markdown",
   "id": "bdba878d-7971-4302-b028-b75ed6e8f52e",
   "metadata": {},
   "source": [
    "1. Encapsulation \n",
    "Encapsulation in Python is the practice of bundling data (attributes) and methods (functions) that operate on the data into a single unit, typically a class. It restricts direct access to some components, helping to protect the integrity of the data and ensuring proper usage through public, protected, and private attributes.\n",
    "\n",
    "\n",
    "2. Access Modifiers\n",
    "Python has three main access modifiers: public, protected, and private. Public members can be accessed from anywhere, protected members are accessible within the class and its subclasses, while private members can only be accessed within the class they are defined in.\n",
    "\n",
    "\n",
    "3. Use of super()\n",
    "The super() function is used to give access to methods and properties of a parent or sibling class.Python super() Function Built-in Functions. Example. Create a class that will inherit all the methods and properties from another class: class Parent: def __init__(self, txt): ... "
   ]
  },
  {
   "cell_type": "markdown",
   "id": "f4702077-612f-4e5c-83a6-1811ee08f672",
   "metadata": {},
   "source": [
    "company(name,age,gende,base_sallary=10000)\n",
    "method intro,company(our company is xyz)\n",
    "\n",
    "part time / full time \n"
   ]
  },
  {
   "cell_type": "code",
   "execution_count": null,
   "id": "393bfe8a-a25c-49ac-b1d8-7b88de3b3f43",
   "metadata": {},
   "outputs": [],
   "source": [
    "# full time\n",
    "# def salarry(base sally + bonus)\n",
    "# my name is age is and sal is \n",
    "\n",
    "\n",
    "\n",
    "# part time\n",
    "# name age hour\n",
    "# 100rs per hour\n",
    "\n",
    "# sallay\n",
    "# my name is age is and sal is (hour*100)\n",
    "\n",
    "\n"
   ]
  },
  {
   "cell_type": "code",
   "execution_count": 64,
   "id": "acb5bb4c-2a19-451a-9f7f-deda1a260084",
   "metadata": {},
   "outputs": [],
   "source": [
    "class Company:\n",
    "    def __init__(self,name,age,sal=10000):\n",
    "        self.name = name\n",
    "        self.age = age\n",
    "        self._sal = sal\n",
    "    def intro(self):\n",
    "        print(f\"{self.name} is {self.age} year old\")\n",
    "\n",
    "class Fulltime(Company):\n",
    "    def sal(self):\n",
    "        total = self._sal+1600\n",
    "        print(f\"Full timmer bonus with salary is {total}\")\n",
    "\n",
    "class Parttime(Fulltime):\n",
    "    def sal(self):\n",
    "        total = (self._sal*30)+1100\n",
    "        print(f\"Part time bonus with salary is {total}\")"
   ]
  },
  {
   "cell_type": "code",
   "execution_count": 65,
   "id": "7dd43779-637e-4225-93ba-b8c1460bd494",
   "metadata": {},
   "outputs": [
    {
     "name": "stdout",
     "output_type": "stream",
     "text": [
      "Ramu is 35 year old\n",
      "Full timmer bonus with salary is 11600\n"
     ]
    }
   ],
   "source": [
    "person1 = Fulltime(\"Ramu\", 35)\n",
    "person1.intro()\n",
    "person1.sal()"
   ]
  },
  {
   "cell_type": "code",
   "execution_count": 66,
   "id": "fe27ed6f-8b87-4500-878a-25fa72483d60",
   "metadata": {},
   "outputs": [
    {
     "name": "stdout",
     "output_type": "stream",
     "text": [
      "Ragu is 25 year old\n",
      "Part time bonus with salary is 4100\n"
     ]
    }
   ],
   "source": [
    "person2 = Parttime(\"Ragu\", 25,sal=100)\n",
    "person2.intro()\n",
    "person2.sal()"
   ]
  }
 ],
 "metadata": {
  "kernelspec": {
   "display_name": "Python 3 (ipykernel)",
   "language": "python",
   "name": "python3"
  },
  "language_info": {
   "codemirror_mode": {
    "name": "ipython",
    "version": 3
   },
   "file_extension": ".py",
   "mimetype": "text/x-python",
   "name": "python",
   "nbconvert_exporter": "python",
   "pygments_lexer": "ipython3",
   "version": "3.12.3"
  },
  "widgets": {
   "application/vnd.jupyter.widget-state+json": {
    "state": {},
    "version_major": 2,
    "version_minor": 0
   }
  }
 },
 "nbformat": 4,
 "nbformat_minor": 5
}
