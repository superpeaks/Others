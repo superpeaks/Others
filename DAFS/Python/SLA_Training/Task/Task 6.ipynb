{
 "cells": [
  {
   "cell_type": "code",
   "execution_count": 1,
   "id": "d2cd9373-3d74-4ae3-b3a2-b942d71e50dc",
   "metadata": {},
   "outputs": [],
   "source": [
    "# * star pattern\n",
    "# * amtrong no and palindrom using for loop\n",
    "# * user --- 7 number using for loop and take average\n",
    "# * list--- 1,3,6,7,8,9 the number before which div by 2 or even num\n",
    "# * list----- str ['hello123','softlogic','1234'] print only alpha letter\n",
    "# * 20 to 80 first num which div by 8\n",
    "# * use of break\n",
    "# * name1=sla name2=softlogic seperate common char output is sl\n",
    "# * 11 table with upto condion from user\n",
    "# * properties of list set tuple\n",
    "# * num=145000, find digits"
   ]
  },
  {
   "cell_type": "code",
   "execution_count": 3,
   "id": "2ba06280-c591-4fb9-903a-c3660fe5105b",
   "metadata": {},
   "outputs": [
    {
     "name": "stdin",
     "output_type": "stream",
     "text": [
      "Enter num 5\n"
     ]
    },
    {
     "name": "stdout",
     "output_type": "stream",
     "text": [
      "*\n",
      "**\n",
      "***\n",
      "****\n",
      "*****\n"
     ]
    }
   ],
   "source": [
    "count = int(input(\"Enter num\"))\n",
    "\n",
    "for i in range(count):\n",
    "    for j in range(i+1):\n",
    "        print(\"*\",end=\"\")\n",
    "    print()\n"
   ]
  },
  {
   "cell_type": "code",
   "execution_count": 3,
   "id": "48561992-7af7-4c26-90bb-df215b00fe9d",
   "metadata": {},
   "outputs": [
    {
     "name": "stdin",
     "output_type": "stream",
     "text": [
      "Enter num: 10\n"
     ]
    },
    {
     "name": "stdout",
     "output_type": "stream",
     "text": [
      "**********\n",
      "*********\n",
      "********\n",
      "*******\n",
      "******\n",
      "*****\n",
      "****\n",
      "***\n",
      "**\n",
      "*\n"
     ]
    }
   ],
   "source": [
    "count = int ( input (\"Enter num:\"))\n",
    "\n",
    "for i in range(count):\n",
    "    for j in range(i,count):\n",
    "        print('*',end=\"\")\n",
    "    print()"
   ]
  },
  {
   "cell_type": "code",
   "execution_count": 4,
   "id": "91bb60d1-39fa-47a2-b907-19cb4e5b73e7",
   "metadata": {},
   "outputs": [
    {
     "name": "stdin",
     "output_type": "stream",
     "text": [
      "Enter a num: 153\n"
     ]
    },
    {
     "name": "stdout",
     "output_type": "stream",
     "text": [
      "153\n",
      "Amstrong\n"
     ]
    }
   ],
   "source": [
    "ip = int(input(\"Enter a num:\"))\n",
    "leng=len(str(ip))\n",
    "tot = 0\n",
    "for i in str(ip):\n",
    "    d=int(i)**leng\n",
    "    tot+=d\n",
    "print(tot)\n",
    "if tot==ip:\n",
    "    print(\"Amstrong\")\n",
    "else:\n",
    "    print(\"Not Amstrong\")"
   ]
  },
  {
   "cell_type": "code",
   "execution_count": 5,
   "id": "aeddf915-b5df-470c-b010-550222c1bfc4",
   "metadata": {},
   "outputs": [
    {
     "name": "stdin",
     "output_type": "stream",
     "text": [
      "Enter the string: level\n"
     ]
    },
    {
     "name": "stdout",
     "output_type": "stream",
     "text": [
      "level\n",
      "Palindrome\n"
     ]
    }
   ],
   "source": [
    "ip = input(\"Enter the string:\")\n",
    "rev=\"\"\n",
    "\n",
    "for i in ip:\n",
    "    rev=i+rev\n",
    "print(rev)\n",
    "if rev==ip:\n",
    "    print(\"Palindrome\")\n",
    "else:\n",
    "    print(\"Not Palindrome\")\n"
   ]
  },
  {
   "cell_type": "code",
   "execution_count": 6,
   "id": "0c0ec726-3c38-4139-bb8a-c833ed4e5df8",
   "metadata": {},
   "outputs": [
    {
     "name": "stdin",
     "output_type": "stream",
     "text": [
      "Enter the range: 7\n",
      "Enter number 1  : 5\n",
      "Enter number 2  : 4\n",
      "Enter number 3  : 6\n",
      "Enter number 4  : 8\n",
      "Enter number 5  : 2\n",
      "Enter number 6  : 1\n",
      "Enter number 7  : 5\n"
     ]
    },
    {
     "name": "stdout",
     "output_type": "stream",
     "text": [
      "Average of 7 numbers is 4.428571428571429\n"
     ]
    }
   ],
   "source": [
    "ip = int(input(\"Enter the range:\"))\n",
    "sums = 0\n",
    "for i in range(ip):\n",
    "    num = int(input(f\"Enter number {i+1}  :\"))\n",
    "    sums+=num\n",
    "print(f\"Average of {ip} numbers is {sums/ip}\")\n",
    "\n",
    "    "
   ]
  },
  {
   "cell_type": "code",
   "execution_count": 7,
   "id": "882f6190-4c0b-4537-8d02-7b32cbd17e17",
   "metadata": {},
   "outputs": [
    {
     "name": "stdout",
     "output_type": "stream",
     "text": [
      "[6, 8]\n",
      "14\n",
      "3\n"
     ]
    }
   ],
   "source": [
    "# * list--- 1,3,6,7,8,9 the number before which div by 2 or even num\n",
    "\n",
    "l = [1,3,6,7,8,9]\n",
    "eve_l =[]\n",
    "eve_sum = 0\n",
    "eve_before =[]\n",
    "first_ev_be = 0\n",
    "\n",
    "for i in l:\n",
    "    if i%2==0:\n",
    "        eve_l.append(i)\n",
    "        eve_sum+=i\n",
    "print(eve_l)\n",
    "print(eve_sum)\n",
    "\n",
    "for i in l:\n",
    "    if i%2==0:\n",
    "        break\n",
    "    first_ev_be=i\n",
    "print(first_ev_be)"
   ]
  },
  {
   "cell_type": "code",
   "execution_count": 8,
   "id": "5c947658-70fa-4603-bbec-0776ac11cf7e",
   "metadata": {},
   "outputs": [
    {
     "name": "stdout",
     "output_type": "stream",
     "text": [
      "['softlogic']\n"
     ]
    }
   ],
   "source": [
    "# * list----- str ['hello123','softlogic','1234'] print only alpha letter\n",
    "\n",
    "l= ['hello123','softlogic','1234']\n",
    "res=[]\n",
    "for i in l:\n",
    "    if i.isalpha():\n",
    "        res.append(i)\n",
    "print(res)"
   ]
  },
  {
   "cell_type": "code",
   "execution_count": 9,
   "id": "49304f76-3d57-476f-8fc5-7ca4cfeb3094",
   "metadata": {},
   "outputs": [
    {
     "name": "stdout",
     "output_type": "stream",
     "text": [
      "20\n",
      "21\n",
      "22\n",
      "23\n",
      "24\n",
      "Ans 23\n"
     ]
    }
   ],
   "source": [
    "# * 20 to 80 first num which div by 8\n",
    "\n",
    "for i in range(20,80+1):\n",
    "    print(i)\n",
    "    if i%8==0:\n",
    "        break\n",
    "    res = i\n",
    "print(\"Ans\",res)"
   ]
  },
  {
   "cell_type": "code",
   "execution_count": 1,
   "id": "2665d530-327f-4a7f-8eb0-1def64970d90",
   "metadata": {},
   "outputs": [],
   "source": [
    "# break\n",
    "# It terminates the nearest enclosing loop, skipping the optional \"else\"\n",
    "# clause if the loop has one."
   ]
  },
  {
   "cell_type": "code",
   "execution_count": 11,
   "id": "39553015-7563-4d33-90d5-418ebb7b2634",
   "metadata": {},
   "outputs": [
    {
     "name": "stdout",
     "output_type": "stream",
     "text": [
      "['s', 'l']\n"
     ]
    }
   ],
   "source": [
    "# * name1=sla name2=softlogic seperate common char output is sl\n",
    "\n",
    "name1='sla'\n",
    "name2='softlogic'\n",
    "com =[]\n",
    "\n",
    "for i in name1:\n",
    "    for j in name2:\n",
    "        if i==j:\n",
    "            com.append(i)\n",
    "print(com)\n",
    "            \n"
   ]
  },
  {
   "cell_type": "code",
   "execution_count": 12,
   "id": "96d3a5b1-dc07-4b44-ab9b-321ebc43c4bf",
   "metadata": {},
   "outputs": [
    {
     "name": "stdin",
     "output_type": "stream",
     "text": [
      "Enter  which table you want: 11\n",
      "Enter how many range you want 9\n"
     ]
    },
    {
     "name": "stdout",
     "output_type": "stream",
     "text": [
      "1 X 11 = 11\n",
      "2 X 11 = 22\n",
      "3 X 11 = 33\n",
      "4 X 11 = 44\n",
      "5 X 11 = 55\n",
      "6 X 11 = 66\n",
      "7 X 11 = 77\n",
      "8 X 11 = 88\n",
      "9 X 11 = 99\n"
     ]
    }
   ],
   "source": [
    "# * 11 table with upto condion from user\n",
    "\n",
    "table = int(input(\"Enter  which table you want:\"))\n",
    "ranges = int(input(\"Enter how many range you want\"))\n",
    "\n",
    "for i in range(ranges):\n",
    "    print(f\"{i+1} X {table} = {(i+1)*table}\")"
   ]
  },
  {
   "cell_type": "code",
   "execution_count": 1,
   "id": "edaa52f6-db42-433f-8870-24724c2d4021",
   "metadata": {},
   "outputs": [
    {
     "name": "stdin",
     "output_type": "stream",
     "text": [
      "Enter the num: 145000\n"
     ]
    },
    {
     "name": "stdout",
     "output_type": "stream",
     "text": [
      "6\n"
     ]
    }
   ],
   "source": [
    "# * num=145000, find digits\n",
    "\n",
    "ip = int(input(\"Enter the num:\"))\n",
    "count = 0\n",
    "for i in str(ip):\n",
    "    count+=1\n",
    "print(count)"
   ]
  },
  {
   "cell_type": "code",
   "execution_count": null,
   "id": "c80d898a-ad83-4453-aee1-e501cc35fe9c",
   "metadata": {},
   "outputs": [],
   "source": [
    "# list\n",
    "# ordered\n",
    "# mutable\n",
    "# accept all data types\n",
    "# duplicated allowed"
   ]
  },
  {
   "cell_type": "code",
   "execution_count": 3,
   "id": "79575999-a849-4c27-a9b1-69c48a60a750",
   "metadata": {},
   "outputs": [],
   "source": [
    "# tuple\n",
    "# orderd immutable\n",
    "# accept all data types\n",
    "# duplicated allowed"
   ]
  },
  {
   "cell_type": "code",
   "execution_count": 4,
   "id": "7ba456ef-76bd-40d1-a895-66a65be38a7b",
   "metadata": {},
   "outputs": [],
   "source": [
    "# set\n",
    "# unordered\n",
    "# mutable\n",
    "# accepts immutable data types\n",
    "# dulicated not allowed"
   ]
  }
 ],
 "metadata": {
  "kernelspec": {
   "display_name": "Python 3 (ipykernel)",
   "language": "python",
   "name": "python3"
  },
  "language_info": {
   "codemirror_mode": {
    "name": "ipython",
    "version": 3
   },
   "file_extension": ".py",
   "mimetype": "text/x-python",
   "name": "python",
   "nbconvert_exporter": "python",
   "pygments_lexer": "ipython3",
   "version": "3.12.9"
  }
 },
 "nbformat": 4,
 "nbformat_minor": 5
}
