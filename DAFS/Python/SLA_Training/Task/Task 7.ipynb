{
 "cells": [
  {
   "cell_type": "code",
   "execution_count": 1,
   "id": "277fefdf-b92f-4574-aa23-d3da02a45828",
   "metadata": {},
   "outputs": [],
   "source": [
    "# diff b/w for while\n",
    "# fibonaci series\n"
   ]
  },
  {
   "cell_type": "code",
   "execution_count": 4,
   "id": "95d998e0-00ec-4588-a74b-2bb23a32d359",
   "metadata": {},
   "outputs": [],
   "source": [
    "# # for is finite loop\n",
    "#   for is itteratable\n",
    "#   it completes once range completed\n",
    "\n",
    "\n",
    "\n",
    "\n",
    "\n",
    "# # while is infinite loop\n",
    "# while is no iteratable\n",
    "# it remains run until condition is true"
   ]
  },
  {
   "cell_type": "code",
   "execution_count": 5,
   "id": "de75014e-afc5-431d-ac6f-25df4cfd87cd",
   "metadata": {},
   "outputs": [
    {
     "name": "stdin",
     "output_type": "stream",
     "text": [
      "Enter the range 5\n"
     ]
    },
    {
     "name": "stdout",
     "output_type": "stream",
     "text": [
      "0\n",
      "1\n",
      "1\n",
      "2\n",
      "3\n"
     ]
    }
   ],
   "source": [
    "a,b=0,1\n",
    "\n",
    "for i in range(int(input(\"Enter the range\"))):\n",
    "    print(a)\n",
    "    a,b=b,a+b"
   ]
  },
  {
   "cell_type": "code",
   "execution_count": null,
   "id": "3af11330-3ad3-493c-837c-578a1903cfcf",
   "metadata": {},
   "outputs": [],
   "source": []
  }
 ],
 "metadata": {
  "kernelspec": {
   "display_name": "Python 3 (ipykernel)",
   "language": "python",
   "name": "python3"
  },
  "language_info": {
   "codemirror_mode": {
    "name": "ipython",
    "version": 3
   },
   "file_extension": ".py",
   "mimetype": "text/x-python",
   "name": "python",
   "nbconvert_exporter": "python",
   "pygments_lexer": "ipython3",
   "version": "3.12.9"
  }
 },
 "nbformat": 4,
 "nbformat_minor": 5
}
