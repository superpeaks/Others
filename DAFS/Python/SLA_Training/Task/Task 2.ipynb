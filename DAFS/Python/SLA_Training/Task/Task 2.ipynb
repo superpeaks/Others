{
 "cells": [
  {
   "cell_type": "code",
   "execution_count": 1,
   "id": "a99e01d6-c07e-4f24-b6d1-2a3afa617835",
   "metadata": {},
   "outputs": [
    {
     "name": "stdin",
     "output_type": "stream",
     "text": [
      "Enter user name SLA\n"
     ]
    },
    {
     "name": "stdout",
     "output_type": "stream",
     "text": [
      "login\n"
     ]
    }
   ],
   "source": [
    "# -- user sla or softlogic \n",
    "user = str(input(\"Enter user name\"))\n",
    "if user.lower()=='sla' or user.lower()=='softlogic':\n",
    "    print('login')\n",
    "else:\n",
    "    print('deied')"
   ]
  },
  {
   "cell_type": "code",
   "execution_count": 4,
   "id": "1a3d6853-1c51-4986-8665-9bbc421cce07",
   "metadata": {},
   "outputs": [
    {
     "name": "stdin",
     "output_type": "stream",
     "text": [
      "Number 35\n"
     ]
    },
    {
     "name": "stdout",
     "output_type": "stream",
     "text": [
      "yes it is\n"
     ]
    }
   ],
   "source": [
    "# -- div by 5 and 7\n",
    "\n",
    "num = int(input(\"Number\"))\n",
    "if num%5==0 and num%7==0:\n",
    "    print(\"yes it is\")\n",
    "else:\n",
    "    print(\"no\")\n",
    "    "
   ]
  },
  {
   "cell_type": "code",
   "execution_count": 8,
   "id": "5cfbe5e8-aae3-4feb-991b-21c7cef287b3",
   "metadata": {},
   "outputs": [
    {
     "name": "stdin",
     "output_type": "stream",
     "text": [
      "Number 1\n"
     ]
    },
    {
     "name": "stdout",
     "output_type": "stream",
     "text": [
      "its +ve\n"
     ]
    }
   ],
   "source": [
    "# -- -ve or +ve or zero\n",
    "\n",
    "num = int(input(\"Number\"))\n",
    "if num==0:\n",
    "    print('its zero')\n",
    "elif num>0:\n",
    "    print('its +ve')\n",
    "else:\n",
    "    print('its -ve')\n",
    "    "
   ]
  },
  {
   "cell_type": "code",
   "execution_count": 11,
   "id": "e7be3163-81e4-480f-9930-05e959158b51",
   "metadata": {},
   "outputs": [
    {
     "name": "stdin",
     "output_type": "stream",
     "text": [
      "Number 28\n"
     ]
    },
    {
     "name": "stdout",
     "output_type": "stream",
     "text": [
      "yes it is\n"
     ]
    }
   ],
   "source": [
    "# -- div by 7 or 11\n",
    "\n",
    "num = int(input(\"Number\"))\n",
    "if num%7==0 or num%11==0:\n",
    "    print(\"yes it is\")\n",
    "else:\n",
    "    print(\"no\")"
   ]
  },
  {
   "cell_type": "code",
   "execution_count": 3,
   "id": "245dd6bf-5055-4015-b3a5-0d34963c2a14",
   "metadata": {},
   "outputs": [
    {
     "name": "stdin",
     "output_type": "stream",
     "text": [
      "Country= INdia\n"
     ]
    },
    {
     "name": "stdout",
     "output_type": "stream",
     "text": [
      "India is case sensitive. please enter in lower case\n"
     ]
    }
   ],
   "source": [
    "# -- small case india tax 25%, england or uk in any case tax 30%, \n",
    "# Dubai in any case no tax, others 4% tax\n",
    "\n",
    "countries = [\"Aruba\", \"Afghanistan\", \"Angola\", \"Anguilla\", \"Åland Islands\", \"Albania\", \"Andorra\",    \"United Arab Emirates\", \"Argentina\", \"Armenia\", \"American Samoa\", \"Antarctica\",    \"French Southern Territories\", \"Antigua and Barbuda\", \"Australia\", \"Austria\", \"Azerbaijan\",    \"Burundi\", \"Belgium\", \"Benin\", \"Bonaire, Sint Eustatius and Saba\", \"Burkina Faso\",    \"Bangladesh\", \"Bulgaria\", \"Bahrain\", \"Bahamas\", \"Bosnia and Herzegovina\", \"Saint Barthélemy\",    \"Belarus\", \"Belize\", \"Bermuda\", \"Bolivia\", \"Brazil\", \"Barbados\", \"Brunei\", \"Bhutan\",    \"Bouvet Island\", \"Botswana\", \"Central African Republic\", \"Canada\", \"Cocos (Keeling) Islands\",    \"Switzerland\", \"Chile\", \"China\", \"Côte d'Ivoire\", \"Cameroon\", \"Democratic Republic of the Congo\",    \"Republic of the Congo\", \"Cook Islands\", \"Colombia\", \"Comoros\", \"Cabo Verde\", \"Costa Rica\",    \"Cuba\", \"Curaçao\", \"Christmas Island\", \"Cayman Islands\", \"Cyprus\", \"Czechia\", \"Germany\",    \"Djibouti\", \"Dominica\", \"Denmark\", \"Dominican Republic\", \"Algeria\", \"Ecuador\", \"Egypt\",    \"Eritrea\", \"Western Sahara\", \"Spain\", \"Estonia\", \"Ethiopia\", \"Finland\", \"Fiji\",    \"Falkland Islands\", \"France\", \"Faroe Islands\", \"Micronesia\", \"Gabon\", \"United Kingdom\",    \"Georgia\", \"Guernsey\", \"Ghana\", \"Gibraltar\", \"Guinea\", \"Guadeloupe\", \"Gambia\", \"Guinea-Bissau\",    \"Equatorial Guinea\", \"Greece\", \"Grenada\", \"Greenland\", \"Guatemala\", \"French Guiana\", \"Guam\",    \"Guyana\", \"Hong Kong\", \"Heard Island and McDonald Islands\", \"Honduras\", \"Croatia\", \"Haiti\",    \"Hungary\", \"Indonesia\", \"Isle of Man\", \"India\", \"British Indian Ocean Territory\", \"Ireland\",    \"Iran\", \"Iraq\", \"Iceland\", \"Israel\", \"Italy\", \"Jamaica\", \"Jersey\", \"Jordan\", \"Japan\",    \"Kazakhstan\", \"Kenya\", \"Kyrgyzstan\", \"Cambodia\", \"Kiribati\", \"Saint Kitts and Nevis\",    \"South Korea\", \"Kuwait\", \"Laos\", \"Lebanon\", \"Liberia\", \"Libya\", \"Saint Lucia\", \"Liechtenstein\",    \"Sri Lanka\", \"Lesotho\", \"Lithuania\", \"Luxembourg\", \"Latvia\", \"Macao\", \"Saint Martin (French part)\",    \"Morocco\", \"Monaco\", \"Moldova\", \"Madagascar\", \"Maldives\", \"Mexico\", \"Marshall Islands\",    \"North Macedonia\", \"Mali\", \"Malta\", \"Myanmar\", \"Montenegro\", \"Mongolia\", \"Northern Mariana Islands\",    \"Mozambique\", \"Mauritania\", \"Montserrat\", \"Martinique\", \"Mauritius\", \"Malawi\", \"Malaysia\",    \"Mayotte\", \"Namibia\", \"New Caledonia\", \"Niger\", \"Norfolk Island\", \"Nigeria\", \"Nicaragua\",    \"Niue\", \"Netherlands\", \"Norway\", \"Nepal\", \"Nauru\", \"New Zealand\", \"Oman\", \"Pakistan\",    \"Panama\", \"Pitcairn\", \"Peru\", \"Philippines\", \"Palau\", \"Papua New Guinea\", \"Poland\",    \"Puerto Rico\", \"North Korea\", \"Portugal\", \"Paraguay\", \"Palestine\", \"French Polynesia\",    \"Qatar\", \"Réunion\", \"Romania\", \"Russia\", \"Rwanda\", \"Saudi Arabia\", \"Sudan\", \"Senegal\",    \"Singapore\", \"South Georgia and the South Sandwich Islands\",    \"Saint Helena, Ascension and Tristan da Cunha\", \"Svalbard and Jan Mayen\", \"Solomon Islands\",    \"Sierra Leone\", \"El Salvador\", \"San Marino\", \"Somalia\", \"Saint Pierre and Miquelon\", \"Serbia\",    \"South Sudan\", \"São Tomé and Príncipe\", \"Suriname\", \"Slovakia\", \"Slovenia\", \"Sweden\",    \"Eswatini\", \"Sint Maarten (Dutch part)\", \"Seychelles\", \"Syria\", \"Turks and Caicos Islands\",    \"Chad\", \"Togo\", \"Thailand\", \"Tajikistan\", \"Tokelau\", \"Turkmenistan\", \"Timor-Leste\", \"Tonga\",    \"Trinidad and Tobago\", \"Tunisia\", \"Türkiye\", \"Tuvalu\", \"Taiwan\", \"Tanzania\", \"Uganda\",    \"Ukraine\", \"United States Minor Outlying Islands\", \"Uruguay\", \"United States\", \"Uzbekistan\",    \"Vatican City\", \"Saint Vincent and the Grenadines\", \"Venezuela\", \"British Virgin Islands\",\"U.S. Virgin Islands\", \"Vietnam\", \"Vanuatu\", \"Wallis and Futuna\", \"Samoa\", \"Yemen\",\"South Africa\", \"Zambia\", \"Zimbabwe\"]\n",
    "\n",
    "ctry= str(input('Country='))\n",
    "\n",
    "if ctry.lower()=='india':\n",
    "    if ctry == 'india':\n",
    "        print('tax in '+ ctry + ' is 25%')\n",
    "    else:\n",
    "        print('India is case sensitive. please enter in lower case')\n",
    "elif ctry.lower()=='england' or ctry.lower()=='uk':\n",
    "    print('tax in '+ ctry + ' is 30%')\n",
    "elif ctry.lower()=='dubai':\n",
    "    print('tax in '+ ctry + ' is no tax')\n",
    "elif ctry.capitalize() in countries:\n",
    "    print('tax in '+ ctry + ' is 4%')\n",
    "else:\n",
    "    print('please enter valid country name')"
   ]
  },
  {
   "cell_type": "code",
   "execution_count": 1,
   "id": "fbfc9876-f0c7-48c9-ab64-f634c8a1ebb7",
   "metadata": {},
   "outputs": [
    {
     "name": "stdin",
     "output_type": "stream",
     "text": [
      "Please enter weekday Num: 1\n"
     ]
    },
    {
     "name": "stdout",
     "output_type": "stream",
     "text": [
      "Given number related to Monday\n"
     ]
    }
   ],
   "source": [
    "# --- 1 monday 2 tuesday.... until 7\n",
    "\n",
    "days = ['Monday','Tuesday','Wednesday','Thursday','Friday','Saturday','Sunday']\n",
    "num = int(input(\"Please enter weekday Num:\"))\n",
    "\n",
    "if num>0 and num<8:\n",
    "    print('Given number related to '+days[num-1])\n",
    "else:\n",
    "    print('Please enter valid number')"
   ]
  },
  {
   "cell_type": "code",
   "execution_count": 7,
   "id": "f35d7381-dad5-4d0a-9f67-6a7e7c9c9eb7",
   "metadata": {},
   "outputs": [
    {
     "name": "stdin",
     "output_type": "stream",
     "text": [
      "Please enter first 3 letter of month= apr\n"
     ]
    },
    {
     "name": "stdout",
     "output_type": "stream",
     "text": [
      "apr has 30 days\n"
     ]
    }
   ],
   "source": [
    "ldays = ['jan','mar','may','july','aug','oct','dec']\n",
    "sdays = ['apr','jun','sep','nov']\n",
    "\n",
    "mon = str(input(\"Please enter first 3 letter of month=\"))\n",
    "\n",
    "if mon=='feb':\n",
    "    print(mon+\" has 28 or 29 days\")\n",
    "elif mon in ldays:\n",
    "    print(mon+\" has 31 days\")\n",
    "elif mon in sdays:\n",
    "    print(mon+\" has 30 days\")\n",
    "else:\n",
    "    print(\"please enter correct month\".capitalize())"
   ]
  },
  {
   "cell_type": "code",
   "execution_count": 58,
   "id": "98fe559d-1bb6-477d-bf54-5507d0bf9cd5",
   "metadata": {},
   "outputs": [
    {
     "name": "stdin",
     "output_type": "stream",
     "text": [
      "Please enter the mark(0 to 100) 20\n"
     ]
    },
    {
     "name": "stdout",
     "output_type": "stream",
     "text": [
      "Grade is 'RA'\n"
     ]
    }
   ],
   "source": [
    "num = int(input(\"Please enter the mark(0 to 100)\"))\n",
    "if num>=90:\n",
    "    print(\"Grade is 'A'\")\n",
    "elif num>=75 and num<=89:\n",
    "    print(\"Grade is 'B'\")\n",
    "elif num>=60 and num<=74:\n",
    "    print(\"Grade is 'C'\")\n",
    "elif num>=50 and num<=59:\n",
    "    print(\"Grade is 'D'\")\n",
    "elif num>=45 and num<=49:\n",
    "    print(\"Grade is 'E'\")\n",
    "else:\n",
    "    print(\"Grade is 'RA'\")"
   ]
  },
  {
   "cell_type": "code",
   "execution_count": 62,
   "id": "04b60914-d082-4407-93d7-ff28b97d8046",
   "metadata": {},
   "outputs": [
    {
     "name": "stdin",
     "output_type": "stream",
     "text": [
      "Please enter Program name in TWO letters(DA,DS,FS): JHVG\n"
     ]
    },
    {
     "name": "stdout",
     "output_type": "stream",
     "text": [
      "We donot offer this course\n"
     ]
    }
   ],
   "source": [
    "prog = str(input(\"Please enter Program name in TWO letters(DA,DS,FS):\"))\n",
    "if prog.lower()=='da':\n",
    "    print(\"We offer PY,POWERBI,SQL\")\n",
    "elif prog.lower()=='ds':\n",
    "    print(\"We offer PY,DQL,ML,DL,AI\")\n",
    "elif prog.lower()=='fs':\n",
    "    print(\"We offer HTML,CSS,JAVA,PY\")\n",
    "else:\n",
    "    print(\"We donot offer this course\")"
   ]
  },
  {
   "cell_type": "markdown",
   "id": "e2401854-103a-4dd6-84e3-4de2dee83ca9",
   "metadata": {},
   "source": [
    " What is the use of elif in Python?\n",
    "In Python, elif is short for \"else if\" and is used in conditional statements to check multiple conditions one after another.\n",
    "\n",
    " Why Use elif?\n",
    "- It helps avoid multiple if statements, making code more efficient.\n",
    "- It checks a new condition only if the previous one is False.\n",
    "- It allows multiple conditions to be tested in sequence.\n",
    "\n",
    " Example Usage:\n",
    "python\n",
    "age = 18\n",
    "\n",
    "if age < 13:\n",
    "    print(\"Child\")\n",
    "elif age < 18:\n",
    "    print(\"Teenager\")\n",
    "elif age < 60:\n",
    "    print(\"Adult\")\n",
    "else:\n",
    "    print(\"Senior\")\n",
    "\n",
    "🔹 Here’s what happens:\n",
    "1. If age < 13, it prints \"Child\".\n",
    "2. If not, and age < 18, it prints \"Teenager\".\n",
    "3. If neither is true but age < 60, it prints \"Adult\".\n",
    "4. Otherwise, it prints \"Senior\".\n",
    "\n",
    " How It's Different from Just Using if\n",
    "Without elif, you'd need separate if conditions, which can lead to inefficiencies:\n",
    "python\n",
    "if age < 13:\n",
    "    print(\"Child\")\n",
    "if age < 18:\n",
    "    print(\"Teenager\")  # Runs even if \"Child\" was correct\n",
    "if age < 60:\n",
    "    print(\"Adult\")\n",
    "else:\n",
    "    print(\"Senior\")\n"
   ]
  },
  {
   "cell_type": "code",
   "execution_count": 7,
   "id": "a222ff2b-0783-443b-89e7-42959a449d20",
   "metadata": {},
   "outputs": [
    {
     "name": "stdout",
     "output_type": "stream",
     "text": [
      "\n",
      "Here is a list of the Python keywords.  Enter any keyword to get more help.\n",
      "\n",
      "False               class               from                or\n",
      "None                continue            global              pass\n",
      "True                def                 if                  raise\n",
      "and                 del                 import              return\n",
      "as                  elif                in                  try\n",
      "assert              else                is                  while\n",
      "async               except              lambda              with\n",
      "await               finally             nonlocal            yield\n",
      "break               for                 not                 \n",
      "\n"
     ]
    }
   ],
   "source": [
    "(help('keywords'))"
   ]
  },
  {
   "cell_type": "code",
   "execution_count": null,
   "id": "f6de80cb-21f7-4aff-9030-961a7a18bed4",
   "metadata": {},
   "outputs": [],
   "source": []
  }
 ],
 "metadata": {
  "kernelspec": {
   "display_name": "Python 3 (ipykernel)",
   "language": "python",
   "name": "python3"
  },
  "language_info": {
   "codemirror_mode": {
    "name": "ipython",
    "version": 3
   },
   "file_extension": ".py",
   "mimetype": "text/x-python",
   "name": "python",
   "nbconvert_exporter": "python",
   "pygments_lexer": "ipython3",
   "version": "3.12.9"
  }
 },
 "nbformat": 4,
 "nbformat_minor": 5
}
