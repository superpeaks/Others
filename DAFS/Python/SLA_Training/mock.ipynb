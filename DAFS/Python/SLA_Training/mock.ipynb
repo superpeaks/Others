{
 "cells": [
  {
   "cell_type": "code",
   "execution_count": 2,
   "id": "70ee18d8",
   "metadata": {},
   "outputs": [
    {
     "name": "stdout",
     "output_type": "stream",
     "text": [
      "123456789\n"
     ]
    }
   ],
   "source": [
    "series = 0\n",
    "total = 0\n",
    "for i in range(9):\n",
    "    series = (series*10)+1\n",
    "    total += series\n",
    "print(total)"
   ]
  },
  {
   "cell_type": "code",
   "execution_count": 5,
   "id": "cd400347",
   "metadata": {},
   "outputs": [
    {
     "data": {
      "text/plain": [
       "'no prime'"
      ]
     },
     "execution_count": 5,
     "metadata": {},
     "output_type": "execute_result"
    }
   ],
   "source": [
    "def prn(num):\n",
    "\n",
    "    for i in range(2,num):\n",
    "        if num <=1:\n",
    "            return \"enter value above 1\"\n",
    "        if num%i==0:\n",
    "            return \"no prime\"\n",
    "        else:\n",
    "            return \"prime\"\n",
    "\n",
    "prn(6)\n"
   ]
  },
  {
   "cell_type": "code",
   "execution_count": 7,
   "id": "7e145ad8",
   "metadata": {},
   "outputs": [
    {
     "name": "stdout",
     "output_type": "stream",
     "text": [
      "1 in 4 times\n",
      "2 in 6 times\n",
      "5 in 2 times\n",
      "4 in 4 times\n",
      "3 in 3 times\n"
     ]
    }
   ],
   "source": [
    "def occ(l):\n",
    "    d = dict()\n",
    "    for i in l:\n",
    "        if i in d:\n",
    "            d[i] +=1\n",
    "        else:\n",
    "            d[i] = 1\n",
    "    return d\n",
    "\n",
    "res = occ([1,2,5,4,5,2,1,2,3,4,3,2,1,2,3,2,1,4,4])\n",
    "for i,j in res.items():\n",
    "    print(f'{i} in {j} times')"
   ]
  },
  {
   "cell_type": "code",
   "execution_count": 33,
   "id": "22a73c87",
   "metadata": {},
   "outputs": [
    {
     "name": "stdout",
     "output_type": "stream",
     "text": [
      "* \n",
      "* * \n",
      "* * * \n",
      "* * * * \n",
      "* * * * * \n",
      "* * * * * \n",
      "* * * * \n",
      "* * * \n",
      "* * \n",
      "* \n"
     ]
    }
   ],
   "source": [
    "for i in range(1,5+1):\n",
    "    print('* ' *i)\n",
    "\n",
    "# for i in range(4,0,-1):\n",
    "#     print('* ' *i)\n",
    "for i in range(1,5+1):\n",
    "    print(\"* \"*(5+1-i))"
   ]
  },
  {
   "cell_type": "code",
   "execution_count": 26,
   "id": "f1118e7d",
   "metadata": {},
   "outputs": [
    {
     "name": "stdout",
     "output_type": "stream",
     "text": [
      "    *\n",
      "   **\n",
      "  ***\n",
      " ****\n",
      "*****\n"
     ]
    }
   ],
   "source": [
    "for i in range(1,5+1):\n",
    "    print(\" \"*(5-i)+'*'*i)"
   ]
  },
  {
   "cell_type": "code",
   "execution_count": 44,
   "id": "faa6dc72",
   "metadata": {},
   "outputs": [
    {
     "name": "stdout",
     "output_type": "stream",
     "text": [
      "     *\n",
      "    * *\n",
      "   * * *\n",
      "  * * * *\n",
      " * * * * *\n",
      "  * * * *\n",
      "   * * *\n",
      "    * *\n",
      "     *\n",
      "     \n"
     ]
    }
   ],
   "source": [
    "for i in range(1,5+1):\n",
    "    print(\" \"*(5-i)+\" *\"*i)\n",
    "for i in range(1,5+1):\n",
    "    print(\" \"*i+\" *\"*(5-i))"
   ]
  },
  {
   "cell_type": "markdown",
   "id": "fe25ca31",
   "metadata": {},
   "source": [
    "List of beginner-friendly Python programming questions commonly asked in interviews, along with quick explanations and example prompts where code is expected:\n",
    "\n",
    "### 📝 Basic Python Interview Coding Questions\n",
    "\n",
    "#### 💡 **1. Reverse a String**\n",
    "- **Task**: Reverse the characters in a given string.\n",
    "- **Example Prompt**: `\"hello\" → \"olleh\"`\n",
    "\n",
    "#### 🔢 **2. Check Prime Number**\n",
    "- **Task**: Determine if a number is prime.\n",
    "- **Example Prompt**: `Is 29 a prime number?`\n",
    "\n",
    "#### 🔁 **3. Fibonacci Series**\n",
    "- **Task**: Print the first N numbers in the Fibonacci sequence.\n",
    "- **Example Prompt**: `N = 7 → 0 1 1 2 3 5 8`\n",
    "\n",
    "#### 📊 **4. Find the Largest Element in a List**\n",
    "- **Task**: Identify the maximum value in a list.\n",
    "- **Example Prompt**: `[10, 45, 2, 99] → 99`\n",
    "\n",
    "#### 🚥 **5. FizzBuzz Problem**\n",
    "- **Task**: Print numbers from 1 to N, but replace multiples of 3 with “Fizz”, multiples of 5 with “Buzz”, and both with “FizzBuzz”.\n",
    "\n",
    "#### 📈 **6. Sort a List Without Built-In Sort**\n",
    "- **Task**: Implement bubble sort or insertion sort manually.\n",
    "\n",
    "#### 🔣 **7. Check for Palindrome**\n",
    "- **Task**: Determine whether a string reads the same backward.\n",
    "- **Example Prompt**: `\"madam\" → True`\n",
    "\n",
    "#### 🧮 **8. Factorial of a Number**\n",
    "- **Task**: Calculate factorial using recursion or loops.\n",
    "- **Example Prompt**: `5! = 120`\n",
    "\n",
    "#### 🔍 **9. Find Missing Number in List**\n",
    "- **Task**: Given a list from 1 to N with one number missing, find the missing number.\n",
    "\n",
    "#### 🧠 **10. Count Vowels in a String**\n",
    "- **Task**: Count how many vowels are present in a given string.\n",
    "\n",
    "#### 🔗 **11. Swap Two Variables Without Using a Third**\n",
    "- **Task**: Exchange values of `a` and `b` without a temporary variable.\n",
    "\n",
    "#### 🔄 **12. Find Duplicate Elements in a List**\n",
    "- **Task**: Identify which values appear more than once.\n",
    "\n",
    "#### 💬 **13. Count Words in a Sentence**\n",
    "- **Task**: Given a string, count the number of words.\n",
    "\n",
    "#### 🧊 **14. Remove Duplicates from a List**\n",
    "- **Task**: Clean a list so that only unique values remain.\n",
    "\n",
    "#### 🧠 **15. Find the Second Largest Number**\n",
    "- **Task**: Determine the second-highest value in a list.\n",
    "\n",
    "#### 🧪 **16. Check if a Number is Armstrong**\n",
    "- **Task**: Determine if the number equals the sum of its digits raised to the number of digits.\n",
    "- **Example**: `153 → 1³ + 5³ + 3³ = 153`\n",
    "\n",
    "#### 🔍 **17. Search for an Element in a List**\n",
    "- **Task**: Return `True/False` if the element exists.\n",
    "\n",
    "#### 🏁 **18. Count Even and Odd Numbers**\n",
    "- **Task**: Separate and count even and odd numbers from a list.\n",
    "\n",
    "#### 🕳️ **19. Find the Index of an Element**\n",
    "- **Task**: Return the index of a given value.\n",
    "\n",
    "#### 📥 **20. Flatten a Nested List**\n",
    "- **Task**: Convert `[[1, 2], [3, 4], [5]]` to `[1, 2, 3, 4, 5]`\n",
    "\n",
    "---"
   ]
  },
  {
   "cell_type": "code",
   "execution_count": 49,
   "id": "828a69bb",
   "metadata": {},
   "outputs": [
    {
     "data": {
      "text/plain": [
       "'6222555'"
      ]
     },
     "execution_count": 49,
     "metadata": {},
     "output_type": "execute_result"
    }
   ],
   "source": [
    "inp = input(\"sting:\")\n",
    "def reverse(s):\n",
    "    rev = \"\"\n",
    "    for i in s:\n",
    "        rev = i+rev\n",
    "    return rev\n",
    "\n",
    "reverse(inp)"
   ]
  },
  {
   "cell_type": "code",
   "execution_count": 52,
   "id": "fa2f3e14",
   "metadata": {},
   "outputs": [
    {
     "data": {
      "text/plain": [
       "'no palindrome'"
      ]
     },
     "execution_count": 52,
     "metadata": {},
     "output_type": "execute_result"
    }
   ],
   "source": [
    "inp = input(\"sting:\")\n",
    "def reverse(s):\n",
    "    rev = \"\"\n",
    "    for i in s:\n",
    "        rev = i+rev\n",
    "    if rev == s:\n",
    "        return \"palindrome\"\n",
    "    else:\n",
    "        return \"no palindrome\"\n",
    "reverse(inp)"
   ]
  },
  {
   "cell_type": "code",
   "execution_count": 55,
   "id": "96e9d95b",
   "metadata": {},
   "outputs": [
    {
     "data": {
      "text/plain": [
       "120"
      ]
     },
     "execution_count": 55,
     "metadata": {},
     "output_type": "execute_result"
    }
   ],
   "source": [
    "def fac(num):\n",
    "    if num == 1:\n",
    "        return 1\n",
    "    else:\n",
    "        return num * fac(num-1)\n",
    "\n",
    "fac(5)"
   ]
  },
  {
   "cell_type": "code",
   "execution_count": 58,
   "id": "a4aaa4df",
   "metadata": {},
   "outputs": [
    {
     "data": {
      "text/plain": [
       "8"
      ]
     },
     "execution_count": 58,
     "metadata": {},
     "output_type": "execute_result"
    }
   ],
   "source": [
    "def con(s):\n",
    "    vov = ['a','e','i','o','u']\n",
    "    cnt = 0\n",
    "    for i in str(s).lower():\n",
    "        if i in vov:\n",
    "            cnt +=1\n",
    "    return cnt\n",
    "\n",
    "con('sdjbujsduuuaaaafkjsdf')\n",
    "\n"
   ]
  },
  {
   "cell_type": "code",
   "execution_count": 62,
   "id": "a6553572",
   "metadata": {},
   "outputs": [
    {
     "data": {
      "text/plain": [
       "'no armstrong'"
      ]
     },
     "execution_count": 62,
     "metadata": {},
     "output_type": "execute_result"
    }
   ],
   "source": [
    "def ams(n):\n",
    "    res = 0\n",
    "    le = len(str(n))\n",
    "    for i in str(n):\n",
    "        res += int(i)**le\n",
    "    if res == n:\n",
    "        return \"armstrong\"\n",
    "    else:\n",
    "        return \"no armstrong\"\n",
    "ams(1534)"
   ]
  },
  {
   "cell_type": "code",
   "execution_count": 66,
   "id": "8af21020",
   "metadata": {},
   "outputs": [
    {
     "data": {
      "text/plain": [
       "[1, 2, 3, 5, 6, 9, 8]"
      ]
     },
     "execution_count": 66,
     "metadata": {},
     "output_type": "execute_result"
    }
   ],
   "source": [
    "flist = lambda lis: [j for i in lis for j in i]\n",
    "flist ([[1,2,3],[5,6,9,8]])"
   ]
  },
  {
   "cell_type": "code",
   "execution_count": 67,
   "id": "94be2e5b",
   "metadata": {},
   "outputs": [
    {
     "ename": "ModuleNotFoundError",
     "evalue": "No module named 'pandas'",
     "output_type": "error",
     "traceback": [
      "\u001b[31m---------------------------------------------------------------------------\u001b[39m",
      "\u001b[31mModuleNotFoundError\u001b[39m                       Traceback (most recent call last)",
      "\u001b[36mCell\u001b[39m\u001b[36m \u001b[39m\u001b[32mIn[67]\u001b[39m\u001b[32m, line 1\u001b[39m\n\u001b[32m----> \u001b[39m\u001b[32m1\u001b[39m \u001b[38;5;28;01mimport\u001b[39;00m\u001b[38;5;250m \u001b[39m\u001b[34;01mpandas\u001b[39;00m\u001b[38;5;250m \u001b[39m\u001b[38;5;28;01mas\u001b[39;00m\u001b[38;5;250m \u001b[39m\u001b[34;01mpd\u001b[39;00m\n\u001b[32m      2\u001b[39m df = pd.read_excel(\u001b[33m'\u001b[39m\u001b[33mSales_Analysis_Report.xlsx\u001b[39m\u001b[33m'\u001b[39m,sheet_name=\u001b[33m'\u001b[39m\u001b[33msales orders\u001b[39m\u001b[33m'\u001b[39m, parse_dates = [\u001b[33m'\u001b[39m\u001b[33morder date\u001b[39m\u001b[33m'\u001b[39m,\u001b[33m'\u001b[39m\u001b[33mship date\u001b[39m\u001b[33m'\u001b[39m])\n\u001b[32m      3\u001b[39m df.shape\n",
      "\u001b[31mModuleNotFoundError\u001b[39m: No module named 'pandas'"
     ]
    }
   ],
   "source": [
    "import pandas as pd\n",
    "df = pd.read_excel('Sales_Analysis_Report.xlsx',sheet_name='sales orders', parse_dates = ['order date','ship date'])\n",
    "df.shape"
   ]
  },
  {
   "cell_type": "code",
   "execution_count": 70,
   "id": "2715d12a",
   "metadata": {},
   "outputs": [
    {
     "name": "stdout",
     "output_type": "stream",
     "text": [
      "Requirement already satisfied: pip in ./.venv/lib/python3.12/site-packages (25.1.1)\n",
      "Collecting pip\n",
      "  Downloading pip-25.2-py3-none-any.whl.metadata (4.7 kB)\n",
      "Downloading pip-25.2-py3-none-any.whl (1.8 MB)\n",
      "\u001b[2K   \u001b[90m━━━━━━━━━━━━━━━━━━━━━━━━━━━━━━━━━━━━━━━━\u001b[0m \u001b[32m1.8/1.8 MB\u001b[0m \u001b[31m11.2 MB/s\u001b[0m eta \u001b[36m0:00:00\u001b[0m\n",
      "\u001b[?25hInstalling collected packages: pip\n",
      "  Attempting uninstall: pip\n",
      "    Found existing installation: pip 25.1.1\n",
      "    Uninstalling pip-25.1.1:\n",
      "      Successfully uninstalled pip-25.1.1\n",
      "Successfully installed pip-25.2\n",
      "Note: you may need to restart the kernel to use updated packages.\n"
     ]
    }
   ],
   "source": [
    "pip install --upgrade pip"
   ]
  },
  {
   "cell_type": "code",
   "execution_count": null,
   "id": "1a160bc9",
   "metadata": {},
   "outputs": [],
   "source": []
  }
 ],
 "metadata": {
  "kernelspec": {
   "display_name": ".venv (3.12.3)",
   "language": "python",
   "name": "python3"
  },
  "language_info": {
   "codemirror_mode": {
    "name": "ipython",
    "version": 3
   },
   "file_extension": ".py",
   "mimetype": "text/x-python",
   "name": "python",
   "nbconvert_exporter": "python",
   "pygments_lexer": "ipython3",
   "version": "3.12.3"
  }
 },
 "nbformat": 4,
 "nbformat_minor": 5
}
