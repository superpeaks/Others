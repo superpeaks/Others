{
 "cells": [
  {
   "cell_type": "code",
   "execution_count": 1,
   "id": "c1695270-e829-4001-b5da-7b66a54c91f2",
   "metadata": {},
   "outputs": [],
   "source": [
    "# what is class and object\n",
    "# is python fully support oops\n",
    "# what is lambda fn\n",
    "# what is mean by higher order fn\n",
    "# what is user defined fn\n",
    "# what is mean by methods\n",
    "# when should i use loop\n",
    "# f. used palindrom, armstrog, prime number, fibonaci"
   ]
  },
  {
   "cell_type": "markdown",
   "id": "861461b4-88d5-4045-b8fd-7e67f7767a33",
   "metadata": {},
   "source": [
    "what is class and object\n",
    "\n",
    "A class in Python is a user-defined template for creating objects. It bundles data and functions together, making it easier to manage and use them. When we create a new class, we define a new type of object. We can then create multiple instances of this object type.\n",
    "\n",
    "Classes are created using class keyword. Attributes are variables defined inside the class and represent the properties of the class. Attributes can be accessed using the dot . operator (e.g., MyClass.my_attribute).\n",
    "\n",
    "\n",
    "Object\n",
    "\n",
    "An Object is an instance of a Class. It represents a specific implementation of the class and holds its own data."
   ]
  },
  {
   "cell_type": "markdown",
   "id": "6c909aa2-e448-426b-9749-54a7b06ed50d",
   "metadata": {},
   "source": []
  },
  {
   "cell_type": "markdown",
   "id": "ff32cba7-3fd1-4b90-a7cf-ec2681e6eb2f",
   "metadata": {},
   "source": [
    "what is lambda fn\n",
    "\n",
    "Lambda single line annonymus function... which used to write simple code in one linner for effective run."
   ]
  },
  {
   "cell_type": "markdown",
   "id": "09ab70f3-ea85-4ad7-9401-7f9d5c4ebf93",
   "metadata": {},
   "source": [
    "A higher-order function is a function that either:\n",
    "\n",
    "    Takes another function as an argument, or\n",
    "\n",
    "    Returns a function as its result"
   ]
  },
  {
   "cell_type": "markdown",
   "id": "1251b966-de39-4fdd-8378-e381616f644e",
   "metadata": {},
   "source": [
    "A user-defined function in Python is a function that is created by the user rather than being a built-in function provided by the language. It allows you to write reusable blocks of code, making your programs more modular and efficient."
   ]
  },
  {
   "cell_type": "markdown",
   "id": "1568465c-70e2-4fc1-8cfe-b2b6d85a904a",
   "metadata": {},
   "source": [
    "In programming, a method is essentially a function that is associated with an object. In object-oriented programming (OOP), methods are functions that belong to a class and can be called on objects of that class.\n",
    "Key Differences Between Functions and Methods:\n",
    "\n",
    "    Functions → Standalone and can be used anywhere.\n",
    "\n",
    "    Methods → Are defined inside a class and operate on instance data."
   ]
  },
  {
   "cell_type": "markdown",
   "id": "52788b91-1fd1-4138-ad4b-e9bb28f291e8",
   "metadata": {},
   "source": [
    "Loops in Python are essential when you need to repeat a block of code multiple times instead of writing it manually. They help automate tasks, improve efficiency, and reduce redundant code."
   ]
  },
  {
   "cell_type": "code",
   "execution_count": 3,
   "id": "fec9cd6d-2e76-4581-808e-890fff2757fd",
   "metadata": {},
   "outputs": [
    {
     "data": {
      "text/plain": [
       "'Palindrom'"
      ]
     },
     "execution_count": 3,
     "metadata": {},
     "output_type": "execute_result"
    }
   ],
   "source": [
    "# f. used palindrom, armstrog, prime number, fibonaci, factorial\n",
    "\n",
    "def palindrom(word):\n",
    "    rev = ''\n",
    "    for i in word:\n",
    "        rev = i+rev\n",
    "    if word == rev:\n",
    "        return \"Palindrom\"\n",
    "    else:\n",
    "        return \"Not a palindrom\"\n",
    "\n",
    "palindrom(\"level\")"
   ]
  },
  {
   "cell_type": "code",
   "execution_count": 6,
   "id": "5d9b3726-8681-4713-a50d-1692d10015d9",
   "metadata": {},
   "outputs": [
    {
     "data": {
      "text/plain": [
       "'Not Armstrong'"
      ]
     },
     "execution_count": 6,
     "metadata": {},
     "output_type": "execute_result"
    }
   ],
   "source": [
    "def armstrong(num):\n",
    "    num_str = str(num)\n",
    "    len_num = len(num_str)\n",
    "    res = 0\n",
    "    for i in num_str:\n",
    "        res += int(i)**len_num\n",
    "    if res == num:\n",
    "        return \"Armstrong\"\n",
    "    else:\n",
    "        return \"Not Armstrong\"\n",
    "\n",
    "armstrong(1531)\n",
    "        "
   ]
  },
  {
   "cell_type": "code",
   "execution_count": 18,
   "id": "9cbe25b6-5fb5-472c-aba6-539e96511f38",
   "metadata": {},
   "outputs": [
    {
     "data": {
      "text/plain": [
       "'Not Prime'"
      ]
     },
     "execution_count": 18,
     "metadata": {},
     "output_type": "execute_result"
    }
   ],
   "source": [
    "def prime(num):\n",
    "    # check = 0\n",
    "    if num>1:\n",
    "        for i in range(2,num):\n",
    "            if num%i == 0:\n",
    "                return \"Not Prime\"\n",
    "        else:\n",
    "            return \"Prime\"\n",
    "    else:\n",
    "        return \"Enter more than 1\"\n",
    "\n",
    "prime(21)"
   ]
  },
  {
   "cell_type": "code",
   "execution_count": 23,
   "id": "e587947f-3508-496d-983b-de312b37a903",
   "metadata": {},
   "outputs": [
    {
     "name": "stdout",
     "output_type": "stream",
     "text": [
      "0  1  1  2  3  5  8  13  21  34  55  89  144  233  377  "
     ]
    }
   ],
   "source": [
    "def fibo(num_range):\n",
    "    a, b = 0,1\n",
    "    for i in range(num_range):\n",
    "        print(a,end=\"  \")\n",
    "        a,b=b,a+b\n",
    "\n",
    "fibo(15)"
   ]
  },
  {
   "cell_type": "code",
   "execution_count": 27,
   "id": "aeee079e-f206-4c22-9ac8-3c5992b41dfd",
   "metadata": {},
   "outputs": [
    {
     "data": {
      "text/plain": [
       "6"
      ]
     },
     "execution_count": 27,
     "metadata": {},
     "output_type": "execute_result"
    }
   ],
   "source": [
    "def facto(num):\n",
    "    if num<2:\n",
    "        return 1\n",
    "    for i in range(num):\n",
    "        return num*facto(num-1)\n",
    "\n",
    "facto(3)"
   ]
  }
 ],
 "metadata": {
  "kernelspec": {
   "display_name": "Python 3 (ipykernel)",
   "language": "python",
   "name": "python3"
  },
  "language_info": {
   "codemirror_mode": {
    "name": "ipython",
    "version": 3
   },
   "file_extension": ".py",
   "mimetype": "text/x-python",
   "name": "python",
   "nbconvert_exporter": "python",
   "pygments_lexer": "ipython3",
   "version": "3.12.9"
  }
 },
 "nbformat": 4,
 "nbformat_minor": 5
}
