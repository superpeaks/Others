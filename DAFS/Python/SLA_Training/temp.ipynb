{
 "cells": [
  {
   "cell_type": "code",
   "execution_count": 6,
   "id": "aa59560d-24df-4739-b23c-ff09acce2fd6",
   "metadata": {},
   "outputs": [
    {
     "name": "stdout",
     "output_type": "stream",
     "text": [
      "Not Prime\n"
     ]
    }
   ],
   "source": [
    "def prime(num):\n",
    "    count = 0\n",
    "    for i in range(1,num):\n",
    "        if num%i == 0:\n",
    "            count +=1\n",
    "    if count == 1:\n",
    "        return 'Prime'\n",
    "    else:\n",
    "        return 'Not Prime'\n",
    "\n",
    "ans = prime(52)\n",
    "\n",
    "print(ans)"
   ]
  },
  {
   "cell_type": "code",
   "execution_count": 7,
   "id": "cc9c132a-6f6a-40e1-a506-029d9100d819",
   "metadata": {},
   "outputs": [
    {
     "name": "stdout",
     "output_type": "stream",
     "text": [
      "3628800\n"
     ]
    }
   ],
   "source": [
    "def fact(num):\n",
    "    if num<=1:\n",
    "        return 1\n",
    "    return fact(num-1)*num\n",
    "\n",
    "ans = fact(10)\n",
    "\n",
    "print(ans)"
   ]
  },
  {
   "cell_type": "code",
   "execution_count": 16,
   "id": "587ad8f1-d62a-4dae-9109-d4de6c7b131f",
   "metadata": {},
   "outputs": [
    {
     "name": "stdout",
     "output_type": "stream",
     "text": [
      "0 1 1 2 3 5 8 13 21 34 55 89 144 233 377 610 987 1597 \n",
      "Completed\n"
     ]
    }
   ],
   "source": [
    "def fib(num):\n",
    "    a,b = 0,1\n",
    "    for i in range(num):\n",
    "        print(a, end = \" \")\n",
    "        a,b = b,a+b\n",
    "    return '\\nCompleted'\n",
    "\n",
    "ans = fib(18)\n",
    "print(ans)"
   ]
  },
  {
   "cell_type": "code",
   "execution_count": 26,
   "id": "fb1fc665-4e10-4247-92d6-dc63345e7492",
   "metadata": {},
   "outputs": [
    {
     "data": {
      "text/plain": [
       "'Arms'"
      ]
     },
     "execution_count": 26,
     "metadata": {},
     "output_type": "execute_result"
    }
   ],
   "source": [
    "def arm(num):\n",
    "    convert = str(num)\n",
    "    length = len(convert)\n",
    "    res = 0\n",
    "    for i in convert:\n",
    "        res += int(i)**length\n",
    "\n",
    "    if res == num:\n",
    "        return \"Arms\"\n",
    "    else:\n",
    "        return \"Nope\"\n",
    "\n",
    "arm(153)"
   ]
  },
  {
   "cell_type": "code",
   "execution_count": 35,
   "id": "0143a7aa-2687-49ae-8b11-6d72f399df64",
   "metadata": {},
   "outputs": [
    {
     "data": {
      "text/plain": [
       "'yes'"
      ]
     },
     "execution_count": 35,
     "metadata": {},
     "output_type": "execute_result"
    }
   ],
   "source": [
    "def palin(value):\n",
    "    value = value.lower()\n",
    "    rev = ''\n",
    "    for i in value:\n",
    "        rev = i+rev\n",
    "    if rev == value:\n",
    "        return \"yes\"\n",
    "    else:\n",
    "        return \"no\"\n",
    "\n",
    "palin('MadAm')"
   ]
  },
  {
   "cell_type": "code",
   "execution_count": 41,
   "id": "d5f5f033-7885-4f4e-b6a5-bc038ac87ab2",
   "metadata": {},
   "outputs": [
    {
     "name": "stdout",
     "output_type": "stream",
     "text": [
      "123456789\n"
     ]
    }
   ],
   "source": [
    "def numser(num):\n",
    "    x = 0\n",
    "    res = 0\n",
    "    for i in range(num):\n",
    "        x = (x*10)+1\n",
    "        res +=x\n",
    "    print(res)\n",
    "\n",
    "numser(9)"
   ]
  },
  {
   "cell_type": "code",
   "execution_count": 52,
   "id": "415d270f-0c98-4671-9232-cbb885f6ee44",
   "metadata": {},
   "outputs": [
    {
     "name": "stdout",
     "output_type": "stream",
     "text": [
      "* \n",
      "* * \n",
      "* * * \n",
      "* * * * \n",
      "* * * * * \n",
      "* * * * * \n",
      "* * * * \n",
      "* * * \n",
      "* * \n",
      "* \n"
     ]
    }
   ],
   "source": [
    "for i in range(5):\n",
    "    print(\"* \"*(i+1))\n",
    "\n",
    "\n",
    "for i in range(5,0,-1):\n",
    "    print(\"* \"*(i))"
   ]
  },
  {
   "cell_type": "code",
   "execution_count": 67,
   "id": "8339ecb2-725f-4dfb-99cc-01f3ca7594d3",
   "metadata": {},
   "outputs": [
    {
     "name": "stdout",
     "output_type": "stream",
     "text": [
      "* * * * * \n",
      "* * * * \n",
      "* * * \n",
      "* * \n",
      "* \n"
     ]
    }
   ],
   "source": [
    "for i in range(5):\n",
    "    for j in range(i+1):\n",
    "        print('*', end=\" \")\n",
    "    print()\n",
    "\n",
    "for i in range(5):\n",
    "    for j in range(i,5):\n",
    "        print('*', end = ' ')\n",
    "    print()"
   ]
  },
  {
   "cell_type": "code",
   "execution_count": 62,
   "id": "59a5f16f-41fe-476d-a47a-3c633228b428",
   "metadata": {},
   "outputs": [
    {
     "data": {
      "text/plain": [
       "{'m': 2, 'a': 2, 'd': 1}"
      ]
     },
     "execution_count": 62,
     "metadata": {},
     "output_type": "execute_result"
    }
   ],
   "source": [
    "def rep(word):\n",
    "    res = {}\n",
    "    for i in list(word):\n",
    "        if i in res:\n",
    "            res[i] +=1\n",
    "        else:\n",
    "            res[i]=1\n",
    "    return res\n",
    "\n",
    "rep('madam')"
   ]
  },
  {
   "cell_type": "code",
   "execution_count": 2,
   "id": "79bff550-8856-46da-8879-5b5d8b1b0eb1",
   "metadata": {},
   "outputs": [
    {
     "data": {
      "text/plain": [
       "range(0, 10)"
      ]
     },
     "execution_count": 2,
     "metadata": {},
     "output_type": "execute_result"
    }
   ],
   "source": [
    "range(10)"
   ]
  },
  {
   "cell_type": "code",
   "execution_count": null,
   "id": "3bd7e57a-30ae-4d2e-a008-186a767ae8c8",
   "metadata": {},
   "outputs": [],
   "source": []
  }
 ],
 "metadata": {
  "kernelspec": {
   "display_name": "Python 3 (ipykernel)",
   "language": "python",
   "name": "python3"
  },
  "language_info": {
   "codemirror_mode": {
    "name": "ipython",
    "version": 3
   },
   "file_extension": ".py",
   "mimetype": "text/x-python",
   "name": "python",
   "nbconvert_exporter": "python",
   "pygments_lexer": "ipython3",
   "version": "3.12.3"
  },
  "widgets": {
   "application/vnd.jupyter.widget-state+json": {
    "state": {},
    "version_major": 2,
    "version_minor": 0
   }
  }
 },
 "nbformat": 4,
 "nbformat_minor": 5
}
