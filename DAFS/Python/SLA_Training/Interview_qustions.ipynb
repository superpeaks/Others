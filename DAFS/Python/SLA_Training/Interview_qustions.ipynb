{
 "cells": [
  {
   "cell_type": "code",
   "execution_count": 9,
   "id": "35c4d146-50e4-46ba-85d6-c28c5b5ea4cd",
   "metadata": {},
   "outputs": [
    {
     "name": "stdin",
     "output_type": "stream",
     "text": [
      "Enter the num 9\n"
     ]
    },
    {
     "name": "stdout",
     "output_type": "stream",
     "text": [
      "1\n",
      "11\n",
      "111\n",
      "1111\n",
      "11111\n",
      "111111\n",
      "1111111\n",
      "11111111\n",
      "111111111\n",
      "\n",
      "\n",
      "\n",
      "\n",
      "123456789\n"
     ]
    }
   ],
   "source": [
    "num = int(input('Enter the num'))\n",
    "\n",
    "num_series = total =0\n",
    "\n",
    "for i in range(num):\n",
    "    num_series = (num_series*10)+1\n",
    "    print(num_series)\n",
    "    total += num_series\n",
    "\n",
    "print('\\n\\n\\n')\n",
    "print(total)"
   ]
  },
  {
   "cell_type": "code",
   "execution_count": 6,
   "id": "34ec7249-07ab-4084-bb50-816510817650",
   "metadata": {},
   "outputs": [
    {
     "data": {
      "text/plain": [
       "123456789"
      ]
     },
     "execution_count": 6,
     "metadata": {},
     "output_type": "execute_result"
    }
   ],
   "source": [
    "1+11+111+1111+11111+111111+1111111+11111111+111111111"
   ]
  },
  {
   "cell_type": "code",
   "execution_count": 17,
   "id": "b13461c4-d183-40ed-b3af-e18a7c17b751",
   "metadata": {},
   "outputs": [
    {
     "name": "stdin",
     "output_type": "stream",
     "text": [
      "Enter the num 5\n"
     ]
    },
    {
     "name": "stdout",
     "output_type": "stream",
     "text": [
      "Prime\n"
     ]
    }
   ],
   "source": [
    "num = int(input('Enter the num'))\n",
    "count = 0\n",
    "for i in range(1,num+1):\n",
    "    if num%i == 0:\n",
    "        count+=1\n",
    "\n",
    "if count==2:\n",
    "    print(\"Prime\")\n",
    "else:\n",
    "    print(\"not prime\")"
   ]
  },
  {
   "cell_type": "code",
   "execution_count": 16,
   "id": "e0a8c30d-ea6e-4014-aa17-43ab0564a913",
   "metadata": {},
   "outputs": [
    {
     "name": "stdin",
     "output_type": "stream",
     "text": [
      "Enter the num 14\n"
     ]
    },
    {
     "name": "stdout",
     "output_type": "stream",
     "text": [
      "not prime\n"
     ]
    }
   ],
   "source": [
    "num = int(input('Enter the num'))\n",
    "count = 0\n",
    "for i in range(1,num):\n",
    "    if num%i == 0:\n",
    "        count+=1\n",
    "\n",
    "if count==1:\n",
    "    print(\"Prime\")\n",
    "else:\n",
    "    print(\"not prime\")"
   ]
  },
  {
   "cell_type": "code",
   "execution_count": 20,
   "id": "63675e02-e754-4a79-88f8-7bea264b759a",
   "metadata": {},
   "outputs": [
    {
     "name": "stdout",
     "output_type": "stream",
     "text": [
      "{1: 4, 2: 2, 3: 6, 4: 5}\n"
     ]
    }
   ],
   "source": [
    "num = [1,1,1,1,2,2,3,3,3,3,3,3,4,4,4,4,4]\n",
    "ans = {}\n",
    "\n",
    "for i in num:\n",
    "    if i in ans:\n",
    "        ans[i]=ans[i]+1\n",
    "    else:\n",
    "        ans[i]=1\n",
    "\n",
    "print(ans)"
   ]
  },
  {
   "cell_type": "code",
   "execution_count": 32,
   "id": "f271dcac-d3a6-43cf-8383-74485b531424",
   "metadata": {},
   "outputs": [
    {
     "name": "stdout",
     "output_type": "stream",
     "text": [
      "{'m': 1, 'i': 4, 's': 2, 'c': 1, 'p': 1}\n",
      "m in 1 times\n",
      "i in 4 times\n",
      "s in 2 times\n",
      "c in 1 times\n",
      "p in 1 times\n"
     ]
    }
   ],
   "source": [
    "num = 'missicipi'\n",
    "ans = {}\n",
    "\n",
    "for i in num:\n",
    "    if i in ans:\n",
    "        ans[i]=ans[i]+1\n",
    "    else:\n",
    "        ans[i]=1\n",
    "\n",
    "print(ans)\n",
    "for i,j in ans.items():\n",
    "    print(f\"{i} in {j} times\")"
   ]
  },
  {
   "cell_type": "code",
   "execution_count": 21,
   "id": "18d05675-f61c-4526-9672-a690b3bb369b",
   "metadata": {},
   "outputs": [
    {
     "data": {
      "text/plain": [
       "{}"
      ]
     },
     "execution_count": 21,
     "metadata": {},
     "output_type": "execute_result"
    }
   ],
   "source": [
    "di = {}\n",
    "di"
   ]
  },
  {
   "cell_type": "code",
   "execution_count": 22,
   "id": "a2a35788-3d26-4663-b2e2-fb4b241df124",
   "metadata": {},
   "outputs": [],
   "source": [
    "di[1]=1"
   ]
  },
  {
   "cell_type": "code",
   "execution_count": 23,
   "id": "c876140a-e8c5-477f-8e19-677fbd917b56",
   "metadata": {},
   "outputs": [
    {
     "data": {
      "text/plain": [
       "{1: 1}"
      ]
     },
     "execution_count": 23,
     "metadata": {},
     "output_type": "execute_result"
    }
   ],
   "source": [
    "di"
   ]
  },
  {
   "cell_type": "code",
   "execution_count": 24,
   "id": "44915ea3-d426-4f09-a260-594e74a2ea10",
   "metadata": {},
   "outputs": [
    {
     "data": {
      "text/plain": [
       "{1: 1, 2: 1}"
      ]
     },
     "execution_count": 24,
     "metadata": {},
     "output_type": "execute_result"
    }
   ],
   "source": [
    "di[2]=1\n",
    "di"
   ]
  },
  {
   "cell_type": "code",
   "execution_count": 33,
   "id": "4c697304-337a-4d3c-b9cc-c189ee50b8c5",
   "metadata": {},
   "outputs": [
    {
     "ename": "SyntaxError",
     "evalue": "invalid syntax (3512450357.py, line 1)",
     "output_type": "error",
     "traceback": [
      "  \u001b[36mCell\u001b[39m\u001b[36m \u001b[39m\u001b[32mIn[33]\u001b[39m\u001b[32m, line 1\u001b[39m\n\u001b[31m    \u001b[39m\u001b[31mPAPA OFFICIAL DOC IN PYTHON\u001b[39m\n         ^\n\u001b[31mSyntaxError\u001b[39m\u001b[31m:\u001b[39m invalid syntax\n"
     ]
    }
   ],
   "source": [
    "Pep8 OFFICIAL DOC IN PYTHON\n",
    "garbag collector\n",
    "pip usage\n",
    "python is iterpretor,compliller         dynamic"
   ]
  },
  {
   "cell_type": "code",
   "execution_count": 3,
   "id": "676d3fd2-fc6f-46ed-9cc7-7b88426af06a",
   "metadata": {},
   "outputs": [
    {
     "data": {
      "text/plain": [
       "'rajesh'"
      ]
     },
     "execution_count": 3,
     "metadata": {},
     "output_type": "execute_result"
    }
   ],
   "source": [
    "'raj'+'esh'"
   ]
  },
  {
   "cell_type": "code",
   "execution_count": 35,
   "id": "bce6ffc2-40f7-4601-97c2-8de909e80335",
   "metadata": {},
   "outputs": [
    {
     "name": "stdout",
     "output_type": "stream",
     "text": [
      "2025-05-16 18:04:26.297019\n"
     ]
    }
   ],
   "source": [
    "from datetime import datetime\n",
    "\n",
    "print(datetime.now())"
   ]
  },
  {
   "cell_type": "code",
   "execution_count": 2,
   "id": "4ed106d2-caee-4d63-b144-281700d2c452",
   "metadata": {},
   "outputs": [
    {
     "name": "stdout",
     "output_type": "stream",
     "text": [
      "True\n"
     ]
    }
   ],
   "source": [
    "import gc\n",
    "\n",
    "print(gc.isenabled())"
   ]
  },
  {
   "cell_type": "code",
   "execution_count": 4,
   "id": "5e1bb734-98ed-4cf1-888a-bdef2cb959ad",
   "metadata": {},
   "outputs": [
    {
     "data": {
      "text/plain": [
       "'i'"
      ]
     },
     "execution_count": 4,
     "metadata": {},
     "output_type": "execute_result"
    }
   ],
   "source": [
    "'hi'[1]"
   ]
  },
  {
   "cell_type": "code",
   "execution_count": 6,
   "id": "df850af7-2d6c-4a42-a2d1-b10d0c62ab49",
   "metadata": {},
   "outputs": [
    {
     "data": {
      "text/plain": [
       "True"
      ]
     },
     "execution_count": 6,
     "metadata": {},
     "output_type": "execute_result"
    }
   ],
   "source": [
    "'123'.isnumeric()"
   ]
  },
  {
   "cell_type": "code",
   "execution_count": null,
   "id": "e35f22a6-c8f8-450a-b2d6-0408e66afe79",
   "metadata": {},
   "outputs": [],
   "source": []
  }
 ],
 "metadata": {
  "kernelspec": {
   "display_name": "Python 3 (ipykernel)",
   "language": "python",
   "name": "python3"
  },
  "language_info": {
   "codemirror_mode": {
    "name": "ipython",
    "version": 3
   },
   "file_extension": ".py",
   "mimetype": "text/x-python",
   "name": "python",
   "nbconvert_exporter": "python",
   "pygments_lexer": "ipython3",
   "version": "3.12.9"
  }
 },
 "nbformat": 4,
 "nbformat_minor": 5
}
