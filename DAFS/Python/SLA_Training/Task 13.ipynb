{
 "cells": [
  {
   "cell_type": "code",
   "execution_count": 34,
   "id": "12b4802a-8635-428b-b138-40e5a4caff9a",
   "metadata": {},
   "outputs": [],
   "source": [
    "from abc import ABC, abstractmethod\n",
    "\n",
    "class Bank(ABC):\n",
    "    \n",
    "    @abstractmethod\n",
    "    def joint_acc(self):\n",
    "        pass\n",
    "\n",
    "    @abstractmethod\n",
    "    def saving_acc(self):\n",
    "        pass\n",
    "\n",
    "    @abstractmethod\n",
    "    def salary_acc(self):\n",
    "        pass\n",
    "\n",
    "    @abstractmethod\n",
    "    def bussines_acc(self):\n",
    "        pass\n",
    "\n",
    "    def welcome(self):\n",
    "        print(f\"Wellcome to SBI Account Opening process\")\n",
    "\n",
    "\n",
    "class Student(Bank):\n",
    "    def __init__(self, age):\n",
    "        self.age = age\n",
    "        \n",
    "    def joint_acc(self):\n",
    "        if self.age>18:\n",
    "            print(f\"Sorry, Your age is {self.age} and this service not available for age above 18 and above\")\n",
    "        elif self.age>=15:\n",
    "            print(f\"Your age is {self.age} and You are eligible for joint acc with 5% subsidy\")\n",
    "        else:\n",
    "            print(f\"Your age is {self.age} and You are eligible for joint acc with 10% subsidy\")\n",
    "\n",
    "    def saving_acc(self):\n",
    "        pass\n",
    "\n",
    "    def salary_acc(self):\n",
    "        pass\n",
    "\n",
    "    def bussines_acc(self):\n",
    "        pass\n",
    "\n",
    "\n",
    "class Worker(Bank):\n",
    "    def __init__(self,name,gender,salary,adhar):\n",
    "        self.name = name\n",
    "        self.gender = gender\n",
    "        self.salary = salary\n",
    "        self.__adhar = adhar\n",
    "\n",
    "    def joint_acc(self):\n",
    "        pass\n",
    "    \n",
    "    def saving_acc(self):\n",
    "        pass\n",
    "\n",
    "    def salary_acc(self):\n",
    "        if self.gender == 'male':\n",
    "            if self.salary>20000:\n",
    "                print(f\"Your are {self.gender} person and your salary is {self.salary} and which is more than 20000rs. \\nYou are eligile to Open sallary account\")\n",
    "            if self.salary<=20000:\n",
    "                print(f\"Your sallary is must more than 20000rs. \\nYou are not eligile to Open sallary account.\\nPlease check Jiont account\")\n",
    "        elif self.gender == 'female':\n",
    "            if self.salary>25000:\n",
    "                print(f\"Your are {self.gender} person and your salary is {self.salary} and which is more than 25000rs. You are eligile to Open sallary account\")\n",
    "            if self.salary<=20000:\n",
    "                print(f\"Your sallary is must more than 25000rs. You are not eligile to Open sallary account.\\n Please check Jiont account\")\n",
    "\n",
    "    def bussines_acc(self):\n",
    "        pass\n",
    "\n",
    "class Normal(Bank):\n",
    "    def __init__(self,name,age,gender,adhar,pancard,nomine,nationality):\n",
    "        self.name = name\n",
    "        self.age = age\n",
    "        self.gender = gender\n",
    "        self.__adhar = adhar\n",
    "        self.__pancard = pancard\n",
    "        self.__nomine = nomine\n",
    "        self.nationality = nationality\n",
    "\n",
    "    def joint_acc(self):\n",
    "        pass\n",
    "\n",
    "    def saving_acc(self):\n",
    "        if self.nationality == 'indian':\n",
    "            print(f\"{self.name} is eligible to open account\")\n",
    "        else:\n",
    "            print(f\"{self.name} is no eligible to open account\")\n",
    "\n",
    "    def salary_acc(self):\n",
    "        pass\n",
    "\n",
    "    def bussines_acc(self):\n",
    "        pass\n",
    "\n",
    "class Company(Bank):\n",
    "\n",
    "    def __init__(self,name,age,adhar,pancard,gst_file_yrs,turnover):\n",
    "        self.name = name\n",
    "        self.age = age\n",
    "        self.__adhar = adhar\n",
    "        self.__pancard = pancard\n",
    "        self._gst_file_yrs = gst_file_yrs\n",
    "        self.__turnover = turnover\n",
    "\n",
    "    def joint_acc(self):\n",
    "        pass\n",
    "\n",
    "    def saving_acc(self):\n",
    "        pass\n",
    "\n",
    "    def salary_acc(self):\n",
    "        pass\n",
    "\n",
    "    def bussines_acc(self):\n",
    "        if self._gst_file_yrs<=3 or not self.__pancard or self.__turnover<10000000:\n",
    "            print(\"Not eligible to open Bussines account\")\n",
    "        elif self._gst_file_yrs>3 and self.__pancard and self.__turnover>10000000:\n",
    "            print(\"Eligible to open bussines account\")\n",
    "        else:\n",
    "            print(\"Please check with our manager\")"
   ]
  },
  {
   "cell_type": "code",
   "execution_count": 35,
   "id": "8eb3aac9-b409-4b51-ba67-a56fd7c07173",
   "metadata": {},
   "outputs": [
    {
     "name": "stdout",
     "output_type": "stream",
     "text": [
      "Your age is 14 and You are eligible for joint acc with 10% subsidy\n"
     ]
    }
   ],
   "source": [
    "student1 = Student(14)\n",
    "student1.joint_acc()"
   ]
  },
  {
   "cell_type": "code",
   "execution_count": 36,
   "id": "7071f7d0-4041-4e47-b6f5-3acb0b3aa84e",
   "metadata": {},
   "outputs": [
    {
     "name": "stdout",
     "output_type": "stream",
     "text": [
      "Your age is 18 and You are eligible for joint acc with 5% subsidy\n"
     ]
    }
   ],
   "source": [
    "student2 = Student(18)\n",
    "student2.joint_acc()"
   ]
  },
  {
   "cell_type": "code",
   "execution_count": 37,
   "id": "a72be8b8-19f5-4073-bde6-1326753ed103",
   "metadata": {},
   "outputs": [
    {
     "name": "stdout",
     "output_type": "stream",
     "text": [
      "Sorry, Your age is 22 and this service not available for age above 18 and above\n"
     ]
    }
   ],
   "source": [
    "student3 = Student(22)\n",
    "student3.joint_acc()"
   ]
  },
  {
   "cell_type": "code",
   "execution_count": null,
   "id": "7e91d882-d24a-4b7d-8305-7e1ce38e0bab",
   "metadata": {},
   "outputs": [],
   "source": []
  },
  {
   "cell_type": "code",
   "execution_count": 38,
   "id": "1ec921fd-1570-4868-b0f5-2bb60bf7067c",
   "metadata": {},
   "outputs": [
    {
     "name": "stdout",
     "output_type": "stream",
     "text": [
      "Your sallary is must more than 20000rs. \n",
      "You are not eligile to Open sallary account.\n",
      "Please check Jiont account\n"
     ]
    }
   ],
   "source": [
    "person1 = Worker('Ramu','male',20000,1234567891011)\n",
    "person1.salary_acc()"
   ]
  },
  {
   "cell_type": "code",
   "execution_count": 39,
   "id": "8ecb8789-0324-4f1c-b44e-a41bd601edcd",
   "metadata": {},
   "outputs": [
    {
     "name": "stdout",
     "output_type": "stream",
     "text": [
      "Your are male person and your salary is 25000 and which is more than 20000rs. \n",
      "You are eligile to Open sallary account\n"
     ]
    }
   ],
   "source": [
    "person2 = Worker('Ramu','male',25000,1234567891011)\n",
    "person2.salary_acc()"
   ]
  },
  {
   "cell_type": "code",
   "execution_count": 40,
   "id": "0e974550-f1f3-436b-8f21-eed6be5e6514",
   "metadata": {},
   "outputs": [
    {
     "name": "stdout",
     "output_type": "stream",
     "text": [
      "Your sallary is must more than 25000rs. You are not eligile to Open sallary account.\n",
      " Please check Jiont account\n"
     ]
    }
   ],
   "source": [
    "person3 = Worker('Raji','female',20000,1234567891011)\n",
    "person3.salary_acc()"
   ]
  },
  {
   "cell_type": "code",
   "execution_count": 41,
   "id": "7bba8b3f-ed82-4c81-8f48-cdb3891c5ac5",
   "metadata": {},
   "outputs": [
    {
     "name": "stdout",
     "output_type": "stream",
     "text": [
      "Your are female person and your salary is 28000 and which is more than 25000rs. You are eligile to Open sallary account\n"
     ]
    }
   ],
   "source": [
    "person4 = Worker('Raji','female',28000,1234567891011)\n",
    "person4.salary_acc()"
   ]
  },
  {
   "cell_type": "code",
   "execution_count": null,
   "id": "bd19711d-8c53-4a9a-8339-8ac1deacbf7d",
   "metadata": {},
   "outputs": [],
   "source": []
  },
  {
   "cell_type": "code",
   "execution_count": 42,
   "id": "77db5a36-f76e-4220-8db2-c41f1681a2a5",
   "metadata": {},
   "outputs": [],
   "source": [
    "person5 = Normal('Ragu', 25, 'male', 1234567891011, 'aabb1111c', 'mother', 'indian')\n",
    "person5.saving_acc()"
   ]
  },
  {
   "cell_type": "code",
   "execution_count": 44,
   "id": "f9d9fafc-21c9-413f-b9da-4ce06476d6be",
   "metadata": {},
   "outputs": [
    {
     "name": "stdout",
     "output_type": "stream",
     "text": [
      "Ragu is no eligible to open account\n"
     ]
    }
   ],
   "source": [
    "person6 = Normal('Ragu', 25, 'male', 1234567891011, 'aabb1111c', 'mother', 'us')\n",
    "person6.saving_acc()"
   ]
  },
  {
   "cell_type": "code",
   "execution_count": null,
   "id": "48af6e08-8c4c-43d1-a3d9-7fa66631df0d",
   "metadata": {},
   "outputs": [],
   "source": []
  },
  {
   "cell_type": "code",
   "execution_count": 46,
   "id": "882e1cf7-3c46-4c01-bb80-682018dea0c6",
   "metadata": {},
   "outputs": [
    {
     "name": "stdout",
     "output_type": "stream",
     "text": [
      "Not eligible to open Bussines account\n"
     ]
    }
   ],
   "source": [
    "person7 = Company('AB&co', 15, 1122334455667788, 'aabb112233n', 5, 155555)\n",
    "person7.bussines_acc()"
   ]
  },
  {
   "cell_type": "code",
   "execution_count": 47,
   "id": "55a3f044-3864-4893-8e76-8c367ecdfc1f",
   "metadata": {},
   "outputs": [
    {
     "name": "stdout",
     "output_type": "stream",
     "text": [
      "Eligible to open bussines account\n"
     ]
    }
   ],
   "source": [
    "person7 = Company('AB&co', 15, 1122334455667788, 'aabb112233n', 5, 15555500)\n",
    "person7.bussines_acc()"
   ]
  },
  {
   "cell_type": "code",
   "execution_count": null,
   "id": "7247ff72-d7d3-4cef-aa9c-47e4a4a82c92",
   "metadata": {},
   "outputs": [],
   "source": []
  }
 ],
 "metadata": {
  "kernelspec": {
   "display_name": "Python 3 (ipykernel)",
   "language": "python",
   "name": "python3"
  },
  "language_info": {
   "codemirror_mode": {
    "name": "ipython",
    "version": 3
   },
   "file_extension": ".py",
   "mimetype": "text/x-python",
   "name": "python",
   "nbconvert_exporter": "python",
   "pygments_lexer": "ipython3",
   "version": "3.12.3"
  },
  "widgets": {
   "application/vnd.jupyter.widget-state+json": {
    "state": {},
    "version_major": 2,
    "version_minor": 0
   }
  }
 },
 "nbformat": 4,
 "nbformat_minor": 5
}
