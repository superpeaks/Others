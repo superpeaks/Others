{
 "cells": [
  {
   "cell_type": "markdown",
   "id": "8c6dcba8-d96a-41e9-b97c-e97cc2faec64",
   "metadata": {
    "jp-MarkdownHeadingCollapsed": true
   },
   "source": [
    "### If Statements\n",
    "\n",
    "1. Write an `if` statement that checks if a variable `x` is greater than 10.\n",
    "2. Write an `if` statement that checks if a variable `y` is less than or equal to 5.\n",
    "3. Write an `if` statement that checks if a string `name` is equal to \"Alice\".\n",
    "4. Write an `if` statement that checks if a number `num` is even.\n",
    "5. Write an `if` statement that checks if a variable `z` is positive.\n",
    "6. Write an `if` statement that checks if a list `my_list` is not empty.\n",
    "7. Write an `if` statement that checks if a variable `a` is between 1 and 100.\n",
    "8. Write an `if` statement that checks if a string `password` contains \"@\".\n",
    "9. Write an `if` statement that checks if a number `b` is a multiple of 5.\n",
    "10. Write an `if` statement that checks if a string `s` starts with \"Hello\"."
   ]
  },
  {
   "cell_type": "code",
   "execution_count": 20,
   "id": "04825142-ae9e-4dd1-8f0e-c3aabe9450d3",
   "metadata": {},
   "outputs": [
    {
     "name": "stdin",
     "output_type": "stream",
     "text": [
      "enter the value 11\n"
     ]
    },
    {
     "name": "stdout",
     "output_type": "stream",
     "text": [
      ">10\n"
     ]
    }
   ],
   "source": [
    "x = int(input(\"enter the value\"))\n",
    "if x>10:\n",
    "    print(\">10\")"
   ]
  },
  {
   "cell_type": "code",
   "execution_count": 18,
   "id": "203efa71-3bfa-4f1a-afb7-92aab400ba67",
   "metadata": {},
   "outputs": [
    {
     "name": "stdin",
     "output_type": "stream",
     "text": [
      "enter the value 4\n"
     ]
    },
    {
     "name": "stdout",
     "output_type": "stream",
     "text": [
      "yes\n"
     ]
    }
   ],
   "source": [
    "y = int(input(\"enter the value\"))\n",
    "if y<=5:\n",
    "    print('yes')"
   ]
  },
  {
   "cell_type": "code",
   "execution_count": 16,
   "id": "2ca60149-7c3d-4249-b686-f1305ff56af3",
   "metadata": {},
   "outputs": [
    {
     "name": "stdout",
     "output_type": "stream",
     "text": [
      "yes\n"
     ]
    }
   ],
   "source": [
    "name = 'Alice'\n",
    "\n",
    "if name == 'Alice':\n",
    "    print(\"yes\")"
   ]
  },
  {
   "cell_type": "code",
   "execution_count": 15,
   "id": "37b64443-61fe-4697-abde-955f2843bf43",
   "metadata": {},
   "outputs": [
    {
     "name": "stdin",
     "output_type": "stream",
     "text": [
      "enter the value 156\n"
     ]
    },
    {
     "name": "stdout",
     "output_type": "stream",
     "text": [
      "even\n"
     ]
    }
   ],
   "source": [
    "num = int(input(\"enter the value\"))\n",
    "if num%2==0:\n",
    "    print(\"even\")"
   ]
  },
  {
   "cell_type": "code",
   "execution_count": 14,
   "id": "73067eae-ea87-4f00-a6d7-c25eca80faad",
   "metadata": {},
   "outputs": [
    {
     "name": "stdin",
     "output_type": "stream",
     "text": [
      "enter the value 10\n"
     ]
    },
    {
     "name": "stdout",
     "output_type": "stream",
     "text": [
      "+ve\n"
     ]
    }
   ],
   "source": [
    "z=int(input(\"enter the value\"))\n",
    "if z>=0:\n",
    "    print(\"+ve\")"
   ]
  },
  {
   "cell_type": "code",
   "execution_count": 13,
   "id": "bafd30f8-2887-4847-9e2d-1b6e9ae614a4",
   "metadata": {},
   "outputs": [
    {
     "name": "stdout",
     "output_type": "stream",
     "text": [
      "l1 empty\n"
     ]
    }
   ],
   "source": [
    "l1=[]\n",
    "l2=[1,2,3]\n",
    "if not l1:\n",
    "    print(\"l1 empty\")\n",
    "if not l2:\n",
    "    print(\"l2 empty\")"
   ]
  },
  {
   "cell_type": "code",
   "execution_count": 9,
   "id": "52461e38-678f-45bf-b5db-11d05b3a7e57",
   "metadata": {},
   "outputs": [
    {
     "name": "stdin",
     "output_type": "stream",
     "text": [
      "enter the value 28\n"
     ]
    },
    {
     "name": "stdout",
     "output_type": "stream",
     "text": [
      "yes\n"
     ]
    }
   ],
   "source": [
    "a =int(input(\"enter the value\"))\n",
    "if a>=1 and a<101:\n",
    "    print('yes')"
   ]
  },
  {
   "cell_type": "code",
   "execution_count": 5,
   "id": "03c2f2d1-f56a-4164-bc19-94bf91f59252",
   "metadata": {},
   "outputs": [
    {
     "name": "stdin",
     "output_type": "stream",
     "text": [
      "enter the value pass@\n"
     ]
    },
    {
     "name": "stdout",
     "output_type": "stream",
     "text": [
      "yes\n"
     ]
    }
   ],
   "source": [
    "passw = input(\"enter the value\")\n",
    "if '@' in passw:\n",
    "    print(\"yes\")"
   ]
  },
  {
   "cell_type": "code",
   "execution_count": 3,
   "id": "0b758d40-3435-4a2f-930d-0096ebbf5d4b",
   "metadata": {},
   "outputs": [
    {
     "name": "stdin",
     "output_type": "stream",
     "text": [
      "enter the value 5\n"
     ]
    },
    {
     "name": "stdout",
     "output_type": "stream",
     "text": [
      "div by 5\n"
     ]
    }
   ],
   "source": [
    "b =int(input(\"enter the value\"))\n",
    "if b%5==0:\n",
    "    print(\"div by 5\")"
   ]
  },
  {
   "cell_type": "code",
   "execution_count": 1,
   "id": "7a7904ca-7ec3-47b4-b527-a3fd869054aa",
   "metadata": {},
   "outputs": [
    {
     "name": "stdout",
     "output_type": "stream",
     "text": [
      "yes\n"
     ]
    }
   ],
   "source": [
    "s='hello world'\n",
    "if s.startswith(\"hello\"):\n",
    "    print(\"yes\")"
   ]
  },
  {
   "cell_type": "markdown",
   "id": "09a947ad-22d9-43d1-9e5b-9479d874ba6f",
   "metadata": {},
   "source": [
    "### Nested If Statements pending\n",
    "\n",
    "11. Write a nested `if` statement to check if `x` is greater than 10 and if `y` is less than 5.\n",
    "12. Write a nested `if` statement to check if a variable `age` is between 18 and 65 and if `citizen` is True.\n",
    "13. Write a nested `if` statement to check if `score` is greater than 90 and if `attendance` is greater than 80.\n",
    "14. Write a nested `if` statement to check if a variable `temp` is below 0 and if `weather` is \"snowy\".\n",
    "15. Write a nested `if` statement to check if a variable `grade` is \"A\" and if `passed` is True."
   ]
  },
  {
   "cell_type": "code",
   "execution_count": 3,
   "id": "50dfaf7a-95fa-4c6b-a6bd-8ec8029469e2",
   "metadata": {},
   "outputs": [
    {
     "name": "stdin",
     "output_type": "stream",
     "text": [
      "enter the value 50\n",
      "enter the value 2\n"
     ]
    },
    {
     "name": "stdout",
     "output_type": "stream",
     "text": [
      "x>10,y<5\n"
     ]
    }
   ],
   "source": [
    "x=int(input(\"enter the value\"))\n",
    "y=int(input(\"enter the value\"))\n",
    "\n",
    "if x>10:\n",
    "    if y<5:\n",
    "        print(\"x>10,y<5\")"
   ]
  },
  {
   "cell_type": "code",
   "execution_count": 4,
   "id": "ac5076c8-27c9-47b9-b818-6063e3467e1a",
   "metadata": {},
   "outputs": [
    {
     "name": "stdin",
     "output_type": "stream",
     "text": [
      "enter the value 25\n"
     ]
    },
    {
     "name": "stdout",
     "output_type": "stream",
     "text": [
      "yes\n"
     ]
    }
   ],
   "source": [
    "citizen =True\n",
    "age =int(input(\"enter the value\"))\n",
    "if citizen:\n",
    "    if age >=18 and age<=65:\n",
    "        print(\"yes\")"
   ]
  },
  {
   "cell_type": "code",
   "execution_count": 1,
   "id": "bdc5bd9e-abd7-4287-86f7-240e41d20d3d",
   "metadata": {},
   "outputs": [
    {
     "name": "stdout",
     "output_type": "stream",
     "text": [
      "A-pass\n"
     ]
    }
   ],
   "source": [
    "grade ='A'\n",
    "passed= True\n",
    "\n",
    "if grade=='A':\n",
    "    if passed:\n",
    "        print(\"A-pass\")"
   ]
  },
  {
   "cell_type": "markdown",
   "id": "7fca6053-034a-41c6-a51c-7e00c0f9c32a",
   "metadata": {},
   "source": [
    "### While Loops\n",
    "\n",
    "26. Write a `while` loop that prints numbers from 1 to 10.\n",
    "27. Write a `while` loop that prints the first 10 even numbers.\n",
    "28. Write a `while` loop that prints the first 10 odd numbers.\n",
    "29. Write a `while` loop that prints the multiplication table of 5.\n",
    "30. Write a `while` loop that prints the Fibonacci sequence up to the 10th term."
   ]
  },
  {
   "cell_type": "code",
   "execution_count": 5,
   "id": "02ca8d8a-e38b-4975-ac78-7bbe3f3d7056",
   "metadata": {},
   "outputs": [
    {
     "name": "stdout",
     "output_type": "stream",
     "text": [
      "1\n",
      "2\n",
      "3\n",
      "4\n",
      "5\n",
      "6\n",
      "7\n",
      "8\n",
      "9\n",
      "10\n"
     ]
    }
   ],
   "source": [
    "i = 1\n",
    "while i<=10:\n",
    "    print(i)\n",
    "    i+=1"
   ]
  },
  {
   "cell_type": "code",
   "execution_count": 7,
   "id": "578dbab4-17e2-48af-a3f4-432d40dd3ea6",
   "metadata": {},
   "outputs": [
    {
     "name": "stdout",
     "output_type": "stream",
     "text": [
      "2\n",
      "4\n",
      "6\n",
      "8\n",
      "10\n"
     ]
    }
   ],
   "source": [
    "i = 1\n",
    "while i<=10:\n",
    "    if i%2==0:\n",
    "        print(i)\n",
    "    i+=1"
   ]
  },
  {
   "cell_type": "code",
   "execution_count": 8,
   "id": "17e54bd4-2e28-4a36-a572-ab8f12aa653e",
   "metadata": {},
   "outputs": [
    {
     "name": "stdout",
     "output_type": "stream",
     "text": [
      "1\n",
      "3\n",
      "5\n",
      "7\n",
      "9\n"
     ]
    }
   ],
   "source": [
    "i = 1\n",
    "while i<=10:\n",
    "    if i%2==1:\n",
    "        print(i)\n",
    "    i+=1"
   ]
  },
  {
   "cell_type": "code",
   "execution_count": 11,
   "id": "4834e435-d962-4c8c-9d4c-93d72a9793ba",
   "metadata": {},
   "outputs": [
    {
     "name": "stdout",
     "output_type": "stream",
     "text": [
      "1 X 5 = 5\n",
      "2 X 5 = 10\n",
      "3 X 5 = 15\n",
      "4 X 5 = 20\n",
      "5 X 5 = 25\n",
      "6 X 5 = 30\n",
      "7 X 5 = 35\n",
      "8 X 5 = 40\n",
      "9 X 5 = 45\n",
      "10 X 5 = 50\n"
     ]
    }
   ],
   "source": [
    "i = 1\n",
    "while i<=10:\n",
    "    print(f\"{i} X {5} = {i*5}\")\n",
    "    i+=1"
   ]
  },
  {
   "cell_type": "code",
   "execution_count": 13,
   "id": "eb8491c6-5cd5-4f5a-83be-1ce67ab5d139",
   "metadata": {},
   "outputs": [
    {
     "name": "stdout",
     "output_type": "stream",
     "text": [
      "0\n",
      "1\n",
      "1\n",
      "2\n",
      "3\n",
      "5\n",
      "8\n",
      "13\n",
      "21\n",
      "34\n"
     ]
    }
   ],
   "source": [
    "a,b = 0,1\n",
    "i = 1\n",
    "while i <=10:\n",
    "    print(a)\n",
    "    a,b=b,a+b\n",
    "    i+=1"
   ]
  },
  {
   "cell_type": "markdown",
   "id": "b23fff37-326c-42af-9144-e8db3d4ec658",
   "metadata": {},
   "source": [
    "### While Loops with Condition\n",
    "\n",
    "31. Write a `while` loop that continues until the user enters \"stop\".\n",
    "32. Write a `while` loop that prints the sum of numbers from 1 to 100.\n",
    "33. Write a `while` loop that prints all the characters of a string `s`.\n",
    "34. Write a `while` loop that finds the factorial of a number `n`.\n",
    "35. Write a `while` loop that prints all the elements of a list `my_list`."
   ]
  },
  {
   "cell_type": "code",
   "execution_count": 16,
   "id": "6b9f3caa-c73d-45c6-8e03-0229c892bb0f",
   "metadata": {},
   "outputs": [
    {
     "name": "stdin",
     "output_type": "stream",
     "text": [
      "enter the value eirg\n",
      "enter the value xfhgberf\n",
      "enter the value stop\n"
     ]
    }
   ],
   "source": [
    "while True:\n",
    "    val= input(\"enter the value\")\n",
    "    if val =='stop':\n",
    "        break\n",
    "    "
   ]
  },
  {
   "cell_type": "code",
   "execution_count": 17,
   "id": "03e7cc99-b347-44fb-936e-bc9a4420c8b2",
   "metadata": {},
   "outputs": [
    {
     "name": "stdout",
     "output_type": "stream",
     "text": [
      "5050\n"
     ]
    }
   ],
   "source": [
    "i=1\n",
    "s=0\n",
    "while i<=100:\n",
    "    s+=i\n",
    "    i+=1\n",
    "print(s)"
   ]
  },
  {
   "cell_type": "code",
   "execution_count": 18,
   "id": "a743968f-d3bc-487a-b107-035a97528c6e",
   "metadata": {},
   "outputs": [
    {
     "name": "stdout",
     "output_type": "stream",
     "text": [
      "h\n",
      "e\n",
      "l\n",
      "l\n",
      "o\n",
      " \n",
      "w\n",
      "o\n",
      "r\n",
      "d\n"
     ]
    }
   ],
   "source": [
    "s='hello word'\n",
    "i=0\n",
    "while i<len(s):\n",
    "    print(s[i])\n",
    "    i+=1"
   ]
  },
  {
   "cell_type": "code",
   "execution_count": 22,
   "id": "b4834e8e-960f-4fe0-b3e0-6da1bb57d9e5",
   "metadata": {},
   "outputs": [
    {
     "name": "stdin",
     "output_type": "stream",
     "text": [
      "enter the value 4\n"
     ]
    },
    {
     "name": "stdout",
     "output_type": "stream",
     "text": [
      "24\n"
     ]
    }
   ],
   "source": [
    "n=int(input(\"enter the value\"))\n",
    "fact=i=1\n",
    "\n",
    "while i<=n:\n",
    "    fact*=i\n",
    "    i+=1\n",
    "print(fact)"
   ]
  },
  {
   "cell_type": "code",
   "execution_count": 23,
   "id": "f30f8482-6499-4259-b40c-f062cddb3fa1",
   "metadata": {},
   "outputs": [
    {
     "name": "stdout",
     "output_type": "stream",
     "text": [
      "1\n",
      "2\n",
      "3\n",
      "4\n",
      "5\n",
      "6\n",
      "7\n",
      "8\n",
      "9\n",
      "10\n"
     ]
    }
   ],
   "source": [
    "l = [1,2,3,4,5,6,7,8,9,10]\n",
    "i=0\n",
    "while i<len(l):\n",
    "    print(l[i])\n",
    "    i+=1"
   ]
  },
  {
   "cell_type": "markdown",
   "id": "2ccf6cb9-680f-41c3-bbeb-10f14b793b53",
   "metadata": {
    "collapsed": true,
    "jupyter": {
     "outputs_hidden": true
    }
   },
   "source": [
    "### While Loop with Break\n",
    "\n",
    "36. Write a `while` loop that breaks when a number is greater than 50.\n",
    "37. Write a `while` loop that breaks when a string `s` contains the character \"a\".\n",
    "38. Write a `while` loop that breaks when the sum of numbers exceeds 100.\n",
    "39. Write a `while` loop that breaks when the user inputs \"exit\".\n",
    "40. Write a `while` loop that breaks when a random number is equal to 7.m"
   ]
  },
  {
   "cell_type": "code",
   "execution_count": 28,
   "id": "3dc24205-c010-4910-88db-8004c0199346",
   "metadata": {},
   "outputs": [
    {
     "name": "stdin",
     "output_type": "stream",
     "text": [
      "enter the value 2\n",
      "enter the value 5\n",
      "enter the value 50\n",
      "enter the value 51\n"
     ]
    },
    {
     "name": "stdout",
     "output_type": "stream",
     "text": [
      "break\n"
     ]
    }
   ],
   "source": [
    "while True:\n",
    "    n = int(input(\"enter the value\"))\n",
    "    if n>50:\n",
    "        print(\"break\")\n",
    "        break"
   ]
  },
  {
   "cell_type": "code",
   "execution_count": 31,
   "id": "8e5c96eb-f040-49c5-a221-f8e064bd8ce2",
   "metadata": {},
   "outputs": [
    {
     "data": {
      "text/plain": [
       "5"
      ]
     },
     "execution_count": 31,
     "metadata": {},
     "output_type": "execute_result"
    }
   ],
   "source": [
    "len(s)"
   ]
  },
  {
   "cell_type": "code",
   "execution_count": 32,
   "id": "4a67f020-e4b8-4044-b36f-363265ac77b0",
   "metadata": {},
   "outputs": [
    {
     "name": "stdout",
     "output_type": "stream",
     "text": [
      "s\n",
      "t\n",
      "a\n"
     ]
    }
   ],
   "source": [
    "s='start'\n",
    "i=0\n",
    "while i<=len(s):\n",
    "    print(s[i])\n",
    "    if s[i]=='a':\n",
    "        break\n",
    "    i+=1"
   ]
  },
  {
   "cell_type": "code",
   "execution_count": 27,
   "id": "bd52738f-b7ec-4b23-b98f-1ea97e504de3",
   "metadata": {},
   "outputs": [
    {
     "name": "stdin",
     "output_type": "stream",
     "text": [
      "enter the value 58\n",
      "enter the value 1\n"
     ]
    },
    {
     "name": "stdout",
     "output_type": "stream",
     "text": [
      "59\n"
     ]
    },
    {
     "name": "stdin",
     "output_type": "stream",
     "text": [
      "enter the value 55\n",
      "enter the value 55\n"
     ]
    },
    {
     "name": "stdout",
     "output_type": "stream",
     "text": [
      "110\n",
      "Break\n"
     ]
    }
   ],
   "source": [
    "while True:\n",
    "    n1 = int(input(\"enter the value\"))\n",
    "    n2 = int(input(\"enter the value\"))\n",
    "    s = n1+n2\n",
    "    print(s)\n",
    "    if s>100:\n",
    "        print(\"Break\")\n",
    "        break"
   ]
  },
  {
   "cell_type": "code",
   "execution_count": 33,
   "id": "aa8c2ac0-d64b-4c47-a314-102a8149a71e",
   "metadata": {},
   "outputs": [
    {
     "name": "stdin",
     "output_type": "stream",
     "text": [
      "enter the value sdf\n",
      "enter the value srg\n",
      "enter the value edrhw\n",
      "enter the value awdth\n",
      "enter the value exit\n"
     ]
    }
   ],
   "source": [
    "while True:\n",
    "    ip = input(\"enter the value\")\n",
    "    if ip == 'exit':\n",
    "        break"
   ]
  },
  {
   "cell_type": "code",
   "execution_count": 34,
   "id": "c34936b8-bddf-4396-badc-6f0a370f06cc",
   "metadata": {},
   "outputs": [
    {
     "name": "stdin",
     "output_type": "stream",
     "text": [
      "enter the value 4\n",
      "enter the value 5\n",
      "enter the value 6\n",
      "enter the value 7\n"
     ]
    }
   ],
   "source": [
    "while True:\n",
    "    ip =int(input(\"enter the value\"))\n",
    "    if ip==7:\n",
    "        break\n",
    "    "
   ]
  },
  {
   "cell_type": "markdown",
   "id": "980397ae-94f2-4048-9b70-b85dcc302ad2",
   "metadata": {},
   "source": [
    "### For Loops\n",
    "\n",
    "41. Write a `for` loop that prints numbers from 1 to 10.\n",
    "42. Write a `for` loop that prints the first 10 even numbers.\n",
    "43. Write a `for` loop that prints the first 10 odd numbers.\n",
    "44. Write a `for` loop that prints the multiplication table of 5.\n",
    "45. Write a `for` loop that prints the Fibonacci sequence up to the 10th term."
   ]
  },
  {
   "cell_type": "code",
   "execution_count": 36,
   "id": "8a311aa7-a7a4-40eb-9a3f-81f7cdba8252",
   "metadata": {},
   "outputs": [
    {
     "name": "stdout",
     "output_type": "stream",
     "text": [
      "1\n",
      "2\n",
      "3\n",
      "4\n",
      "5\n",
      "6\n",
      "7\n",
      "8\n",
      "9\n",
      "10\n"
     ]
    }
   ],
   "source": [
    "for i in range(1,11):\n",
    "    print(i)"
   ]
  },
  {
   "cell_type": "code",
   "execution_count": 37,
   "id": "fbe7269b-0c92-4823-b450-b0100b78a248",
   "metadata": {},
   "outputs": [
    {
     "name": "stdout",
     "output_type": "stream",
     "text": [
      "2\n",
      "4\n",
      "6\n",
      "8\n",
      "10\n"
     ]
    }
   ],
   "source": [
    "for i in range(1,11):\n",
    "    if i%2==0:\n",
    "        print(i)"
   ]
  },
  {
   "cell_type": "code",
   "execution_count": 38,
   "id": "34e3ee51-5ba4-4d28-b386-f73bc3552bcb",
   "metadata": {},
   "outputs": [
    {
     "name": "stdout",
     "output_type": "stream",
     "text": [
      "1\n",
      "3\n",
      "5\n",
      "7\n",
      "9\n"
     ]
    }
   ],
   "source": [
    "for i in range(1,11):\n",
    "    if i%2==1:\n",
    "        print(i)"
   ]
  },
  {
   "cell_type": "code",
   "execution_count": 39,
   "id": "56f02009-0325-455e-9fb2-9dfa9561b26d",
   "metadata": {},
   "outputs": [
    {
     "name": "stdout",
     "output_type": "stream",
     "text": [
      "1 X 5 = 5\n",
      "2 X 5 = 10\n",
      "3 X 5 = 15\n",
      "4 X 5 = 20\n",
      "5 X 5 = 25\n",
      "6 X 5 = 30\n",
      "7 X 5 = 35\n",
      "8 X 5 = 40\n",
      "9 X 5 = 45\n",
      "10 X 5 = 50\n"
     ]
    }
   ],
   "source": [
    "for i in range(10):\n",
    "    print(f\"{i+1} X {5} = {(i+1)*5}\")"
   ]
  },
  {
   "cell_type": "code",
   "execution_count": 40,
   "id": "4111e5d8-6d73-435b-a990-50cd7877709f",
   "metadata": {},
   "outputs": [
    {
     "name": "stdout",
     "output_type": "stream",
     "text": [
      "0\n",
      "1\n",
      "1\n",
      "2\n",
      "3\n",
      "5\n",
      "8\n",
      "13\n",
      "21\n",
      "34\n"
     ]
    }
   ],
   "source": [
    "a,b=0,1\n",
    "for i in range(10):\n",
    "    print(a)\n",
    "    a,b=b,a+b"
   ]
  },
  {
   "cell_type": "markdown",
   "id": "025c2857-3df7-447a-870b-5c8f06e78a96",
   "metadata": {},
   "source": [
    "### For Loops with Lists\n",
    "\n",
    "46. Write a `for` loop that prints all the elements of a list `my_list`.\n",
    "47. Write a `for` loop that prints the square of each number in a list `numbers`.\n",
    "48. Write a `for` loop that prints all the strings in a list `strings` in uppercase.\n",
    "49. Write a `for` loop that prints the length of each string in a list `words`.\n",
    "50. Write a `for` loop that prints the cumulative sum of numbers in a list `numbers`."
   ]
  },
  {
   "cell_type": "code",
   "execution_count": 41,
   "id": "2886104f-a319-4881-acd5-89072876206a",
   "metadata": {},
   "outputs": [
    {
     "name": "stdout",
     "output_type": "stream",
     "text": [
      "1\n",
      "2\n",
      "3\n",
      "4\n",
      "5\n",
      "6\n",
      "7\n",
      "8\n",
      "9\n",
      "10\n"
     ]
    }
   ],
   "source": [
    "l = [1,2,3,4,5,6,7,8,9,10]\n",
    "for i in l:\n",
    "    print(i)"
   ]
  },
  {
   "cell_type": "code",
   "execution_count": 42,
   "id": "6174bfdc-b423-4f5a-8a2a-b123d9bddb94",
   "metadata": {},
   "outputs": [
    {
     "name": "stdout",
     "output_type": "stream",
     "text": [
      "1\n",
      "4\n",
      "9\n",
      "16\n",
      "25\n",
      "36\n",
      "49\n",
      "64\n",
      "81\n",
      "100\n"
     ]
    }
   ],
   "source": [
    "l = [1,2,3,4,5,6,7,8,9,10]\n",
    "for i in l:\n",
    "    print(i**2)"
   ]
  },
  {
   "cell_type": "code",
   "execution_count": 46,
   "id": "8e66d24c-eb9f-4574-9490-9a6319d68d5b",
   "metadata": {},
   "outputs": [
    {
     "name": "stdout",
     "output_type": "stream",
     "text": [
      "HELLO\n",
      "WORLD\n"
     ]
    }
   ],
   "source": [
    "s = [\"hello\", \"world\"]\n",
    "for i in s:\n",
    "    print(i.upper())"
   ]
  },
  {
   "cell_type": "code",
   "execution_count": 47,
   "id": "16ff5b7b-9d15-45d6-ac92-4d2d3d953e0b",
   "metadata": {},
   "outputs": [
    {
     "name": "stdout",
     "output_type": "stream",
     "text": [
      "5\n",
      "5\n"
     ]
    }
   ],
   "source": [
    "s = [\"hello\", \"world\"]\n",
    "for i in s:\n",
    "    print(len(i))"
   ]
  },
  {
   "cell_type": "code",
   "execution_count": 48,
   "id": "c6f116bb-4ff3-4160-8336-8b896f01d986",
   "metadata": {},
   "outputs": [
    {
     "name": "stdout",
     "output_type": "stream",
     "text": [
      "55\n"
     ]
    }
   ],
   "source": [
    "l = [1,2,3,4,5,6,7,8,9,10]\n",
    "s=0\n",
    "for i in l:\n",
    "    s+=i\n",
    "print(s)"
   ]
  },
  {
   "cell_type": "markdown",
   "id": "5686339c-6251-42e7-a0f0-6b8555a3d0b4",
   "metadata": {},
   "source": [
    "### For Loops with Range\n",
    "\n",
    "51. Write a `for` loop that prints numbers from 1 to 10 using `range`.\n",
    "52. Write a `for` loop that prints the first 10 even numbers using `range`.\n",
    "53. Write a `for` loop that prints the first 10 odd numbers using `range`.\n",
    "54. Write a `for` loop that prints numbers from 10 to 1 using `range`.\n",
    "55. Write a `for` loop that prints every third number from 0 to 30 using `range`."
   ]
  },
  {
   "cell_type": "code",
   "execution_count": 49,
   "id": "c37e1dab-22b5-4de5-937a-ccea105d7f93",
   "metadata": {},
   "outputs": [
    {
     "name": "stdout",
     "output_type": "stream",
     "text": [
      "1\n",
      "2\n",
      "3\n",
      "4\n",
      "5\n",
      "6\n",
      "7\n",
      "8\n",
      "9\n",
      "10\n"
     ]
    }
   ],
   "source": [
    "for i in range(1,11):\n",
    "    print(i)"
   ]
  },
  {
   "cell_type": "code",
   "execution_count": 50,
   "id": "4e93b6c5-9801-4a2f-b29a-f59448d228a5",
   "metadata": {},
   "outputs": [
    {
     "name": "stdout",
     "output_type": "stream",
     "text": [
      "2\n",
      "4\n",
      "6\n",
      "8\n",
      "10\n"
     ]
    }
   ],
   "source": [
    "for i in range(1,11):\n",
    "    if i%2==0:\n",
    "        print(i)"
   ]
  },
  {
   "cell_type": "code",
   "execution_count": 51,
   "id": "62127466-6c60-4be7-acc6-ec22ea339bb7",
   "metadata": {},
   "outputs": [
    {
     "name": "stdout",
     "output_type": "stream",
     "text": [
      "1\n",
      "3\n",
      "5\n",
      "7\n",
      "9\n"
     ]
    }
   ],
   "source": [
    "for i in range(1,11):\n",
    "    if i%2==1:\n",
    "        print(i)"
   ]
  },
  {
   "cell_type": "code",
   "execution_count": 53,
   "id": "4964a176-26c4-4269-9a04-70e83c5a8415",
   "metadata": {},
   "outputs": [
    {
     "name": "stdout",
     "output_type": "stream",
     "text": [
      "10\n",
      "9\n",
      "8\n",
      "7\n",
      "6\n",
      "5\n",
      "4\n",
      "3\n",
      "2\n",
      "1\n"
     ]
    }
   ],
   "source": [
    "for i in range(10,0,-1):\n",
    "    print(i)"
   ]
  },
  {
   "cell_type": "code",
   "execution_count": 54,
   "id": "58917f7a-0972-423f-b6f7-245d2a256b1d",
   "metadata": {},
   "outputs": [
    {
     "name": "stdout",
     "output_type": "stream",
     "text": [
      "0\n",
      "3\n",
      "6\n",
      "9\n",
      "12\n",
      "15\n",
      "18\n",
      "21\n",
      "24\n",
      "27\n",
      "30\n"
     ]
    }
   ],
   "source": [
    "for i in range(0,31,3):\n",
    "    print(i)"
   ]
  },
  {
   "cell_type": "code",
   "execution_count": 57,
   "id": "eab5b7f9-45b3-4d9d-9d66-05bbeb99a718",
   "metadata": {},
   "outputs": [
    {
     "name": "stdin",
     "output_type": "stream",
     "text": [
      "enter the value 001144229975556666666666\n"
     ]
    },
    {
     "name": "stdout",
     "output_type": "stream",
     "text": [
      "0 repeated 2 times\n",
      "1 repeated 2 times\n",
      "2 repeated 2 times\n",
      "4 repeated 2 times\n",
      "5 repeated 3 times\n",
      "6 repeated 10 times\n",
      "7 repeated 1 times\n",
      "9 repeated 2 times\n"
     ]
    }
   ],
   "source": [
    "nums = \"0123456789\"\n",
    "\n",
    "ip = input(\"enter the value\")\n",
    "\n",
    "for i in nums:\n",
    "    count = 0\n",
    "    for j in ip:\n",
    "        if i==j:\n",
    "            count+=1\n",
    "    if count:\n",
    "        print(f\"{i} repeated {count} times\")"
   ]
  },
  {
   "cell_type": "code",
   "execution_count": null,
   "id": "95048a95-2e8c-4594-8a04-f0b35eb7339d",
   "metadata": {},
   "outputs": [],
   "source": [
    "int(input(\"enter the value\"))"
   ]
  },
  {
   "cell_type": "code",
   "execution_count": null,
   "id": "ce1b49b7-12e5-491f-9184-3b1bc85d91d5",
   "metadata": {},
   "outputs": [],
   "source": []
  }
 ],
 "metadata": {
  "kernelspec": {
   "display_name": "Python 3 (ipykernel)",
   "language": "python",
   "name": "python3"
  },
  "language_info": {
   "codemirror_mode": {
    "name": "ipython",
    "version": 3
   },
   "file_extension": ".py",
   "mimetype": "text/x-python",
   "name": "python",
   "nbconvert_exporter": "python",
   "pygments_lexer": "ipython3",
   "version": "3.12.9"
  }
 },
 "nbformat": 4,
 "nbformat_minor": 5
}
