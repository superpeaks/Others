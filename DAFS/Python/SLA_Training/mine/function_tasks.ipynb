{
 "cells": [
  {
   "cell_type": "markdown",
   "id": "b607e70b-0146-4f36-b145-107e41c8b775",
   "metadata": {},
   "source": [
    "Python problems focusing on functions (`def`). These will help strengthen your problem-solving skills.\n",
    "\n",
    "### **Basic Problems**\n",
    "1. Write a function `add_numbers(a, b)` that returns the sum of two numbers.\n",
    "2. Implement `is_even(n)` to check if `n` is even.\n",
    "3. Define `power(base, exponent)` that computes base^exponent.\n",
    "4. Create `factorial(n)` to calculate the factorial of `n`.\n",
    "5. Write `swap_values(a, b)` to return swapped values as a tuple.\n",
    "\n",
    "### **Intermediate Problems**\n",
    "6. Implement `reverse_list(lst)` to reverse a list.\n",
    "7. Create `capitalize_words(sentence)` to capitalize each word in a string.\n",
    "8. Write `count_vowels(s)` to return the number of vowels in a given string.\n",
    "9. Define `remove_duplicates(lst)` that removes duplicate items from a list.\n",
    "10. Implement `sum_of_digits(n)` to return the sum of all digits of a number.\n",
    "\n",
    "### **Advanced Problems**\n",
    "11. Create `is_prime(n)` to check if a number is prime.\n",
    "12. Implement `generate_fibonacci(n)` to return the first `n` Fibonacci numbers.\n",
    "13. Define `merge_sorted_lists(lst1, lst2)` that merges two sorted lists.\n",
    "14. Write `nested_sum(lst)` to calculate the sum of all numbers in nested lists.\n",
    "15. Implement `is_anagram(str1, str2)` to check if two words are anagrams.\n",
    "\n",
    "### **Problems Using Lambda Functions**\n",
    "16. Write a lambda function to find the square of a number.\n",
    "17. Implement a lambda function to check if a string starts with a vowel.\n",
    "18. Create a lambda function that sorts a list of tuples by their second value.\n",
    "19. Write a lambda function to calculate the area of a circle given the radius.\n",
    "20. Define a lambda function that filters out even numbers from a list.\n",
    "\n",
    "### **Recursion-Based Problems**\n",
    "21. Implement `factorial_recursive(n)` using recursion.\n",
    "22. Write `sum_recursive(lst)` to sum numbers in a nested list recursively.\n",
    "23. Create `reverse_string_recursive(s)` that reverses a string recursively.\n",
    "24. Define `gcd_recursive(a, b)` to find the GCD using recursion.\n",
    "25. Implement `binary_search_recursive(lst, target)` for binary search.\n",
    "\n",
    "### **Higher-Order Function Problems**\n",
    "26. Write `apply_operation(lst, func)` that applies a given function to each list item.\n",
    "27. Create `map_uppercase(words)` that maps words to uppercase.\n",
    "28. Implement `filter_positive(lst)` to filter out negative numbers.\n",
    "29. Write `reduce_product(lst)` to calculate the product of all elements using `reduce()`.\n",
    "30. Define `compose_functions(f, g, x)` that returns `f(g(x))`.\n",
    "\n",
    "### **Decorator-Based Problems**\n",
    "31. Write `timing_decorator(func)` to measure execution time.\n",
    "32. Implement `retry_decorator(func)` that retries a function on failure.\n",
    "33. Create `log_decorator(func)` that logs function calls.\n",
    "34. Define `cache_decorator(func)` that caches expensive function results.\n",
    "35. Write `authorization_decorator(func)` that checks user permissions.\n",
    "\n"
   ]
  },
  {
   "cell_type": "code",
   "execution_count": 1,
   "id": "b4eaebda-2693-4451-a0ed-669a69dd55a0",
   "metadata": {},
   "outputs": [
    {
     "name": "stdout",
     "output_type": "stream",
     "text": [
      "4\n"
     ]
    }
   ],
   "source": [
    "def add(a,b):\n",
    "    return a+b\n",
    "print(add(1,3))"
   ]
  },
  {
   "cell_type": "code",
   "execution_count": 2,
   "id": "15299dcb-7557-4922-aad1-3611544f9eb0",
   "metadata": {},
   "outputs": [
    {
     "data": {
      "text/plain": [
       "'even'"
      ]
     },
     "execution_count": 2,
     "metadata": {},
     "output_type": "execute_result"
    }
   ],
   "source": [
    "def even(n):\n",
    "    if n%2==0:\n",
    "        return \"even\"\n",
    "even(10)"
   ]
  },
  {
   "cell_type": "code",
   "execution_count": 3,
   "id": "11c8c973-a069-4ef9-86d0-0591765c4c8a",
   "metadata": {},
   "outputs": [
    {
     "name": "stdout",
     "output_type": "stream",
     "text": [
      "64\n"
     ]
    }
   ],
   "source": [
    "def power(base,component):\n",
    "    return base**component\n",
    "\n",
    "print(power(2,6))"
   ]
  },
  {
   "cell_type": "code",
   "execution_count": 4,
   "id": "d1b73daf-8498-458c-8f26-576050ff77f4",
   "metadata": {},
   "outputs": [
    {
     "name": "stdout",
     "output_type": "stream",
     "text": [
      "40320\n"
     ]
    }
   ],
   "source": [
    "def fact(n):\n",
    "    fac=1\n",
    "    for i in range(n,1,-1):\n",
    "        # print(i)\n",
    "        fac*=i\n",
    "    return fac\n",
    "\n",
    "print(fact(8))"
   ]
  },
  {
   "cell_type": "code",
   "execution_count": 5,
   "id": "18c55217-7930-4851-85be-646bf33dc12c",
   "metadata": {},
   "outputs": [
    {
     "name": "stdout",
     "output_type": "stream",
     "text": [
      "(5, 6)\n"
     ]
    }
   ],
   "source": [
    "def swap(a,b):\n",
    "    a,b = b,a\n",
    "    return (a,b)\n",
    "print(swap(6,5))"
   ]
  },
  {
   "cell_type": "code",
   "execution_count": 6,
   "id": "bc03139a-2827-4504-be28-3d70de7e9f5b",
   "metadata": {},
   "outputs": [
    {
     "name": "stdout",
     "output_type": "stream",
     "text": [
      "[10, 9, 8, 7, 6, 5, 4, 3, 2, 1]\n"
     ]
    }
   ],
   "source": [
    "def rev(l):\n",
    "    l1=[]\n",
    "    for i in range(len(l),0,-1):\n",
    "        l1.append(l[i-1])\n",
    "    return l1\n",
    "lis = [1,2,3,4,5,6,7,8,9,10]\n",
    "\n",
    "print(rev(lis))\n",
    "\n",
    "\n",
    "# lis = [1,2,3,4,5,6,7,8,9,10]\n",
    "# for i Memoizationin range(len(lis),0,-1):\n",
    "#     print(i)\n",
    "#     print(lis[i-1])"
   ]
  },
  {
   "cell_type": "code",
   "execution_count": 7,
   "id": "876c37d1-23b0-4209-80d6-d7025ca2b3b1",
   "metadata": {},
   "outputs": [
    {
     "data": {
      "text/plain": [
       "'Hello World'"
      ]
     },
     "execution_count": 7,
     "metadata": {},
     "output_type": "execute_result"
    }
   ],
   "source": [
    "def cap(s):\n",
    "    return s.title()\n",
    "strn = 'hello world'\n",
    "cap(strn)\n",
    "\n",
    "# def cap(s):\n",
    "#     word=[]\n",
    "#     for i in s.split():\n",
    "#         word.append(i.capitalize())\n",
    "#     return \" \".join(word)\n",
    "# strn = 'hello world'\n",
    "# cap(strn)"
   ]
  },
  {
   "cell_type": "code",
   "execution_count": 8,
   "id": "f26395d4-daf6-4caa-83eb-4aa705eeca59",
   "metadata": {},
   "outputs": [
    {
     "data": {
      "text/plain": [
       "4"
      ]
     },
     "execution_count": 8,
     "metadata": {},
     "output_type": "execute_result"
    }
   ],
   "source": [
    "def vow(word):\n",
    "    v = 'aeiou'\n",
    "    count = 0\n",
    "    for i in word.lower():\n",
    "        if i in v:\n",
    "            count+=1\n",
    "    return count\n",
    "\n",
    "vow(\"I am FRIDAY\")"
   ]
  },
  {
   "cell_type": "code",
   "execution_count": 9,
   "id": "4cbe9a29-0782-40cd-928a-b80cadd256ea",
   "metadata": {},
   "outputs": [
    {
     "data": {
      "text/plain": [
       "[1, 2]"
      ]
     },
     "execution_count": 9,
     "metadata": {},
     "output_type": "execute_result"
    }
   ],
   "source": [
    "def dup(li):\n",
    "    uni = []\n",
    "    res = []\n",
    "    for i in li:\n",
    "        if i not in uni and li.count(i)>1:\n",
    "            uni.append(i)\n",
    "    return uni\n",
    "lis=[1,1,2,2,3]\n",
    "\n",
    "dup(lis)\n",
    "\n",
    "# def dup(li):\n",
    "#     com = set()\n",
    "#     for i in li:\n",
    "#         count = -1\n",
    "#         for j in li:\n",
    "#             if i == j:\n",
    "#                 count+=1\n",
    "#         if count:\n",
    "#                 com.add(i)\n",
    "#     return list(com)\n",
    "\n",
    "# lis = ['ra',1,2,5,'aa','aa',1,2,9,6,3,4,'ra','ra']\n",
    "\n",
    "# dup(lis)"
   ]
  },
  {
   "cell_type": "code",
   "execution_count": 10,
   "id": "3b59a362-8fe8-4b1d-a40a-9cda1c22b38b",
   "metadata": {},
   "outputs": [
    {
     "data": {
      "text/plain": [
       "18"
      ]
     },
     "execution_count": 10,
     "metadata": {},
     "output_type": "execute_result"
    }
   ],
   "source": [
    "# Implement sum_of_digits(n) to return the sum of all digits of a number.\n",
    "\n",
    "def sum_of_digits(n):\n",
    "    s=0\n",
    "    for i in str(n):\n",
    "       s+=int(i)\n",
    "    return s\n",
    "\n",
    "sum_of_digits(111555)"
   ]
  },
  {
   "cell_type": "code",
   "execution_count": 11,
   "id": "a6b9aea0-651d-4ef6-922f-cf2c883ab717",
   "metadata": {},
   "outputs": [
    {
     "name": "stdout",
     "output_type": "stream",
     "text": [
      "25\n",
      "121\n"
     ]
    }
   ],
   "source": [
    "# Write a lambda function to find the square of a number.\n",
    "\n",
    "squ = lambda x: x**2\n",
    "\n",
    "print(squ(5))\n",
    "print(squ(11))"
   ]
  },
  {
   "cell_type": "code",
   "execution_count": 12,
   "id": "2e99219e-0376-4d4c-bd13-7f11236a4172",
   "metadata": {},
   "outputs": [
    {
     "data": {
      "text/plain": [
       "'string starts with a vowel'"
      ]
     },
     "execution_count": 12,
     "metadata": {},
     "output_type": "execute_result"
    }
   ],
   "source": [
    "# Implement a lambda function to check if a string starts with a vowel.\n",
    "\n",
    "vow = lambda x: \"string starts with a vowel\" if x[0] in 'AEIOUaeiou' else \"no\"\n",
    "\n",
    "vow(\"i am friday\")"
   ]
  },
  {
   "cell_type": "code",
   "execution_count": 13,
   "id": "2c04bb92-a269-41b8-9ff7-234832b97b6a",
   "metadata": {},
   "outputs": [
    {
     "ename": "SyntaxError",
     "evalue": "invalid syntax (1517652724.py, line 3)",
     "output_type": "error",
     "traceback": [
      "  \u001b[36mCell\u001b[39m\u001b[36m \u001b[39m\u001b[32mIn[13]\u001b[39m\u001b[32m, line 3\u001b[39m\n\u001b[31m    \u001b[39m\u001b[31msor = lambda x: sorted(x, key=lambda x[1])\u001b[39m\n                                          ^\n\u001b[31mSyntaxError\u001b[39m\u001b[31m:\u001b[39m invalid syntax\n"
     ]
    }
   ],
   "source": [
    "# 18. Create a lambda function that sorts a list of tuples by their second value.\n",
    "\n",
    "sor = lambda x: sorted(x, key=lambda x[1])\n",
    "\n",
    "\n",
    "\n",
    "# sor = lambda x : [(i,j) if i<j else (j,i) for i,j in x ]\n",
    "# li = [(5,6),(2,0),(6,-9),(7,2)]\n",
    "# sor(li)\n",
    "\n",
    "# def sor(lis):\n",
    "#     res = []\n",
    "#     for x,y in lis:\n",
    "#         # print(x,y)\n",
    "#         if x<y:\n",
    "#             res.append((x,y))\n",
    "#         else:\n",
    "#             res.append((y,x))\n",
    "#     return res\n",
    "\n",
    "li = [(5,6),(2,0),(6,-9),(7,2)]\n",
    "sor(li)"
   ]
  },
  {
   "cell_type": "code",
   "execution_count": 14,
   "id": "892f6a59-40c3-4bb1-8809-336fcf09d9a1",
   "metadata": {},
   "outputs": [
    {
     "data": {
      "text/plain": [
       "314.29"
      ]
     },
     "execution_count": 14,
     "metadata": {},
     "output_type": "execute_result"
    }
   ],
   "source": [
    "# Write a lambda function to calculate the area of a circle given the radius.\n",
    "\n",
    "area = lambda x: round(x*x*22/7 , 2)\n",
    "\n",
    "rad=10\n",
    "area(rad)"
   ]
  },
  {
   "cell_type": "code",
   "execution_count": 15,
   "id": "09029a25-002d-4637-a676-f1102f5a8b54",
   "metadata": {},
   "outputs": [
    {
     "data": {
      "text/plain": [
       "[2, 4, 66, 2, 88, 548]"
      ]
     },
     "execution_count": 15,
     "metadata": {},
     "output_type": "execute_result"
    }
   ],
   "source": [
    "# Define a lambda function that filters out even numbers from a list.\n",
    "\n",
    "even = lambda x: [i for i in x if i%2==0 ]\n",
    "\n",
    "nums= [2,5,1,4,9,3,66,1,5,541,2,33,555,88,548,5]\n",
    "even(nums)"
   ]
  },
  {
   "cell_type": "markdown",
   "id": "12bb1305-271d-4da3-a39c-528842f1dd98",
   "metadata": {},
   "source": [
    "\n",
    "### **Recursion-Based Problems**\n",
    "21. Implement `factorial_recursive(n)` using recursion.\n",
    "22. Write `sum_recursive(lst)` to sum numbers in a nested list recursively.\n",
    "23. Create `reverse_string_recursive(s)` that reverses a string recursively.\n",
    "24. Define `gcd_recursive(a, b)` to find the GCD using recursion.\n",
    "25. Implement `binary_search_recursive(lst, target)` for binary search."
   ]
  },
  {
   "cell_type": "code",
   "execution_count": 16,
   "id": "854cfa8d-81c8-4564-98da-b788bc40b8d1",
   "metadata": {},
   "outputs": [
    {
     "data": {
      "text/plain": [
       "120"
      ]
     },
     "execution_count": 16,
     "metadata": {},
     "output_type": "execute_result"
    }
   ],
   "source": [
    "# Implement factorial_recursive(n) using recursion.\n",
    "def fact(num):\n",
    "    if num<2:\n",
    "        return 1\n",
    "    return num*fact(num-1)\n",
    "\n",
    "fact(5)"
   ]
  },
  {
   "cell_type": "code",
   "execution_count": 17,
   "id": "1b9093a4-3d18-4e8e-ba44-57d677552e8c",
   "metadata": {},
   "outputs": [],
   "source": [
    "# Write sum_recursive(lst) to sum numbers in a nested list recursively.\n",
    "\n"
   ]
  },
  {
   "cell_type": "code",
   "execution_count": null,
   "id": "6ad7d6c0-02f1-4f5f-9ea2-17ceae1c5265",
   "metadata": {},
   "outputs": [],
   "source": []
  },
  {
   "cell_type": "code",
   "execution_count": null,
   "id": "b370a9ce-2618-45cb-8897-cde47ac38cbd",
   "metadata": {},
   "outputs": [],
   "source": []
  }
 ],
 "metadata": {
  "kernelspec": {
   "display_name": "Python 3 (ipykernel)",
   "language": "python",
   "name": "python3"
  },
  "language_info": {
   "codemirror_mode": {
    "name": "ipython",
    "version": 3
   },
   "file_extension": ".py",
   "mimetype": "text/x-python",
   "name": "python",
   "nbconvert_exporter": "python",
   "pygments_lexer": "ipython3",
   "version": "3.12.9"
  }
 },
 "nbformat": 4,
 "nbformat_minor": 5
}
