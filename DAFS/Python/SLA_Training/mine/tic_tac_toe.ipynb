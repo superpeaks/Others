{
 "cells": [
  {
   "cell_type": "code",
   "execution_count": 2,
   "id": "0b1ad2dc-046f-4f27-ab73-a313c503550b",
   "metadata": {},
   "outputs": [],
   "source": [
    "def print_board(board):\n",
    "    print(f\" {board[1]} || {board[2]} || {board[3]}\")\n",
    "    print('-------------')\n",
    "    print(f\" {board[4]} || {board[5]} || {board[6]}\")\n",
    "    print('-------------')\n",
    "    print(f\" {board[7]} || {board[8]} || {board[9]}\")"
   ]
  },
  {
   "cell_type": "code",
   "execution_count": 3,
   "id": "087f310f-91ea-4580-acc2-7603039e53a3",
   "metadata": {},
   "outputs": [],
   "source": [
    "def tie_check(board):\n",
    "    if \" \" in board:\n",
    "        return board\n",
    "    else:\n",
    "        board[10] = \"done\"\n",
    "        print(\"\\nGame Tie\\n\")\n",
    "        return board"
   ]
  },
  {
   "cell_type": "code",
   "execution_count": 4,
   "id": "bf813927-11c9-40ef-b63f-f0640ffd69b2",
   "metadata": {},
   "outputs": [],
   "source": [
    "def win_check(board):\n",
    "    def criteria(t):\n",
    "        if (t[1]==1 and t[2]==1 and t[3]==1 or\n",
    "            t[4]==1 and t[5]==1 and t[6]==1 or\n",
    "            t[7]==1 and t[8]==1 and t[9]==1 or\n",
    "            t[1]==1 and t[5]==1 and t[9]==1 or\n",
    "            t[3]==1 and t[5]==1 and t[7]==1 or\n",
    "            t[1]==1 and t[4]==1 and t[7]==1 or\n",
    "            t[2]==1 and t[5]==1 and t[8]==1 or\n",
    "            t[3]==1 and t[6]==1 and t[9]==1):\n",
    "            \n",
    "            t[10]=\"Win\"\n",
    "            return t\n",
    "        else:\n",
    "            return t\n",
    "        \n",
    "        \n",
    "    if board[0]==0: \n",
    "        \n",
    "        t = board.copy() #shallow copy to temp variable to check win result without affecting board variable\n",
    "        for i in range(1,10):\n",
    "            if t[i] == \"X\":\n",
    "                t[i] = 1\n",
    "        result = criteria(t)\n",
    "        \n",
    "        \n",
    "        if result[10] == \"Win\":\n",
    "            board[10]=\"done\"\n",
    "            print(\"\\nPlayer 1 Win\\n\")\n",
    "            return board\n",
    "        else:\n",
    "            return board\n",
    "\n",
    "    elif board[0]==1:\n",
    "        t = board.copy() #shallow copy to temp variable to check win result without affecting board variable\n",
    "        for i in range(1,10):\n",
    "            if t[i] == \"O\":\n",
    "                t[i] = 1\n",
    "        result = criteria(t)\n",
    "        if result[10] == \"Win\":\n",
    "            board[10]=\"done\"\n",
    "            print(\"\\nPlayer 2 Win\\n\")\n",
    "            return board\n",
    "        else:\n",
    "            return board\n",
    "    else:\n",
    "        return board\n",
    "    board = tie_check(board)"
   ]
  },
  {
   "cell_type": "code",
   "execution_count": 5,
   "id": "eb046899-3207-4246-885c-9bc0d656387b",
   "metadata": {},
   "outputs": [],
   "source": [
    "# def criteria(t):\n",
    "#         if (t[1]==1 and t[2]==1 and t[3]==1 or\n",
    "#             t[4]==1 and t[5]==1 and t[6]==1 or\n",
    "#             t[7]==1 and t[8]==1 and t[9]==1 or\n",
    "#             t[1]==1 and t[5]==1 and t[9]==1 or\n",
    "#             t[3]==1 and t[5]==1 and t[7]==1 or\n",
    "#             t[1]==1 and t[4]==1 and t[7]==1 or\n",
    "#             t[2]==1 and t[5]==1 and t[8]==1 or\n",
    "#             t[3]==1 and t[6]==1 and t[9]==1):\n",
    "\n",
    "#             t[10]=\"Win\"\n",
    "#             print(t,\"criteria check\")\n",
    "#             return t\n",
    "#         else:\n",
    "#             return t\n",
    "\n",
    "            "
   ]
  },
  {
   "cell_type": "code",
   "execution_count": 6,
   "id": "e1327f36-cd49-4f3c-9286-9148cac47327",
   "metadata": {},
   "outputs": [],
   "source": [
    "# def win_check(board):\n",
    "#     if board[0]==0:\n",
    "#         print(board,\"win check initial\")\n",
    "        \n",
    "#         temp= board.copy()\n",
    "#         temp1 = board.copy()\n",
    "        \n",
    "#         for i in range(1,10):\n",
    "#             if temp[i]=='X':\n",
    "#                 temp[i]=1\n",
    "                \n",
    "#         temp = criteria(temp)\n",
    "\n",
    "#         if temp[10] == \"Win\":\n",
    "#             board[10]=\"Win\"\n",
    "#             print(board,\"win result if\")\n",
    "\n",
    "#             return board\n",
    "#         else:\n",
    "#             print(temp1,\"no win on else\")\n",
    "#             return temp1\n",
    "#     else:\n",
    "#         print(board,\"win end output on else\")\n",
    "#         return board\n",
    "    \n",
    "        "
   ]
  },
  {
   "cell_type": "code",
   "execution_count": 7,
   "id": "603a2b08-e5c7-4f34-b96a-220851ba7e73",
   "metadata": {},
   "outputs": [],
   "source": [
    "def get_input(palyer):\n",
    "    palyer +=1\n",
    "    while True:\n",
    "        palyer_input = input(f\"\\nPlayer{palyer}:Select the place(1 to 9):\")\n",
    "        if palyer_input and int(palyer_input) in range(1,10):\n",
    "                return int(palyer_input)\n",
    "        else:\n",
    "            print(\"Please enter valid range(1 to 9)\")"
   ]
  },
  {
   "cell_type": "code",
   "execution_count": 8,
   "id": "d3724e68-9525-41f6-ac02-89afb851f0de",
   "metadata": {},
   "outputs": [],
   "source": [
    "def play(board): \n",
    "    print(\"\\n--- Entering play() ---\")\n",
    "    print(\"Current board state:\", board)\n",
    "\n",
    "    palyer_input = get_input(board[0])\n",
    "    print(f\"Player {board[0] + 1} selected: {palyer_input}\")\n",
    "\n",
    "    if board[palyer_input] == \" \":\n",
    "        board[palyer_input] = \"X\" if board[0] == 0 else \"O\"\n",
    "        board[0] = 1 - board[0]  # Toggle player turn\n",
    "        board = win_check(board)\n",
    "        print(\"Board after move:\", board)\n",
    "    else:\n",
    "        print(\"Wrong selection\")\n",
    "\n",
    "    if board[10] == \"done\":\n",
    "        print(\"\\nGame over detected in play()!\\n\")\n",
    "        return board\n",
    "\n",
    "    print_board(board)\n",
    "    print(\"--- Exiting play() ---\\n\")\n",
    "    return board\n"
   ]
  },
  {
   "cell_type": "code",
   "execution_count": 9,
   "id": "c97f5930-d96b-4806-86a7-31b48d65925b",
   "metadata": {},
   "outputs": [],
   "source": [
    "# def play(board): \n",
    "\n",
    "#     player_input = get_input(board[0])\n",
    "\n",
    "#     if board[player_input] == \" \":\n",
    "#         board[player_input] == \"X\" if board[0]==0 else \"O\"\n",
    "#         board[0] = 1-board[0]\n",
    "#         board = win_check(board)\n",
    "\n",
    "#     else:\n",
    "#         print(\"Wrong Selection\")\n",
    "\n",
    "\n",
    "#     if board[10] == \"done\":\n",
    "#         print_board(board)\n",
    "#         return board\n",
    "\n",
    "#     print_board(board)\n",
    "#     return board\n",
    "\n",
    "#     # if board[0]==0:  # palyer 1\n",
    "#     #     if board[palyer_input] == \" \":\n",
    "#     #         board[palyer_input] = \"X\"\n",
    "#     #         board[0]=1\n",
    "#     #         board = win_check(board) \n",
    "#     #     else:\n",
    "#     #         print(\"Wrong Selection\")\n",
    "#     #         board[0]=0\n",
    "#     #         board = win_check(board) \n",
    "            \n",
    "#     # elif board[0]==1: # player 2\n",
    "#     #     if board[palyer_input] == \" \":\n",
    "#     #         board[palyer_input] = \"O\"\n",
    "#     #         board[0]=0\n",
    "#     #     else:\n",
    "#     #         print(\"Wrong Selection\")\n",
    "#     #         board[0]=1\n",
    "#     #     board = win_check(board) \n",
    "\n",
    "#     # if board[10] == \"done\":\n",
    "#     #     return board\n",
    "#     # print_board(board)\n",
    "#     # return board"
   ]
  },
  {
   "cell_type": "code",
   "execution_count": 10,
   "id": "30a67c5f-8612-4c65-9f30-f19afb35e91e",
   "metadata": {},
   "outputs": [
    {
     "name": "stdout",
     "output_type": "stream",
     "text": [
      "   ||   ||  \n",
      "-------------\n",
      "   ||   ||  \n",
      "-------------\n",
      "   ||   ||  \n",
      "\n",
      "--- Entering play() ---\n",
      "Current board state: [0, ' ', ' ', ' ', ' ', ' ', ' ', ' ', ' ', ' ', 'result']\n"
     ]
    },
    {
     "name": "stdin",
     "output_type": "stream",
     "text": [
      "\n",
      "Player1:Select the place(1 to 9): 2\n"
     ]
    },
    {
     "name": "stdout",
     "output_type": "stream",
     "text": [
      "Player 1 selected: 2\n",
      "Board after move: [1, ' ', 'X', ' ', ' ', ' ', ' ', ' ', ' ', ' ', 'result']\n",
      "   || X ||  \n",
      "-------------\n",
      "   ||   ||  \n",
      "-------------\n",
      "   ||   ||  \n",
      "--- Exiting play() ---\n",
      "\n",
      "\n",
      "--- Entering play() ---\n",
      "Current board state: [1, ' ', 'X', ' ', ' ', ' ', ' ', ' ', ' ', ' ', 'result']\n"
     ]
    },
    {
     "name": "stdin",
     "output_type": "stream",
     "text": [
      "\n",
      "Player2:Select the place(1 to 9): 5\n"
     ]
    },
    {
     "name": "stdout",
     "output_type": "stream",
     "text": [
      "Player 2 selected: 5\n",
      "Board after move: [0, ' ', 'X', ' ', ' ', 'O', ' ', ' ', ' ', ' ', 'result']\n",
      "   || X ||  \n",
      "-------------\n",
      "   || O ||  \n",
      "-------------\n",
      "   ||   ||  \n",
      "--- Exiting play() ---\n",
      "\n",
      "\n",
      "--- Entering play() ---\n",
      "Current board state: [0, ' ', 'X', ' ', ' ', 'O', ' ', ' ', ' ', ' ', 'result']\n"
     ]
    },
    {
     "name": "stdin",
     "output_type": "stream",
     "text": [
      "\n",
      "Player1:Select the place(1 to 9): 6\n"
     ]
    },
    {
     "name": "stdout",
     "output_type": "stream",
     "text": [
      "Player 1 selected: 6\n",
      "Board after move: [1, ' ', 'X', ' ', ' ', 'O', 'X', ' ', ' ', ' ', 'result']\n",
      "   || X ||  \n",
      "-------------\n",
      "   || O || X\n",
      "-------------\n",
      "   ||   ||  \n",
      "--- Exiting play() ---\n",
      "\n",
      "\n",
      "--- Entering play() ---\n",
      "Current board state: [1, ' ', 'X', ' ', ' ', 'O', 'X', ' ', ' ', ' ', 'result']\n"
     ]
    },
    {
     "name": "stdin",
     "output_type": "stream",
     "text": [
      "\n",
      "Player2:Select the place(1 to 9): 7\n"
     ]
    },
    {
     "name": "stdout",
     "output_type": "stream",
     "text": [
      "Player 2 selected: 7\n",
      "Board after move: [0, ' ', 'X', ' ', ' ', 'O', 'X', 'O', ' ', ' ', 'result']\n",
      "   || X ||  \n",
      "-------------\n",
      "   || O || X\n",
      "-------------\n",
      " O ||   ||  \n",
      "--- Exiting play() ---\n",
      "\n",
      "\n",
      "--- Entering play() ---\n",
      "Current board state: [0, ' ', 'X', ' ', ' ', 'O', 'X', 'O', ' ', ' ', 'result']\n"
     ]
    },
    {
     "name": "stdin",
     "output_type": "stream",
     "text": [
      "\n",
      "Player1:Select the place(1 to 9): 4\n"
     ]
    },
    {
     "name": "stdout",
     "output_type": "stream",
     "text": [
      "Player 1 selected: 4\n",
      "Board after move: [1, ' ', 'X', ' ', 'X', 'O', 'X', 'O', ' ', ' ', 'result']\n",
      "   || X ||  \n",
      "-------------\n",
      " X || O || X\n",
      "-------------\n",
      " O ||   ||  \n",
      "--- Exiting play() ---\n",
      "\n",
      "\n",
      "--- Entering play() ---\n",
      "Current board state: [1, ' ', 'X', ' ', 'X', 'O', 'X', 'O', ' ', ' ', 'result']\n"
     ]
    },
    {
     "name": "stdin",
     "output_type": "stream",
     "text": [
      "\n",
      "Player2:Select the place(1 to 9): 3\n"
     ]
    },
    {
     "name": "stdout",
     "output_type": "stream",
     "text": [
      "Player 2 selected: 3\n",
      "Board after move: [0, ' ', 'X', 'O', 'X', 'O', 'X', 'O', ' ', ' ', 'result']\n",
      "   || X || O\n",
      "-------------\n",
      " X || O || X\n",
      "-------------\n",
      " O ||   ||  \n",
      "--- Exiting play() ---\n",
      "\n",
      "\n",
      "--- Entering play() ---\n",
      "Current board state: [0, ' ', 'X', 'O', 'X', 'O', 'X', 'O', ' ', ' ', 'result']\n"
     ]
    },
    {
     "name": "stdin",
     "output_type": "stream",
     "text": [
      "\n",
      "Player1:Select the place(1 to 9): 1\n"
     ]
    },
    {
     "name": "stdout",
     "output_type": "stream",
     "text": [
      "Player 1 selected: 1\n",
      "\n",
      "Player 2 Win\n",
      "\n",
      "Board after move: [1, 'X', 'X', 'O', 'X', 'O', 'X', 'O', ' ', ' ', 'done']\n",
      "\n",
      "Game over detected in play()!\n",
      "\n",
      "Game over\n"
     ]
    }
   ],
   "source": [
    "def start_game():\n",
    "    board = [\"player_no\",\" \",\" \",\" \",\" \",\" \",\" \",\" \",\" \",\" \",\"result\"]\n",
    "    # board[1:6:3]=['X','X']\n",
    "    print_board(board)\n",
    "    board[0]=0\n",
    "    \n",
    "    while True:\n",
    "        board = play(board)\n",
    "        if board[10] == \"done\":\n",
    "            print(\"Game over\")\n",
    "            break\n",
    "            \n",
    "start_game()"
   ]
  },
  {
   "cell_type": "code",
   "execution_count": null,
   "id": "898e7100-d576-4f31-a274-c10cc11e5e01",
   "metadata": {},
   "outputs": [],
   "source": []
  }
 ],
 "metadata": {
  "kernelspec": {
   "display_name": "Python 3 (ipykernel)",
   "language": "python",
   "name": "python3"
  },
  "language_info": {
   "codemirror_mode": {
    "name": "ipython",
    "version": 3
   },
   "file_extension": ".py",
   "mimetype": "text/x-python",
   "name": "python",
   "nbconvert_exporter": "python",
   "pygments_lexer": "ipython3",
   "version": "3.12.3"
  },
  "widgets": {
   "application/vnd.jupyter.widget-state+json": {
    "state": {},
    "version_major": 2,
    "version_minor": 0
   }
  }
 },
 "nbformat": 4,
 "nbformat_minor": 5
}
