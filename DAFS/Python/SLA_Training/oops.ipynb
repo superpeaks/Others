{
 "cells": [
  {
   "cell_type": "code",
   "execution_count": 3,
   "id": "bb713051-d01b-45c8-8649-f08866aa304e",
   "metadata": {},
   "outputs": [],
   "source": [
    "%config Completer.use_jedi = False"
   ]
  },
  {
   "cell_type": "code",
   "execution_count": null,
   "id": "5ded418d-e66d-461e-a7d2-2f70ab137542",
   "metadata": {},
   "outputs": [],
   "source": [
    "sq"
   ]
  },
  {
   "cell_type": "code",
   "execution_count": null,
   "id": "a766d7d5-87ab-4a1f-a1ec-006b3767615a",
   "metadata": {},
   "outputs": [],
   "source": []
  },
  {
   "cell_type": "code",
   "execution_count": null,
   "id": "1121f1ad-dc34-4576-b64d-d744cf3f297a",
   "metadata": {},
   "outputs": [],
   "source": []
  },
  {
   "cell_type": "markdown",
   "id": "dc69a9e7-7925-4407-bc26-3992d81638d0",
   "metadata": {},
   "source": [
    "# Class\n",
    "\n",
    "A class is a blueprint for creating objects in Python, with properties and methods. Learn how to create, initialize, modify, delete and access objects using classes, __init__(), __str__() and self parameters."
   ]
  },
  {
   "cell_type": "code",
   "execution_count": 47,
   "id": "3b7c6dbb-1105-478c-84ac-8d0c54440179",
   "metadata": {},
   "outputs": [
    {
     "name": "stdout",
     "output_type": "stream",
     "text": [
      "aws,devops\n",
      "power bi, sql\n",
      "power bi, sql\n",
      "ml,ai\n"
     ]
    }
   ],
   "source": [
    "class sla():                            # class define\n",
    "    def analytics(self):                # method defined(fuction defined as method)\n",
    "        print(\"power bi, sql\")          # properties of methods \n",
    "    def science(self):                  \n",
    "        print(\"ml,ai\")\n",
    "    def cloud(self):\n",
    "        print(\"aws,devops\")\n",
    "# in class we donot say variable, we used to say object\n",
    "stud1 = sla()                          #object recives class and which become instence\n",
    "stud1.cloud()                          # instence uses class by using theier methods\n",
    "stud1.analytics()\n",
    "\n",
    "\n",
    "stud2 = sla()\n",
    "stud2.analytics()\n",
    "stud2.science()"
   ]
  },
  {
   "cell_type": "markdown",
   "id": "d0a4f425-0c27-4dfe-a42d-8bc6b07d2694",
   "metadata": {},
   "source": [
    "## inheritance\n",
    "\n",
    "Inheritance in Python is a key feature of object-oriented programming that allows a new class (child class) to inherit attributes and methods from an existing class (parent class). This promotes code reuse and helps in creating a hierarchical class structure, making it easier to manage and extend code.\n",
    "\n",
    "1. single level (1 parent 1 child)\n",
    "2. hierachical (1 parent 2 or more child)\n",
    "3. multilevel (1 grand parent 1 parent 1 child class)\n",
    "4. multiple (2 or more parent 1 child class)\n",
    "5. hybrid (two or more combination of above)"
   ]
  },
  {
   "cell_type": "markdown",
   "id": "df802ccb-ca10-450c-b897-70c29a7b4486",
   "metadata": {},
   "source": [
    "### single level inheritance\n",
    "\n",
    "one parent class. one child class"
   ]
  },
  {
   "cell_type": "code",
   "execution_count": 18,
   "id": "e916e379-3f73-4731-9b71-9573b67d7d9c",
   "metadata": {
    "jupyter": {
     "source_hidden": true
    }
   },
   "outputs": [],
   "source": [
    "class Travels():                                # parent class or base class\n",
    "    def kerela(self):\n",
    "        print(\"Kerela package is 20k in Travels parrent class\")\n",
    "    def rajastan(self):\n",
    "        print(\"Rajasthan package is 13k in Travels parrent class\")\n",
    "    def goa(self):\n",
    "        print(\"Goa package is 60k in Travels parrent class\")\n",
    "\n",
    "class Chennai(Travels):                        # child class or derived class\n",
    "    def mumbai(self):\n",
    "        print(\"Mumbai package is 15k in chennai child class\")"
   ]
  },
  {
   "cell_type": "code",
   "execution_count": 19,
   "id": "0afe7b10-d698-4b9e-a2f9-3972ea6cca61",
   "metadata": {
    "jupyter": {
     "source_hidden": true
    }
   },
   "outputs": [
    {
     "name": "stdout",
     "output_type": "stream",
     "text": [
      "Kerela pakage is 20k in Travels parrent class\n"
     ]
    },
    {
     "ename": "AttributeError",
     "evalue": "'Travels' object has no attribute 'mumbai'",
     "output_type": "error",
     "traceback": [
      "\u001b[31m---------------------------------------------------------------------------\u001b[39m",
      "\u001b[31mAttributeError\u001b[39m                            Traceback (most recent call last)",
      "\u001b[36mCell\u001b[39m\u001b[36m \u001b[39m\u001b[32mIn[19]\u001b[39m\u001b[32m, line 3\u001b[39m\n\u001b[32m      1\u001b[39m person1 = Travels()\n\u001b[32m      2\u001b[39m person1.kerela()\n\u001b[32m----> \u001b[39m\u001b[32m3\u001b[39m person1.mumbai()\n",
      "\u001b[31mAttributeError\u001b[39m: 'Travels' object has no attribute 'mumbai'"
     ]
    }
   ],
   "source": [
    "person1 = Travels()\n",
    "person1.kerela()\n",
    "person1.mumbai()"
   ]
  },
  {
   "cell_type": "code",
   "execution_count": 20,
   "id": "1ea496c9-d918-4864-aeb6-326a46e314bc",
   "metadata": {
    "jupyter": {
     "source_hidden": true
    }
   },
   "outputs": [
    {
     "name": "stdout",
     "output_type": "stream",
     "text": [
      "Kerela pakage is 20k in Travels parrent class\n",
      "Mumbai pakage is 15k in chennai child class\n"
     ]
    }
   ],
   "source": [
    "person2 = Chennai()\n",
    "person2.kerela()\n",
    "person2.mumbai()"
   ]
  },
  {
   "cell_type": "markdown",
   "id": "83bfbe56-4abe-40bc-8651-e36323b1b811",
   "metadata": {},
   "source": [
    "### hierachial inheritance\n",
    "\n",
    "one parent class. multiple child class"
   ]
  },
  {
   "cell_type": "code",
   "execution_count": 1,
   "id": "db10be88-f6db-40f8-ab5d-2be20ed2b60e",
   "metadata": {
    "jupyter": {
     "source_hidden": true
    }
   },
   "outputs": [],
   "source": [
    "class Travels():                                # parent class or base class\n",
    "    def kerela(self):\n",
    "        print(\"Kerela package is 20k in Travels parrent class\")\n",
    "    def rajastan(self):\n",
    "        print(\"Rajasthan package is 13k in Travels parrent class\")\n",
    "    def goa(self):\n",
    "        print(\"Goa package is 60k in Travels parrent class\")\n",
    "\n",
    "class Chennai(Travels):                        # child class or derived class\n",
    "    def mumbai(self):\n",
    "        print(\"Mumbai package is 15k in chennai child class\")\n",
    "\n",
    "class Bangalore(Travels):                       # another child class or derived class\n",
    "    def dubai(self):\n",
    "        print(\"Dubai package is 1,30,000 in Bangalore child class\")"
   ]
  },
  {
   "cell_type": "code",
   "execution_count": 2,
   "id": "32dfbc74-3c49-446f-9b61-76c326dd815b",
   "metadata": {
    "jupyter": {
     "source_hidden": true
    }
   },
   "outputs": [
    {
     "name": "stdout",
     "output_type": "stream",
     "text": [
      "Mumbai package is 15k in chennai child class\n",
      "Dubai package is 1,30,000 in Bangalore child class\n",
      "Goa package is 60k in Travels parrent class\n"
     ]
    }
   ],
   "source": [
    "person1 = Chennai()\n",
    "person1.mumbai()\n",
    "\n",
    "person2 = Bangalore()\n",
    "person2.dubai()\n",
    "person2.goa()"
   ]
  },
  {
   "cell_type": "markdown",
   "id": "27ba0c68-6f70-43b8-bc4b-76eb414ae1ef",
   "metadata": {},
   "source": [
    "### multilevel inheritance\n",
    "\n",
    "Grand parent class----> parent class ----> child class"
   ]
  },
  {
   "cell_type": "code",
   "execution_count": 3,
   "id": "faa826cf-1195-451b-91e8-20cf7aadfc5c",
   "metadata": {
    "jupyter": {
     "source_hidden": true
    }
   },
   "outputs": [],
   "source": [
    "class Travels():                                # grand parent\n",
    "    def kerela(self):\n",
    "        print(\"Kerela package is 20k in Travels parrent class\")\n",
    "    def rajastan(self):\n",
    "        print(\"Rajasthan package is 13k in Travels parrent class\")\n",
    "    def goa(self):\n",
    "        print(\"Goa package is 60k in Travels parrent class\")\n",
    "\n",
    "class Chennai(Travels):                        # parent class\n",
    "    def mumbai(self):\n",
    "        print(\"Mumbai package is 15k in chennai child class\")\n",
    "\n",
    "class Bangalore(Travels):                       \n",
    "    def dubai(self):\n",
    "        print(\"Dubai package is 1,30,000 in Bangalore child class\")\n",
    "\n",
    "class Madurai(Chennai):                        # child class\n",
    "    def delhi(self):\n",
    "        print(\"Delhi Packag is 2,00,000 in madurai child class\")"
   ]
  },
  {
   "cell_type": "code",
   "execution_count": 41,
   "id": "29f98389-1e79-4782-8ae9-931a1924a45e",
   "metadata": {
    "jupyter": {
     "source_hidden": true
    }
   },
   "outputs": [
    {
     "name": "stdout",
     "output_type": "stream",
     "text": [
      "Delhi Packag is 2,00,000 in madurai child class\n",
      "Mumbai package is 15k in chennai child class\n",
      "Goa package is 60k in Travels parrent class\n"
     ]
    }
   ],
   "source": [
    "person1 = Madurai()\n",
    "person1.delhi()\n",
    "person1.mumbai()\n",
    "person1.goa()"
   ]
  },
  {
   "cell_type": "markdown",
   "id": "b36c6d90-6497-4c08-97d3-65a84a0cc4ec",
   "metadata": {
    "jp-MarkdownHeadingCollapsed": true
   },
   "source": [
    "### mutiple inheritance\n",
    "\n",
    "two or more parent class used by one child class"
   ]
  },
  {
   "cell_type": "code",
   "execution_count": 45,
   "id": "dff5af67-9e81-49fe-a8bc-8cf60b68e36c",
   "metadata": {
    "jupyter": {
     "source_hidden": true
    }
   },
   "outputs": [],
   "source": [
    "class Travels():                                # parent 1\n",
    "    def kerela(self):\n",
    "        print(\"Kerela package is 20k in Travels parrent class\")\n",
    "    def rajastan(self):\n",
    "        print(\"Rajasthan package is 13k in Travels parrent class\")\n",
    "    def goa(self):\n",
    "        print(\"Goa package is 60k in Travels parrent class\")\n",
    "\n",
    "class Food():                                  # parent 2\n",
    "    def food_method(self):\n",
    "        print(\"Food pakages is 600rs per day in food parrent class\")\n",
    "\n",
    "class Chennai(Travels, Food):                        # child class\n",
    "    def mumbai(self):\n",
    "        print(\"Mumbai package is 15k in chennai child class\")"
   ]
  },
  {
   "cell_type": "code",
   "execution_count": 46,
   "id": "e752fe7e-57b9-43b4-a516-828634daf9d2",
   "metadata": {
    "jupyter": {
     "source_hidden": true
    }
   },
   "outputs": [
    {
     "name": "stdout",
     "output_type": "stream",
     "text": [
      "Food pakages is 600rs per day in food parrent class\n",
      "Mumbai package is 15k in chennai child class\n",
      "Kerela package is 20k in Travels parrent class\n"
     ]
    }
   ],
   "source": [
    "person1 = Chennai()\n",
    "person1.food_method()\n",
    "person1.mumbai()\n",
    "person1.kerela()"
   ]
  },
  {
   "cell_type": "code",
   "execution_count": 48,
   "id": "2e6f4cf6-9f61-43e1-a3cc-3133f42d03d8",
   "metadata": {
    "jupyter": {
     "source_hidden": true
    }
   },
   "outputs": [],
   "source": [
    "# what is inheritance and types\n"
   ]
  },
  {
   "cell_type": "code",
   "execution_count": 55,
   "id": "87ff756c-eae6-47d4-ad3b-e03e95162e7b",
   "metadata": {
    "jupyter": {
     "source_hidden": true
    }
   },
   "outputs": [
    {
     "name": "stdout",
     "output_type": "stream",
     "text": [
      "I'm Ram, 25 years old and Male\n",
      "I'm Auther, 27 years old and Male\n",
      "I'm Sara, 26 years old and Female\n"
     ]
    }
   ],
   "source": [
    "class Form():\n",
    "    def __init__(self,name,age,gender):            # initiate(magic method or constructor)\n",
    "        self.name=name                             # atributes(name,age,gender) not variables\n",
    "        self.age=age\n",
    "        self.gender=gender\n",
    "    def output(self):\n",
    "        print(f\"I'm {self.name}, {self.age} years old and {self.gender}\")\n",
    "\n",
    "person1=Form(\"Ram\",25,\"Male\")\n",
    "person1.output()\n",
    "\n",
    "person2 = Form(\"Auther\",27,\"Male\")\n",
    "person2.output()\n",
    "\n",
    "person3 = Form(name=\"Sara\",gender=\"Female\",age=26)\n",
    "person3.output()\n"
   ]
  },
  {
   "cell_type": "markdown",
   "id": "51d439e7-9ff8-4242-96c3-0bf63b7cf4fc",
   "metadata": {
    "jp-MarkdownHeadingCollapsed": true
   },
   "source": [
    "## Encapsulation\n",
    "\n",
    "Encapsulation in Python is the practice of bundling data (attributes) and methods (functions) that operate on the data into a single unit, typically a class. It restricts direct access to some components, helping to protect the integrity of the data and ensuring proper usage through public, protected, and private attributes.\n",
    "\n",
    "\n",
    "\n",
    "Python has three main access modifiers: public, protected, and private. Public members can be accessed from anywhere, protected members are accessible within the class and its subclasses, while private members can only be accessed within the class they are defined in."
   ]
  },
  {
   "cell_type": "code",
   "execution_count": 2,
   "id": "d3c836bb-7096-4eed-b94d-641a90923984",
   "metadata": {},
   "outputs": [],
   "source": [
    "class Sla():\n",
    "    def __init__(self,name,age,income=50000):\n",
    "        self.name = name                           #public attributes\n",
    "        self._age = age                            #protect attributes\n",
    "        self.__income = income                     #private attributes\n",
    "\n",
    "    def income_met(self):\n",
    "        print(f\"Income {self.__income} is private and age {self._age} is protect but we can use in its own methon. it violates OOPS\")\n",
    "\n",
    "\n",
    "class Naavalur(Sla):\n",
    "    def __init__(self,name,age):\n",
    "        self.name = name\n",
    "        self._age = age\n",
    "    def nav_income(self):\n",
    "        print(f\"private income {self.income}\")"
   ]
  },
  {
   "cell_type": "code",
   "execution_count": 3,
   "id": "6da2afc3-b3a8-40d7-8507-ec2a262dee34",
   "metadata": {
    "jupyter": {
     "source_hidden": true
    }
   },
   "outputs": [
    {
     "ename": "AttributeError",
     "evalue": "'Naavalur' object has no attribute 'income'",
     "output_type": "error",
     "traceback": [
      "\u001b[31m---------------------------------------------------------------------------\u001b[39m",
      "\u001b[31mAttributeError\u001b[39m                            Traceback (most recent call last)",
      "\u001b[36mCell\u001b[39m\u001b[36m \u001b[39m\u001b[32mIn[3]\u001b[39m\u001b[32m, line 2\u001b[39m\n\u001b[32m      1\u001b[39m person1 = Naavalur(\u001b[33m'\u001b[39m\u001b[33mram\u001b[39m\u001b[33m'\u001b[39m,\u001b[32m29\u001b[39m)\n\u001b[32m----> \u001b[39m\u001b[32m2\u001b[39m person1.nav()\n",
      "\u001b[36mCell\u001b[39m\u001b[36m \u001b[39m\u001b[32mIn[2]\u001b[39m\u001b[32m, line 16\u001b[39m, in \u001b[36mNaavalur.nav\u001b[39m\u001b[34m(self)\u001b[39m\n\u001b[32m     15\u001b[39m \u001b[38;5;28;01mdef\u001b[39;00m \u001b[34mnav\u001b[39m(\u001b[38;5;28mself\u001b[39m):\n\u001b[32m---> \u001b[39m\u001b[32m16\u001b[39m     \u001b[38;5;28mprint\u001b[39m(\u001b[33mf\u001b[39m\u001b[33m\"\u001b[39m\u001b[33mprivate income \u001b[39m\u001b[38;5;132;01m{\u001b[39;00m\u001b[38;5;28mself\u001b[39m.income\u001b[38;5;132;01m}\u001b[39;00m\u001b[33m\"\u001b[39m)\n",
      "\u001b[31mAttributeError\u001b[39m: 'Naavalur' object has no attribute 'income'"
     ]
    }
   ],
   "source": [
    "person1 = Naavalur('ram',29)\n",
    "person1.nav()"
   ]
  },
  {
   "cell_type": "code",
   "execution_count": 34,
   "id": "227f623f-ebe3-4514-8917-e6702753f310",
   "metadata": {},
   "outputs": [
    {
     "name": "stdout",
     "output_type": "stream",
     "text": [
      "Income 50000 is private and age 22 is protect but we can use in its own methon. it violates OOPS\n",
      "None\n"
     ]
    }
   ],
   "source": [
    "person = Sla('raj',22)\n",
    "\n",
    "print(person.income_met())\n",
    "# person.income_met()"
   ]
  },
  {
   "cell_type": "code",
   "execution_count": 32,
   "id": "15668ca9-6120-47c3-8fe7-c2f874bee177",
   "metadata": {},
   "outputs": [
    {
     "data": {
      "text/plain": [
       "'raj'"
      ]
     },
     "execution_count": 32,
     "metadata": {},
     "output_type": "execute_result"
    }
   ],
   "source": [
    "person.name"
   ]
  },
  {
   "cell_type": "code",
   "execution_count": 27,
   "id": "4aaf4d74-25c1-4002-97b2-78353f86c6ba",
   "metadata": {},
   "outputs": [
    {
     "data": {
      "text/plain": [
       "22"
      ]
     },
     "execution_count": 27,
     "metadata": {},
     "output_type": "execute_result"
    }
   ],
   "source": [
    "person._age"
   ]
  },
  {
   "cell_type": "code",
   "execution_count": 29,
   "id": "409eb502-0256-4961-8deb-6287e467c96e",
   "metadata": {},
   "outputs": [
    {
     "ename": "AttributeError",
     "evalue": "'Sla' object has no attribute '__income'",
     "output_type": "error",
     "traceback": [
      "\u001b[31m---------------------------------------------------------------------------\u001b[39m",
      "\u001b[31mAttributeError\u001b[39m                            Traceback (most recent call last)",
      "\u001b[36mCell\u001b[39m\u001b[36m \u001b[39m\u001b[32mIn[29]\u001b[39m\u001b[32m, line 1\u001b[39m\n\u001b[32m----> \u001b[39m\u001b[32m1\u001b[39m person.__income\n",
      "\u001b[31mAttributeError\u001b[39m: 'Sla' object has no attribute '__income'"
     ]
    }
   ],
   "source": [
    "person.__income   #cannot acess private atrributes"
   ]
  },
  {
   "cell_type": "markdown",
   "id": "75620bc4-ad7c-4e3f-9c23-8c9469c00f22",
   "metadata": {
    "jp-MarkdownHeadingCollapsed": true
   },
   "source": [
    "## Polymorphism\n",
    "\n",
    "Polymorphism is a core concept in object-oriented programming that allows objects of different types to be treated as objects of a common super type. It enables methods to be defined in a way that they can operate on different classes, allowing for flexibility and code reusability."
   ]
  },
  {
   "cell_type": "code",
   "execution_count": 7,
   "id": "9d3a4505-6ce2-4707-ac36-837662210cc9",
   "metadata": {},
   "outputs": [
    {
     "name": "stdout",
     "output_type": "stream",
     "text": [
      "name: Raj and age: 25 from parent class method\n",
      "Name:Raj and age:25 from child class method\n"
     ]
    }
   ],
   "source": [
    "class Form:\n",
    "    def __init__(self,name,age):\n",
    "        self.name = name\n",
    "        self.age = age\n",
    "    def output(self):\n",
    "        print(f\"name: {self.name} and age: {self.age} from parent class method\")\n",
    "\n",
    "class Form_2(Form):\n",
    "    def __init__(self,name,age,gender):\n",
    "        self.name = name\n",
    "        self.age = age\n",
    "        self.gender = gender\n",
    "    def child_out(self):\n",
    "        super().output()\n",
    "        print(f\"Name:{self.name} and age:{self.age} from child class method\")\n",
    "\n",
    "person2 = Form_2('Raj', 25, \"Male\")\n",
    "person2.child_out()"
   ]
  },
  {
   "cell_type": "code",
   "execution_count": 12,
   "id": "ccf72fde-c6cd-4b1c-aee1-230595733a85",
   "metadata": {},
   "outputs": [],
   "source": [
    "class Company:\n",
    "    def plant_manger(self):\n",
    "        print(\"Plant manager is person1\")\n",
    "    def process_manager(self):\n",
    "        print(\"Process manager is person 2\")\n",
    "    def hr_manager(self):\n",
    "        print(\"Hr manager is person 3\")\n",
    "class Plant1(Company):\n",
    "    def plant_manger(self):\n",
    "        print(\"Plant manager is person 4\")\n",
    "    def process_manager(self):\n",
    "        print(\"Process manager is person 5\")\n",
    "    def hr_manager(self):\n",
    "        print(\"Hr manager is person 6\")\n"
   ]
  },
  {
   "cell_type": "code",
   "execution_count": 18,
   "id": "37d6342b-1d13-4e19-b8a2-3b02abcecf39",
   "metadata": {},
   "outputs": [],
   "source": [
    "check1 = Plant1()\n",
    "check2 = Company()"
   ]
  },
  {
   "cell_type": "code",
   "execution_count": 19,
   "id": "187c70f8-212d-492a-b2a8-89f81581b668",
   "metadata": {},
   "outputs": [
    {
     "name": "stdout",
     "output_type": "stream",
     "text": [
      "Hr manager is person 3\n"
     ]
    }
   ],
   "source": [
    "check2.hr_manager()"
   ]
  },
  {
   "cell_type": "code",
   "execution_count": 20,
   "id": "17251fea-f8df-44cf-b614-e5bc7a87fec7",
   "metadata": {},
   "outputs": [
    {
     "name": "stdout",
     "output_type": "stream",
     "text": [
      "Hr manager is person 6\n"
     ]
    }
   ],
   "source": [
    "check1.hr_manager()"
   ]
  },
  {
   "cell_type": "markdown",
   "id": "ce5d4d77-27b6-4735-84b1-b464db67fdfa",
   "metadata": {},
   "source": [
    "## Abstraction \n",
    "\n",
    "what is abract class and method?\n",
    "dif bw encap and abstraction\n",
    "use of super()\n",
    "\n",
    "\n",
    "\n",
    "    "
   ]
  },
  {
   "cell_type": "code",
   "execution_count": 60,
   "id": "069548cd-2f9b-4106-af05-c55763a15b6c",
   "metadata": {},
   "outputs": [],
   "source": [
    "# sallary scc\n",
    "\n",
    "# name age gender adhar(private) pan card(private) nomine and (nationallity must be indian)\n",
    "# male--> sal>20000 no eligible\n",
    "# sal<20000 go to savings\n",
    "\n",
    "\n",
    "# female\n",
    "# sal>250000 eligible\n",
    "# <250000 not eligible go to saving\n",
    "\n",
    "\n",
    "\n",
    "\n",
    "\n",
    "\n",
    "# bussiness acc\n",
    "\n",
    "# gstin in terms of year comp name pan name age gender nationality turnover\n",
    "\n",
    "# gst less that 3yr file acc not eligible\n",
    "# gst>3yr and no pancard no eligible\n",
    "# gst pancard turnover above 1cr eligible"
   ]
  },
  {
   "cell_type": "code",
   "execution_count": 62,
   "id": "392cb49f-21e4-4b9b-a707-98232133bfde",
   "metadata": {},
   "outputs": [],
   "source": [
    "from abc import ABC, abstractmethod\n",
    "\n",
    "class Bank(ABC):\n",
    "    \n",
    "    @abstractmethod\n",
    "    def joint_acc(self):\n",
    "        pass\n",
    "\n",
    "    @abstractmethod\n",
    "    def saving_acc(self):\n",
    "        pass\n",
    "\n",
    "    @abstractmethod\n",
    "    def salary_acc(self):\n",
    "        pass\n",
    "\n",
    "    @abstractmethod\n",
    "    def bussines_acc(self):\n",
    "        pass\n",
    "\n",
    "    def welcome(self):\n",
    "        print(f\"Wellcome to SBI Account Opening process\")\n",
    "\n",
    "\n",
    "class Student(Bank):\n",
    "    def __init__(self, age):\n",
    "        self.age = age\n",
    "        \n",
    "    def joint_acc(self):\n",
    "        if self.age>18:\n",
    "            print(f\"Sorry, Your age is {self.age} and this service not available for age above 18 and above\")\n",
    "        elif self.age>=15:\n",
    "            print(f\"Your age is {Self.age} and You are eligible for joint acc with 5% subsidy\")\n",
    "        else:\n",
    "            print(f\"Your age is {Self.age} and You are eligible for joint acc with 10% subsidy\")\n",
    "\n",
    "    def saving_acc(self):\n",
    "        pass\n",
    "\n",
    "    def salary_acc(self):\n",
    "        pass\n",
    "\n",
    "    def bussines_acc(self):\n",
    "        pass\n",
    "\n",
    "\n",
    "class Worker(Bank):\n",
    "    def __init__(self,name,gender,salary,adhar):\n",
    "        self.name = name\n",
    "        self.gender = gender\n",
    "        self.salary = salary\n",
    "        self.__adhar = adhar\n",
    "\n",
    "    def joint_acc(self):\n",
    "        pass\n",
    "    \n",
    "    def saving_acc(self):\n",
    "        pass\n",
    "\n",
    "    def salary_acc(self):\n",
    "        if self.gender == 'male':\n",
    "            if self.salary>20000:\n",
    "                print(f\"Your are {self.gender} person and your salary is {self.salary} and which is more than 20000rs. \\nYou are eligile to Open sallary account\")\n",
    "            if self.salary<=20000:\n",
    "                print(f\"Your sallary is less than 20000rs. \\nYou are not eligile to Open sallary account.\\nPlease check Jiont account\")\n",
    "        elif self.gender == 'female':\n",
    "            if self.salary>25000:\n",
    "                print(f\"Your are {self.gender} person and your salary is {self.salary} and which is more than 25000rs. You are eligile to Open sallary account\")\n",
    "            if self.salary<=20000:\n",
    "                print(f\"Your sallary is less than 20000rs. You are not eligile to Open sallary account.\\n Please check Jiont account\")\n",
    "\n",
    "    def bussines_acc(self):\n",
    "        pass\n",
    "\n",
    "class Normal(Bank):\n",
    "    def __init__(self,name,age,gender,adhar,pancard,nomine,nationality):\n",
    "        self.name = name\n",
    "        self.age = age\n",
    "        self.gender = gender\n",
    "        self.__adhar = adhar\n",
    "        self.__pancard = pancard\n",
    "        self.__nomine = nomine\n",
    "\n",
    "    def joint_acc(self):\n",
    "        pass\n",
    "\n",
    "    def saving_acc(self):\n",
    "        if self.nationality == 'indian':\n",
    "            print(f\"{self.name} is eligible to open account\")\n",
    "        else:\n",
    "            print(f\"{self.name} is no eligible to open account\")\n",
    "\n",
    "    def salary_acc(self):\n",
    "        pass\n",
    "\n",
    "    def bussines_acc(self):\n",
    "        pass\n",
    "\n",
    "class Company(Bank):\n",
    "\n",
    "    def __init__(self,name,age,adhar,pancard,gst_file_yrs,turnover):\n",
    "        self.name = name\n",
    "        self.age = age\n",
    "        self.__adhar = adhar\n",
    "        self.__pancard = pancard\n",
    "        self._gst_file_yrs = gst_file_yrs\n",
    "        self.__turnover = turnover\n",
    "\n",
    "    def joint_acc(self):\n",
    "        pass\n",
    "\n",
    "    def saving_acc(self):\n",
    "        pass\n",
    "\n",
    "    def salary_acc(self):\n",
    "        pass\n",
    "\n",
    "    def bussines_acc(self):\n",
    "        if self._gst_file_yrs<=3 or not self.__pancard or self.__turnover<10000000:\n",
    "            print(\"Not eligible to open Bussines account\")\n",
    "        elif self._gst_file_yrs>3 and self.__pancard and self.__turnover>10000000:\n",
    "            print(\"Eligible to open bussines account\")\n",
    "        else:\n",
    "            print(\"Please check with our manager\")"
   ]
  },
  {
   "cell_type": "code",
   "execution_count": 63,
   "id": "66613d44-0ae8-4907-9aad-27910147f818",
   "metadata": {},
   "outputs": [],
   "source": [
    "com = Company('xyz',15,123445676789,'AAABB123456C',5,12000000)"
   ]
  },
  {
   "cell_type": "code",
   "execution_count": 65,
   "id": "061b6999-8893-47f8-8abf-05d786fa4e57",
   "metadata": {},
   "outputs": [
    {
     "name": "stdout",
     "output_type": "stream",
     "text": [
      "Wellcome to SBI Account Opening process\n",
      "Eligible to open bussines account\n"
     ]
    }
   ],
   "source": [
    "com.welcome()\n",
    "com.bussines_acc()"
   ]
  },
  {
   "cell_type": "code",
   "execution_count": 67,
   "id": "5b3274b6-6fec-4f84-a35f-f2eedc7e1bf7",
   "metadata": {},
   "outputs": [
    {
     "name": "stdout",
     "output_type": "stream",
     "text": [
      "Your sallary is less than 20000rs. \n",
      "You are not eligile to Open sallary account.\n",
      "Please check Jiont account\n"
     ]
    }
   ],
   "source": [
    "person = Worker('ramu','male',18000,123445676789)\n",
    "person.salary_acc()"
   ]
  },
  {
   "cell_type": "markdown",
   "id": "eee2238a-f647-4ba1-8bb4-d626c31ac628",
   "metadata": {},
   "source": [
    "Bank - ABC\n",
    "salary Account\n",
    "saving account\n",
    "current account\n",
    "\n",
    "salary account - (name, age, Aadhar(pvt),,gender)  \n",
    "gender- male - salary above 20K - eligible \n",
    "                salary below 20K - go to join account \n",
    "\n",
    "gender- female - salary above 25K - eligible \n",
    "                 salary below 25K - go to join account \n",
    "\n",
    "\n",
    "saving account - (name, age, gender, Aadhar(pvt),PAN card(pvt) Nominee details, nationality )\n",
    " nationality - only INDIAN - eligible.\n",
    "nationality - Other Country- Not eligible.\n",
    "\n",
    "Current account - (name, age, gender, Aadhar(pvt),PAN card(pvt),GST File)\n",
    " GST - below 3 years - Not eligible.\n",
    " GST - above 3 years but no PAN CARD - Not eligible.\n",
    " Turnover - above one crore -Eligible"
   ]
  }
 ],
 "metadata": {
  "kernelspec": {
   "display_name": "Python 3 (ipykernel)",
   "language": "python",
   "name": "python3"
  },
  "language_info": {
   "codemirror_mode": {
    "name": "ipython",
    "version": 3
   },
   "file_extension": ".py",
   "mimetype": "text/x-python",
   "name": "python",
   "nbconvert_exporter": "python",
   "pygments_lexer": "ipython3",
   "version": "3.12.3"
  },
  "widgets": {
   "application/vnd.jupyter.widget-state+json": {
    "state": {},
    "version_major": 2,
    "version_minor": 0
   }
  }
 },
 "nbformat": 4,
 "nbformat_minor": 5
}
