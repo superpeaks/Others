{
 "cells": [
  {
   "cell_type": "code",
   "execution_count": 3,
   "id": "30e52696-d7e2-49e0-bcf3-32b995bd00b9",
   "metadata": {},
   "outputs": [],
   "source": [
    "import pandas as pd"
   ]
  },
  {
   "cell_type": "code",
   "execution_count": 75,
   "id": "087b0c8f-0925-4f70-bf90-f2bbbc000d8d",
   "metadata": {},
   "outputs": [],
   "source": [
    "df6 = df.groupby('Channel')['Channel'].agg(['count'])"
   ]
  },
  {
   "cell_type": "code",
   "execution_count": 76,
   "id": "d89b20b4-5dd8-4cc2-a4b4-9e1201bca424",
   "metadata": {},
   "outputs": [
    {
     "data": {
      "text/html": [
       "<div>\n",
       "<style scoped>\n",
       "    .dataframe tbody tr th:only-of-type {\n",
       "        vertical-align: middle;\n",
       "    }\n",
       "\n",
       "    .dataframe tbody tr th {\n",
       "        vertical-align: top;\n",
       "    }\n",
       "\n",
       "    .dataframe thead th {\n",
       "        text-align: right;\n",
       "    }\n",
       "</style>\n",
       "<table border=\"1\" class=\"dataframe\">\n",
       "  <thead>\n",
       "    <tr style=\"text-align: right;\">\n",
       "      <th></th>\n",
       "      <th>Channel</th>\n",
       "      <th>count</th>\n",
       "    </tr>\n",
       "  </thead>\n",
       "  <tbody>\n",
       "    <tr>\n",
       "      <th>0</th>\n",
       "      <td>Distributor</td>\n",
       "      <td>2510</td>\n",
       "    </tr>\n",
       "    <tr>\n",
       "      <th>1</th>\n",
       "      <td>Export</td>\n",
       "      <td>1195</td>\n",
       "    </tr>\n",
       "    <tr>\n",
       "      <th>2</th>\n",
       "      <td>Wholesale</td>\n",
       "      <td>4286</td>\n",
       "    </tr>\n",
       "  </tbody>\n",
       "</table>\n",
       "</div>"
      ],
      "text/plain": [
       "       Channel  count\n",
       "0  Distributor   2510\n",
       "1       Export   1195\n",
       "2    Wholesale   4286"
      ]
     },
     "execution_count": 76,
     "metadata": {},
     "output_type": "execute_result"
    }
   ],
   "source": [
    "df6.reset_index()"
   ]
  },
  {
   "cell_type": "code",
   "execution_count": 84,
   "id": "e331620c-6965-48de-9cb1-5e700ab72813",
   "metadata": {},
   "outputs": [
    {
     "data": {
      "image/png": "[encoded data removed]",
      "text/plain": [
       "<Figure size 500x400 with 1 Axes>"
      ]
     },
     "metadata": {},
     "output_type": "display_data"
    }
   ],
   "source": [
    "plt.figure(figsize=(5,4))\n",
    "sns.histplot(data=df['Channel'])\n",
    "plt.show()"
   ]
  },
  {
   "cell_type": "code",
   "execution_count": 63,
   "id": "b6b6187e-4bd5-46a2-817c-e8f66c9c8742",
   "metadata": {},
   "outputs": [
    {
     "data": {
      "text/html": [
       "<div>\n",
       "<style scoped>\n",
       "    .dataframe tbody tr th:only-of-type {\n",
       "        vertical-align: middle;\n",
       "    }\n",
       "\n",
       "    .dataframe tbody tr th {\n",
       "        vertical-align: top;\n",
       "    }\n",
       "\n",
       "    .dataframe thead th {\n",
       "        text-align: right;\n",
       "    }\n",
       "</style>\n",
       "<table border=\"1\" class=\"dataframe\">\n",
       "  <thead>\n",
       "    <tr style=\"text-align: right;\">\n",
       "      <th></th>\n",
       "      <th>OrderNumber</th>\n",
       "      <th>OrderDate</th>\n",
       "      <th>Ship Date</th>\n",
       "      <th>Customer Name Index</th>\n",
       "      <th>Channel</th>\n",
       "      <th>Currency Code</th>\n",
       "      <th>Warehouse Code</th>\n",
       "      <th>Region Index</th>\n",
       "      <th>Product  Index</th>\n",
       "      <th>Order Quantity</th>\n",
       "      <th>Unit Price</th>\n",
       "      <th>Total Unit Cost</th>\n",
       "      <th>Total Revenue</th>\n",
       "    </tr>\n",
       "  </thead>\n",
       "  <tbody>\n",
       "    <tr>\n",
       "      <th>0</th>\n",
       "      <td>SO - 000225</td>\n",
       "      <td>2017-01-01</td>\n",
       "      <td>2017-01-13</td>\n",
       "      <td>28</td>\n",
       "      <td>Wholesale</td>\n",
       "      <td>NZD</td>\n",
       "      <td>AXW291</td>\n",
       "      <td>71</td>\n",
       "      <td>11</td>\n",
       "      <td>6</td>\n",
       "      <td>2499.1</td>\n",
       "      <td>1824.343</td>\n",
       "      <td>14994.6</td>\n",
       "    </tr>\n",
       "    <tr>\n",
       "      <th>1</th>\n",
       "      <td>SO - 0003378</td>\n",
       "      <td>2017-01-01</td>\n",
       "      <td>2017-01-06</td>\n",
       "      <td>7</td>\n",
       "      <td>Distributor</td>\n",
       "      <td>NZD</td>\n",
       "      <td>AXW291</td>\n",
       "      <td>54</td>\n",
       "      <td>7</td>\n",
       "      <td>11</td>\n",
       "      <td>2351.7</td>\n",
       "      <td>1269.918</td>\n",
       "      <td>25868.7</td>\n",
       "    </tr>\n",
       "    <tr>\n",
       "      <th>2</th>\n",
       "      <td>SO - 0003901</td>\n",
       "      <td>2017-01-01</td>\n",
       "      <td>2017-01-05</td>\n",
       "      <td>12</td>\n",
       "      <td>Wholesale</td>\n",
       "      <td>NZD</td>\n",
       "      <td>AXW291</td>\n",
       "      <td>58</td>\n",
       "      <td>13</td>\n",
       "      <td>5</td>\n",
       "      <td>1728.6</td>\n",
       "      <td>1019.874</td>\n",
       "      <td>8643.0</td>\n",
       "    </tr>\n",
       "    <tr>\n",
       "      <th>3</th>\n",
       "      <td>SO - 0005126</td>\n",
       "      <td>2017-01-01</td>\n",
       "      <td>2017-01-17</td>\n",
       "      <td>5</td>\n",
       "      <td>Wholesale</td>\n",
       "      <td>USD</td>\n",
       "      <td>AXW291</td>\n",
       "      <td>29</td>\n",
       "      <td>7</td>\n",
       "      <td>6</td>\n",
       "      <td>978.2</td>\n",
       "      <td>684.740</td>\n",
       "      <td>5869.2</td>\n",
       "    </tr>\n",
       "    <tr>\n",
       "      <th>4</th>\n",
       "      <td>SO - 0005614</td>\n",
       "      <td>2017-01-01</td>\n",
       "      <td>2017-01-07</td>\n",
       "      <td>27</td>\n",
       "      <td>Export</td>\n",
       "      <td>NZD</td>\n",
       "      <td>AXW291</td>\n",
       "      <td>31</td>\n",
       "      <td>6</td>\n",
       "      <td>7</td>\n",
       "      <td>2338.3</td>\n",
       "      <td>1028.852</td>\n",
       "      <td>16368.1</td>\n",
       "    </tr>\n",
       "    <tr>\n",
       "      <th>...</th>\n",
       "      <td>...</td>\n",
       "      <td>...</td>\n",
       "      <td>...</td>\n",
       "      <td>...</td>\n",
       "      <td>...</td>\n",
       "      <td>...</td>\n",
       "      <td>...</td>\n",
       "      <td>...</td>\n",
       "      <td>...</td>\n",
       "      <td>...</td>\n",
       "      <td>...</td>\n",
       "      <td>...</td>\n",
       "      <td>...</td>\n",
       "    </tr>\n",
       "    <tr>\n",
       "      <th>7986</th>\n",
       "      <td>SO - 0005237</td>\n",
       "      <td>2019-12-12</td>\n",
       "      <td>2019-12-16</td>\n",
       "      <td>41</td>\n",
       "      <td>Wholesale</td>\n",
       "      <td>NZD</td>\n",
       "      <td>FLR025</td>\n",
       "      <td>93</td>\n",
       "      <td>9</td>\n",
       "      <td>7</td>\n",
       "      <td>261.3</td>\n",
       "      <td>107.133</td>\n",
       "      <td>1829.1</td>\n",
       "    </tr>\n",
       "    <tr>\n",
       "      <th>7987</th>\n",
       "      <td>SO - 0005477</td>\n",
       "      <td>2019-12-12</td>\n",
       "      <td>2019-12-27</td>\n",
       "      <td>28</td>\n",
       "      <td>Distributor</td>\n",
       "      <td>AUD</td>\n",
       "      <td>FLR025</td>\n",
       "      <td>56</td>\n",
       "      <td>2</td>\n",
       "      <td>7</td>\n",
       "      <td>1996.6</td>\n",
       "      <td>1477.484</td>\n",
       "      <td>13976.2</td>\n",
       "    </tr>\n",
       "    <tr>\n",
       "      <th>7988</th>\n",
       "      <td>SO - 0006936</td>\n",
       "      <td>2019-12-12</td>\n",
       "      <td>2019-12-27</td>\n",
       "      <td>30</td>\n",
       "      <td>Wholesale</td>\n",
       "      <td>NZD</td>\n",
       "      <td>FLR025</td>\n",
       "      <td>66</td>\n",
       "      <td>1</td>\n",
       "      <td>9</td>\n",
       "      <td>3912.8</td>\n",
       "      <td>2817.216</td>\n",
       "      <td>35215.2</td>\n",
       "    </tr>\n",
       "    <tr>\n",
       "      <th>7989</th>\n",
       "      <td>SO - 0007126</td>\n",
       "      <td>2019-12-12</td>\n",
       "      <td>2019-12-25</td>\n",
       "      <td>6</td>\n",
       "      <td>Distributor</td>\n",
       "      <td>USD</td>\n",
       "      <td>FLR025</td>\n",
       "      <td>31</td>\n",
       "      <td>5</td>\n",
       "      <td>10</td>\n",
       "      <td>1855.9</td>\n",
       "      <td>1113.540</td>\n",
       "      <td>18559.0</td>\n",
       "    </tr>\n",
       "    <tr>\n",
       "      <th>7990</th>\n",
       "      <td>SO - 0007668</td>\n",
       "      <td>2019-12-12</td>\n",
       "      <td>2019-12-25</td>\n",
       "      <td>4</td>\n",
       "      <td>Wholesale</td>\n",
       "      <td>NZD</td>\n",
       "      <td>FLR025</td>\n",
       "      <td>65</td>\n",
       "      <td>13</td>\n",
       "      <td>11</td>\n",
       "      <td>3959.7</td>\n",
       "      <td>2138.238</td>\n",
       "      <td>43556.7</td>\n",
       "    </tr>\n",
       "  </tbody>\n",
       "</table>\n",
       "<p>7991 rows × 13 columns</p>\n",
       "</div>"
      ],
      "text/plain": [
       "       OrderNumber  OrderDate  Ship Date  Customer Name Index      Channel  \\\n",
       "0      SO - 000225 2017-01-01 2017-01-13                   28    Wholesale   \n",
       "1     SO - 0003378 2017-01-01 2017-01-06                    7  Distributor   \n",
       "2     SO - 0003901 2017-01-01 2017-01-05                   12    Wholesale   \n",
       "3     SO - 0005126 2017-01-01 2017-01-17                    5    Wholesale   \n",
       "4     SO - 0005614 2017-01-01 2017-01-07                   27       Export   \n",
       "...            ...        ...        ...                  ...          ...   \n",
       "7986  SO - 0005237 2019-12-12 2019-12-16                   41    Wholesale   \n",
       "7987  SO - 0005477 2019-12-12 2019-12-27                   28  Distributor   \n",
       "7988  SO - 0006936 2019-12-12 2019-12-27                   30    Wholesale   \n",
       "7989  SO - 0007126 2019-12-12 2019-12-25                    6  Distributor   \n",
       "7990  SO - 0007668 2019-12-12 2019-12-25                    4    Wholesale   \n",
       "\n",
       "     Currency Code Warehouse Code  Region Index  Product  Index  \\\n",
       "0              NZD         AXW291            71              11   \n",
       "1              NZD         AXW291            54               7   \n",
       "2              NZD         AXW291            58              13   \n",
       "3              USD         AXW291            29               7   \n",
       "4              NZD         AXW291            31               6   \n",
       "...            ...            ...           ...             ...   \n",
       "7986           NZD         FLR025            93               9   \n",
       "7987           AUD         FLR025            56               2   \n",
       "7988           NZD         FLR025            66               1   \n",
       "7989           USD         FLR025            31               5   \n",
       "7990           NZD         FLR025            65              13   \n",
       "\n",
       "      Order Quantity  Unit Price  Total Unit Cost  Total Revenue  \n",
       "0                  6      2499.1         1824.343        14994.6  \n",
       "1                 11      2351.7         1269.918        25868.7  \n",
       "2                  5      1728.6         1019.874         8643.0  \n",
       "3                  6       978.2          684.740         5869.2  \n",
       "4                  7      2338.3         1028.852        16368.1  \n",
       "...              ...         ...              ...            ...  \n",
       "7986               7       261.3          107.133         1829.1  \n",
       "7987               7      1996.6         1477.484        13976.2  \n",
       "7988               9      3912.8         2817.216        35215.2  \n",
       "7989              10      1855.9         1113.540        18559.0  \n",
       "7990              11      3959.7         2138.238        43556.7  \n",
       "\n",
       "[7991 rows x 13 columns]"
      ]
     },
     "execution_count": 63,
     "metadata": {},
     "output_type": "execute_result"
    }
   ],
   "source": [
    "df = pd.read_excel(\"Sales_Analysis_Report.xlsx\")\n",
    "df"
   ]
  },
  {
   "cell_type": "code",
   "execution_count": 18,
   "id": "40d3eeb3-7442-447b-8e06-d2c41478ef8f",
   "metadata": {},
   "outputs": [],
   "source": [
    "df2 = df.groupby('Channel')['Total Revenue'].agg('sum')"
   ]
  },
  {
   "cell_type": "code",
   "execution_count": 42,
   "id": "5e170d7d-dcf5-4e32-a0e2-4c38d907cffb",
   "metadata": {},
   "outputs": [],
   "source": [
    "df3 = df.groupby('Channel')['Total Revenue'].agg(['sum','mean'])"
   ]
  },
  {
   "cell_type": "code",
   "execution_count": 44,
   "id": "fea6cead-be24-4789-afe0-59e1c4c4be0a",
   "metadata": {},
   "outputs": [],
   "source": [
    "df3.reset_index(inplace=True)"
   ]
  },
  {
   "cell_type": "code",
   "execution_count": 49,
   "id": "3aa6d0fb-db0c-4935-a82d-a059d627cf02",
   "metadata": {},
   "outputs": [],
   "source": [
    "df3['sum'] = round(df3['sum'] / 100000,2)"
   ]
  },
  {
   "cell_type": "code",
   "execution_count": 50,
   "id": "fa004740-2ba0-4d92-bb91-d4874568e179",
   "metadata": {},
   "outputs": [
    {
     "data": {
      "text/html": [
       "<div>\n",
       "<style scoped>\n",
       "    .dataframe tbody tr th:only-of-type {\n",
       "        vertical-align: middle;\n",
       "    }\n",
       "\n",
       "    .dataframe tbody tr th {\n",
       "        vertical-align: top;\n",
       "    }\n",
       "\n",
       "    .dataframe thead th {\n",
       "        text-align: right;\n",
       "    }\n",
       "</style>\n",
       "<table border=\"1\" class=\"dataframe\">\n",
       "  <thead>\n",
       "    <tr style=\"text-align: right;\">\n",
       "      <th></th>\n",
       "      <th>Channel</th>\n",
       "      <th>sum</th>\n",
       "      <th>mean</th>\n",
       "    </tr>\n",
       "  </thead>\n",
       "  <tbody>\n",
       "    <tr>\n",
       "      <th>0</th>\n",
       "      <td>Distributor</td>\n",
       "      <td>489.70</td>\n",
       "      <td>19509.836773</td>\n",
       "    </tr>\n",
       "    <tr>\n",
       "      <th>1</th>\n",
       "      <td>Export</td>\n",
       "      <td>226.37</td>\n",
       "      <td>18942.991297</td>\n",
       "    </tr>\n",
       "    <tr>\n",
       "      <th>2</th>\n",
       "      <td>Wholesale</td>\n",
       "      <td>829.67</td>\n",
       "      <td>19357.577158</td>\n",
       "    </tr>\n",
       "  </tbody>\n",
       "</table>\n",
       "</div>"
      ],
      "text/plain": [
       "       Channel     sum          mean\n",
       "0  Distributor  489.70  19509.836773\n",
       "1       Export  226.37  18942.991297\n",
       "2    Wholesale  829.67  19357.577158"
      ]
     },
     "execution_count": 50,
     "metadata": {},
     "output_type": "execute_result"
    }
   ],
   "source": [
    "df3"
   ]
  },
  {
   "cell_type": "code",
   "execution_count": 61,
   "id": "25538430-8896-4628-949f-3d098702585f",
   "metadata": {},
   "outputs": [
    {
     "data": {
      "image/png": "[encoded data removed]",
      "text/plain": [
       "<Figure size 800x300 with 1 Axes>"
      ]
     },
     "metadata": {},
     "output_type": "display_data"
    }
   ],
   "source": [
    "plt.figure(figsize=(8,3))\n",
    "sns.barplot(data=df3,x='Channel', y= 'sum')\n",
    "plt.xlabel('Categories')\n",
    "plt.ylabel('Total Revenue')\n",
    "plt.title('Revenue by Channel')\n",
    "plt.xticks(rotation = 45)\n",
    "plt.show()"
   ]
  },
  {
   "cell_type": "code",
   "execution_count": 19,
   "id": "8c7cc81e-5002-4054-9126-a2ede928033e",
   "metadata": {},
   "outputs": [],
   "source": [
    "df2.to_excel('fil.xlsx','group')"
   ]
  },
  {
   "cell_type": "code",
   "execution_count": 14,
   "id": "0b40491d-7285-427e-a9f0-3a523ac11dd1",
   "metadata": {},
   "outputs": [
    {
     "data": {
      "text/html": [
       "<div>\n",
       "<style scoped>\n",
       "    .dataframe tbody tr th:only-of-type {\n",
       "        vertical-align: middle;\n",
       "    }\n",
       "\n",
       "    .dataframe tbody tr th {\n",
       "        vertical-align: top;\n",
       "    }\n",
       "\n",
       "    .dataframe thead th {\n",
       "        text-align: right;\n",
       "    }\n",
       "</style>\n",
       "<table border=\"1\" class=\"dataframe\">\n",
       "  <thead>\n",
       "    <tr style=\"text-align: right;\">\n",
       "      <th></th>\n",
       "      <th>mean</th>\n",
       "      <th>sum</th>\n",
       "    </tr>\n",
       "    <tr>\n",
       "      <th>Channel</th>\n",
       "      <th></th>\n",
       "      <th></th>\n",
       "    </tr>\n",
       "  </thead>\n",
       "  <tbody>\n",
       "    <tr>\n",
       "      <th>Distributor</th>\n",
       "      <td>19509.836773</td>\n",
       "      <td>48969690.3</td>\n",
       "    </tr>\n",
       "    <tr>\n",
       "      <th>Export</th>\n",
       "      <td>18942.991297</td>\n",
       "      <td>22636874.6</td>\n",
       "    </tr>\n",
       "    <tr>\n",
       "      <th>Wholesale</th>\n",
       "      <td>19357.577158</td>\n",
       "      <td>82966575.7</td>\n",
       "    </tr>\n",
       "  </tbody>\n",
       "</table>\n",
       "</div>"
      ],
      "text/plain": [
       "                     mean         sum\n",
       "Channel                              \n",
       "Distributor  19509.836773  48969690.3\n",
       "Export       18942.991297  22636874.6\n",
       "Wholesale    19357.577158  82966575.7"
      ]
     },
     "execution_count": 14,
     "metadata": {},
     "output_type": "execute_result"
    }
   ],
   "source": [
    "df.groupby('Channel')['Total Revenue'].agg('sum','mean')"
   ]
  },
  {
   "cell_type": "code",
   "execution_count": 7,
   "id": "2c6db545-ba5f-47d2-ad42-18c25069d2ac",
   "metadata": {},
   "outputs": [],
   "source": [
    "df_mean = df.groupby('Channel')['Total Revenue'].mean()"
   ]
  },
  {
   "cell_type": "code",
   "execution_count": 5,
   "id": "67c60a93-c3d0-4598-b904-cf7cb58cfbfa",
   "metadata": {},
   "outputs": [],
   "source": [
    "import matplotlib.pyplot as plt"
   ]
  },
  {
   "cell_type": "code",
   "execution_count": 28,
   "id": "7fa9bf59-d250-44c8-9e1f-014942e1b0a2",
   "metadata": {},
   "outputs": [
    {
     "data": {
      "text/plain": [
       "<BarContainer object of 3 artists>"
      ]
     },
     "execution_count": 28,
     "metadata": {},
     "output_type": "execute_result"
    },
    {
     "data": {
      "image/png": "[encoded data removed]",
      "text/plain": [
       "<Figure size 640x480 with 1 Axes>"
      ]
     },
     "metadata": {},
     "output_type": "display_data"
    }
   ],
   "source": [
    "plt.bar(df2.index,df2.values)"
   ]
  },
  {
   "cell_type": "code",
   "execution_count": 30,
   "id": "3ed83bf3-c860-44a6-8c97-da20c670f5e4",
   "metadata": {},
   "outputs": [
    {
     "data": {
      "image/png": "[encoded data removed]",
      "text/plain": [
       "<Figure size 640x480 with 1 Axes>"
      ]
     },
     "metadata": {},
     "output_type": "display_data"
    }
   ],
   "source": [
    "ax = df2.plot(kind='bar',y=['sum','mean'])"
   ]
  },
  {
   "cell_type": "code",
   "execution_count": 31,
   "id": "bad732e8-9905-4c47-9810-ef4e17bc8763",
   "metadata": {},
   "outputs": [
    {
     "name": "stdout",
     "output_type": "stream",
     "text": [
      "<BarContainer object of 3 artists>\n"
     ]
    }
   ],
   "source": [
    "for con in ax.containers:\n",
    "    print(con)"
   ]
  },
  {
   "cell_type": "code",
   "execution_count": 32,
   "id": "f88d0f5e-b77f-4316-b92d-067f01beaedf",
   "metadata": {},
   "outputs": [],
   "source": [
    "import seaborn as sns"
   ]
  },
  {
   "cell_type": "code",
   "execution_count": 37,
   "id": "bb538797-6d1a-4803-ac72-12a40884cff0",
   "metadata": {},
   "outputs": [
    {
     "ename": "TypeError",
     "evalue": "Data source must be a DataFrame or Mapping, not <class 'pandas.core.series.Series'>.",
     "output_type": "error",
     "traceback": [
      "\u001b[31m---------------------------------------------------------------------------\u001b[39m",
      "\u001b[31mTypeError\u001b[39m                                 Traceback (most recent call last)",
      "\u001b[36mCell\u001b[39m\u001b[36m \u001b[39m\u001b[32mIn[37]\u001b[39m\u001b[32m, line 1\u001b[39m\n\u001b[32m----> \u001b[39m\u001b[32m1\u001b[39m \u001b[43msns\u001b[49m\u001b[43m.\u001b[49m\u001b[43mbarplot\u001b[49m\u001b[43m(\u001b[49m\u001b[43mdata\u001b[49m\u001b[43m=\u001b[49m\u001b[43mdf2\u001b[49m\u001b[43m,\u001b[49m\u001b[43m \u001b[49m\u001b[43mx\u001b[49m\u001b[43m=\u001b[49m\u001b[33;43m'\u001b[39;49m\u001b[33;43mChannel\u001b[39;49m\u001b[33;43m'\u001b[39;49m\u001b[43m,\u001b[49m\u001b[43m \u001b[49m\u001b[43my\u001b[49m\u001b[43m=\u001b[49m\u001b[33;43m'\u001b[39;49m\u001b[33;43mTotal Revenue\u001b[39;49m\u001b[33;43m'\u001b[39;49m\u001b[43m)\u001b[49m\n",
      "\u001b[36mFile \u001b[39m\u001b[32m~/venv/lib/python3.12/site-packages/seaborn/categorical.py:2341\u001b[39m, in \u001b[36mbarplot\u001b[39m\u001b[34m(data, x, y, hue, order, hue_order, estimator, errorbar, n_boot, seed, units, weights, orient, color, palette, saturation, fill, hue_norm, width, dodge, gap, log_scale, native_scale, formatter, legend, capsize, err_kws, ci, errcolor, errwidth, ax, **kwargs)\u001b[39m\n\u001b[32m   2338\u001b[39m \u001b[38;5;28;01mif\u001b[39;00m estimator \u001b[38;5;129;01mis\u001b[39;00m \u001b[38;5;28mlen\u001b[39m:\n\u001b[32m   2339\u001b[39m     estimator = \u001b[33m\"\u001b[39m\u001b[33msize\u001b[39m\u001b[33m\"\u001b[39m\n\u001b[32m-> \u001b[39m\u001b[32m2341\u001b[39m p = \u001b[43m_CategoricalAggPlotter\u001b[49m\u001b[43m(\u001b[49m\n\u001b[32m   2342\u001b[39m \u001b[43m    \u001b[49m\u001b[43mdata\u001b[49m\u001b[43m=\u001b[49m\u001b[43mdata\u001b[49m\u001b[43m,\u001b[49m\n\u001b[32m   2343\u001b[39m \u001b[43m    \u001b[49m\u001b[43mvariables\u001b[49m\u001b[43m=\u001b[49m\u001b[38;5;28;43mdict\u001b[39;49m\u001b[43m(\u001b[49m\u001b[43mx\u001b[49m\u001b[43m=\u001b[49m\u001b[43mx\u001b[49m\u001b[43m,\u001b[49m\u001b[43m \u001b[49m\u001b[43my\u001b[49m\u001b[43m=\u001b[49m\u001b[43my\u001b[49m\u001b[43m,\u001b[49m\u001b[43m \u001b[49m\u001b[43mhue\u001b[49m\u001b[43m=\u001b[49m\u001b[43mhue\u001b[49m\u001b[43m,\u001b[49m\u001b[43m \u001b[49m\u001b[43munits\u001b[49m\u001b[43m=\u001b[49m\u001b[43munits\u001b[49m\u001b[43m,\u001b[49m\u001b[43m \u001b[49m\u001b[43mweight\u001b[49m\u001b[43m=\u001b[49m\u001b[43mweights\u001b[49m\u001b[43m)\u001b[49m\u001b[43m,\u001b[49m\n\u001b[32m   2344\u001b[39m \u001b[43m    \u001b[49m\u001b[43morder\u001b[49m\u001b[43m=\u001b[49m\u001b[43morder\u001b[49m\u001b[43m,\u001b[49m\n\u001b[32m   2345\u001b[39m \u001b[43m    \u001b[49m\u001b[43morient\u001b[49m\u001b[43m=\u001b[49m\u001b[43morient\u001b[49m\u001b[43m,\u001b[49m\n\u001b[32m   2346\u001b[39m \u001b[43m    \u001b[49m\u001b[43mcolor\u001b[49m\u001b[43m=\u001b[49m\u001b[43mcolor\u001b[49m\u001b[43m,\u001b[49m\n\u001b[32m   2347\u001b[39m \u001b[43m    \u001b[49m\u001b[43mlegend\u001b[49m\u001b[43m=\u001b[49m\u001b[43mlegend\u001b[49m\u001b[43m,\u001b[49m\n\u001b[32m   2348\u001b[39m \u001b[43m\u001b[49m\u001b[43m)\u001b[49m\n\u001b[32m   2350\u001b[39m \u001b[38;5;28;01mif\u001b[39;00m ax \u001b[38;5;129;01mis\u001b[39;00m \u001b[38;5;28;01mNone\u001b[39;00m:\n\u001b[32m   2351\u001b[39m     ax = plt.gca()\n",
      "\u001b[36mFile \u001b[39m\u001b[32m~/venv/lib/python3.12/site-packages/seaborn/categorical.py:67\u001b[39m, in \u001b[36m_CategoricalPlotter.__init__\u001b[39m\u001b[34m(self, data, variables, order, orient, require_numeric, color, legend)\u001b[39m\n\u001b[32m     56\u001b[39m \u001b[38;5;28;01mdef\u001b[39;00m\u001b[38;5;250m \u001b[39m\u001b[34m__init__\u001b[39m(\n\u001b[32m     57\u001b[39m     \u001b[38;5;28mself\u001b[39m,\n\u001b[32m     58\u001b[39m     data=\u001b[38;5;28;01mNone\u001b[39;00m,\n\u001b[32m   (...)\u001b[39m\u001b[32m     64\u001b[39m     legend=\u001b[33m\"\u001b[39m\u001b[33mauto\u001b[39m\u001b[33m\"\u001b[39m,\n\u001b[32m     65\u001b[39m ):\n\u001b[32m---> \u001b[39m\u001b[32m67\u001b[39m     \u001b[38;5;28;43msuper\u001b[39;49m\u001b[43m(\u001b[49m\u001b[43m)\u001b[49m\u001b[43m.\u001b[49m\u001b[34;43m__init__\u001b[39;49m\u001b[43m(\u001b[49m\u001b[43mdata\u001b[49m\u001b[43m=\u001b[49m\u001b[43mdata\u001b[49m\u001b[43m,\u001b[49m\u001b[43m \u001b[49m\u001b[43mvariables\u001b[49m\u001b[43m=\u001b[49m\u001b[43mvariables\u001b[49m\u001b[43m)\u001b[49m\n\u001b[32m     69\u001b[39m     \u001b[38;5;66;03m# This method takes care of some bookkeeping that is necessary because the\u001b[39;00m\n\u001b[32m     70\u001b[39m     \u001b[38;5;66;03m# original categorical plots (prior to the 2021 refactor) had some rules that\u001b[39;00m\n\u001b[32m     71\u001b[39m     \u001b[38;5;66;03m# don't fit exactly into VectorPlotter logic. It may be wise to have a second\u001b[39;00m\n\u001b[32m   (...)\u001b[39m\u001b[32m     76\u001b[39m     \u001b[38;5;66;03m# default VectorPlotter rules. If we do decide to make orient part of the\u001b[39;00m\n\u001b[32m     77\u001b[39m     \u001b[38;5;66;03m# _base variable assignment, we'll want to figure out how to express that.\u001b[39;00m\n\u001b[32m     78\u001b[39m     \u001b[38;5;28;01mif\u001b[39;00m \u001b[38;5;28mself\u001b[39m.input_format == \u001b[33m\"\u001b[39m\u001b[33mwide\u001b[39m\u001b[33m\"\u001b[39m \u001b[38;5;129;01mand\u001b[39;00m orient \u001b[38;5;129;01min\u001b[39;00m [\u001b[33m\"\u001b[39m\u001b[33mh\u001b[39m\u001b[33m\"\u001b[39m, \u001b[33m\"\u001b[39m\u001b[33my\u001b[39m\u001b[33m\"\u001b[39m]:\n",
      "\u001b[36mFile \u001b[39m\u001b[32m~/venv/lib/python3.12/site-packages/seaborn/_base.py:634\u001b[39m, in \u001b[36mVectorPlotter.__init__\u001b[39m\u001b[34m(self, data, variables)\u001b[39m\n\u001b[32m    629\u001b[39m \u001b[38;5;66;03m# var_ordered is relevant only for categorical axis variables, and may\u001b[39;00m\n\u001b[32m    630\u001b[39m \u001b[38;5;66;03m# be better handled by an internal axis information object that tracks\u001b[39;00m\n\u001b[32m    631\u001b[39m \u001b[38;5;66;03m# such information and is set up by the scale_* methods. The analogous\u001b[39;00m\n\u001b[32m    632\u001b[39m \u001b[38;5;66;03m# information for numeric axes would be information about log scales.\u001b[39;00m\n\u001b[32m    633\u001b[39m \u001b[38;5;28mself\u001b[39m._var_ordered = {\u001b[33m\"\u001b[39m\u001b[33mx\u001b[39m\u001b[33m\"\u001b[39m: \u001b[38;5;28;01mFalse\u001b[39;00m, \u001b[33m\"\u001b[39m\u001b[33my\u001b[39m\u001b[33m\"\u001b[39m: \u001b[38;5;28;01mFalse\u001b[39;00m}  \u001b[38;5;66;03m# alt., used DefaultDict\u001b[39;00m\n\u001b[32m--> \u001b[39m\u001b[32m634\u001b[39m \u001b[38;5;28;43mself\u001b[39;49m\u001b[43m.\u001b[49m\u001b[43massign_variables\u001b[49m\u001b[43m(\u001b[49m\u001b[43mdata\u001b[49m\u001b[43m,\u001b[49m\u001b[43m \u001b[49m\u001b[43mvariables\u001b[49m\u001b[43m)\u001b[49m\n\u001b[32m    636\u001b[39m \u001b[38;5;66;03m# TODO Lots of tests assume that these are called to initialize the\u001b[39;00m\n\u001b[32m    637\u001b[39m \u001b[38;5;66;03m# mappings to default values on class initialization. I'd prefer to\u001b[39;00m\n\u001b[32m    638\u001b[39m \u001b[38;5;66;03m# move away from that and only have a mapping when explicitly called.\u001b[39;00m\n\u001b[32m    639\u001b[39m \u001b[38;5;28;01mfor\u001b[39;00m var \u001b[38;5;129;01min\u001b[39;00m [\u001b[33m\"\u001b[39m\u001b[33mhue\u001b[39m\u001b[33m\"\u001b[39m, \u001b[33m\"\u001b[39m\u001b[33msize\u001b[39m\u001b[33m\"\u001b[39m, \u001b[33m\"\u001b[39m\u001b[33mstyle\u001b[39m\u001b[33m\"\u001b[39m]:\n",
      "\u001b[36mFile \u001b[39m\u001b[32m~/venv/lib/python3.12/site-packages/seaborn/_base.py:679\u001b[39m, in \u001b[36mVectorPlotter.assign_variables\u001b[39m\u001b[34m(self, data, variables)\u001b[39m\n\u001b[32m    674\u001b[39m \u001b[38;5;28;01melse\u001b[39;00m:\n\u001b[32m    675\u001b[39m     \u001b[38;5;66;03m# When dealing with long-form input, use the newer PlotData\u001b[39;00m\n\u001b[32m    676\u001b[39m     \u001b[38;5;66;03m# object (internal but introduced for the objects interface)\u001b[39;00m\n\u001b[32m    677\u001b[39m     \u001b[38;5;66;03m# to centralize / standardize data consumption logic.\u001b[39;00m\n\u001b[32m    678\u001b[39m     \u001b[38;5;28mself\u001b[39m.input_format = \u001b[33m\"\u001b[39m\u001b[33mlong\u001b[39m\u001b[33m\"\u001b[39m\n\u001b[32m--> \u001b[39m\u001b[32m679\u001b[39m     plot_data = \u001b[43mPlotData\u001b[49m\u001b[43m(\u001b[49m\u001b[43mdata\u001b[49m\u001b[43m,\u001b[49m\u001b[43m \u001b[49m\u001b[43mvariables\u001b[49m\u001b[43m)\u001b[49m\n\u001b[32m    680\u001b[39m     frame = plot_data.frame\n\u001b[32m    681\u001b[39m     names = plot_data.names\n",
      "\u001b[36mFile \u001b[39m\u001b[32m~/venv/lib/python3.12/site-packages/seaborn/_core/data.py:57\u001b[39m, in \u001b[36mPlotData.__init__\u001b[39m\u001b[34m(self, data, variables)\u001b[39m\n\u001b[32m     51\u001b[39m \u001b[38;5;28;01mdef\u001b[39;00m\u001b[38;5;250m \u001b[39m\u001b[34m__init__\u001b[39m(\n\u001b[32m     52\u001b[39m     \u001b[38;5;28mself\u001b[39m,\n\u001b[32m     53\u001b[39m     data: DataSource,\n\u001b[32m     54\u001b[39m     variables: \u001b[38;5;28mdict\u001b[39m[\u001b[38;5;28mstr\u001b[39m, VariableSpec],\n\u001b[32m     55\u001b[39m ):\n\u001b[32m---> \u001b[39m\u001b[32m57\u001b[39m     data = \u001b[43mhandle_data_source\u001b[49m\u001b[43m(\u001b[49m\u001b[43mdata\u001b[49m\u001b[43m)\u001b[49m\n\u001b[32m     58\u001b[39m     frame, names, ids = \u001b[38;5;28mself\u001b[39m._assign_variables(data, variables)\n\u001b[32m     60\u001b[39m     \u001b[38;5;28mself\u001b[39m.frame = frame\n",
      "\u001b[36mFile \u001b[39m\u001b[32m~/venv/lib/python3.12/site-packages/seaborn/_core/data.py:278\u001b[39m, in \u001b[36mhandle_data_source\u001b[39m\u001b[34m(data)\u001b[39m\n\u001b[32m    276\u001b[39m \u001b[38;5;28;01melif\u001b[39;00m data \u001b[38;5;129;01mis\u001b[39;00m \u001b[38;5;129;01mnot\u001b[39;00m \u001b[38;5;28;01mNone\u001b[39;00m \u001b[38;5;129;01mand\u001b[39;00m \u001b[38;5;129;01mnot\u001b[39;00m \u001b[38;5;28misinstance\u001b[39m(data, Mapping):\n\u001b[32m    277\u001b[39m     err = \u001b[33mf\u001b[39m\u001b[33m\"\u001b[39m\u001b[33mData source must be a DataFrame or Mapping, not \u001b[39m\u001b[38;5;132;01m{\u001b[39;00m\u001b[38;5;28mtype\u001b[39m(data)\u001b[38;5;132;01m!r}\u001b[39;00m\u001b[33m.\u001b[39m\u001b[33m\"\u001b[39m\n\u001b[32m--> \u001b[39m\u001b[32m278\u001b[39m     \u001b[38;5;28;01mraise\u001b[39;00m \u001b[38;5;167;01mTypeError\u001b[39;00m(err)\n\u001b[32m    280\u001b[39m \u001b[38;5;28;01mreturn\u001b[39;00m data\n",
      "\u001b[31mTypeError\u001b[39m: Data source must be a DataFrame or Mapping, not <class 'pandas.core.series.Series'>."
     ]
    }
   ],
   "source": [
    "sns.barplot(data=df2, x='Channel', y='Total Revenue')"
   ]
  },
  {
   "cell_type": "code",
   "execution_count": null,
   "id": "2181e5d7-4eb0-45a8-b90d-8deef57f3798",
   "metadata": {},
   "outputs": [],
   "source": []
  }
 ],
 "metadata": {
  "kernelspec": {
   "display_name": "Python 3 (ipykernel)",
   "language": "python",
   "name": "python3"
  },
  "language_info": {
   "codemirror_mode": {
    "name": "ipython",
    "version": 3
   },
   "file_extension": ".py",
   "mimetype": "text/x-python",
   "name": "python",
   "nbconvert_exporter": "python",
   "pygments_lexer": "ipython3",
   "version": "3.12.3"
  },
  "widgets": {
   "application/vnd.jupyter.widget-state+json": {
    "state": {},
    "version_major": 2,
    "version_minor": 0
   }
  }
 },
 "nbformat": 4,
 "nbformat_minor": 5
}
