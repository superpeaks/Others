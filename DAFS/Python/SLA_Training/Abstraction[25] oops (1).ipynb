{
 "cells": [
  {
   "cell_type": "code",
   "execution_count": 3,
   "id": "79f73e5b-29d8-419a-abec-abb19e73a4e6",
   "metadata": {},
   "outputs": [],
   "source": [
    "from abc import ABC, abstractmethod\n",
    "\n",
    "class bank(ABC):\n",
    "    @abstractmethod\n",
    "    def savings_account(self):\n",
    "        pass\n",
    "\n",
    "    @abstractmethod\n",
    "    def joint_account(self):\n",
    "        pass\n",
    "\n",
    "    @abstractmethod\n",
    "    def salary_account(self):\n",
    "        pass\n",
    "\n",
    "    @abstractmethod\n",
    "    def business_account(self):\n",
    "        pass\n",
    "\n",
    "    def welcome(self):\n",
    "        print(\"our bank name is american bank\")\n",
    "\n",
    "class student(bank):\n",
    "    def __init__(self,age):\n",
    "        self.age=age\n",
    "\n",
    "    def joint_account(self):\n",
    "        if self.age >18:\n",
    "            print(f\"Sorry, you cannot open a joint account because your age is {self.age}.\")\n",
    "        elif self.age <15:\n",
    "            print(f\"As my age is {self.age}, I get a 10% subsidy for opening a joint account.\")\n",
    "        elif self.age >= 15 and self.age < 18:\n",
    "            print(f\"As my age is {self.age}, I get a 5% subsidy for opening a joint account.\")\n",
    "\n",
    "    def savings_account(self):\n",
    "        pass\n",
    "\n",
    "    def salary_account(self):\n",
    "        pass\n",
    "\n",
    "    def business_account(self):\n",
    "        pass\n",
    "\n",
    "s1=student(23)\n",
    "s1.savings_account()"
   ]
  },
  {
   "cell_type": "code",
   "execution_count": 11,
   "id": "f3ffc149-6744-423c-9a1d-07e7c4557d2c",
   "metadata": {},
   "outputs": [],
   "source": [
    "# error handling or exception handling\n",
    "#try\n",
    "#except\n",
    "#finally"
   ]
  },
  {
   "cell_type": "code",
   "execution_count": 25,
   "id": "d6224600-5f1a-40d0-9283-48023a326fd0",
   "metadata": {},
   "outputs": [
    {
     "name": "stdout",
     "output_type": "stream",
     "text": [
      "1.6666666666666667\n",
      "the program  is over\n"
     ]
    }
   ],
   "source": [
    "try:\n",
    "    a=5\n",
    "    b=3\n",
    "    c=a/b\n",
    "    print(c)\n",
    "\n",
    "except zerodivisionError:\n",
    "    print(\"you cannot enter the zero\")\n",
    "\n",
    "except TypeError:\n",
    "    print(\"you should enter the numbers\")\n",
    "\n",
    "finally:\n",
    "    print(\"the program  is over\")"
   ]
  },
  {
   "cell_type": "code",
   "execution_count": 27,
   "id": "8ea13b20-ea80-48bc-89b7-b83071d447d6",
   "metadata": {},
   "outputs": [],
   "source": [
    "from abc import ABC, abstractmethod\n",
    "\n",
    "class bank(ABC):\n",
    "    @abstractmethod\n",
    "    def savings_account(self):\n",
    "        pass\n",
    "\n",
    "    @abstractmethod\n",
    "    def joint_account(self):\n",
    "        pass\n",
    "\n",
    "    @abstractmethod\n",
    "    def salary_account(self):\n",
    "        pass\n",
    "\n",
    "    @abstractmethod\n",
    "    def business_account(self):\n",
    "        pass\n",
    "\n",
    "class student(bank):\n",
    "    def __init__(self,age):\n",
    "        self.age=age\n",
    "\n",
    "    def joint_account(self):\n",
    "        if self.age >18:\n",
    "            print(f\"Sorry, you cannot open a joint account because your age is {self.age}.\")\n",
    "        elif self.age <15:\n",
    "            print(f\"As my age is {self.age}, I get a 10% subsidy for opening a joint account.\")\n",
    "        elif self.age >= 15 and self.age < 18:\n",
    "            print(f\"As my age is {self.age}, I get a 5% subsidy for opening a joint account.\")\n",
    "\n",
    "    def savings_account(self):\n",
    "        pass\n",
    "\n",
    "    def salary_account(self):\n",
    "        pass\n",
    "\n",
    "    def business_account(self):\n",
    "        pass"
   ]
  },
  {
   "cell_type": "code",
   "execution_count": 9,
   "id": "bdbd475a-bff5-49a2-b727-e3df2105b966",
   "metadata": {},
   "outputs": [],
   "source": [
    "# dictionary  keys: values\n",
    "team={\"india\":\"rohit\",\"australia\":\"cummins\",\"southafrica\":\"bavuma\",\"india\":\"rohit\"}"
   ]
  },
  {
   "cell_type": "code",
   "execution_count": 11,
   "id": "6d39b1ce-3589-407e-82d3-88d8ad1d4fc6",
   "metadata": {},
   "outputs": [
    {
     "data": {
      "text/plain": [
       "{'india': 'rohit', 'australia': 'cummins', 'southafrica': 'bavuma'}"
      ]
     },
     "execution_count": 11,
     "metadata": {},
     "output_type": "execute_result"
    }
   ],
   "source": [
    "team"
   ]
  },
  {
   "cell_type": "code",
   "execution_count": 13,
   "id": "343391c4-750b-45f1-a5ae-d9a96490b5d3",
   "metadata": {},
   "outputs": [],
   "source": [
    "course={\"da\":[\"python\",\"sql\",\"powerbi\"],\"ds\":[\"python\",\"dl\",\"ai\"]}"
   ]
  },
  {
   "cell_type": "code",
   "execution_count": 15,
   "id": "64ba2542-cd22-408c-aba5-66c2def8cf3d",
   "metadata": {},
   "outputs": [
    {
     "data": {
      "text/plain": [
       "{'da': ['python', 'sql', 'powerbi'], 'ds': ['python', 'dl', 'ai']}"
      ]
     },
     "execution_count": 15,
     "metadata": {},
     "output_type": "execute_result"
    }
   ],
   "source": [
    "course"
   ]
  },
  {
   "cell_type": "code",
   "execution_count": 17,
   "id": "0c6318c0-38c2-488e-aabb-708012b40224",
   "metadata": {},
   "outputs": [],
   "source": [
    "course[\"da\"].append(\"excel\")"
   ]
  },
  {
   "cell_type": "code",
   "execution_count": 19,
   "id": "98f636e2-4a92-490a-8114-d23ea955a455",
   "metadata": {},
   "outputs": [
    {
     "data": {
      "text/plain": [
       "{'da': ['python', 'sql', 'powerbi', 'excel'], 'ds': ['python', 'dl', 'ai']}"
      ]
     },
     "execution_count": 19,
     "metadata": {},
     "output_type": "execute_result"
    }
   ],
   "source": [
    "course"
   ]
  },
  {
   "cell_type": "code",
   "execution_count": 21,
   "id": "eb3401cd-a7d0-4f3a-91d1-5eba35ca50c8",
   "metadata": {},
   "outputs": [
    {
     "data": {
      "text/plain": [
       "dict_values([['python', 'sql', 'powerbi', 'excel'], ['python', 'dl', 'ai']])"
      ]
     },
     "execution_count": 21,
     "metadata": {},
     "output_type": "execute_result"
    }
   ],
   "source": [
    "course.values()"
   ]
  },
  {
   "cell_type": "code",
   "execution_count": 23,
   "id": "721ffaed-0253-4de0-8c9b-b57da1f5fe49",
   "metadata": {},
   "outputs": [
    {
     "data": {
      "text/plain": [
       "dict_keys(['da', 'ds'])"
      ]
     },
     "execution_count": 23,
     "metadata": {},
     "output_type": "execute_result"
    }
   ],
   "source": [
    "course.keys()"
   ]
  },
  {
   "cell_type": "code",
   "execution_count": 25,
   "id": "85ad6065-4db5-4d76-bf40-d90eac700c4b",
   "metadata": {},
   "outputs": [],
   "source": [
    "course[\"ds\"].insert(1,\"sql\")"
   ]
  },
  {
   "cell_type": "code",
   "execution_count": 27,
   "id": "2d27dbfa-5d7d-4b2e-a0b5-21cb664c2c45",
   "metadata": {},
   "outputs": [
    {
     "data": {
      "text/plain": [
       "{'da': ['python', 'sql', 'powerbi', 'excel'],\n",
       " 'ds': ['python', 'sql', 'dl', 'ai']}"
      ]
     },
     "execution_count": 27,
     "metadata": {},
     "output_type": "execute_result"
    }
   ],
   "source": [
    "course"
   ]
  },
  {
   "cell_type": "code",
   "execution_count": 31,
   "id": "70c1eed8-7523-4732-95e1-7e6a7b38a023",
   "metadata": {},
   "outputs": [
    {
     "name": "stdout",
     "output_type": "stream",
     "text": [
      "('da', ['python', 'sql', 'powerbi', 'excel'])\n",
      "('ds', ['python', 'sql', 'dl', 'ai'])\n"
     ]
    }
   ],
   "source": [
    "for i in course.items():s\n",
    "    print(i)"
   ]
  },
  {
   "cell_type": "code",
   "execution_count": 33,
   "id": "1615e262-7538-4c9d-83af-d704f995dee8",
   "metadata": {},
   "outputs": [
    {
     "name": "stdout",
     "output_type": "stream",
     "text": [
      "da -------- ['python', 'sql', 'powerbi', 'excel']\n",
      "ds -------- ['python', 'sql', 'dl', 'ai']\n"
     ]
    }
   ],
   "source": [
    "for keys,values in course.items():\n",
    "    print(keys,\"--------\",values)"
   ]
  },
  {
   "cell_type": "code",
   "execution_count": null,
   "id": "8b537cd8-c04e-4b4a-b30a-3dfcde7a7f17",
   "metadata": {},
   "outputs": [],
   "source": []
  },
  {
   "cell_type": "code",
   "execution_count": null,
   "id": "acc2816f-dddf-4f00-b3e4-51e1b76b318e",
   "metadata": {},
   "outputs": [],
   "source": []
  }
 ],
 "metadata": {
  "kernelspec": {
   "display_name": "Python 3 (ipykernel)",
   "language": "python",
   "name": "python3"
  },
  "language_info": {
   "codemirror_mode": {
    "name": "ipython",
    "version": 3
   },
   "file_extension": ".py",
   "mimetype": "text/x-python",
   "name": "python",
   "nbconvert_exporter": "python",
   "pygments_lexer": "ipython3",
   "version": "3.12.9"
  }
 },
 "nbformat": 4,
 "nbformat_minor": 5
}
