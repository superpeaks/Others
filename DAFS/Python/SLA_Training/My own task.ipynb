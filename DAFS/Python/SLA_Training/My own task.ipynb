{
 "cells": [
  {
   "cell_type": "markdown",
   "id": "71afa7c8-da8b-41a7-bd19-2ea35f8b4ad7",
   "metadata": {},
   "source": [
    "### 1. Prime Number Checker"
   ]
  },
  {
   "cell_type": "code",
   "execution_count": null,
   "id": "6ede0008-368f-49d4-8acd-88e9a19138aa",
   "metadata": {},
   "outputs": [],
   "source": [
    "num = int(input(\"Num:\"))\n",
    "for i in range(2,num+1):\n",
    "    if num%i ==0:\n",
    "        prime = False\n",
    "        "
   ]
  }
 ],
 "metadata": {
  "kernelspec": {
   "display_name": "Python 3 (ipykernel)",
   "language": "python",
   "name": "python3"
  },
  "language_info": {
   "codemirror_mode": {
    "name": "ipython",
    "version": 3
   },
   "file_extension": ".py",
   "mimetype": "text/x-python",
   "name": "python",
   "nbconvert_exporter": "python",
   "pygments_lexer": "ipython3",
   "version": "3.12.9"
  }
 },
 "nbformat": 4,
 "nbformat_minor": 5
}
