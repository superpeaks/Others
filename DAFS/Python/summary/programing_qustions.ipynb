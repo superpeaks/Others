{
 "cells": [
  {
   "cell_type": "code",
   "execution_count": 5,
   "id": "3f62c34b",
   "metadata": {},
   "outputs": [
    {
     "name": "stdout",
     "output_type": "stream",
     "text": [
      "12345678\n"
     ]
    }
   ],
   "source": [
    "series = 0\n",
    "temp=0\n",
    "for i in range(8):\n",
    "    temp = (temp*10)+1\n",
    "    series+=temp\n",
    "\n",
    "print(series)"
   ]
  },
  {
   "cell_type": "code",
   "execution_count": 7,
   "id": "2853dad6",
   "metadata": {},
   "outputs": [
    {
     "name": "stdout",
     "output_type": "stream",
     "text": [
      "not prime number\n"
     ]
    }
   ],
   "source": [
    "num = int(input(\"num\"))\n",
    "count = 0\n",
    "for i in range(1,num):\n",
    "    if num%i == 0:\n",
    "        count+=1\n",
    "\n",
    "if count > 1:\n",
    "    print(\"not prime number\")\n",
    "else:\n",
    "    print(\"prime number\")"
   ]
  },
  {
   "cell_type": "code",
   "execution_count": 16,
   "id": "49675e49",
   "metadata": {},
   "outputs": [
    {
     "name": "stdout",
     "output_type": "stream",
     "text": [
      "{'6': 11, '4': 6, '5': 5, 'f': 1, 'd': 2, 'g': 1, 's': 1, 'j': 7, 'k': 9, 'h': 2}\n",
      "6 in 11 times\n",
      "4 in 6 times\n",
      "5 in 5 times\n",
      "f in 1 times\n",
      "d in 2 times\n",
      "g in 1 times\n",
      "s in 1 times\n",
      "j in 7 times\n",
      "k in 9 times\n",
      "h in 2 times\n"
     ]
    }
   ],
   "source": [
    "text = list(input(\"value\"))\n",
    "count = {}\n",
    "for i in text:\n",
    "    if i == \" \":\n",
    "        pass\n",
    "    elif i in count:\n",
    "        count[i] +=1\n",
    "    else:\n",
    "        count[i] = 1\n",
    "\n",
    "print(count)\n",
    "\n",
    "\n",
    "for i,j in count.items():\n",
    "    print(f\"{i} in {j} times\")"
   ]
  },
  {
   "cell_type": "code",
   "execution_count": 36,
   "id": "ebcc160d",
   "metadata": {},
   "outputs": [
    {
     "name": "stdout",
     "output_type": "stream",
     "text": [
      "* \n",
      "* * \n",
      "* * * \n",
      "* * * * \n",
      "* * * * * \n",
      "* * * * * * \n"
     ]
    }
   ],
   "source": [
    "s = int(input(\"num\"))\n",
    "\n",
    "for i in range(1,num + 1):\n",
    "    print(\"* \"*i)"
   ]
  },
  {
   "cell_type": "code",
   "execution_count": 35,
   "id": "1c2d6846",
   "metadata": {},
   "outputs": [
    {
     "name": "stdout",
     "output_type": "stream",
     "text": [
      "* \n",
      "* * \n",
      "* * * \n",
      "* * * * \n",
      "* * * * * \n"
     ]
    }
   ],
   "source": [
    "rows = 5\n",
    "for i in range(1, rows + 1):\n",
    "    print(\"* \" * i)\n"
   ]
  },
  {
   "cell_type": "code",
   "execution_count": 28,
   "id": "57f30789",
   "metadata": {},
   "outputs": [
    {
     "name": "stdout",
     "output_type": "stream",
     "text": [
      "* * * * * * \n",
      "* * * * * \n",
      "* * * * \n",
      "* * * \n",
      "* * \n",
      "* \n"
     ]
    }
   ],
   "source": [
    "s = int(input(\"num\"))\n",
    "\n",
    "for i in range(num,0,-1):\n",
    "    print(\"* \"*i)"
   ]
  },
  {
   "cell_type": "code",
   "execution_count": 38,
   "id": "b8dc76a0",
   "metadata": {},
   "outputs": [
    {
     "name": "stdout",
     "output_type": "stream",
     "text": [
      "    * \n",
      "   * * \n",
      "  * * * \n",
      " * * * * \n",
      "* * * * * \n"
     ]
    }
   ],
   "source": [
    "for i in range(1,5+1):\n",
    "    print(\" \"* (5-i) + \"* \"*i )"
   ]
  },
  {
   "cell_type": "code",
   "execution_count": 40,
   "id": "b725ad2c",
   "metadata": {},
   "outputs": [
    {
     "name": "stdout",
     "output_type": "stream",
     "text": [
      "    * \n",
      "   * * \n",
      "  * * * \n",
      " * * * * \n",
      "* * * * * \n",
      "     * * * * \n",
      "    * * * * \n",
      "   * * * * \n",
      "  * * * * \n",
      " * * * * \n"
     ]
    }
   ],
   "source": [
    "for i in range(1,5+1):\n",
    "    print(\" \"* (5-i) + \"* \"*i )\n",
    "for i in range(5,0,-1):\n",
    "    print(\" \"*i+\"* \"*(5-1))"
   ]
  },
  {
   "cell_type": "code",
   "execution_count": null,
   "id": "665e1672",
   "metadata": {},
   "outputs": [],
   "source": []
  }
 ],
 "metadata": {
  "kernelspec": {
   "display_name": ".venv",
   "language": "python",
   "name": "python3"
  },
  "language_info": {
   "codemirror_mode": {
    "name": "ipython",
    "version": 3
   },
   "file_extension": ".py",
   "mimetype": "text/x-python",
   "name": "python",
   "nbconvert_exporter": "python",
   "pygments_lexer": "ipython3",
   "version": "3.12.3"
  }
 },
 "nbformat": 4,
 "nbformat_minor": 5
}
