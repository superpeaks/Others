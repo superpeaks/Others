{
 "cells": [
  {
   "cell_type": "code",
   "execution_count": 3,
   "id": "9ba1036c-a8a0-44d8-8d8e-ccf1a2f1d030",
   "metadata": {},
   "outputs": [
    {
     "name": "stdin",
     "output_type": "stream",
     "text": [
      "Enter num1 1\n",
      "Enter num2 2\n"
     ]
    },
    {
     "name": "stdout",
     "output_type": "stream",
     "text": [
      "num1 is lowest\n"
     ]
    }
   ],
   "source": [
    "num1 = int(input(\"Enter num1\"))\n",
    "num2 = int(input(\"Enter num2\"))\n",
    "\n",
    "if num1<num2:\n",
    "    print(\"num1 is lowest\")\n",
    "else:\n",
    "    print(\"num2 is lowest\")"
   ]
  },
  {
   "cell_type": "code",
   "execution_count": 4,
   "id": "27b75de3-1794-44a5-b146-148f9ef19f86",
   "metadata": {},
   "outputs": [
    {
     "data": {
      "text/plain": [
       "[1, 2]"
      ]
     },
     "execution_count": 4,
     "metadata": {},
     "output_type": "execute_result"
    }
   ],
   "source": [
    "l = [-4,-6,-7,1,2]\n",
    "l1=[]\n",
    "for i in l:\n",
    "    if i>0:\n",
    "        l1.append(i)\n",
    "l1"
   ]
  },
  {
   "cell_type": "code",
   "execution_count": 14,
   "id": "23fefb46-d170-43fe-a4d7-dbfdff44b32c",
   "metadata": {},
   "outputs": [
    {
     "name": "stdin",
     "output_type": "stream",
     "text": [
      "Enter num1 7000\n"
     ]
    },
    {
     "name": "stdout",
     "output_type": "stream",
     "text": [
      "6300.0\n",
      "0.9\n"
     ]
    }
   ],
   "source": [
    "num1 = int(input(\"Enter num1\"))\n",
    "if num1>10000:\n",
    "    print(num1*0.8)\n",
    "    print(0.8)\n",
    "elif num1>7000:\n",
    "    print(num1*0.85)\n",
    "    print(0.85)\n",
    "else:\n",
    "    print(num1*0.9)\n",
    "    print(0.9)"
   ]
  },
  {
   "cell_type": "code",
   "execution_count": 55,
   "id": "ea4de36c-17fb-4bfb-ba40-45158c313923",
   "metadata": {},
   "outputs": [
    {
     "name": "stdout",
     "output_type": "stream",
     "text": [
      "0\n",
      "1\n",
      "1\n"
     ]
    }
   ],
   "source": [
    "a,b=0,1\n",
    "for i in range(3):\n",
    "    print(a)\n",
    "    c=a+b\n",
    "    a=b\n",
    "    b=c"
   ]
  },
  {
   "cell_type": "code",
   "execution_count": 21,
   "id": "f50ef8a2-69bb-40be-9fc6-9bf3492629a5",
   "metadata": {},
   "outputs": [
    {
     "name": "stdout",
     "output_type": "stream",
     "text": [
      "9\n"
     ]
    }
   ],
   "source": [
    "num = [9,10,6,7,8]\n",
    "for i in num:\n",
    "    if i%3==0:\n",
    "        break\n",
    "print(i)"
   ]
  },
  {
   "cell_type": "code",
   "execution_count": 18,
   "id": "2136df33-830e-408d-9729-832a5016838d",
   "metadata": {},
   "outputs": [
    {
     "name": "stdin",
     "output_type": "stream",
     "text": [
      "Enter num1 23\n"
     ]
    },
    {
     "name": "stdout",
     "output_type": "stream",
     "text": [
      "prime\n"
     ]
    }
   ],
   "source": [
    "num1 = int(input(\"Enter num1\"))\n",
    "if num1<2:\n",
    "    print(\"enter more than 1\")\n",
    "else:\n",
    "    for i in range(2,num1):\n",
    "        if num1%i==0:\n",
    "            print(\"not prime\")\n",
    "            break\n",
    "    else:\n",
    "        print(\"prime\")"
   ]
  },
  {
   "cell_type": "code",
   "execution_count": 22,
   "id": "1ac5ae43-f0ae-4d28-9254-9db9e9eb9cf4",
   "metadata": {},
   "outputs": [
    {
     "name": "stdout",
     "output_type": "stream",
     "text": [
      "3\n"
     ]
    }
   ],
   "source": [
    "my_word = 'hello world'\n",
    "vow = 'aeiouAEIOU'\n",
    "count = 0\n",
    "for i in vow:\n",
    "    for j in my_word:\n",
    "        if i==j:\n",
    "            count+=1\n",
    "print(count)"
   ]
  },
  {
   "cell_type": "code",
   "execution_count": 25,
   "id": "ce9f40c4-8adb-4fe6-a565-f67070d5b283",
   "metadata": {},
   "outputs": [
    {
     "name": "stdout",
     "output_type": "stream",
     "text": [
      "[3, 4]\n"
     ]
    }
   ],
   "source": [
    "k=[1,2,3,4]\n",
    "j=[4,5,3,7]\n",
    "l=[]\n",
    "for i in k:\n",
    "    for m in j:\n",
    "        if i==m:\n",
    "            l.append(i)\n",
    "print(l)"
   ]
  },
  {
   "cell_type": "code",
   "execution_count": 26,
   "id": "9877879b-b1c2-40b3-b17d-e2d3b22d3d12",
   "metadata": {},
   "outputs": [
    {
     "name": "stdout",
     "output_type": "stream",
     "text": [
      "['AJITH', 'ARUN', 'ABRAHAM']\n",
      "5\n"
     ]
    }
   ],
   "source": [
    "course = ['AJITH','ARUN','ABRAHAM','BABU','BASKAR']\n",
    "l=[]\n",
    "count=0\n",
    "for i in course:\n",
    "    count+=1\n",
    "    if i.startswith(\"A\"):\n",
    "        l.append(i)\n",
    "print(l)\n",
    "print(count)"
   ]
  },
  {
   "cell_type": "code",
   "execution_count": 28,
   "id": "f887c01d-9b83-4c38-b803-74f10511d1e3",
   "metadata": {},
   "outputs": [
    {
     "name": "stdin",
     "output_type": "stream",
     "text": [
      "Enter num1 1\n",
      "Enter num1 2\n",
      "Enter num1 3\n",
      "Enter num1 4\n",
      "Enter num1 5\n",
      "Enter num1 6\n",
      "Enter num1 7\n"
     ]
    },
    {
     "name": "stdout",
     "output_type": "stream",
     "text": [
      "sales 28\n"
     ]
    }
   ],
   "source": [
    "sales=0\n",
    "for i in range(7):\n",
    "    num1 = int(input(\"Enter num1\"))\n",
    "    sales+=num1\n",
    "print(\"sales\",sales)"
   ]
  },
  {
   "cell_type": "code",
   "execution_count": 31,
   "id": "6b5825cd-d0af-4402-8aaa-b38ef25239af",
   "metadata": {},
   "outputs": [
    {
     "data": {
      "text/plain": [
       "'data'"
      ]
     },
     "execution_count": 31,
     "metadata": {},
     "output_type": "execute_result"
    }
   ],
   "source": [
    "se = 'i am doing data science'\n",
    "se[11:15]"
   ]
  },
  {
   "cell_type": "code",
   "execution_count": 20,
   "id": "88a8001f-2628-4945-a4a1-51533d4b4008",
   "metadata": {},
   "outputs": [
    {
     "data": {
      "text/plain": [
       "'ramya'"
      ]
     },
     "execution_count": 20,
     "metadata": {},
     "output_type": "execute_result"
    }
   ],
   "source": [
    "name = 'ramaya'\n",
    "name = name[0:3]+name[4::]\n",
    "name"
   ]
  },
  {
   "cell_type": "code",
   "execution_count": 51,
   "id": "ad5c27c6-2acf-494a-b814-475104828fd2",
   "metadata": {},
   "outputs": [
    {
     "name": "stdin",
     "output_type": "stream",
     "text": [
      "Age 61\n"
     ]
    },
    {
     "name": "stdout",
     "output_type": "stream",
     "text": [
      "adult\n"
     ]
    }
   ],
   "source": [
    "age = int(input(\"Age\"))\n",
    "if age<13:\n",
    "    print('child')\n",
    "elif age<=19:\n",
    "    print('teenager')\n",
    "elif age<=64:\n",
    "    print('adult')\n",
    "else:\n",
    "    print('senior')"
   ]
  },
  {
   "cell_type": "code",
   "execution_count": 36,
   "id": "086b37e7-cb27-4aa0-9b8f-d967c91cbfc3",
   "metadata": {},
   "outputs": [
    {
     "name": "stdout",
     "output_type": "stream",
     "text": [
      "['h']\n"
     ]
    }
   ],
   "source": [
    "str1='hello'\n",
    "str2='hiii'\n",
    "l=[]\n",
    "for i in str1:\n",
    "    for j in str2:\n",
    "        if i==j:\n",
    "            l.append(j)\n",
    "print(l)"
   ]
  },
  {
   "cell_type": "code",
   "execution_count": 56,
   "id": "e07edcce-445e-45c2-b4db-1b00347c5e23",
   "metadata": {},
   "outputs": [
    {
     "name": "stdin",
     "output_type": "stream",
     "text": [
      "Enter num1 5\n",
      "Enter num1 7\n",
      "Enter num1 2\n"
     ]
    },
    {
     "name": "stdout",
     "output_type": "stream",
     "text": [
      "7\n"
     ]
    }
   ],
   "source": [
    "large=0\n",
    "for i in range(3):\n",
    "    num1 = int(input(\"Enter num1\"))\n",
    "    if num1>large:\n",
    "        large=num1\n",
    "print(large)"
   ]
  },
  {
   "cell_type": "code",
   "execution_count": 40,
   "id": "05e92692-c0d4-476d-afcc-aab6a2224f6b",
   "metadata": {},
   "outputs": [
    {
     "name": "stdin",
     "output_type": "stream",
     "text": [
      "word name\n"
     ]
    },
    {
     "name": "stdout",
     "output_type": "stream",
     "text": [
      "eman\n"
     ]
    }
   ],
   "source": [
    "word = input(\"word\")\n",
    "rev=\"\"\n",
    "for i in word:\n",
    "    rev=i+rev\n",
    "print(rev)"
   ]
  },
  {
   "cell_type": "code",
   "execution_count": 41,
   "id": "24cbb0d8-bd5d-4be9-a663-024add9bdacd",
   "metadata": {},
   "outputs": [],
   "source": [
    "course = ['python','power bi', 'sql']\n",
    "course.append('html')"
   ]
  },
  {
   "cell_type": "code",
   "execution_count": 42,
   "id": "5630e34d-5de7-4437-8fcf-fdfbff6cf0e8",
   "metadata": {},
   "outputs": [
    {
     "data": {
      "text/plain": [
       "['python', 'power bi', 'sql', 'html']"
      ]
     },
     "execution_count": 42,
     "metadata": {},
     "output_type": "execute_result"
    }
   ],
   "source": [
    "course"
   ]
  },
  {
   "cell_type": "code",
   "execution_count": 44,
   "id": "bcd80467-0a56-4377-bfe6-39c40a2352c3",
   "metadata": {},
   "outputs": [
    {
     "data": {
      "text/plain": [
       "['python', 'css', 'power bi', 'sql', 'html']"
      ]
     },
     "execution_count": 44,
     "metadata": {},
     "output_type": "execute_result"
    }
   ],
   "source": [
    "course.insert(1,'css')\n",
    "course"
   ]
  },
  {
   "cell_type": "code",
   "execution_count": 45,
   "id": "af10b350-85d3-4b32-a41c-7b98fefc278f",
   "metadata": {},
   "outputs": [
    {
     "data": {
      "text/plain": [
       "3"
      ]
     },
     "execution_count": 45,
     "metadata": {},
     "output_type": "execute_result"
    }
   ],
   "source": [
    "course.index('sql')"
   ]
  },
  {
   "cell_type": "code",
   "execution_count": 46,
   "id": "77ecc48a-150c-4621-b9b4-df541dcfd6b6",
   "metadata": {},
   "outputs": [
    {
     "data": {
      "text/plain": [
       "{'css', 'html', 'power bi', 'python', 'sql'}"
      ]
     },
     "execution_count": 46,
     "metadata": {},
     "output_type": "execute_result"
    }
   ],
   "source": [
    "course=set(course)\n",
    "course"
   ]
  },
  {
   "cell_type": "code",
   "execution_count": 47,
   "id": "68a84fbf-bb05-4cc7-972d-43a676858bf1",
   "metadata": {},
   "outputs": [
    {
     "data": {
      "text/plain": [
       "('css', 'power bi', 'sql', 'python', 'html')"
      ]
     },
     "execution_count": 47,
     "metadata": {},
     "output_type": "execute_result"
    }
   ],
   "source": [
    "course=tuple(course)\n",
    "course"
   ]
  },
  {
   "cell_type": "code",
   "execution_count": 49,
   "id": "adcbf66e-e6d9-4ca8-bfe9-e811bd535c59",
   "metadata": {},
   "outputs": [],
   "source": [
    "def conv(a):\n",
    "    a=list(a)\n",
    "    a.clear()\n",
    "    a=tuple(a)\n",
    "    return a"
   ]
  },
  {
   "cell_type": "code",
   "execution_count": 50,
   "id": "f1022ca6-69c0-4efe-bab3-b9e181703291",
   "metadata": {},
   "outputs": [
    {
     "data": {
      "text/plain": [
       "()"
      ]
     },
     "execution_count": 50,
     "metadata": {},
     "output_type": "execute_result"
    }
   ],
   "source": [
    "course = conv(course)\n",
    "course"
   ]
  }
 ],
 "metadata": {
  "kernelspec": {
   "display_name": "Python 3 (ipykernel)",
   "language": "python",
   "name": "python3"
  },
  "language_info": {
   "codemirror_mode": {
    "name": "ipython",
    "version": 3
   },
   "file_extension": ".py",
   "mimetype": "text/x-python",
   "name": "python",
   "nbconvert_exporter": "python",
   "pygments_lexer": "ipython3",
   "version": "3.12.9"
  }
 },
 "nbformat": 4,
 "nbformat_minor": 5
}
