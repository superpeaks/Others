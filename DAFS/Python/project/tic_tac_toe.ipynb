{
 "cells": [
  {
   "cell_type": "code",
   "execution_count": null,
   "id": "d9dafb38",
   "metadata": {},
   "outputs": [],
   "source": [
    "import os"
   ]
  },
  {
   "cell_type": "code",
   "execution_count": null,
   "id": "0b1ad2dc-046f-4f27-ab73-a313c503550b",
   "metadata": {},
   "outputs": [],
   "source": [
    "def print_board(board):\n",
    "    os.system('cls' if os.name == 'nt' else 'clear')\n",
    "    print(f\" {board[1]} || {board[2]} || {board[3]}\")\n",
    "    print('-------------')\n",
    "    print(f\" {board[4]} || {board[5]} || {board[6]}\")\n",
    "    print('-------------')\n",
    "    print(f\" {board[7]} || {board[8]} || {board[9]}\")"
   ]
  },
  {
   "cell_type": "code",
   "execution_count": 170,
   "id": "603a2b08-e5c7-4f34-b96a-220851ba7e73",
   "metadata": {},
   "outputs": [],
   "source": [
    "def get_input(palyer):\n",
    "    palyer +=1\n",
    "    while True:\n",
    "        palyer_input = input(f\"\\nPlayer{palyer}:Select the place:\")\n",
    "        if palyer_input and int(palyer_input) in range(1,10):\n",
    "                return int(palyer_input)\n",
    "        else:\n",
    "            print(\"Please enter valid range(1 to 9)\")\n"
   ]
  },
  {
   "cell_type": "code",
   "execution_count": 171,
   "id": "087f310f-91ea-4580-acc2-7603039e53a3",
   "metadata": {},
   "outputs": [],
   "source": [
    "def tie_check(board):\n",
    "    if \" \" in board:\n",
    "        return board\n",
    "    else:\n",
    "        board[0] = \"done\"\n",
    "        print(\"\\nGame Tie\\n\")\n",
    "        return board"
   ]
  },
  {
   "cell_type": "code",
   "execution_count": 172,
   "id": "bf813927-11c9-40ef-b63f-f0640ffd69b2",
   "metadata": {},
   "outputs": [],
   "source": [
    "def win_check(board):\n",
    "    def criteria(t):\n",
    "        if (t[1]==1 and t[2]==1 and t[3]==1 or\n",
    "            t[4]==1 and t[5]==1 and t[6]==1 or\n",
    "            t[7]==1 and t[8]==1 and t[9]==1 or\n",
    "            t[1]==1 and t[5]==1 and t[9]==1 or\n",
    "            t[3]==1 and t[5]==1 and t[7]==1 or\n",
    "            t[1]==1 and t[4]==1 and t[7]==1 or\n",
    "            t[2]==1 and t[5]==1 and t[8]==1 or\n",
    "            t[3]==1 and t[6]==1 and t[9]==1):\n",
    "            return \"Win\"\n",
    "            \n",
    "\n",
    "    if board[0]==0: \n",
    "        t = board.copy() #shallow copy to temp variable to check win result without affecting board variable\n",
    "\n",
    "        for i in range(1,10):\n",
    "            if t[i] == \"X\":\n",
    "                t[i] = 1\n",
    "        result = criteria(t)\n",
    "        if result == \"Win\":\n",
    "            board[0]=\"done\"\n",
    "            print(\"\\nPlayer 1 Win\\n\")\n",
    "            return board\n",
    "\n",
    "    elif board[0]==1:\n",
    "        t = board.copy() #shallow copy to temp variable to check win result without affecting board variable\n",
    "        for i in range(1,10):\n",
    "            if t[i] == \"O\":\n",
    "                t[i] = 1\n",
    "        result = criteria(t)\n",
    "        if result == \"Win\":\n",
    "            board[0]=\"done\"\n",
    "            print(\"\\nPlayer 2 Win\\n\")\n",
    "            return board"
   ]
  },
  {
   "cell_type": "code",
   "execution_count": 173,
   "id": "c97f5930-d96b-4806-86a7-31b48d65925b",
   "metadata": {},
   "outputs": [],
   "source": [
    "def play(board): \n",
    "\n",
    "    palyer_input = get_input(board[0])\n",
    "\n",
    "    if board[0]==0:\n",
    "        if board[palyer_input] == \" \":\n",
    "            board[palyer_input] = \"X\"\n",
    "            board[0]=1\n",
    "        elif board[palyer_input] != \" \":\n",
    "            print(\"Wrong Selection\")\n",
    "            board[0]=0\n",
    "            \n",
    "    elif board[0]==1:\n",
    "        if board[palyer_input] == \" \":\n",
    "            board[palyer_input] = \"O\"\n",
    "            board[0]=0\n",
    "        elif board[palyer_input] != \" \":\n",
    "            print(\"Wrong Selection\")\n",
    "            board[0]=1\n",
    "           \n",
    "    print_board(board)"
   ]
  },
  {
   "cell_type": "code",
   "execution_count": 174,
   "id": "52047c4c-2338-4624-81b8-9a4979b9a1d8",
   "metadata": {},
   "outputs": [
    {
     "name": "stdout",
     "output_type": "stream",
     "text": [
      "   ||   ||  \n",
      "-------------\n",
      "   ||   ||  \n",
      "-------------\n",
      "   ||   ||  \n"
     ]
    },
    {
     "name": "stdout",
     "output_type": "stream",
     "text": [
      "\n",
      "Player1:Select the place: 1\n"
     ]
    },
    {
     "name": "stdout",
     "output_type": "stream",
     "text": [
      " X ||   ||  \n",
      "-------------\n",
      "   ||   ||  \n",
      "-------------\n",
      "   ||   ||  \n"
     ]
    },
    {
     "name": "stdout",
     "output_type": "stream",
     "text": [
      "\n",
      "Player2:Select the place: 2\n"
     ]
    },
    {
     "name": "stdout",
     "output_type": "stream",
     "text": [
      " X || O ||  \n",
      "-------------\n",
      "   ||   ||  \n",
      "-------------\n",
      "   ||   ||  \n"
     ]
    },
    {
     "name": "stdout",
     "output_type": "stream",
     "text": [
      "\n",
      "Player1:Select the place: 3\n"
     ]
    },
    {
     "name": "stdout",
     "output_type": "stream",
     "text": [
      " X || O || X\n",
      "-------------\n",
      "   ||   ||  \n",
      "-------------\n",
      "   ||   ||  \n"
     ]
    },
    {
     "name": "stdout",
     "output_type": "stream",
     "text": [
      "\n",
      "Player2:Select the place: \n"
     ]
    },
    {
     "name": "stdout",
     "output_type": "stream",
     "text": [
      "Please enter valid range(1 to 9)\n"
     ]
    },
    {
     "name": "stdout",
     "output_type": "stream",
     "text": [
      "\n",
      "Player2:Select the place: 4\n"
     ]
    },
    {
     "name": "stdout",
     "output_type": "stream",
     "text": [
      " X || O || X\n",
      "-------------\n",
      " O ||   ||  \n",
      "-------------\n",
      "   ||   ||  \n"
     ]
    },
    {
     "name": "stdout",
     "output_type": "stream",
     "text": [
      "\n",
      "Player1:Select the place: 5\n"
     ]
    },
    {
     "name": "stdout",
     "output_type": "stream",
     "text": [
      " X || O || X\n",
      "-------------\n",
      " O || X ||  \n",
      "-------------\n",
      "   ||   ||  \n"
     ]
    },
    {
     "name": "stdout",
     "output_type": "stream",
     "text": [
      "\n",
      "Player2:Select the place: 6\n"
     ]
    },
    {
     "name": "stdout",
     "output_type": "stream",
     "text": [
      " X || O || X\n",
      "-------------\n",
      " O || X || O\n",
      "-------------\n",
      "   ||   ||  \n"
     ]
    },
    {
     "name": "stdout",
     "output_type": "stream",
     "text": [
      "\n",
      "Player1:Select the place: 7\n"
     ]
    },
    {
     "name": "stdout",
     "output_type": "stream",
     "text": [
      " X || O || X\n",
      "-------------\n",
      " O || X || O\n",
      "-------------\n",
      " X ||   ||  \n"
     ]
    },
    {
     "name": "stdout",
     "output_type": "stream",
     "text": [
      "\n",
      "Player2:Select the place: 8\n"
     ]
    },
    {
     "name": "stdout",
     "output_type": "stream",
     "text": [
      " X || O || X\n",
      "-------------\n",
      " O || X || O\n",
      "-------------\n",
      " X || O ||  \n",
      "\n",
      "Player 1 Win\n",
      "\n"
     ]
    }
   ],
   "source": [
    "def start_game():\n",
    "    board = [\" \",\" \",\" \",\" \",\" \",\" \",\" \",\" \",\" \",\" \"]\n",
    "    print_board(board)\n",
    "    board[0]=0\n",
    "    loop = True\n",
    "    while loop:\n",
    "        play(board)\n",
    "        tie_check(board)\n",
    "        win_check(board) \n",
    "        if board[0] == \"done\":\n",
    "            loop = False\n",
    "\n",
    "start_game()"
   ]
  },
  {
   "cell_type": "code",
   "execution_count": null,
   "id": "05f929f9-c616-449e-898c-3b74a875e2bd",
   "metadata": {},
   "outputs": [],
   "source": []
  }
 ],
 "metadata": {
  "kernelspec": {
   "display_name": "Python 3 (ipykernel)",
   "language": "python",
   "name": "python3"
  },
  "language_info": {
   "codemirror_mode": {
    "name": "ipython",
    "version": 3
   },
   "file_extension": ".py",
   "mimetype": "text/x-python",
   "name": "python",
   "nbconvert_exporter": "python",
   "pygments_lexer": "ipython3",
   "version": "3.12.9"
  }
 },
 "nbformat": 4,
 "nbformat_minor": 5
}
