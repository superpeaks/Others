{
 "cells": [
  {
   "cell_type": "code",
   "execution_count": null,
   "id": "e2787d0a",
   "metadata": {},
   "outputs": [],
   "source": [
    "# show databases;\n",
    "# create database study;\n",
    "# create table study (sno int, name varchar(30));\n",
    "# insert into study.study(sno, name) values(1,\"ragu\")\n",
    "# insert into study.study values(2,\"ram\")\n",
    "# update study.study set name=\"rajesh\" where sno = 2;\n",
    "# update study.study set name = 'ram',sno=2 where sno=100\n",
    "# delete from study.study where sno=2;\n",
    "# truncate table study.study;\n",
    "# drop table study.study;\n",
    "# drop database study;\n",
    "\n",
    "# WITH (CTE) COMMON TABLE EXPRESSION\n",
    "# TEMPORARY TABLE"
   ]
  },
  {
   "cell_type": "code",
   "execution_count": null,
   "id": "fe627ab0",
   "metadata": {},
   "outputs": [],
   "source": [
    "ALTER"
   ]
  }
 ],
 "metadata": {
  "kernelspec": {
   "display_name": "Python 3",
   "language": "python",
   "name": "python3"
  },
  "language_info": {
   "codemirror_mode": {
    "name": "ipython",
    "version": 3
   },
   "file_extension": ".py",
   "mimetype": "text/x-python",
   "name": "python",
   "nbconvert_exporter": "python",
   "pygments_lexer": "ipython3",
   "version": "3.13.2"
  }
 },
 "nbformat": 4,
 "nbformat_minor": 5
}
