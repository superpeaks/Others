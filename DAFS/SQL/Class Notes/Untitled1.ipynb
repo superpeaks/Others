{
 "cells": [
  {
   "cell_type": "code",
   "execution_count": 5,
   "id": "a2e8d3db-4115-453c-900a-d429e8ba4975",
   "metadata": {},
   "outputs": [
    {
     "name": "stdin",
     "output_type": "stream",
     "text": [
      "enter the number 5\n"
     ]
    },
    {
     "name": "stdout",
     "output_type": "stream",
     "text": [
      "120\n"
     ]
    }
   ],
   "source": [
    "# find the factorial of the given number\n",
    "user=int(input(\"enter the number\"))\n",
    "fact=1\n",
    "for i in range(1,user+1):\n",
    "    fact=fact*i\n",
    "print(fact)      # 5 1 ,2,3,4,5"
   ]
  },
  {
   "cell_type": "code",
   "execution_count": 6,
   "id": "34a85d1d-4fca-4f61-b663-beec6fc60958",
   "metadata": {},
   "outputs": [
    {
     "name": "stdout",
     "output_type": "stream",
     "text": [
      "3250\n"
     ]
    }
   ],
   "source": [
    "# i need sum of even numbers from 100 to 150\n",
    "total=0\n",
    "for i in range(100,150+1):\n",
    "    if i %2==0:\n",
    "        total=total+i\n",
    "print(total)        "
   ]
  },
  {
   "cell_type": "code",
   "execution_count": 7,
   "id": "ceee6050-4c99-4908-bf87-961800cbf944",
   "metadata": {},
   "outputs": [
    {
     "name": "stdout",
     "output_type": "stream",
     "text": [
      "220\n",
      "10\n"
     ]
    }
   ],
   "source": [
    "# i need sum of even numbers and count of odd numbers from 10 to 30\n",
    "total=0\n",
    "count=0\n",
    "for i in range(10,30+1):\n",
    "    if i %2==0:\n",
    "        total=total+i\n",
    "    else:\n",
    "        count=count+1\n",
    "\n",
    "print(total)\n",
    "print(count)"
   ]
  },
  {
   "cell_type": "code",
   "execution_count": 12,
   "id": "ebc94d13-7f0e-4760-90ea-31d2549df5bd",
   "metadata": {},
   "outputs": [
    {
     "name": "stdin",
     "output_type": "stream",
     "text": [
      "Enter the number 10\n",
      "Enter the number 10\n",
      "Enter the number 10\n",
      "Enter the number 10\n",
      "Enter the number 10\n"
     ]
    },
    {
     "name": "stdout",
     "output_type": "stream",
     "text": [
      "50\n"
     ]
    }
   ],
   "source": [
    "# i need sum five numbers given by user\n",
    "total=0\n",
    "for i in range(5):\n",
    "    num=int(input(\"Enter the number\"))\n",
    "    total=total+num\n",
    "print(total)    "
   ]
  },
  {
   "cell_type": "code",
   "execution_count": 13,
   "id": "e23c9419-1624-4a4d-9335-67cfb9113f9c",
   "metadata": {},
   "outputs": [
    {
     "name": "stdin",
     "output_type": "stream",
     "text": [
      "enter the number 12\n",
      "enter the number 13\n",
      "enter the number 14\n",
      "enter the number 15\n",
      "enter the number 16\n"
     ]
    },
    {
     "name": "stdout",
     "output_type": "stream",
     "text": [
      "[12, 13, 14, 15, 16]\n"
     ]
    }
   ],
   "source": [
    "# i need new list of  five numbers given by user\n",
    "new=[]\n",
    "for i in range(5):\n",
    "    a=int(input(\"enter the number\"))\n",
    "    new.append(a)\n",
    "print(new)"
   ]
  },
  {
   "cell_type": "code",
   "execution_count": 14,
   "id": "4b40f946-6615-4eba-b0e2-e1226e3a4b6d",
   "metadata": {},
   "outputs": [
    {
     "name": "stdin",
     "output_type": "stream",
     "text": [
      "enter the number 12\n",
      "enter the number 10\n",
      "enter the number 15\n",
      "enter the number 10\n",
      "enter the number 13\n"
     ]
    },
    {
     "name": "stdout",
     "output_type": "stream",
     "text": [
      "12.0\n"
     ]
    }
   ],
   "source": [
    "# five numbers user input ---average\n",
    "total=0\n",
    "count=0\n",
    "for i in range(5):\n",
    "    a=int(input(\"enter the number\"))\n",
    "    total=total+a\n",
    "    count=count+1\n",
    "    avg=total/count\n",
    "\n",
    "print(avg)"
   ]
  },
  {
   "cell_type": "code",
   "execution_count": null,
   "id": "5b43bf78-fb21-4f80-9407-2e7bfc3d0111",
   "metadata": {},
   "outputs": [],
   "source": [
    " 2 x 1 = 2 "
   ]
  },
  {
   "cell_type": "code",
   "execution_count": 19,
   "id": "8159b66e-fabd-4f00-befd-afd12b7e4f6b",
   "metadata": {},
   "outputs": [
    {
     "name": "stdout",
     "output_type": "stream",
     "text": [
      "2 X 1 = 2\n",
      "2 X 2 = 4\n",
      "2 X 3 = 6\n",
      "2 X 4 = 8\n",
      "2 X 5 = 10\n",
      "2 X 6 = 12\n",
      "2 X 7 = 14\n",
      "2 X 8 = 16\n",
      "2 X 9 = 18\n",
      "2 X 10 = 20\n"
     ]
    }
   ],
   "source": [
    "# tables\n",
    "table=2\n",
    "for i in range(1,10+1):\n",
    "    d=table*i\n",
    "    print(table,\"X\",i,\"=\",d)"
   ]
  },
  {
   "cell_type": "code",
   "execution_count": null,
   "id": "04fef758-49b7-4abd-80d9-1b62a0d5ead6",
   "metadata": {},
   "outputs": [],
   "source": [
    "user=3    1 11 111 "
   ]
  },
  {
   "cell_type": "code",
   "execution_count": 27,
   "id": "d790c999-9776-422c-8388-be2b8e008dd3",
   "metadata": {},
   "outputs": [
    {
     "name": "stdin",
     "output_type": "stream",
     "text": [
      "enter the series you want 3\n"
     ]
    },
    {
     "name": "stdout",
     "output_type": "stream",
     "text": [
      "1\n",
      "11\n",
      "111\n",
      "the total of this series is  123\n"
     ]
    }
   ],
   "source": [
    "# series \n",
    "user=int(input(\"enter the series you want\"))\n",
    "num_series=0\n",
    "total=0\n",
    "for i in range(user):\n",
    "    num_series=(num_series*10)+1\n",
    "    print(num_series)\n",
    "    total=total+num_series\n",
    "print(\"the total of this series is \",total)    "
   ]
  },
  {
   "cell_type": "code",
   "execution_count": null,
   "id": "05bfee85-6ec6-427f-833d-880cb7f1636c",
   "metadata": {},
   "outputs": [],
   "source": [
    "# tasks\n",
    "1. find the total for sales seven days entered by the user\n",
    "2. print the series 1,12,123 ......upto nterms\n",
    "3. print the series 9,99,999 .....upto nterms\n",
    "4. print the tables of 11 upto 10 \n",
    "5. print the tables of 4 for only even numbers upto 10\n",
    "6. write a program for factorial number\n",
    "7. write a program to find count of num div by 3 and num div by 5 between 10 to 40\n",
    "8. accept 6 numbers from user and create a list\n"
   ]
  }
 ],
 "metadata": {
  "kernelspec": {
   "display_name": "Python 3 (ipykernel)",
   "language": "python",
   "name": "python3"
  },
  "language_info": {
   "codemirror_mode": {
    "name": "ipython",
    "version": 3
   },
   "file_extension": ".py",
   "mimetype": "text/x-python",
   "name": "python",
   "nbconvert_exporter": "python",
   "pygments_lexer": "ipython3",
   "version": "3.13.5"
  }
 },
 "nbformat": 4,
 "nbformat_minor": 5
}
