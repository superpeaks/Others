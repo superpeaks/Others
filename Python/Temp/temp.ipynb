{
 "cells": [
  {
   "cell_type": "code",
   "execution_count": 1,
   "id": "9c9486df",
   "metadata": {},
   "outputs": [],
   "source": [
    "import os, random, traceback, datetime\n",
    "\n",
    "try:\n",
    "    from selenium                                 import webdriver\n",
    "except ImportError:\n",
    "    os.system('pip install selenium')\n",
    "    \n",
    "from selenium.webdriver.common.by             import By\n",
    "from selenium.webdriver.support.ui            import WebDriverWait\n",
    "from selenium.webdriver.support               import expected_conditions as EC\n",
    "from selenium.webdriver.chrome.options        import Options\n",
    "from selenium.webdriver.common.keys           import Keys\n",
    "from selenium.common.exceptions               import NoSuchElementException\n",
    "from selenium.webdriver.edge.service          import Service\n",
    "from webdriver_manager.microsoft              import EdgeChromiumDriverManager\n",
    "from time                                     import sleep\n",
    "\n",
    "try:\n",
    "    from pytz                                 import timezone\n",
    "except ImportError:\n",
    "    os.system(\"pip install pytz\")\n",
    "    from pytz                                 import timezone\n",
    "finally:\n",
    "    from pytz                                 import UnknownTimeZoneError\n",
    "TZ = timezone(\"Asia/Kolkata\")\n",
    "\n",
    "try:\n",
    "    import pyautogui\n",
    "except ImportError:\n",
    "    os.system(\"pip install pyautogui\")\n",
    "    import pyautogui\n",
    "\n",
    "try:\n",
    "    from pytrends.request                     import TrendReq\n",
    "except ImportError:\n",
    "    os.system(\"pip install pytrends\")\n",
    "    from pytrends.request                     import TrendReq"
   ]
  },
  {
   "cell_type": "code",
   "execution_count": 2,
   "id": "157ff5e9",
   "metadata": {},
   "outputs": [],
   "source": [
    "def profile_selection(n):\n",
    "    sleep(5) #To eliminate POP-up\n",
    "    profile_coordinates = [(1770,55), (1700, 370), (1700, 370+n), (1700, 420), (1770, 55)]\n",
    "    for x, y in profile_coordinates:\n",
    "        pyautogui.moveTo(x, y , duration=0.5)\n",
    "        pyautogui.click()\n",
    "    pyautogui.moveTo(0, 0 , duration=0.3)"
   ]
  },
  {
   "cell_type": "code",
   "execution_count": 3,
   "id": "e46b17fd",
   "metadata": {},
   "outputs": [],
   "source": [
    "options = webdriver.EdgeOptions()\n",
    "driver = webdriver.Edge(options=options)\n",
    "driver.maximize_window()\n",
    "sleep(5)\n",
    "profile_selection(120)\n",
    "driver.get('https://rewards.bing.com/')\n",
    "sleep(3)"
   ]
  },
  {
   "cell_type": "code",
   "execution_count": 33,
   "id": "08be2cab",
   "metadata": {},
   "outputs": [
    {
     "name": "stdout",
     "output_type": "stream",
     "text": [
      "mee-icon mee-icon-SkypeCircleCheck\n"
     ]
    }
   ],
   "source": [
    "element = driver.find_element(by=By.XPATH, value=\"//*[@id='more-activities']/div/mee-card[10]/div/card-content/mee-rewards-more-activities-card-item/div/a/mee-rewards-points/div/div/span[1]\")\n",
    "\n",
    "class_name = element.get_attribute(\"class\")\n",
    "\n",
    "print(class_name)"
   ]
  },
  {
   "cell_type": "code",
   "execution_count": 43,
   "metadata": {},
   "outputs": [
    {
     "name": "stdout",
     "output_type": "stream",
     "text": [
      "1 mee-icon mee-icon-AddMedium\n",
      "2 mee-icon mee-icon-SkypeCircleCheck\n",
      "3 mee-icon mee-icon-SkypeCircleCheck\n",
      "4 mee-icon mee-icon-SkypeCircleCheck\n",
      "5 mee-icon mee-icon-SkypeCircleCheck\n",
      "6 mee-icon mee-icon-SkypeCircleCheck\n",
      "7 mee-icon mee-icon-SkypeCircleCheck\n",
      "8 mee-icon mee-icon-SkypeCircleCheck\n",
      "9 mee-icon mee-icon-SkypeCircleCheck\n",
      "10 mee-icon mee-icon-SkypeCircleCheck\n",
      "11 mee-icon mee-icon-SkypeCircleCheck\n",
      "12 mee-icon mee-icon-SkypeCircleCheck\n",
      "13 mee-icon mee-icon-AddMedium\n"
     ]
    }
   ],
   "source": [
    "# Play Offers every 3 days ones\n",
    "def offers():\n",
    "    every_3_days = datetime.date.today().day % 3\n",
    "    if every_3_days ==0:\n",
    "        first_part = '''//*[@id='more-activities']/div/mee-card['''\n",
    "        last_part = ''']/div/card-content/mee-rewards-more-activities-card-item/div/a/mee-rewards-points/div/div/span[1]'''\n",
    "\n",
    "        def play_offers(element):\n",
    "            element.click()\n",
    "            sleep(3)\n",
    "            pyautogui.hotkey('ctrl','w')\n",
    "        for i in range(15):\n",
    "            try:\n",
    "                mid_part = str(i+1)\n",
    "                value = first_part+mid_part+last_part\n",
    "                element = driver.find_element(by=By.XPATH, value=value)\n",
    "                class_name = element.get_attribute(\"class\")\n",
    "                print(i+1, class_name)\n",
    "                if class_name == 'mee-icon mee-icon-AddMedium':\n",
    "                    play_offers(element)\n",
    "                else:\n",
    "                    pass\n",
    "            except NoSuchElementException:\n",
    "                pass\n",
    "    else:\n",
    "        pass"
   ]
  },
  {
   "cell_type": "code",
   "execution_count": 60,
   "id": "314f148b",
   "metadata": {},
   "outputs": [],
   "source": [
    "every_3_days = datetime.date.today().day % 3"
   ]
  },
  {
   "cell_type": "code",
   "execution_count": 61,
   "id": "adc71ded",
   "metadata": {},
   "outputs": [
    {
     "data": {
      "text/plain": [
       "0"
      ]
     },
     "execution_count": 61,
     "metadata": {},
     "output_type": "execute_result"
    }
   ],
   "source": [
    "every_3_days"
   ]
  },
  {
   "cell_type": "code",
   "execution_count": 2,
   "id": "778fadfc",
   "metadata": {},
   "outputs": [],
   "source": [
    "import subprocess\n",
    "\n",
    "# Replace with the path to your desired folder or file\n",
    "folder_or_file_path = 'C:\\ProgramData\\Microsoft\\Windows\\Start Menu\\Programs\\Google Drive.lnk'\n",
    "\n",
    "try:\n",
    "    subprocess.Popen(['explorer', folder_or_file_path], shell=True)\n",
    "except Exception as e:\n",
    "    print(f\"An error occurred: {e}\")\n"
   ]
  },
  {
   "cell_type": "code",
   "execution_count": 5,
   "id": "547217d1",
   "metadata": {},
   "outputs": [
    {
     "name": "stdout",
     "output_type": "stream",
     "text": [
      "New data appended to temp_dir/output.csv\n"
     ]
    }
   ],
   "source": [
    "def csv(c1,c2,c3):\n",
    "    new_data = [c1,c2,c3]\n",
    "\n",
    "    filename = \"temp_dir/output.csv\"\n",
    "\n",
    "    with open(filename, mode=\"a\", newline=\"\") as file:\n",
    "        writer = csv.writer(file)\n",
    "        writer.writerow(new_data)\n",
    "\n",
    "    print(f\"New data appended to {filename}\")\n"
   ]
  },
  {
   "cell_type": "code",
   "execution_count": 1,
   "id": "80241154",
   "metadata": {},
   "outputs": [],
   "source": [
    "def csv(c1,c2,c3):\n",
    "    new_data = [c1,c2,c3]\n",
    "\n",
    "    # Generate a CSV filename with current date and time\n",
    "    current_datetime = dt.now().strftime(\"%Y-%m-%d_%H-%M-%S\")\n",
    "    csv_filename = f\"CSV//data_with_datetime_{current_datetime}.csv\"\n",
    "\n",
    "    # Write data to the CSV file\n",
    "    with open(csv_filename, mode=\"w\", newline=\"\") as file:\n",
    "        writer = csv.writer(file)\n",
    "        writer.writerows(data)\n"
   ]
  },
  {
   "cell_type": "code",
   "execution_count": 7,
   "id": "36c776a7",
   "metadata": {},
   "outputs": [
    {
     "data": {
      "text/html": [
       "<div>\n",
       "<style scoped>\n",
       "    .dataframe tbody tr th:only-of-type {\n",
       "        vertical-align: middle;\n",
       "    }\n",
       "\n",
       "    .dataframe tbody tr th {\n",
       "        vertical-align: top;\n",
       "    }\n",
       "\n",
       "    .dataframe thead th {\n",
       "        text-align: right;\n",
       "    }\n",
       "</style>\n",
       "<table border=\"1\" class=\"dataframe\">\n",
       "  <thead>\n",
       "    <tr style=\"text-align: right;\">\n",
       "      <th></th>\n",
       "      <th>Email</th>\n",
       "      <th>Action</th>\n",
       "      <th>Points</th>\n",
       "      <th>Timestamp</th>\n",
       "    </tr>\n",
       "  </thead>\n",
       "  <tbody>\n",
       "    <tr>\n",
       "      <th>0</th>\n",
       "      <td>Program Start</td>\n",
       "      <td>Total profiles</td>\n",
       "      <td>1</td>\n",
       "      <td>2023-08-26 19:11:23.095426</td>\n",
       "    </tr>\n",
       "    <tr>\n",
       "      <th>1</th>\n",
       "      <td>sankarnarayananr6@gmail.com</td>\n",
       "      <td>PC SEARCH</td>\n",
       "      <td>90</td>\n",
       "      <td>2023-08-26 19:11:23.095426</td>\n",
       "    </tr>\n",
       "    <tr>\n",
       "      <th>2</th>\n",
       "      <td>sankarnarayananr6@gmail.com</td>\n",
       "      <td>Mobile Searches</td>\n",
       "      <td>60</td>\n",
       "      <td>2023-08-26 19:11:23.095426</td>\n",
       "    </tr>\n",
       "    <tr>\n",
       "      <th>3</th>\n",
       "      <td>sankarnarayananr6@gmail.com</td>\n",
       "      <td>Today Points</td>\n",
       "      <td>247</td>\n",
       "      <td>2023-08-26 19:11:23.095426</td>\n",
       "    </tr>\n",
       "    <tr>\n",
       "      <th>4</th>\n",
       "      <td>sankarnarayananr6@gmail.com</td>\n",
       "      <td>Total Points</td>\n",
       "      <td>3071</td>\n",
       "      <td>2023-08-26 19:11:23.095426</td>\n",
       "    </tr>\n",
       "    <tr>\n",
       "      <th>5</th>\n",
       "      <td>sankarnarayananr6@gmail.com</td>\n",
       "      <td>Points Required to Redeem</td>\n",
       "      <td>5079</td>\n",
       "      <td>2023-08-26 19:11:23.095426</td>\n",
       "    </tr>\n",
       "    <tr>\n",
       "      <th>6</th>\n",
       "      <td>sankarnarayananr6@gmail.com</td>\n",
       "      <td>Days Required to Redeem</td>\n",
       "      <td>8131</td>\n",
       "      <td>2023-08-26 19:11:23.095426</td>\n",
       "    </tr>\n",
       "    <tr>\n",
       "      <th>7</th>\n",
       "      <td>Program Completed</td>\n",
       "      <td>Total profiles</td>\n",
       "      <td>1</td>\n",
       "      <td>2023-08-26 19:12:51.377643</td>\n",
       "    </tr>\n",
       "  </tbody>\n",
       "</table>\n",
       "</div>"
      ],
      "text/plain": [
       "                         Email                     Action  Points  \\\n",
       "0                Program Start             Total profiles       1   \n",
       "1  sankarnarayananr6@gmail.com                  PC SEARCH      90   \n",
       "2  sankarnarayananr6@gmail.com            Mobile Searches      60   \n",
       "3  sankarnarayananr6@gmail.com               Today Points     247   \n",
       "4  sankarnarayananr6@gmail.com               Total Points    3071   \n",
       "5  sankarnarayananr6@gmail.com  Points Required to Redeem    5079   \n",
       "6  sankarnarayananr6@gmail.com    Days Required to Redeem    8131   \n",
       "7            Program Completed             Total profiles       1   \n",
       "\n",
       "                    Timestamp  \n",
       "0  2023-08-26 19:11:23.095426  \n",
       "1  2023-08-26 19:11:23.095426  \n",
       "2  2023-08-26 19:11:23.095426  \n",
       "3  2023-08-26 19:11:23.095426  \n",
       "4  2023-08-26 19:11:23.095426  \n",
       "5  2023-08-26 19:11:23.095426  \n",
       "6  2023-08-26 19:11:23.095426  \n",
       "7  2023-08-26 19:12:51.377643  "
      ]
     },
     "execution_count": 7,
     "metadata": {},
     "output_type": "execute_result"
    }
   ],
   "source": [
    "import pandas as pd\n",
    "df = pd.read_csv('D:\\\\Portable Apps\\\\Edge Rewards\\\\CSV\\\\Bing_Rewards_CSV_2023-08-26_19-11-23.csv',parse_dates=True)\n",
    "df"
   ]
  },
  {
   "cell_type": "code",
   "execution_count": 23,
   "id": "7c18db2c",
   "metadata": {},
   "outputs": [
    {
     "data": {
      "text/html": [
       "<div>\n",
       "<style scoped>\n",
       "    .dataframe tbody tr th:only-of-type {\n",
       "        vertical-align: middle;\n",
       "    }\n",
       "\n",
       "    .dataframe tbody tr th {\n",
       "        vertical-align: top;\n",
       "    }\n",
       "\n",
       "    .dataframe thead tr th {\n",
       "        text-align: left;\n",
       "    }\n",
       "\n",
       "    .dataframe thead tr:last-of-type th {\n",
       "        text-align: right;\n",
       "    }\n",
       "</style>\n",
       "<table border=\"1\" class=\"dataframe\">\n",
       "  <thead>\n",
       "    <tr>\n",
       "      <th></th>\n",
       "      <th colspan=\"7\" halign=\"left\">Points</th>\n",
       "    </tr>\n",
       "    <tr>\n",
       "      <th>Action</th>\n",
       "      <th>Days Required to Redeem</th>\n",
       "      <th>Mobile Searches</th>\n",
       "      <th>PC SEARCH</th>\n",
       "      <th>Points Required to Redeem</th>\n",
       "      <th>Today Points</th>\n",
       "      <th>Total Points</th>\n",
       "      <th>Total profiles</th>\n",
       "    </tr>\n",
       "    <tr>\n",
       "      <th>Email</th>\n",
       "      <th></th>\n",
       "      <th></th>\n",
       "      <th></th>\n",
       "      <th></th>\n",
       "      <th></th>\n",
       "      <th></th>\n",
       "      <th></th>\n",
       "    </tr>\n",
       "  </thead>\n",
       "  <tbody>\n",
       "    <tr>\n",
       "      <th>Program Completed</th>\n",
       "      <td>NaN</td>\n",
       "      <td>NaN</td>\n",
       "      <td>NaN</td>\n",
       "      <td>NaN</td>\n",
       "      <td>NaN</td>\n",
       "      <td>NaN</td>\n",
       "      <td>1.0</td>\n",
       "    </tr>\n",
       "    <tr>\n",
       "      <th>Program Start</th>\n",
       "      <td>NaN</td>\n",
       "      <td>NaN</td>\n",
       "      <td>NaN</td>\n",
       "      <td>NaN</td>\n",
       "      <td>NaN</td>\n",
       "      <td>NaN</td>\n",
       "      <td>1.0</td>\n",
       "    </tr>\n",
       "    <tr>\n",
       "      <th>sankarnarayananr6@gmail.com</th>\n",
       "      <td>8131.0</td>\n",
       "      <td>60.0</td>\n",
       "      <td>90.0</td>\n",
       "      <td>5079.0</td>\n",
       "      <td>247.0</td>\n",
       "      <td>3071.0</td>\n",
       "      <td>NaN</td>\n",
       "    </tr>\n",
       "  </tbody>\n",
       "</table>\n",
       "</div>"
      ],
      "text/plain": [
       "                                             Points                            \\\n",
       "Action                      Days Required to Redeem Mobile Searches PC SEARCH   \n",
       "Email                                                                           \n",
       "Program Completed                               NaN             NaN       NaN   \n",
       "Program Start                                   NaN             NaN       NaN   \n",
       "sankarnarayananr6@gmail.com                  8131.0            60.0      90.0   \n",
       "\n",
       "                                                                    \\\n",
       "Action                      Points Required to Redeem Today Points   \n",
       "Email                                                                \n",
       "Program Completed                                 NaN          NaN   \n",
       "Program Start                                     NaN          NaN   \n",
       "sankarnarayananr6@gmail.com                    5079.0        247.0   \n",
       "\n",
       "                                                         \n",
       "Action                      Total Points Total profiles  \n",
       "Email                                                    \n",
       "Program Completed                    NaN            1.0  \n",
       "Program Start                        NaN            1.0  \n",
       "sankarnarayananr6@gmail.com       3071.0            NaN  "
      ]
     },
     "execution_count": 23,
     "metadata": {},
     "output_type": "execute_result"
    }
   ],
   "source": [
    "piv = df.pivot_table(index='Email',columns=['Action'],values=['Points'])\n",
    "piv"
   ]
  },
  {
   "cell_type": "code",
   "execution_count": 28,
   "id": "4dba3984",
   "metadata": {},
   "outputs": [
    {
     "data": {
      "text/plain": [
       "Email\n",
       "Program Completed               NaN\n",
       "Program Start                   NaN\n",
       "sankarnarayananr6@gmail.com    30.0\n",
       "dtype: float64"
      ]
     },
     "execution_count": 28,
     "metadata": {},
     "output_type": "execute_result"
    }
   ],
   "source": [
    "piv['Points']['PC SEARCH']-piv['Points']['Mobile Searches']"
   ]
  },
  {
   "cell_type": "code",
   "execution_count": 10,
   "metadata": {},
   "outputs": [
    {
     "name": "stdout",
     "output_type": "stream",
     "text": [
      "<class 'pandas.core.frame.DataFrame'>\n",
      "RangeIndex: 8 entries, 0 to 7\n",
      "Data columns (total 4 columns):\n",
      " #   Column     Non-Null Count  Dtype \n",
      "---  ------     --------------  ----- \n",
      " 0   Email      8 non-null      object\n",
      " 1   Action     8 non-null      object\n",
      " 2   Points     8 non-null      int64 \n",
      " 3   Timestamp  8 non-null      object\n",
      "dtypes: int64(1), object(3)\n",
      "memory usage: 388.0+ bytes\n"
     ]
    }
   ],
   "source": [
    "df.info()"
   ]
  },
  {
   "cell_type": "code",
   "execution_count": 32,
   "id": "6d6118b1",
   "metadata": {},
   "outputs": [
    {
     "name": "stdout",
     "output_type": "stream",
     "text": [
      "19:55:06\n",
      "2023-08-26\n"
     ]
    }
   ],
   "source": [
    "import datetime\n",
    "print(datetime.datetime.now().strftime('%H:%M:%S'))\n",
    "print(datetime.date.today())"
   ]
  },
  {
   "cell_type": "code",
   "execution_count": 36,
   "id": "1a923832",
   "metadata": {},
   "outputs": [
    {
     "data": {
      "text/plain": [
       "35"
      ]
     },
     "execution_count": 36,
     "metadata": {},
     "output_type": "execute_result"
    }
   ],
   "source": [
    "pc_search = 90\n",
    "count = \n",
    "count"
   ]
  },
  {
   "cell_type": "code",
   "execution_count": 31,
   "id": "20bba848",
   "metadata": {},
   "outputs": [
    {
     "ename": "ValueError",
     "evalue": "too many values to unpack (expected 3)",
     "output_type": "error",
     "traceback": [
      "\u001b[1;31m---------------------------------------------------------------------------\u001b[0m",
      "\u001b[1;31mValueError\u001b[0m                                Traceback (most recent call last)",
      "Cell \u001b[1;32mIn[31], line 1\u001b[0m\n\u001b[1;32m----> 1\u001b[0m y,g,h \u001b[39m=\u001b[39m (\u001b[39m1\u001b[39m,\u001b[39m2\u001b[39m,\u001b[39m3\u001b[39m,\u001b[39m4\u001b[39m,\u001b[39m5\u001b[39m,\u001b[39m6\u001b[39m,\u001b[39m7\u001b[39m)\n\u001b[0;32m      2\u001b[0m y,g,h\n",
      "\u001b[1;31mValueError\u001b[0m: too many values to unpack (expected 3)"
     ]
    }
   ],
   "source": [
    "y,g,h = (1,2,3,4,5,6,7)\n",
    "y,g,h"
   ]
  },
  {
   "cell_type": "code",
   "execution_count": null,
   "id": "35dc950d",
   "metadata": {},
   "outputs": [],
   "source": []
  },
  {
   "cell_type": "code",
   "execution_count": null,
   "id": "94cab21b",
   "metadata": {},
   "outputs": [],
   "source": []
  },
  {
   "cell_type": "code",
   "execution_count": null,
   "id": "36b40a26",
   "metadata": {},
   "outputs": [],
   "source": []
  },
  {
   "cell_type": "code",
   "execution_count": 1,
   "id": "abb0620a",
   "metadata": {},
   "outputs": [
    {
     "name": "stdout",
     "output_type": "stream",
     "text": [
      "381 ['aiobotocore', 'aiofiles', 'aiohttp', 'aioitertools', 'aiosignal', 'aiosqlite', 'alabaster', 'anaconda-catalogs', 'anaconda-client', 'anaconda-navigator', 'anaconda-project', 'anyio', 'appdirs', 'argon2-cffi', 'argon2-cffi-bindings', 'arrow', 'astroid', 'astropy', 'asttokens', 'async-timeout', 'atomicwrites', 'attrs', 'Automat', 'autopep8', 'Babel', 'backcall', 'backports.functools-lru-cache', 'backports.tempfile', 'backports.weakref', 'bcrypt', 'beautifulsoup4', 'binaryornot', 'black', 'bleach', 'bokeh', 'boltons', 'boto3', 'botocore', 'Bottleneck', 'brotlipy', 'certifi', 'cffi', 'chardet', 'charset-normalizer', 'click', 'cloudpickle', 'clyent', 'colorama', 'colorcet', 'comm', 'conda', 'conda-build', 'conda-content-trust', 'conda_index', 'conda-libmamba-solver', 'conda-pack', 'conda-package-handling', 'conda_package_streaming', 'conda-repo-cli', 'conda-token', 'conda-verify', 'constantly', 'contourpy', 'cookiecutter', 'cryptography', 'cssselect', 'cycler', 'cytoolz', 'daal4py', 'dask', 'datashader', 'datashape', 'debugpy', 'decorator', 'defusedxml', 'diff-match-patch', 'dill', 'distributed', 'docstring-to-markdown', 'docutils', 'EasyProcess', 'entrypoint2', 'entrypoints', 'et-xmlfile', 'executing', 'fastjsonschema', 'filelock', 'flake8', 'Flask', 'fonttools', 'frozenlist', 'fsspec', 'future', 'gensim', 'glob2', 'greenlet', 'h5py', 'HeapDict', 'holoviews', 'hvplot', 'hyperlink', 'idna', 'imagecodecs', 'imageio', 'imagesize', 'imbalanced-learn', 'importlib-metadata', 'incremental', 'inflection', 'iniconfig', 'intake', 'intervaltree', 'ipykernel', 'ipython', 'ipython-genutils', 'ipywidgets', 'isort', 'itemadapter', 'itemloaders', 'itsdangerous', 'jaraco.classes', 'jedi', 'jeepney', 'jellyfish', 'Jinja2', 'jinja2-time', 'jmespath', 'joblib', 'json5', 'jsonpatch', 'jsonpointer', 'jsonschema', 'jupyter', 'jupyter_client', 'jupyter-console', 'jupyter_core', 'jupyter-events', 'jupyter-server', 'jupyter_server_fileid', 'jupyter_server_ydoc', 'jupyter-ydoc', 'jupyterlab', 'jupyterlab-pygments', 'jupyterlab_server', 'jupyterlab-widgets', 'kaggle', 'keyring', 'kiwisolver', 'lazy_loader', 'lazy-object-proxy', 'libarchive-c', 'libmambapy', 'linkify-it-py', 'llvmlite', 'lmdb', 'locket', 'lxml', 'Markdown', 'markdown-it-py', 'MarkupSafe', 'matplotlib', 'matplotlib-inline', 'mccabe', 'mdit-py-plugins', 'mdurl', 'menuinst', 'mistune', 'mkl-fft', 'mkl-random', 'mkl-service', 'more-itertools', 'MouseInfo', 'mpmath', 'msgpack', 'mss', 'multidict', 'multipledispatch', 'munkres', 'mypy-extensions', 'navigator-updater', 'nbclassic', 'nbclient', 'nbconvert', 'nbformat', 'nest-asyncio', 'networkx', 'nltk', 'notebook', 'notebook_shim', 'numba', 'numexpr', 'numpy', 'numpydoc', 'openpyxl', 'packaging', 'pandas', 'pandocfilters', 'panel', 'param', 'paramiko', 'parsel', 'parso', 'partd', 'pathlib', 'pathspec', 'patsy', 'pep8', 'pexpect', 'pickleshare', 'Pillow', 'pip', 'pkginfo', 'platformdirs', 'plotly', 'pluggy', 'ply', 'pooch', 'poyo', 'prometheus-client', 'prompt-toolkit', 'Protego', 'psutil', 'ptyprocess', 'pure-eval', 'py-cpuinfo', 'pyarrow', 'pyasn1', 'pyasn1-modules', 'PyAutoGUI', 'pycodestyle', 'pycosat', 'pycparser', 'pyct', 'pycurl', 'PyDispatcher', 'pydocstyle', 'pyerfa', 'pyflakes', 'PyGetWindow', 'Pygments', 'PyJWT', 'pylint', 'pylint-venv', 'pyls-spyder', 'PyMsgBox', 'PyNaCl', 'pyodbc', 'pyOpenSSL', 'pyparsing', 'pyperclip', 'PyQt5', 'PyQt5-sip', 'PyQtWebEngine', 'PyRect', 'pyrsistent', 'pyscreenshot', 'PyScreeze', 'PySocks', 'pytesseract', 'pytest', 'python-dateutil', 'python-dotenv', 'python-json-logger', 'python-lsp-black', 'python-lsp-jsonrpc', 'python-lsp-server', 'python-slugify', 'python-snappy', 'python-xlib', 'pytoolconfig', 'pytrends', 'pytweening', 'pytz', 'pyviz-comms', 'PyWavelets', 'pywin32', 'pywin32-ctypes', 'pywinpty', 'PyYAML', 'pyzmq', 'QDarkStyle', 'qstylizer', 'QtAwesome', 'qtconsole', 'QtPy', 'queuelib', 'regex', 'requests', 'requests-file', 'requests-mock', 'requests-toolbelt', 'rfc3339-validator', 'rfc3986-validator', 'rope', 'Rtree', 'ruamel.yaml', 'ruamel-yaml-conda', 'rubicon-objc', 's3fs', 's3transfer', 'sacremoses', 'scikit-image', 'scikit-learn', 'scikit-learn-intelex', 'scipy', 'Scrapy', 'seaborn', 'selenium', 'Send2Trash', 'service-identity', 'setuptools', 'sip', 'six', 'smart-open', 'sniffio', 'snowballstemmer', 'sortedcontainers', 'soupsieve', 'Sphinx', 'sphinxcontrib-applehelp', 'sphinxcontrib-devhelp', 'sphinxcontrib-htmlhelp', 'sphinxcontrib-jsmath', 'sphinxcontrib-qthelp', 'sphinxcontrib-serializinghtml', 'spyder', 'spyder-kernels', 'SQLAlchemy', 'stack-data', 'statsmodels', 'sympy', 'tables', 'tabulate', 'TBB', 'tblib', 'tenacity', 'terminado', 'text-unidecode', 'textdistance', 'threadpoolctl', 'three-merge', 'tifffile', 'tinycss2', 'tldextract', 'toml', 'tomlkit', 'toolz', 'tornado', 'tqdm', 'traitlets', 'transformers', 'Twisted', 'twisted-iocpsupport', 'typing_extensions', 'uc-micro-py', 'ujson', 'Unidecode', 'urllib3', 'w3lib', 'watchdog', 'wcwidth', 'webdriver-manager', 'webencodings', 'websocket-client', 'Werkzeug', 'whatthepatch', 'wheel', 'widgetsnbextension', 'win-inet-pton', 'wrapt', 'xarray', 'xlwings', 'xyzservices', 'y-py', 'yapf', 'yarl', 'ypy-websocket', 'zict', 'zipp', 'zope.interface', 'zstandard']\n",
      "1 aiobotocore\n"
     ]
    },
    {
     "ename": "KeyboardInterrupt",
     "evalue": "",
     "output_type": "error",
     "traceback": [
      "\u001b[1;31m---------------------------------------------------------------------------\u001b[0m",
      "\u001b[1;31mKeyboardInterrupt\u001b[0m                         Traceback (most recent call last)",
      "Cell \u001b[1;32mIn[1], line 14\u001b[0m\n\u001b[0;32m     12\u001b[0m \u001b[39m# Update each package\u001b[39;00m\n\u001b[0;32m     13\u001b[0m \u001b[39mfor\u001b[39;00m i,package \u001b[39min\u001b[39;00m \u001b[39menumerate\u001b[39m(package_names,start\u001b[39m=\u001b[39m\u001b[39m1\u001b[39m):\n\u001b[1;32m---> 14\u001b[0m     subprocess\u001b[39m.\u001b[39;49mcall([\u001b[39m'\u001b[39;49m\u001b[39mpip\u001b[39;49m\u001b[39m'\u001b[39;49m, \u001b[39m'\u001b[39;49m\u001b[39minstall\u001b[39;49m\u001b[39m'\u001b[39;49m, \u001b[39m'\u001b[39;49m\u001b[39m--upgrade\u001b[39;49m\u001b[39m'\u001b[39;49m, package])\n\u001b[0;32m     15\u001b[0m     \u001b[39mprint\u001b[39m(i,package)\n\u001b[0;32m     17\u001b[0m \u001b[39mprint\u001b[39m(\u001b[39m\"\u001b[39m\u001b[39mAll packages have been updated.\u001b[39m\u001b[39m\"\u001b[39m)\n",
      "File \u001b[1;32mc:\\Users\\Rajes\\AppData\\Local\\Programs\\Python\\Python311\\Lib\\subprocess.py:391\u001b[0m, in \u001b[0;36mcall\u001b[1;34m(timeout, *popenargs, **kwargs)\u001b[0m\n\u001b[0;32m    389\u001b[0m \u001b[39mwith\u001b[39;00m Popen(\u001b[39m*\u001b[39mpopenargs, \u001b[39m*\u001b[39m\u001b[39m*\u001b[39mkwargs) \u001b[39mas\u001b[39;00m p:\n\u001b[0;32m    390\u001b[0m     \u001b[39mtry\u001b[39;00m:\n\u001b[1;32m--> 391\u001b[0m         \u001b[39mreturn\u001b[39;00m p\u001b[39m.\u001b[39;49mwait(timeout\u001b[39m=\u001b[39;49mtimeout)\n\u001b[0;32m    392\u001b[0m     \u001b[39mexcept\u001b[39;00m:  \u001b[39m# Including KeyboardInterrupt, wait handled that.\u001b[39;00m\n\u001b[0;32m    393\u001b[0m         p\u001b[39m.\u001b[39mkill()\n",
      "File \u001b[1;32mc:\\Users\\Rajes\\AppData\\Local\\Programs\\Python\\Python311\\Lib\\subprocess.py:1264\u001b[0m, in \u001b[0;36mPopen.wait\u001b[1;34m(self, timeout)\u001b[0m\n\u001b[0;32m   1262\u001b[0m     endtime \u001b[39m=\u001b[39m _time() \u001b[39m+\u001b[39m timeout\n\u001b[0;32m   1263\u001b[0m \u001b[39mtry\u001b[39;00m:\n\u001b[1;32m-> 1264\u001b[0m     \u001b[39mreturn\u001b[39;00m \u001b[39mself\u001b[39;49m\u001b[39m.\u001b[39;49m_wait(timeout\u001b[39m=\u001b[39;49mtimeout)\n\u001b[0;32m   1265\u001b[0m \u001b[39mexcept\u001b[39;00m \u001b[39mKeyboardInterrupt\u001b[39;00m:\n\u001b[0;32m   1266\u001b[0m     \u001b[39m# https://bugs.python.org/issue25942\u001b[39;00m\n\u001b[0;32m   1267\u001b[0m     \u001b[39m# The first keyboard interrupt waits briefly for the child to\u001b[39;00m\n\u001b[0;32m   1268\u001b[0m     \u001b[39m# exit under the common assumption that it also received the ^C\u001b[39;00m\n\u001b[0;32m   1269\u001b[0m     \u001b[39m# generated SIGINT and will exit rapidly.\u001b[39;00m\n\u001b[0;32m   1270\u001b[0m     \u001b[39mif\u001b[39;00m timeout \u001b[39mis\u001b[39;00m \u001b[39mnot\u001b[39;00m \u001b[39mNone\u001b[39;00m:\n",
      "File \u001b[1;32mc:\\Users\\Rajes\\AppData\\Local\\Programs\\Python\\Python311\\Lib\\subprocess.py:1588\u001b[0m, in \u001b[0;36mPopen._wait\u001b[1;34m(self, timeout)\u001b[0m\n\u001b[0;32m   1585\u001b[0m     timeout_millis \u001b[39m=\u001b[39m \u001b[39mint\u001b[39m(timeout \u001b[39m*\u001b[39m \u001b[39m1000\u001b[39m)\n\u001b[0;32m   1586\u001b[0m \u001b[39mif\u001b[39;00m \u001b[39mself\u001b[39m\u001b[39m.\u001b[39mreturncode \u001b[39mis\u001b[39;00m \u001b[39mNone\u001b[39;00m:\n\u001b[0;32m   1587\u001b[0m     \u001b[39m# API note: Returns immediately if timeout_millis == 0.\u001b[39;00m\n\u001b[1;32m-> 1588\u001b[0m     result \u001b[39m=\u001b[39m _winapi\u001b[39m.\u001b[39mWaitForSingleObject(\u001b[39mself\u001b[39m\u001b[39m.\u001b[39m_handle,\n\u001b[0;32m   1589\u001b[0m                                          timeout_millis)\n\u001b[0;32m   1590\u001b[0m     \u001b[39mif\u001b[39;00m result \u001b[39m==\u001b[39m _winapi\u001b[39m.\u001b[39mWAIT_TIMEOUT:\n\u001b[0;32m   1591\u001b[0m         \u001b[39mraise\u001b[39;00m TimeoutExpired(\u001b[39mself\u001b[39m\u001b[39m.\u001b[39margs, timeout)\n",
      "\u001b[1;31mKeyboardInterrupt\u001b[0m: "
     ]
    }
   ],
   "source": [
    "import subprocess\n",
    "\n",
    "# Run the pip list command to get a list of installed packages\n",
    "installed_packages = subprocess.check_output(['pip', 'list']).decode('utf-8')\n",
    "\n",
    "# Split the output into lines and skip the first line (header)\n",
    "package_lines = installed_packages.split('\\n')[2:]\n",
    "\n",
    "# Extract the package names\n",
    "package_names = [line.split()[0] for line in package_lines if line.strip()]\n",
    "print(len(package_names),package_names)\n",
    "# Update each package\n",
    "for i,package in enumerate(package_names,start=1):\n",
    "    subprocess.call(['pip', 'install', '--upgrade', package])\n",
    "    print(i,package)\n",
    "\n",
    "print(\"All packages have been updated.\")\n"
   ]
  },
  {
   "cell_type": "code",
   "execution_count": 6,
   "id": "c4bca999",
   "metadata": {},
   "outputs": [
    {
     "ename": "TypeError",
     "evalue": "'module' object is not callable",
     "output_type": "error",
     "traceback": [
      "\u001b[1;31m---------------------------------------------------------------------------\u001b[0m",
      "\u001b[1;31mTypeError\u001b[0m                                 Traceback (most recent call last)",
      "Cell \u001b[1;32mIn[6], line 4\u001b[0m\n\u001b[0;32m      2\u001b[0m EMAIL \u001b[39m=\u001b[39m \u001b[39m\"\u001b[39m\u001b[39mDJSFYHGRHJHFG\u001b[39m\u001b[39m\"\u001b[39m\n\u001b[0;32m      3\u001b[0m palyed \u001b[39m=\u001b[39m \u001b[39m'\u001b[39m\u001b[39mugdhjnhij\u001b[39m\u001b[39m'\u001b[39m\n\u001b[1;32m----> 4\u001b[0m csv(EMAIL,\u001b[39m'\u001b[39;49m\u001b[39mOffers Played\u001b[39;49m\u001b[39m'\u001b[39;49m, palyed)\n",
      "\u001b[1;31mTypeError\u001b[0m: 'module' object is not callable"
     ]
    }
   ],
   "source": [
    "import csv\n",
    "EMAIL = \"DJSFYHGRHJHFG\"\n",
    "palyed = 'ugdhjnhij'\n",
    "csv(EMAIL,'Offers Played', palyed)"
   ]
  },
  {
   "cell_type": "code",
   "execution_count": 10,
   "id": "c12930b7",
   "metadata": {},
   "outputs": [
    {
     "name": "stdout",
     "output_type": "stream",
     "text": [
      "New data appended to CSV\\Bing_Rewards_CSV_2023-08-26_02-34-13.csv\n"
     ]
    }
   ],
   "source": [
    "import os\n",
    "import csv\n",
    "from datetime import datetime as dt\n",
    "\n",
    "def csv_(c1, c2, c3):\n",
    "    folder = 'CSV'\n",
    "    if not os.path.exists(folder):\n",
    "        os.makedirs(folder)\n",
    "\n",
    "    new_data = [c1, c2, c3, dt.now()]\n",
    "    # Generate a CSV filename with the current date and time\n",
    "    current_datetime = dt.now().strftime(\"%Y-%m-%d_%H-%M-%S\")\n",
    "    csv_filename = os.path.join(folder, f\"Bing_Rewards_CSV_{current_datetime}.csv\")\n",
    "    # Write data to the CSV file\n",
    "    with open(csv_filename, mode=\"w\", newline=\"\") as file:\n",
    "        writer = csv.writer(file)\n",
    "        writer.writerow(new_data)\n",
    "    print(f\"New data appended to {csv_filename}\")\n",
    "\n",
    "EMAIL = \"DJSFYHGRHJHFG\"\n",
    "played = 'ugdhjnhij'\n",
    "csv_(EMAIL, 'Offers Played', played)\n"
   ]
  }
 ],
 "metadata": {
  "kernelspec": {
   "display_name": "Python 3 (ipykernel)",
   "language": "python",
   "name": "python3"
  },
  "language_info": {
   "codemirror_mode": {
    "name": "ipython",
    "version": 3
   },
   "file_extension": ".py",
   "mimetype": "text/x-python",
   "name": "python",
   "nbconvert_exporter": "python",
   "pygments_lexer": "ipython3",
   "version": "3.11.4"
  }
 },
 "nbformat": 4,
 "nbformat_minor": 5
}
