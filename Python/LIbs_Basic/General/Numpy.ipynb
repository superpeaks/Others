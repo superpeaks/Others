{
 "cells": [
  {
   "cell_type": "markdown",
   "id": "30504e2d",
   "metadata": {},
   "source": [
    "# NumPy Examples"
   ]
  },
  {
   "cell_type": "code",
   "execution_count": 6,
   "id": "169cf61f",
   "metadata": {},
   "outputs": [],
   "source": [
    "# Importing the NumPy library\n",
    "import numpy as np"
   ]
  },
  {
   "cell_type": "code",
   "execution_count": 7,
   "id": "ed4a757a",
   "metadata": {},
   "outputs": [],
   "source": [
    "# Creating a 1D NumPy array\n",
    "arr_1d = np.array([1, 2, 3, 4, 5])\n",
    "arr_2d = np.array([[1,2,3],[4,5,6]])\n",
    "arr_3d = np.array([[[1,2,3],[4,5,6]],[[7,8,9],[10,11,12]]])"
   ]
  },
  {
   "cell_type": "code",
   "execution_count": 62,
   "id": "db41bad7",
   "metadata": {},
   "outputs": [
    {
     "name": "stdout",
     "output_type": "stream",
     "text": [
      "[1 2 3 4 5]\n",
      "1\n"
     ]
    }
   ],
   "source": [
    "print(arr_1d)\n",
    "print(arr_1d.ndim) # shows its dimension"
   ]
  },
  {
   "cell_type": "code",
   "execution_count": 9,
   "id": "6eadb3c9",
   "metadata": {
    "scrolled": true
   },
   "outputs": [
    {
     "name": "stdout",
     "output_type": "stream",
     "text": [
      "[[1 2 3]\n",
      " [4 5 6]]\n",
      "2\n"
     ]
    }
   ],
   "source": [
    "print(arr_2d)\n",
    "print(arr_2d.ndim) # shows its dimension"
   ]
  },
  {
   "cell_type": "code",
   "execution_count": 10,
   "id": "aa50897d",
   "metadata": {
    "scrolled": false
   },
   "outputs": [
    {
     "name": "stdout",
     "output_type": "stream",
     "text": [
      "[[[ 1  2  3]\n",
      "  [ 4  5  6]]\n",
      "\n",
      " [[ 7  8  9]\n",
      "  [10 11 12]]]\n",
      "3\n"
     ]
    }
   ],
   "source": [
    "print(arr_3d)\n",
    "print(arr_3d.ndim) # shows its dimension"
   ]
  },
  {
   "cell_type": "code",
   "execution_count": 21,
   "id": "29593b79",
   "metadata": {},
   "outputs": [
    {
     "name": "stdout",
     "output_type": "stream",
     "text": [
      "[ 0  2  4  6  8 10]\n"
     ]
    }
   ],
   "source": [
    "#Arange (from, to, step size)\n",
    "arange = np.arange(0,11,2)\n",
    "print(arange)"
   ]
  },
  {
   "cell_type": "markdown",
   "id": "7c0d346d",
   "metadata": {},
   "source": [
    "## Shape"
   ]
  },
  {
   "cell_type": "code",
   "execution_count": 27,
   "id": "ebc06222",
   "metadata": {
    "scrolled": true
   },
   "outputs": [
    {
     "name": "stdout",
     "output_type": "stream",
     "text": [
      "(5,)\n",
      "(2, 3)\n",
      "(2, 2, 3)\n"
     ]
    }
   ],
   "source": [
    "print(arr_1d.shape)\n",
    "print(arr_2d.shape)\n",
    "print(arr_3d.shape)"
   ]
  },
  {
   "cell_type": "markdown",
   "id": "720f3880",
   "metadata": {},
   "source": [
    "## Zeros , Ones, Full"
   ]
  },
  {
   "cell_type": "code",
   "execution_count": 37,
   "id": "ce630528",
   "metadata": {},
   "outputs": [
    {
     "name": "stdout",
     "output_type": "stream",
     "text": [
      "[0. 0. 0. 0. 0. 0. 0. 0. 0. 0.]\n",
      "[0 0 0 0 0 0 0 0 0 0]\n",
      "[[0. 0. 0.]\n",
      " [0. 0. 0.]\n",
      " [0. 0. 0.]\n",
      " [0. 0. 0.]\n",
      " [0. 0. 0.]\n",
      " [0. 0. 0.]\n",
      " [0. 0. 0.]\n",
      " [0. 0. 0.]\n",
      " [0. 0. 0.]\n",
      " [0. 0. 0.]]\n"
     ]
    }
   ],
   "source": [
    "#Full with 0.0\n",
    "zeros_1d = np.zeros(10)\n",
    "print(zeros_1d)\n",
    "\n",
    "#Full with 0\n",
    "zeros_1d = np.zeros(10,int) # or (10,dtype=int)\n",
    "print(zeros_1d)\n",
    "\n",
    "zeros_2d = np.zeros((10,3))\n",
    "print(zeros_2d)"
   ]
  },
  {
   "cell_type": "code",
   "execution_count": 38,
   "id": "b3f29d43",
   "metadata": {},
   "outputs": [
    {
     "name": "stdout",
     "output_type": "stream",
     "text": [
      "[1. 1. 1. 1. 1. 1. 1. 1. 1. 1.]\n"
     ]
    }
   ],
   "source": [
    "#Full with 1.0\n",
    "ones_1d = np.ones(10)\n",
    "print(ones_1d)"
   ]
  },
  {
   "cell_type": "code",
   "execution_count": 39,
   "id": "3c9d2d35",
   "metadata": {
    "scrolled": true
   },
   "outputs": [
    {
     "name": "stdout",
     "output_type": "stream",
     "text": [
      "[2 2 2 2 2 2 2 2 2 2]\n"
     ]
    }
   ],
   "source": [
    "#Full with default value\n",
    "full_1d = np.full(10,2)\n",
    "print(full_1d)"
   ]
  },
  {
   "cell_type": "code",
   "execution_count": 41,
   "id": "41ae77e0",
   "metadata": {},
   "outputs": [
    {
     "data": {
      "text/plain": [
       "array([ 0.        ,  0.20408163,  0.40816327,  0.6122449 ,  0.81632653,\n",
       "        1.02040816,  1.2244898 ,  1.42857143,  1.63265306,  1.83673469,\n",
       "        2.04081633,  2.24489796,  2.44897959,  2.65306122,  2.85714286,\n",
       "        3.06122449,  3.26530612,  3.46938776,  3.67346939,  3.87755102,\n",
       "        4.08163265,  4.28571429,  4.48979592,  4.69387755,  4.89795918,\n",
       "        5.10204082,  5.30612245,  5.51020408,  5.71428571,  5.91836735,\n",
       "        6.12244898,  6.32653061,  6.53061224,  6.73469388,  6.93877551,\n",
       "        7.14285714,  7.34693878,  7.55102041,  7.75510204,  7.95918367,\n",
       "        8.16326531,  8.36734694,  8.57142857,  8.7755102 ,  8.97959184,\n",
       "        9.18367347,  9.3877551 ,  9.59183673,  9.79591837, 10.        ])"
      ]
     },
     "execution_count": 41,
     "metadata": {},
     "output_type": "execute_result"
    }
   ],
   "source": [
    "# Rgular Intervel (from, to, no of elements)\n",
    "np.linspace(0,10,50,dtype=float)"
   ]
  },
  {
   "cell_type": "code",
   "execution_count": 48,
   "id": "89859829",
   "metadata": {},
   "outputs": [
    {
     "name": "stdout",
     "output_type": "stream",
     "text": [
      "[[1. 0. 0. 0. 0.]\n",
      " [0. 1. 0. 0. 0.]\n",
      " [0. 0. 1. 0. 0.]\n",
      " [0. 0. 0. 1. 0.]\n",
      " [0. 0. 0. 0. 1.]]\n",
      "[[1. 0. 0. 0.]\n",
      " [0. 1. 0. 0.]\n",
      " [0. 0. 1. 0.]\n",
      " [0. 0. 0. 1.]\n",
      " [0. 0. 0. 0.]]\n"
     ]
    }
   ],
   "source": [
    "print(np.eye(5))\n",
    "print(np.eye(5,4))"
   ]
  },
  {
   "cell_type": "code",
   "execution_count": null,
   "id": "574b9d92",
   "metadata": {},
   "outputs": [],
   "source": []
  },
  {
   "cell_type": "markdown",
   "id": "b8e690a0",
   "metadata": {},
   "source": [
    "### Convert data type"
   ]
  },
  {
   "cell_type": "code",
   "execution_count": 34,
   "id": "102ac683",
   "metadata": {},
   "outputs": [
    {
     "name": "stdout",
     "output_type": "stream",
     "text": [
      "[0 0 0 0 0 0 0 0 0 0]\n",
      "[1 1 1 1 1 1 1 1 1 1]\n"
     ]
    }
   ],
   "source": [
    "print(zeros_1d.astype(int))\n",
    "print(ones_1d.astype(int))"
   ]
  },
  {
   "cell_type": "markdown",
   "id": "fdc47c3f",
   "metadata": {},
   "source": [
    "## Array Operations"
   ]
  },
  {
   "cell_type": "code",
   "execution_count": 53,
   "id": "0ae67b73",
   "metadata": {},
   "outputs": [
    {
     "name": "stdout",
     "output_type": "stream",
     "text": [
      "[ 2  4  6  8 10]\n",
      "[[201 202 203]\n",
      " [204 205 206]]\n"
     ]
    }
   ],
   "source": [
    "# Element-wise addition\n",
    "addition_result = arr_1d + arr_1d\n",
    "print(addition_result)\n",
    "\n",
    "scalar_addition_result = arr_2d + 200\n",
    "print(scalar_addition_result)"
   ]
  },
  {
   "cell_type": "code",
   "execution_count": 56,
   "id": "4ac008c6",
   "metadata": {},
   "outputs": [
    {
     "name": "stdout",
     "output_type": "stream",
     "text": [
      "[ 2  4  6  8 10]\n",
      "[ 1  4  9 16 25]\n"
     ]
    }
   ],
   "source": [
    "# Element-wise multiplication\n",
    "multiplication_result = arr_1d * 2\n",
    "print(multiplication_result)\n",
    "\n",
    "mul_arr = arr_1d * arr_1d\n",
    "print(mul_arr)"
   ]
  },
  {
   "cell_type": "code",
   "execution_count": 57,
   "id": "4796ae10",
   "metadata": {},
   "outputs": [
    {
     "name": "stdout",
     "output_type": "stream",
     "text": [
      "[[0.5 1.  1.5]\n",
      " [2.  2.5 3. ]]\n"
     ]
    }
   ],
   "source": [
    "print(arr_2d/2) # / Fload division"
   ]
  },
  {
   "cell_type": "code",
   "execution_count": 58,
   "id": "7ec50697",
   "metadata": {
    "scrolled": true
   },
   "outputs": [
    {
     "name": "stdout",
     "output_type": "stream",
     "text": [
      "[[0 1 1]\n",
      " [2 2 3]]\n"
     ]
    }
   ],
   "source": [
    "print(arr_2d//2) # // Int division"
   ]
  },
  {
   "cell_type": "code",
   "execution_count": 87,
   "id": "dfbbb2e5",
   "metadata": {},
   "outputs": [
    {
     "name": "stdout",
     "output_type": "stream",
     "text": [
      "[[1 4]\n",
      " [2 5]\n",
      " [3 6]]\n",
      "[[1 4]\n",
      " [2 5]\n",
      " [3 6]]\n"
     ]
    }
   ],
   "source": [
    "#Transpose array\n",
    "print(arr_2d.T) \n",
    "print(np.transpose(arr_2d))"
   ]
  },
  {
   "cell_type": "code",
   "execution_count": 81,
   "id": "78cdc5f5",
   "metadata": {
    "scrolled": true
   },
   "outputs": [
    {
     "data": {
      "text/plain": [
       "array([[1, 2, 3],\n",
       "       [4, 5, 6]])"
      ]
     },
     "execution_count": 81,
     "metadata": {},
     "output_type": "execute_result"
    }
   ],
   "source": [
    "arr_2d"
   ]
  },
  {
   "cell_type": "code",
   "execution_count": 84,
   "id": "b4747c1f",
   "metadata": {},
   "outputs": [
    {
     "name": "stdout",
     "output_type": "stream",
     "text": [
      "[[ 30  36  42]\n",
      " [ 66  81  96]\n",
      " [102 126 150]]\n"
     ]
    }
   ],
   "source": [
    "arr_2d_new = np.array([[1,2,3],[4,5,6],[7,8,9]])\n",
    "arr_2d_new1 = np.array([[1,2],[4,5]])\n",
    "print(np.matmul(arr_2d_new,arr_2d_new))"
   ]
  },
  {
   "cell_type": "code",
   "execution_count": 85,
   "id": "9c817715",
   "metadata": {},
   "outputs": [
    {
     "name": "stdout",
     "output_type": "stream",
     "text": [
      "[[ 9 12]\n",
      " [24 33]]\n"
     ]
    }
   ],
   "source": [
    "print(np.matmul(arr_2d_new1,arr_2d_new1))"
   ]
  },
  {
   "cell_type": "code",
   "execution_count": 83,
   "id": "a0cc88cb",
   "metadata": {},
   "outputs": [
    {
     "ename": "ValueError",
     "evalue": "matmul: Input operand 1 has a mismatch in its core dimension 0, with gufunc signature (n?,k),(k,m?)->(n?,m?) (size 2 is different from 3)",
     "output_type": "error",
     "traceback": [
      "\u001b[1;31m---------------------------------------------------------------------------\u001b[0m",
      "\u001b[1;31mValueError\u001b[0m                                Traceback (most recent call last)",
      "Cell \u001b[1;32mIn[83], line 1\u001b[0m\n\u001b[1;32m----> 1\u001b[0m \u001b[38;5;28mprint\u001b[39m(np\u001b[38;5;241m.\u001b[39mmatmul(arr_2d,arr_2d))\n",
      "\u001b[1;31mValueError\u001b[0m: matmul: Input operand 1 has a mismatch in its core dimension 0, with gufunc signature (n?,k),(k,m?)->(n?,m?) (size 2 is different from 3)"
     ]
    }
   ],
   "source": [
    "print(np.matmul(arr_2d,arr_2d))"
   ]
  },
  {
   "cell_type": "code",
   "execution_count": 47,
   "id": "e65eb106",
   "metadata": {},
   "outputs": [
    {
     "name": "stdout",
     "output_type": "stream",
     "text": [
      "[[14 32]\n",
      " [32 77]]\n"
     ]
    }
   ],
   "source": [
    "# Matrix multiplication (dot product)\n",
    "dot_product_result = np.dot(arr_2d, np.transpose(arr_2d))\n",
    "print(dot_product_result)"
   ]
  },
  {
   "cell_type": "code",
   "execution_count": 48,
   "id": "06dba719",
   "metadata": {},
   "outputs": [
    {
     "name": "stdout",
     "output_type": "stream",
     "text": [
      "[1.         1.41421356 1.73205081 2.         2.23606798]\n"
     ]
    }
   ],
   "source": [
    "# Element-wise square root\n",
    "sqrt_result = np.sqrt(arr_1d)\n",
    "print(sqrt_result)"
   ]
  },
  {
   "cell_type": "code",
   "execution_count": 49,
   "id": "932b1404",
   "metadata": {},
   "outputs": [
    {
     "name": "stdout",
     "output_type": "stream",
     "text": [
      "[  2.71828183   7.3890561   20.08553692  54.59815003 148.4131591 ]\n"
     ]
    }
   ],
   "source": [
    "# Element-wise exponentiation\n",
    "exp_result = np.exp(arr_1d)\n",
    "print(exp_result)"
   ]
  },
  {
   "cell_type": "code",
   "execution_count": 50,
   "id": "45304bee",
   "metadata": {},
   "outputs": [
    {
     "name": "stdout",
     "output_type": "stream",
     "text": [
      "15\n"
     ]
    }
   ],
   "source": [
    "# Sum of all elements\n",
    "sum_result = np.sum(arr_1d)\n",
    "print(sum_result)"
   ]
  },
  {
   "cell_type": "code",
   "execution_count": 51,
   "id": "0fb15a6f",
   "metadata": {},
   "outputs": [
    {
     "name": "stdout",
     "output_type": "stream",
     "text": [
      "3.5\n"
     ]
    }
   ],
   "source": [
    "# Mean of all elements\n",
    "mean_result = np.mean(arr_2d)\n",
    "print(mean_result)"
   ]
  },
  {
   "cell_type": "markdown",
   "id": "57352659",
   "metadata": {},
   "source": [
    "## Indexing and Slicing"
   ]
  },
  {
   "cell_type": "code",
   "execution_count": 16,
   "id": "4e379a4e",
   "metadata": {},
   "outputs": [
    {
     "name": "stdout",
     "output_type": "stream",
     "text": [
      "6\n"
     ]
    }
   ],
   "source": [
    "# Accessing an element\n",
    "element = arr_2d[1, 2] #[row no, col no]\n",
    "print(element)"
   ]
  },
  {
   "cell_type": "code",
   "execution_count": 14,
   "id": "a1b0a02a",
   "metadata": {},
   "outputs": [
    {
     "name": "stdout",
     "output_type": "stream",
     "text": [
      "[1 2 3]\n",
      "[2 5]\n"
     ]
    }
   ],
   "source": [
    "# Slicing rows and columns\n",
    "row_slice = arr_2d[0, :]\n",
    "col_slice = arr_2d[:, 1]\n",
    "print(row_slice)\n",
    "print(col_slice)"
   ]
  },
  {
   "cell_type": "code",
   "execution_count": 17,
   "id": "2a528b85",
   "metadata": {
    "scrolled": true
   },
   "outputs": [
    {
     "name": "stdout",
     "output_type": "stream",
     "text": [
      "[3 4 5]\n"
     ]
    }
   ],
   "source": [
    "# Slicing with conditions\n",
    "condition_slice = arr_1d[arr_1d > 2]\n",
    "print(condition_slice)"
   ]
  },
  {
   "cell_type": "code",
   "execution_count": 24,
   "id": "85a979e9",
   "metadata": {},
   "outputs": [
    {
     "data": {
      "text/plain": [
       "1"
      ]
     },
     "execution_count": 24,
     "metadata": {},
     "output_type": "execute_result"
    }
   ],
   "source": [
    "#3d array Slicing rows and columns\n",
    "slice_3d = arr_3d[0,0,0] #[3d to 2d, 2d to 1d, 1d to 0d]\n",
    "slice_3d"
   ]
  },
  {
   "cell_type": "markdown",
   "id": "7661b6b4",
   "metadata": {},
   "source": [
    "## Reshaping and Manipulating Arrays"
   ]
  },
  {
   "cell_type": "code",
   "execution_count": 90,
   "id": "655ee8da",
   "metadata": {},
   "outputs": [
    {
     "name": "stdout",
     "output_type": "stream",
     "text": [
      "[[1 2 3 4 5]]\n"
     ]
    }
   ],
   "source": [
    "# Reshaping an array\n",
    "print(arr_1d.reshape(1, 5))"
   ]
  },
  {
   "cell_type": "code",
   "execution_count": 91,
   "id": "fce3f0bd",
   "metadata": {},
   "outputs": [
    {
     "name": "stdout",
     "output_type": "stream",
     "text": [
      "[1 2 3 4 5 6]\n"
     ]
    }
   ],
   "source": [
    "# Flattening an array\n",
    "print(arr_2d.flatten())"
   ]
  },
  {
   "cell_type": "code",
   "execution_count": 92,
   "id": "ad69931c",
   "metadata": {
    "scrolled": true
   },
   "outputs": [
    {
     "name": "stdout",
     "output_type": "stream",
     "text": [
      "[[1 4]\n",
      " [2 5]\n",
      " [3 6]]\n"
     ]
    }
   ],
   "source": [
    "# Transposing an array\n",
    "print(np.transpose(arr_2d))"
   ]
  },
  {
   "cell_type": "code",
   "execution_count": 93,
   "id": "13d34687",
   "metadata": {},
   "outputs": [
    {
     "name": "stdout",
     "output_type": "stream",
     "text": [
      "[[1 2 3 4 5]\n",
      " [1 2 3 4 5]]\n"
     ]
    }
   ],
   "source": [
    "# Stacking arrays vertically\n",
    "print(np.vstack((arr_1d, arr_1d)))"
   ]
  },
  {
   "cell_type": "code",
   "execution_count": 94,
   "id": "1b721e0f",
   "metadata": {},
   "outputs": [
    {
     "name": "stdout",
     "output_type": "stream",
     "text": [
      "[1 2 3 4 5 1 2 3 4 5]\n"
     ]
    }
   ],
   "source": [
    "# Stacking arrays horizontally\n",
    "print(np.hstack((arr_1d, arr_1d)))"
   ]
  },
  {
   "cell_type": "markdown",
   "id": "0a412611",
   "metadata": {},
   "source": [
    "## Statistical Functions"
   ]
  },
  {
   "cell_type": "code",
   "execution_count": 52,
   "id": "68d490df",
   "metadata": {},
   "outputs": [
    {
     "name": "stdout",
     "output_type": "stream",
     "text": [
      "1\n",
      "0\n"
     ]
    }
   ],
   "source": [
    "# Minimum value\n",
    "print(np.min(arr_1d))\n",
    "print(np.argmin(arr_1d))"
   ]
  },
  {
   "cell_type": "code",
   "execution_count": 53,
   "id": "99580ec0",
   "metadata": {},
   "outputs": [
    {
     "name": "stdout",
     "output_type": "stream",
     "text": [
      "6\n",
      "5\n"
     ]
    }
   ],
   "source": [
    "# Maximum value\n",
    "print(np.max(arr_2d))\n",
    "print(np.argmax(arr_2d))"
   ]
  },
  {
   "cell_type": "code",
   "execution_count": 55,
   "id": "24468357",
   "metadata": {},
   "outputs": [
    {
     "name": "stdout",
     "output_type": "stream",
     "text": [
      "1.4142135623730951\n"
     ]
    }
   ],
   "source": [
    "# Standard deviation\n",
    "print(np.std(arr_1d))"
   ]
  },
  {
   "cell_type": "code",
   "execution_count": 57,
   "id": "f37588ea",
   "metadata": {},
   "outputs": [
    {
     "name": "stdout",
     "output_type": "stream",
     "text": [
      "3.0\n"
     ]
    }
   ],
   "source": [
    "# Median\n",
    "print(np.median(arr_1d))"
   ]
  },
  {
   "cell_type": "code",
   "execution_count": 107,
   "id": "36a329a0",
   "metadata": {},
   "outputs": [
    {
     "name": "stdout",
     "output_type": "stream",
     "text": [
      "[[1.         0.39735971]\n",
      " [0.39735971 1.        ]]\n"
     ]
    }
   ],
   "source": [
    "# Correlation coefficient\n",
    "arr_1d_new = np.array([10,15,12])\n",
    "print(np.corrcoef(arr_1d_new, arr_2d[0]))"
   ]
  },
  {
   "cell_type": "markdown",
   "id": "badc3ae2",
   "metadata": {},
   "source": [
    "## Random Number Generation"
   ]
  },
  {
   "cell_type": "code",
   "execution_count": 50,
   "id": "58e52ff3",
   "metadata": {
    "scrolled": true
   },
   "outputs": [
    {
     "name": "stdout",
     "output_type": "stream",
     "text": [
      "[[8 5 6]\n",
      " [9 7 2]\n",
      " [7 5 9]]\n",
      "[0.16339998 0.12219246]\n",
      "[[0.87979837 0.81415225 0.60719242 0.88739462]\n",
      " [0.44427573 0.06716469 0.6151906  0.30318201]\n",
      " [0.64234077 0.23419591 0.36340913 0.44622724]\n",
      " [0.63226731 0.70975178 0.09693601 0.15201026]]\n"
     ]
    }
   ],
   "source": [
    "# Generating random integers\n",
    "print(np.random.randint(1, 10, size=(3, 3)))\n",
    "print(np.random.rand(2))\n",
    "print(np.random.rand(4,4))"
   ]
  },
  {
   "cell_type": "markdown",
   "id": "24312bf1",
   "metadata": {},
   "source": [
    "#### Or"
   ]
  },
  {
   "cell_type": "code",
   "execution_count": 59,
   "id": "ef055cbd",
   "metadata": {},
   "outputs": [
    {
     "name": "stdout",
     "output_type": "stream",
     "text": [
      "[[8 6 2]\n",
      " [1 6 9]\n",
      " [6 9 7]]\n"
     ]
    }
   ],
   "source": [
    "from numpy .random import randint\n",
    "print(randint(1,10,size=(3,3)))"
   ]
  },
  {
   "cell_type": "code",
   "execution_count": 109,
   "id": "657f36b5",
   "metadata": {},
   "outputs": [
    {
     "name": "stdout",
     "output_type": "stream",
     "text": [
      "[[-0.40160392  0.73047446]\n",
      " [ 0.53471417  0.57941899]]\n"
     ]
    }
   ],
   "source": [
    "# Generating random numbers from a normal distribution\n",
    "print(np.random.normal(0, 1, size=(2, 2)))"
   ]
  },
  {
   "cell_type": "code",
   "execution_count": 110,
   "id": "fa561ff3",
   "metadata": {},
   "outputs": [
    {
     "name": "stdout",
     "output_type": "stream",
     "text": [
      "[[0.88188607 0.56815233 0.53344456]\n",
      " [0.7203448  0.07579835 0.50411978]\n",
      " [0.26492943 0.37077209 0.22450732]]\n"
     ]
    }
   ],
   "source": [
    "# Generating random numbers from a uniform distribution\n",
    "print(np.random.uniform(0, 1, size=(3, 3)))"
   ]
  },
  {
   "cell_type": "markdown",
   "id": "4b2318bc",
   "metadata": {},
   "source": [
    "## nan,inf"
   ]
  },
  {
   "cell_type": "code",
   "execution_count": 68,
   "id": "c32a75df",
   "metadata": {},
   "outputs": [],
   "source": [
    "array1 = np.array([0,1,2,3,4])\n",
    "array2 = np.array([1,2,3,4,5])"
   ]
  },
  {
   "cell_type": "code",
   "execution_count": 71,
   "id": "672a4cc2",
   "metadata": {},
   "outputs": [
    {
     "name": "stdout",
     "output_type": "stream",
     "text": [
      "[nan  1.  1.  1.  1.]\n"
     ]
    },
    {
     "name": "stderr",
     "output_type": "stream",
     "text": [
      "C:\\Users\\Rajes\\AppData\\Local\\Temp\\ipykernel_1600\\310892321.py:1: RuntimeWarning: invalid value encountered in divide\n",
      "  print(array1 / array1)\n"
     ]
    }
   ],
   "source": [
    "print(array1 / array1)\n",
    "#Waring about nan value. but it executes as normal"
   ]
  },
  {
   "cell_type": "code",
   "execution_count": 72,
   "id": "3f80f556",
   "metadata": {},
   "outputs": [
    {
     "name": "stdout",
     "output_type": "stream",
     "text": [
      "[       inf 2.         1.5        1.33333333 1.25      ]\n"
     ]
    },
    {
     "name": "stderr",
     "output_type": "stream",
     "text": [
      "C:\\Users\\Rajes\\AppData\\Local\\Temp\\ipykernel_1600\\4143201180.py:1: RuntimeWarning: divide by zero encountered in divide\n",
      "  print(array2 / array1)\n"
     ]
    }
   ],
   "source": [
    "print(array2 / array1)"
   ]
  },
  {
   "cell_type": "markdown",
   "id": "3861521c",
   "metadata": {},
   "source": [
    "## Broadcasting"
   ]
  },
  {
   "cell_type": "code",
   "execution_count": 114,
   "id": "b36c798c",
   "metadata": {},
   "outputs": [
    {
     "name": "stdout",
     "output_type": "stream",
     "text": [
      "[[11 17 15]\n",
      " [14 20 18]]\n"
     ]
    }
   ],
   "source": [
    "# Broadcasting operations\n",
    "print(arr_2d + arr_1d_new)"
   ]
  },
  {
   "cell_type": "markdown",
   "id": "bae35128",
   "metadata": {},
   "source": [
    "## Saving and Loading Arrays"
   ]
  },
  {
   "cell_type": "code",
   "execution_count": 58,
   "id": "02022df5",
   "metadata": {},
   "outputs": [
    {
     "name": "stdout",
     "output_type": "stream",
     "text": [
      "int32\n"
     ]
    }
   ],
   "source": [
    "print(arr_3d.dtype)"
   ]
  },
  {
   "cell_type": "code",
   "execution_count": 116,
   "id": "eaf4e563",
   "metadata": {},
   "outputs": [],
   "source": [
    "# Saving an array to a file\n",
    "np.save('my_array.npy', arr_2d)"
   ]
  },
  {
   "cell_type": "code",
   "execution_count": 117,
   "id": "4981befc",
   "metadata": {},
   "outputs": [],
   "source": [
    "# Loading an array from a file\n",
    "loaded_array = np.load('my_array.npy')"
   ]
  },
  {
   "cell_type": "markdown",
   "id": "4d913a8f",
   "metadata": {},
   "source": [
    "# END"
   ]
  }
 ],
 "metadata": {
  "kernelspec": {
   "display_name": "Python 3 (ipykernel)",
   "language": "python",
   "name": "python3"
  },
  "language_info": {
   "codemirror_mode": {
    "name": "ipython",
    "version": 3
   },
   "file_extension": ".py",
   "mimetype": "text/x-python",
   "name": "python",
   "nbconvert_exporter": "python",
   "pygments_lexer": "ipython3",
   "version": "3.11.3"
  }
 },
 "nbformat": 4,
 "nbformat_minor": 5
}
