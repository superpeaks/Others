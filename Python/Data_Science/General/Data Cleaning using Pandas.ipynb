{
 "cells": [
  {
   "cell_type": "markdown",
   "metadata": {},
   "source": [
    "# Data CLeaning"
   ]
  },
  {
   "cell_type": "code",
   "execution_count": 26,
   "metadata": {},
   "outputs": [],
   "source": [
    "import numpy as np\n",
    "import pandas as pd\n",
    "from scipy import stats"
   ]
  },
  {
   "cell_type": "code",
   "execution_count": 3,
   "metadata": {},
   "outputs": [],
   "source": [
    "df = pd.read_csv('data.csv')"
   ]
  },
  {
   "cell_type": "code",
   "execution_count": 4,
   "metadata": {},
   "outputs": [
    {
     "data": {
      "text/html": [
       "<div>\n",
       "<style scoped>\n",
       "    .dataframe tbody tr th:only-of-type {\n",
       "        vertical-align: middle;\n",
       "    }\n",
       "\n",
       "    .dataframe tbody tr th {\n",
       "        vertical-align: top;\n",
       "    }\n",
       "\n",
       "    .dataframe thead th {\n",
       "        text-align: right;\n",
       "    }\n",
       "</style>\n",
       "<table border=\"1\" class=\"dataframe\">\n",
       "  <thead>\n",
       "    <tr style=\"text-align: right;\">\n",
       "      <th></th>\n",
       "      <th>State_Name</th>\n",
       "      <th>District_Name</th>\n",
       "      <th>Crop_Year</th>\n",
       "      <th>Season</th>\n",
       "      <th>Crop</th>\n",
       "      <th>Area</th>\n",
       "      <th>Production</th>\n",
       "    </tr>\n",
       "  </thead>\n",
       "  <tbody>\n",
       "    <tr>\n",
       "      <th>0</th>\n",
       "      <td>Andaman and Nicobar Islands</td>\n",
       "      <td>NICOBARS</td>\n",
       "      <td>2000</td>\n",
       "      <td>Kharif</td>\n",
       "      <td>Arecanut</td>\n",
       "      <td>1254.0</td>\n",
       "      <td>2000.0</td>\n",
       "    </tr>\n",
       "    <tr>\n",
       "      <th>1</th>\n",
       "      <td>Andaman and Nicobar Islands</td>\n",
       "      <td>NICOBARS</td>\n",
       "      <td>2000</td>\n",
       "      <td>Kharif</td>\n",
       "      <td>Other Kharif pulses</td>\n",
       "      <td>2.0</td>\n",
       "      <td>1.0</td>\n",
       "    </tr>\n",
       "    <tr>\n",
       "      <th>2</th>\n",
       "      <td>Andaman and Nicobar Islands</td>\n",
       "      <td>NICOBARS</td>\n",
       "      <td>2000</td>\n",
       "      <td>Kharif</td>\n",
       "      <td>Rice</td>\n",
       "      <td>102.0</td>\n",
       "      <td>321.0</td>\n",
       "    </tr>\n",
       "    <tr>\n",
       "      <th>3</th>\n",
       "      <td>Andaman and Nicobar Islands</td>\n",
       "      <td>NICOBARS</td>\n",
       "      <td>2000</td>\n",
       "      <td>Whole Year</td>\n",
       "      <td>Banana</td>\n",
       "      <td>176.0</td>\n",
       "      <td>641.0</td>\n",
       "    </tr>\n",
       "    <tr>\n",
       "      <th>4</th>\n",
       "      <td>Andaman and Nicobar Islands</td>\n",
       "      <td>NICOBARS</td>\n",
       "      <td>2000</td>\n",
       "      <td>Whole Year</td>\n",
       "      <td>Cashewnut</td>\n",
       "      <td>720.0</td>\n",
       "      <td>165.0</td>\n",
       "    </tr>\n",
       "  </tbody>\n",
       "</table>\n",
       "</div>"
      ],
      "text/plain": [
       "                    State_Name District_Name  Crop_Year       Season  \\\n",
       "0  Andaman and Nicobar Islands      NICOBARS       2000  Kharif        \n",
       "1  Andaman and Nicobar Islands      NICOBARS       2000  Kharif        \n",
       "2  Andaman and Nicobar Islands      NICOBARS       2000  Kharif        \n",
       "3  Andaman and Nicobar Islands      NICOBARS       2000  Whole Year    \n",
       "4  Andaman and Nicobar Islands      NICOBARS       2000  Whole Year    \n",
       "\n",
       "                  Crop    Area  Production  \n",
       "0             Arecanut  1254.0      2000.0  \n",
       "1  Other Kharif pulses     2.0         1.0  \n",
       "2                 Rice   102.0       321.0  \n",
       "3               Banana   176.0       641.0  \n",
       "4            Cashewnut   720.0       165.0  "
      ]
     },
     "execution_count": 4,
     "metadata": {},
     "output_type": "execute_result"
    }
   ],
   "source": [
    "df.head()"
   ]
  },
  {
   "cell_type": "code",
   "execution_count": 5,
   "metadata": {},
   "outputs": [
    {
     "data": {
      "text/plain": [
       "(246091, 7)"
      ]
     },
     "execution_count": 5,
     "metadata": {},
     "output_type": "execute_result"
    }
   ],
   "source": [
    "df.shape"
   ]
  },
  {
   "cell_type": "code",
   "execution_count": 5,
   "metadata": {},
   "outputs": [
    {
     "data": {
      "text/plain": [
       "State_Name          0\n",
       "District_Name       0\n",
       "Crop_Year           0\n",
       "Season              0\n",
       "Crop                0\n",
       "Area                0\n",
       "Production       3730\n",
       "dtype: int64"
      ]
     },
     "execution_count": 5,
     "metadata": {},
     "output_type": "execute_result"
    }
   ],
   "source": [
    "df.isnull().sum()"
   ]
  },
  {
   "cell_type": "code",
   "execution_count": 6,
   "metadata": {},
   "outputs": [
    {
     "data": {
      "text/plain": [
       "0.0"
      ]
     },
     "execution_count": 6,
     "metadata": {},
     "output_type": "execute_result"
    }
   ],
   "source": [
    "df['Production'].min()"
   ]
  },
  {
   "cell_type": "code",
   "execution_count": 7,
   "metadata": {},
   "outputs": [
    {
     "data": {
      "text/html": [
       "<div>\n",
       "<style scoped>\n",
       "    .dataframe tbody tr th:only-of-type {\n",
       "        vertical-align: middle;\n",
       "    }\n",
       "\n",
       "    .dataframe tbody tr th {\n",
       "        vertical-align: top;\n",
       "    }\n",
       "\n",
       "    .dataframe thead th {\n",
       "        text-align: right;\n",
       "    }\n",
       "</style>\n",
       "<table border=\"1\" class=\"dataframe\">\n",
       "  <thead>\n",
       "    <tr style=\"text-align: right;\">\n",
       "      <th></th>\n",
       "      <th>State_Name</th>\n",
       "      <th>District_Name</th>\n",
       "      <th>Crop_Year</th>\n",
       "      <th>Season</th>\n",
       "      <th>Crop</th>\n",
       "      <th>Area</th>\n",
       "      <th>Production</th>\n",
       "    </tr>\n",
       "  </thead>\n",
       "  <tbody>\n",
       "    <tr>\n",
       "      <th>0</th>\n",
       "      <td>Andaman and Nicobar Islands</td>\n",
       "      <td>NICOBARS</td>\n",
       "      <td>2000</td>\n",
       "      <td>Kharif</td>\n",
       "      <td>Arecanut</td>\n",
       "      <td>1254.0</td>\n",
       "      <td>2000.0</td>\n",
       "    </tr>\n",
       "    <tr>\n",
       "      <th>1</th>\n",
       "      <td>Andaman and Nicobar Islands</td>\n",
       "      <td>NICOBARS</td>\n",
       "      <td>2000</td>\n",
       "      <td>Kharif</td>\n",
       "      <td>Other Kharif pulses</td>\n",
       "      <td>2.0</td>\n",
       "      <td>1.0</td>\n",
       "    </tr>\n",
       "  </tbody>\n",
       "</table>\n",
       "</div>"
      ],
      "text/plain": [
       "                    State_Name District_Name  Crop_Year       Season  \\\n",
       "0  Andaman and Nicobar Islands      NICOBARS       2000  Kharif        \n",
       "1  Andaman and Nicobar Islands      NICOBARS       2000  Kharif        \n",
       "\n",
       "                  Crop    Area  Production  \n",
       "0             Arecanut  1254.0      2000.0  \n",
       "1  Other Kharif pulses     2.0         1.0  "
      ]
     },
     "execution_count": 7,
     "metadata": {},
     "output_type": "execute_result"
    }
   ],
   "source": [
    "\n",
    "df.fillna(0,inplace=True)\n",
    "df.head(2)"
   ]
  },
  {
   "cell_type": "code",
   "execution_count": 8,
   "metadata": {},
   "outputs": [
    {
     "data": {
      "image/png": "[encoded data removed]",
      "text/plain": [
       "<Figure size 200x200 with 1 Axes>"
      ]
     },
     "metadata": {},
     "output_type": "display_data"
    }
   ],
   "source": [
    "import matplotlib.pyplot as plt\n",
    "import pandas as pd\n",
    "\n",
    "plt.style.use('_mpl-gallery')\n",
    "plt.scatter(df['Area'],df['Production'])\n",
    "plt.show()"
   ]
  },
  {
   "cell_type": "markdown",
   "metadata": {},
   "source": [
    "## Outlier detection methods"
   ]
  },
  {
   "cell_type": "markdown",
   "metadata": {},
   "source": [
    "List of the outlier detection methods I mentioned earlier, along with a brief description of each method:\n",
    "\n",
    "1. **Z-Score Method**:\n",
    "   - Calculate the Z-score for each data point.\n",
    "   - Identify outliers based on a specified threshold (e.g., Z-score > threshold).\n",
    "   - Useful for identifying data points that are far from the mean.\n",
    "\n",
    "2. **Interquartile Range (IQR) Method**:\n",
    "   - Calculate the IQR (interquartile range) of the data.\n",
    "   - Identify outliers based on a specified threshold (e.g., values outside of Q1 - threshold * IQR or Q3 + threshold * IQR).\n",
    "   - Particularly useful for data with non-normal distributions.\n",
    "\n",
    "3. **Isolation Forest**:\n",
    "   - An ensemble method that isolates outliers by randomly selecting features and recursively splitting data.\n",
    "   - Outliers are data points that require fewer splits to be isolated.\n",
    "   - Well-suited for high-dimensional data and does not assume any specific distribution.\n",
    "\n",
    "4. **Local Outlier Factor (LOF)**:\n",
    "   - Measures the local density deviation of a data point compared to its neighbors.\n",
    "   - Outliers have a significantly lower density than their neighbors.\n",
    "   - Good for detecting outliers in clusters or regions of varying densities.\n",
    "\n",
    "5. **DBSCAN** (Density-Based Spatial Clustering of Applications with Noise):\n",
    "   - Clusters dense regions of data points and identifies outliers as noise points.\n",
    "   - Useful for identifying outliers in data with varying density and irregular shapes.\n",
    "\n",
    "6. **One-Class SVM** (Support Vector Machine):\n",
    "   - A binary classification algorithm that identifies outliers as data points far from the decision boundary.\n",
    "   - Useful for situations where you have only one class of data (e.g., only normal instances).\n",
    "\n",
    "7. **Elliptic Envelope**:\n",
    "   - Fits an ellipse to the inliers of the data.\n",
    "   - Identifies outliers based on the Mahalanobis distance from the ellipse.\n",
    "   - Assumes the data follows a Gaussian distribution.\n",
    "\n",
    "8. **Histogram-Based Outlier Detection** (HBOS from PyOD library):\n",
    "   - Estimates the likelihood of each data point being an outlier based on histograms.\n",
    "   - Assumes that outliers have a lower probability distribution in the feature space.\n",
    "\n",
    "These methods each have their own strengths and assumptions. The choice of method depends on the nature of your data, the presence of clusters or varying densities, and the specific requirements of your application. Experimenting with different methods and understanding their underlying principles will help you choose the most appropriate technique for detecting outliers or anomalies in your data.\n",
    "\n",
    "\n",
    "**Note:** A threshold in the context of outlier detection or data analysis is a value that defines a boundary or limit beyond which data points are considered as outliers or anomalies. It helps you make a decision about whether a data point should be classified as an outlier based on its distance or deviation from the \"normal\" or expected behavior of the data.\n",
    "\n",
    "For example, in the Z-score method and the IQR method, a threshold is set to determine how extreme a data point's value needs to be before it's classified as an outlier. In the case of Z-score, data points with a Z-score above a certain threshold (e.g., 2 or 3) are considered outliers. Similarly, in the IQR method, data points that fall below Q1 - threshold * IQR or above Q3 + threshold * IQR are considered outliers.\n",
    "\n",
    "The choice of threshold can significantly impact the number of points identified as outliers. A lower threshold may result in more data points being classified as outliers, while a higher threshold may lead to fewer outliers being detected. Selecting an appropriate threshold depends on the nature of your data, the characteristics of the distribution, and your domain knowledge or specific objectives for outlier detection.\n",
    "\n",
    "Imagine you have a set of data points, and you want to find the ones that are very different from the rest. A threshold is like a limit or a rule that you set to determine what counts as \"very different.\"\n",
    "\n",
    "For example, let's say you're measuring the heights of people in a group. Most heights might be around 170 cm, but there might be a few exceptionally tall or short people. You could set a threshold of 10 cm. If a height is more than 10 cm away from the average (170 cm), you might consider it an outlier.\n",
    "\n",
    "In this case, the threshold of 10 cm helps you decide when a height is unusual enough to be considered an outlier. The threshold defines how extreme a value needs to be before it's marked as an anomaly or outlier. You can adjust the threshold to be more or less strict based on your specific needs and the characteristics of your data."
   ]
  },
  {
   "cell_type": "markdown",
   "metadata": {},
   "source": [
    "## 1. Z-Score Method (using scipy.stats.zscore):\n",
    "This method calculates the Z-score for each data point and identifies outliers based on a specified threshold."
   ]
  },
  {
   "cell_type": "markdown",
   "metadata": {},
   "source": [
    "### Find/Define threshold"
   ]
  },
  {
   "cell_type": "code",
   "execution_count": 9,
   "metadata": {},
   "outputs": [
    {
     "name": "stdout",
     "output_type": "stream",
     "text": [
      "[236486 237381 238007 238610 239174 240719 241314 242744 242757 243301\n",
      " 243654 244290 244305 244878 244891]\n",
      "(15,)\n",
      "\n",
      "\n",
      "[  2543 100135 100149 100162 100178 100197 100223 100245 100258 100271\n",
      " 100284 100297 100310 100323 100336 100350 100373 100391 100483 100513\n",
      " 100537 100552 100568 100583 100598 100612 100625 100639 100654 100679\n",
      " 100698 178273 178331 185975]\n",
      "(34,)\n"
     ]
    }
   ],
   "source": [
    "# z_scores = np.abs(stats.zscore(area))     x-u/std\n",
    "\n",
    "z_threshold_area = 25\n",
    "z_threshold_production = 45\n",
    "\n",
    "z_score_area = np.abs(stats.zscore(df['Area']))\n",
    "outliers_area = np.where(z_score_area > z_threshold_area)[0]\n",
    "print(outliers_area)\n",
    "print(outliers_area.shape)\n",
    "\n",
    "print('\\n')\n",
    "\n",
    "z_score_Production = np.abs(stats.zscore(df['Production']))\n",
    "outliers_production = np.where(z_score_Production > z_threshold_production)[0]\n",
    "print(outliers_production)\n",
    "print(outliers_production.shape)"
   ]
  },
  {
   "cell_type": "code",
   "execution_count": 10,
   "metadata": {},
   "outputs": [],
   "source": [
    " def add_z_column():\n",
    "    df[\"z_score_Area\"] = np.abs(stats.zscore(df['Area']))\n",
    "    df['z_score_Production'] = np.abs(stats.zscore(df['Production']))\n",
    "    print(df.head(3))"
   ]
  },
  {
   "cell_type": "code",
   "execution_count": 11,
   "metadata": {},
   "outputs": [
    {
     "name": "stdout",
     "output_type": "stream",
     "text": [
      "                    State_Name District_Name  Crop_Year       Season  \\\n",
      "0  Andaman and Nicobar Islands      NICOBARS       2000  Kharif        \n",
      "1  Andaman and Nicobar Islands      NICOBARS       2000  Kharif        \n",
      "2  Andaman and Nicobar Islands      NICOBARS       2000  Kharif        \n",
      "\n",
      "                  Crop    Area  Production  z_score_Area  z_score_Production  \n",
      "0             Arecanut  1254.0      2000.0      0.212750            0.033755  \n",
      "1  Other Kharif pulses     2.0         1.0      0.237530            0.033873  \n",
      "2                 Rice   102.0       321.0      0.235551            0.033854  \n",
      "Initial shape (246091, 9)\n",
      "                         State_Name District_Name  Crop_Year       Season  \\\n",
      "0       Andaman and Nicobar Islands      NICOBARS       2000  Kharif        \n",
      "1       Andaman and Nicobar Islands      NICOBARS       2000  Kharif        \n",
      "2       Andaman and Nicobar Islands      NICOBARS       2000  Kharif        \n",
      "3       Andaman and Nicobar Islands      NICOBARS       2000  Whole Year    \n",
      "4       Andaman and Nicobar Islands      NICOBARS       2000  Whole Year    \n",
      "...                             ...           ...        ...          ...   \n",
      "246086                  West Bengal       PURULIA       2014  Summer        \n",
      "246087                  West Bengal       PURULIA       2014  Summer        \n",
      "246088                  West Bengal       PURULIA       2014  Whole Year    \n",
      "246089                  West Bengal       PURULIA       2014  Winter        \n",
      "246090                  West Bengal       PURULIA       2014  Winter        \n",
      "\n",
      "                       Crop      Area  Production  \n",
      "0                  Arecanut    1254.0      2000.0  \n",
      "1       Other Kharif pulses       2.0         1.0  \n",
      "2                      Rice     102.0       321.0  \n",
      "3                    Banana     176.0       641.0  \n",
      "4                 Cashewnut     720.0       165.0  \n",
      "...                     ...       ...         ...  \n",
      "246086                 Rice     306.0       801.0  \n",
      "246087              Sesamum     627.0       463.0  \n",
      "246088            Sugarcane     324.0     16250.0  \n",
      "246089                 Rice  279151.0    597899.0  \n",
      "246090              Sesamum     175.0        88.0  \n",
      "\n",
      "[246042 rows x 7 columns]\n"
     ]
    }
   ],
   "source": [
    "add_z_column()\n",
    "print(\"Initial shape {}\".format(df.shape))\n",
    "df = df[df['z_score_Area'] <= z_threshold_area]                                #select non outliners\n",
    "df = df[df['z_score_Production'] <= z_threshold_production]                    #select non outliners\n",
    "df.drop(['z_score_Area', 'z_score_Production'],axis = 1, inplace = True)\n",
    "print(df)"
   ]
  },
  {
   "cell_type": "code",
   "execution_count": 12,
   "metadata": {},
   "outputs": [
    {
     "data": {
      "image/png": "[encoded data removed]",
      "text/plain": [
       "<Figure size 200x200 with 1 Axes>"
      ]
     },
     "metadata": {},
     "output_type": "display_data"
    }
   ],
   "source": [
    "import matplotlib.pyplot as plt\n",
    "import pandas as pd\n",
    "\n",
    "plt.style.use('_mpl-gallery')\n",
    "plt.scatter(df['Area'],df['Production'])\n",
    "plt.show()"
   ]
  },
  {
   "cell_type": "markdown",
   "metadata": {},
   "source": [
    "## 2. Interquartile Range (IQR) Method:\n",
    "This method involves calculating the IQR of the data and identifying outliers based on a specified threshold."
   ]
  },
  {
   "cell_type": "markdown",
   "metadata": {},
   "source": [
    "### Find/Define threshold"
   ]
  },
  {
   "cell_type": "code",
   "execution_count": 58,
   "metadata": {
    "scrolled": true
   },
   "outputs": [
    {
     "name": "stdout",
     "output_type": "stream",
     "text": [
      "(246091, 7)\n",
      "                    State_Name District_Name  Crop_Year       Season  \\\n",
      "0  Andaman and Nicobar Islands      NICOBARS       2000  Kharif        \n",
      "1  Andaman and Nicobar Islands      NICOBARS       2000  Kharif        \n",
      "2  Andaman and Nicobar Islands      NICOBARS       2000  Kharif        \n",
      "\n",
      "                  Crop    Area  Production  \n",
      "0             Arecanut  1254.0      2000.0  \n",
      "1  Other Kharif pulses     2.0         1.0  \n",
      "2                 Rice   102.0       321.0  \n"
     ]
    }
   ],
   "source": [
    "df = pd.read_csv('data.csv')\n",
    "initial_shape = df.shape\n",
    "print(df.shape)\n",
    "print(df.head(3))"
   ]
  },
  {
   "cell_type": "code",
   "execution_count": 59,
   "metadata": {
    "scrolled": true
   },
   "outputs": [
    {
     "name": "stdout",
     "output_type": "stream",
     "text": [
      "[   208    236    261 ... 246017 246052 246089] (6636,)\n",
      "[] (0,)\n"
     ]
    }
   ],
   "source": [
    "def find_outliers_iqr(data, threshold):\n",
    "    q25, q75 = np.percentile(data, [25, 75])\n",
    "    iqr = q75 - q25\n",
    "    lower_bound = q25 - (threshold * iqr)\n",
    "    upper_bound = q75 + (threshold * iqr)\n",
    "    outliers = np.where((data < lower_bound) | (data > upper_bound))[0]\n",
    "    return outliers\n",
    "\n",
    "area = df['Area']\n",
    "production = df['Production']\n",
    "a_threshold = 25\n",
    "p_threshold = 45 # No outliers\n",
    "\n",
    "\n",
    "a_outliers = find_outliers_iqr(area, a_threshold)\n",
    "p_outliers = find_outliers_iqr(production, p_threshold)\n",
    "\n",
    "\n",
    "print(a_outliers,a_outliers.shape)\n",
    "print(p_outliers,p_outliers.shape)"
   ]
  },
  {
   "cell_type": "code",
   "execution_count": 27,
   "metadata": {},
   "outputs": [],
   "source": [
    "def find_iqr(data, threshold):\n",
    "    q25, q75 = np.percentile(data, [25, 75])\n",
    "    iqr = q75 - q25\n",
    "    lower_bound = q25 - (threshold * iqr)\n",
    "    upper_bound = q75 + (threshold * iqr)\n",
    "    outliers = ((data > lower_bound) & (data < upper_bound)) #select non outliners\n",
    "    return outliers\n",
    "    \n",
    "def add_Q_column():\n",
    "    df[\"Q_Area\"] = find_iqr(area, a_threshold)\n",
    "    df['Q_Production'] = find_iqr(production, p_threshold)\n",
    "    print(df.head(3))"
   ]
  },
  {
   "cell_type": "code",
   "execution_count": 28,
   "metadata": {},
   "outputs": [
    {
     "data": {
      "text/plain": [
       "array([False])"
      ]
     },
     "execution_count": 28,
     "metadata": {},
     "output_type": "execute_result"
    }
   ],
   "source": [
    "find_iqr(production, p_threshold).unique()"
   ]
  },
  {
   "cell_type": "code",
   "execution_count": 28,
   "metadata": {},
   "outputs": [
    {
     "data": {
      "text/plain": [
       "array([ 0,  1,  2,  3,  4,  5,  6,  7,  8,  9, 10, 11])"
      ]
     },
     "execution_count": 28,
     "metadata": {},
     "output_type": "execute_result"
    }
   ],
   "source": [
    "x = np.arange(0,12)\n",
    "x"
   ]
  },
  {
   "cell_type": "code",
   "execution_count": 32,
   "metadata": {},
   "outputs": [
    {
     "data": {
      "text/plain": [
       "array([ True,  True, False, False, False, False, False,  True,  True,\n",
       "        True,  True,  True])"
      ]
     },
     "execution_count": 32,
     "metadata": {},
     "output_type": "execute_result"
    }
   ],
   "source": [
    "(x>6) | (x<2)"
   ]
  },
  {
   "cell_type": "markdown",
   "metadata": {},
   "source": [
    "### Mean-based anomaly detection"
   ]
  },
  {
   "cell_type": "code",
   "execution_count": 70,
   "metadata": {},
   "outputs": [],
   "source": [
    "# Read the CSV file into a DataFrame\n",
    "df = pd.read_csv('data.csv')\n",
    "initial_shape = df.shape"
   ]
  },
  {
   "cell_type": "code",
   "execution_count": 71,
   "metadata": {},
   "outputs": [
    {
     "name": "stdout",
     "output_type": "stream",
     "text": [
      "Number of Area outliers: 13303\n",
      "Number of Production outliers: 447\n",
      "\n",
      "Area outliers:\n",
      "            State_Name District_Name  Crop_Year       Season       Crop  \\\n",
      "208     Andhra Pradesh     ANANTAPUR       1997  Kharif       Groundnut   \n",
      "236     Andhra Pradesh     ANANTAPUR       1998  Kharif       Groundnut   \n",
      "261     Andhra Pradesh     ANANTAPUR       1999  Kharif       Groundnut   \n",
      "294     Andhra Pradesh     ANANTAPUR       2000  Kharif       Groundnut   \n",
      "342     Andhra Pradesh     ANANTAPUR       2001  Kharif       Groundnut   \n",
      "...                ...           ...        ...          ...        ...   \n",
      "245954     West Bengal       PURULIA       2010  Winter            Rice   \n",
      "245985     West Bengal       PURULIA       2011  Winter            Rice   \n",
      "246017     West Bengal       PURULIA       2012  Winter            Rice   \n",
      "246052     West Bengal       PURULIA       2013  Winter            Rice   \n",
      "246089     West Bengal       PURULIA       2014  Winter            Rice   \n",
      "\n",
      "            Area  Production  \n",
      "208     650800.0    228400.0  \n",
      "236     755200.0    867800.0  \n",
      "261     694865.0    249457.0  \n",
      "294     791559.0    884963.0  \n",
      "342     758700.0    333828.0  \n",
      "...          ...         ...  \n",
      "245954  152676.0    261435.0  \n",
      "245985  270270.0    731799.0  \n",
      "246017  288735.0    729553.0  \n",
      "246052  302274.0    730136.0  \n",
      "246089  279151.0    597899.0  \n",
      "\n",
      "[13303 rows x 7 columns]\n",
      "\n",
      "Production outliers:\n",
      "                         State_Name   District_Name  Crop_Year       Season  \\\n",
      "5       Andaman and Nicobar Islands        NICOBARS       2000  Whole Year    \n",
      "14      Andaman and Nicobar Islands        NICOBARS       2001  Whole Year    \n",
      "23      Andaman and Nicobar Islands        NICOBARS       2002  Whole Year    \n",
      "32      Andaman and Nicobar Islands        NICOBARS       2003  Whole Year    \n",
      "41      Andaman and Nicobar Islands        NICOBARS       2004  Whole Year    \n",
      "...                             ...             ...        ...          ...   \n",
      "243517                  West Bengal  MEDINIPUR EAST       2007  Whole Year    \n",
      "243989                  West Bengal  MEDINIPUR WEST       2006  Whole Year    \n",
      "244029                  West Bengal  MEDINIPUR WEST       2007  Whole Year    \n",
      "244598                  West Bengal     MURSHIDABAD       2006  Whole Year    \n",
      "244637                  West Bengal     MURSHIDABAD       2007  Whole Year    \n",
      "\n",
      "            Crop      Area  Production  \n",
      "5       Coconut   18168.00  65100000.0  \n",
      "14      Coconut   18190.00  64430000.0  \n",
      "23      Coconut   18240.00  67490000.0  \n",
      "32      Coconut   18284.74  68580000.0  \n",
      "41      Coconut   18394.70  52380000.0  \n",
      "...          ...       ...         ...  \n",
      "243517  Coconut    3692.00  46905000.0  \n",
      "243989  Coconut    1180.00  18035100.0  \n",
      "244029  Coconut    1450.00  20036400.0  \n",
      "244598  Coconut    4202.00  59361700.0  \n",
      "244637  Coconut    4610.00  59350000.0  \n",
      "\n",
      "[447 rows x 7 columns]\n",
      "\n",
      "Number of Area Non outliers: 232788\n",
      "Number of Production Non outliers: 245644\n",
      "\n",
      "Final DataFrame:\n",
      "                         State_Name District_Name  Crop_Year       Season  \\\n",
      "0       Andaman and Nicobar Islands      NICOBARS       2000  Kharif        \n",
      "1       Andaman and Nicobar Islands      NICOBARS       2000  Kharif        \n",
      "2       Andaman and Nicobar Islands      NICOBARS       2000  Kharif        \n",
      "3       Andaman and Nicobar Islands      NICOBARS       2000  Whole Year    \n",
      "4       Andaman and Nicobar Islands      NICOBARS       2000  Whole Year    \n",
      "...                             ...           ...        ...          ...   \n",
      "246085                  West Bengal       PURULIA       2014  Summer        \n",
      "246086                  West Bengal       PURULIA       2014  Summer        \n",
      "246087                  West Bengal       PURULIA       2014  Summer        \n",
      "246088                  West Bengal       PURULIA       2014  Whole Year    \n",
      "246090                  West Bengal       PURULIA       2014  Winter        \n",
      "\n",
      "                       Crop    Area  Production  \n",
      "0                  Arecanut  1254.0      2000.0  \n",
      "1       Other Kharif pulses     2.0         1.0  \n",
      "2                      Rice   102.0       321.0  \n",
      "3                    Banana   176.0       641.0  \n",
      "4                 Cashewnut   720.0       165.0  \n",
      "...                     ...     ...         ...  \n",
      "246085                Maize   325.0      2039.0  \n",
      "246086                 Rice   306.0       801.0  \n",
      "246087              Sesamum   627.0       463.0  \n",
      "246088            Sugarcane   324.0     16250.0  \n",
      "246090              Sesamum   175.0        88.0  \n",
      "\n",
      "[232445 rows x 7 columns]\n",
      "Initial shape(246091, 7)\n",
      "Final DataFrame shape: (232445, 7)\n"
     ]
    }
   ],
   "source": [
    "# Calculate mean and standard deviation for area and production\n",
    "area_mean, area_std = df['Area'].mean(), df['Area'].std()\n",
    "production_mean, production_std = df['Production'].mean(), df['Production'].std()\n",
    "\n",
    "# Define threshold ranges for area and production\n",
    "area_lower, area_upper = area_mean - area_std, area_mean + area_std\n",
    "production_lower, production_upper = production_mean - production_std, production_mean + production_std\n",
    "\n",
    "# Identify outliers and non-outliers for area and production\n",
    "area_outliers_bool = (df['Area'] < area_lower) | (df['Area'] > area_upper)\n",
    "production_outliers_bool = (df['Production'] < production_lower) | (df['Production'] > production_upper)\n",
    "area_non_outliers_bool = ~area_outliers_bool\n",
    "production_non_outliers_bool = ~production_outliers_bool\n",
    "\n",
    "# Filter the DataFrame based on outliers and non-outliers\n",
    "area_outliers = df[area_outliers_bool]\n",
    "production_outliers = df[production_outliers_bool]\n",
    "df = df[area_non_outliers_bool & production_non_outliers_bool]\n",
    "\n",
    "# Print information about outliers and non-outliers\n",
    "print(f'Number of Area outliers: {area_outliers_bool.sum()}')\n",
    "print(f'Number of Production outliers: {production_outliers_bool.sum()}')\n",
    "\n",
    "print(f'\\nArea outliers:\\n{area_outliers}\\n\\nProduction outliers:\\n{production_outliers}')\n",
    "\n",
    "print(f'\\nNumber of Area Non outliers: {area_non_outliers_bool.sum()}')\n",
    "print(f'Number of Production Non outliers: {production_non_outliers_bool.sum()}')\n",
    "\n",
    "print(f'\\nFinal DataFrame:\\n{df}')\n",
    "print(f'Initial shape{initial_shape}\\nFinal DataFrame shape: {df.shape}')\n"
   ]
  },
  {
   "cell_type": "code",
   "execution_count": 64,
   "metadata": {},
   "outputs": [
    {
     "data": {
      "image/png": "[encoded data removed]",
      "text/plain": [
       "<Figure size 200x200 with 1 Axes>"
      ]
     },
     "metadata": {},
     "output_type": "display_data"
    }
   ],
   "source": [
    "import matplotlib.pyplot as plt\n",
    "import pandas as pd\n",
    "\n",
    "plt.style.use('_mpl-gallery')\n",
    "plt.scatter(df['Area'],df['Production'])\n",
    "plt.show()"
   ]
  },
  {
   "cell_type": "markdown",
   "metadata": {},
   "source": [
    "## Replace values"
   ]
  },
  {
   "cell_type": "markdown",
   "metadata": {},
   "source": [
    "### Mean Replacement"
   ]
  },
  {
   "cell_type": "code",
   "execution_count": 6,
   "metadata": {},
   "outputs": [
    {
     "data": {
      "text/html": [
       "<div>\n",
       "<style scoped>\n",
       "    .dataframe tbody tr th:only-of-type {\n",
       "        vertical-align: middle;\n",
       "    }\n",
       "\n",
       "    .dataframe tbody tr th {\n",
       "        vertical-align: top;\n",
       "    }\n",
       "\n",
       "    .dataframe thead th {\n",
       "        text-align: right;\n",
       "    }\n",
       "</style>\n",
       "<table border=\"1\" class=\"dataframe\">\n",
       "  <thead>\n",
       "    <tr style=\"text-align: right;\">\n",
       "      <th></th>\n",
       "      <th>State_Name</th>\n",
       "      <th>District_Name</th>\n",
       "      <th>Crop_Year</th>\n",
       "      <th>Season</th>\n",
       "      <th>Crop</th>\n",
       "      <th>Area</th>\n",
       "      <th>Production</th>\n",
       "    </tr>\n",
       "  </thead>\n",
       "  <tbody>\n",
       "    <tr>\n",
       "      <th>0</th>\n",
       "      <td>Andaman and Nicobar Islands</td>\n",
       "      <td>NICOBARS</td>\n",
       "      <td>2000</td>\n",
       "      <td>Kharif</td>\n",
       "      <td>Arecanut</td>\n",
       "      <td>1254.0</td>\n",
       "      <td>2000.0</td>\n",
       "    </tr>\n",
       "  </tbody>\n",
       "</table>\n",
       "</div>"
      ],
      "text/plain": [
       "                    State_Name District_Name  Crop_Year       Season  \\\n",
       "0  Andaman and Nicobar Islands      NICOBARS       2000  Kharif        \n",
       "\n",
       "       Crop    Area  Production  \n",
       "0  Arecanut  1254.0      2000.0  "
      ]
     },
     "execution_count": 6,
     "metadata": {},
     "output_type": "execute_result"
    }
   ],
   "source": [
    "df.head(1)"
   ]
  },
  {
   "cell_type": "code",
   "execution_count": 13,
   "metadata": {},
   "outputs": [
    {
     "data": {
      "text/plain": [
       "State_Name          0\n",
       "District_Name       0\n",
       "Crop_Year           0\n",
       "Season              0\n",
       "Crop                0\n",
       "Area                0\n",
       "Production       3730\n",
       "dtype: int64"
      ]
     },
     "execution_count": 13,
     "metadata": {},
     "output_type": "execute_result"
    }
   ],
   "source": [
    "df.isnull().sum()"
   ]
  },
  {
   "cell_type": "code",
   "execution_count": 121,
   "metadata": {},
   "outputs": [
    {
     "name": "stdout",
     "output_type": "stream",
     "text": [
      "582503.4422509808 729.0 0    1.0\n",
      "Name: Production, dtype: float64\n"
     ]
    }
   ],
   "source": [
    "mean = df['Production'].mean()\n",
    "median = df['Production'].median()\n",
    "mode = df['Production'].mode()\n",
    "print(mean,median,mode)"
   ]
  },
  {
   "cell_type": "code",
   "execution_count": 111,
   "metadata": {},
   "outputs": [
    {
     "data": {
      "text/plain": [
       "State_Name       0\n",
       "District_Name    0\n",
       "Crop_Year        0\n",
       "Season           0\n",
       "Crop             0\n",
       "Area             0\n",
       "Production       0\n",
       "dtype: int64"
      ]
     },
     "execution_count": 111,
     "metadata": {},
     "output_type": "execute_result"
    }
   ],
   "source": [
    "#df[df['Production'].isnull()]=df[df['Production'].dropna()].mean\n",
    "\n",
    "\n",
    "mean = df['Production'].mean()\n",
    "\n",
    "df_temp = df.copy(deep=True)\n",
    "\n",
    "df_temp['Production'].fillna(df_temp['Production'].mean(),inplace=True)\n",
    "df_temp.isnull().sum()"
   ]
  },
  {
   "cell_type": "code",
   "execution_count": 112,
   "metadata": {},
   "outputs": [
    {
     "data": {
      "text/plain": [
       "{float}"
      ]
     },
     "execution_count": 112,
     "metadata": {},
     "output_type": "execute_result"
    }
   ],
   "source": [
    "yt = []\n",
    "for i in df_temp['Production']:\n",
    "    typ = type(i)\n",
    "    yt.append(typ)\n",
    "set(yt)"
   ]
  },
  {
   "cell_type": "code",
   "execution_count": 124,
   "metadata": {},
   "outputs": [
    {
     "name": "stdout",
     "output_type": "stream",
     "text": [
      "(3730, 7)\n"
     ]
    },
    {
     "data": {
      "text/html": [
       "<div>\n",
       "<style scoped>\n",
       "    .dataframe tbody tr th:only-of-type {\n",
       "        vertical-align: middle;\n",
       "    }\n",
       "\n",
       "    .dataframe tbody tr th {\n",
       "        vertical-align: top;\n",
       "    }\n",
       "\n",
       "    .dataframe thead th {\n",
       "        text-align: right;\n",
       "    }\n",
       "</style>\n",
       "<table border=\"1\" class=\"dataframe\">\n",
       "  <thead>\n",
       "    <tr style=\"text-align: right;\">\n",
       "      <th></th>\n",
       "      <th>State_Name</th>\n",
       "      <th>District_Name</th>\n",
       "      <th>Crop_Year</th>\n",
       "      <th>Season</th>\n",
       "      <th>Crop</th>\n",
       "      <th>Area</th>\n",
       "      <th>Production</th>\n",
       "    </tr>\n",
       "  </thead>\n",
       "  <tbody>\n",
       "    <tr>\n",
       "      <th>46</th>\n",
       "      <td>Andaman and Nicobar Islands</td>\n",
       "      <td>NICOBARS</td>\n",
       "      <td>2005</td>\n",
       "      <td>Whole Year</td>\n",
       "      <td>Arecanut</td>\n",
       "      <td>795.67</td>\n",
       "      <td>582503.442251</td>\n",
       "    </tr>\n",
       "  </tbody>\n",
       "</table>\n",
       "</div>"
      ],
      "text/plain": [
       "                     State_Name District_Name  Crop_Year       Season  \\\n",
       "46  Andaman and Nicobar Islands      NICOBARS       2005  Whole Year    \n",
       "\n",
       "        Crop    Area     Production  \n",
       "46  Arecanut  795.67  582503.442251  "
      ]
     },
     "execution_count": 124,
     "metadata": {},
     "output_type": "execute_result"
    }
   ],
   "source": [
    "print(df_temp[df_temp['Production']==mean].shape)\n",
    "df_temp[df_temp['Production']==mean].head(1)"
   ]
  },
  {
   "cell_type": "markdown",
   "metadata": {},
   "source": [
    "### Median based on Z score replacement"
   ]
  },
  {
   "cell_type": "code",
   "execution_count": 127,
   "metadata": {},
   "outputs": [
    {
     "data": {
      "text/html": [
       "<div>\n",
       "<style scoped>\n",
       "    .dataframe tbody tr th:only-of-type {\n",
       "        vertical-align: middle;\n",
       "    }\n",
       "\n",
       "    .dataframe tbody tr th {\n",
       "        vertical-align: top;\n",
       "    }\n",
       "\n",
       "    .dataframe thead th {\n",
       "        text-align: right;\n",
       "    }\n",
       "</style>\n",
       "<table border=\"1\" class=\"dataframe\">\n",
       "  <thead>\n",
       "    <tr style=\"text-align: right;\">\n",
       "      <th></th>\n",
       "      <th>State_Name</th>\n",
       "      <th>District_Name</th>\n",
       "      <th>Crop_Year</th>\n",
       "      <th>Season</th>\n",
       "      <th>Crop</th>\n",
       "      <th>Area</th>\n",
       "      <th>Production</th>\n",
       "    </tr>\n",
       "  </thead>\n",
       "  <tbody>\n",
       "    <tr>\n",
       "      <th>0</th>\n",
       "      <td>Andaman and Nicobar Islands</td>\n",
       "      <td>NICOBARS</td>\n",
       "      <td>2000</td>\n",
       "      <td>Kharif</td>\n",
       "      <td>Arecanut</td>\n",
       "      <td>1254.0</td>\n",
       "      <td>2000.0</td>\n",
       "    </tr>\n",
       "  </tbody>\n",
       "</table>\n",
       "</div>"
      ],
      "text/plain": [
       "                    State_Name District_Name  Crop_Year       Season  \\\n",
       "0  Andaman and Nicobar Islands      NICOBARS       2000  Kharif        \n",
       "\n",
       "       Crop    Area  Production  \n",
       "0  Arecanut  1254.0      2000.0  "
      ]
     },
     "execution_count": 127,
     "metadata": {},
     "output_type": "execute_result"
    }
   ],
   "source": [
    "df.head(1)"
   ]
  },
  {
   "cell_type": "code",
   "execution_count": 128,
   "metadata": {},
   "outputs": [
    {
     "data": {
      "text/plain": [
       "State_Name          0\n",
       "District_Name       0\n",
       "Crop_Year           0\n",
       "Season              0\n",
       "Crop                0\n",
       "Area                0\n",
       "Production       3730\n",
       "dtype: int64"
      ]
     },
     "execution_count": 128,
     "metadata": {},
     "output_type": "execute_result"
    }
   ],
   "source": [
    "df.isnull().sum()"
   ]
  },
  {
   "cell_type": "code",
   "execution_count": 130,
   "metadata": {},
   "outputs": [
    {
     "name": "stdout",
     "output_type": "stream",
     "text": [
      "582503.4422509808 729.0 0    1.0\n",
      "Name: Production, dtype: float64 17065813.172410313\n"
     ]
    }
   ],
   "source": [
    "mean = df['Production'].mean()\n",
    "median = df['Production'].median()\n",
    "mode = df['Production'].mode()\n",
    "std = df['Production'].std()\n",
    "print(mean,median,mode,std)"
   ]
  },
  {
   "cell_type": "code",
   "execution_count": 131,
   "metadata": {},
   "outputs": [],
   "source": [
    "def z(x,mean,std):\n",
    "    z = abs(x-mean)/std\n",
    "    return z"
   ]
  },
  {
   "cell_type": "code",
   "execution_count": 136,
   "metadata": {},
   "outputs": [
    {
     "name": "stdout",
     "output_type": "stream",
     "text": [
      "406\n"
     ]
    },
    {
     "data": {
      "text/html": [
       "<div>\n",
       "<style scoped>\n",
       "    .dataframe tbody tr th:only-of-type {\n",
       "        vertical-align: middle;\n",
       "    }\n",
       "\n",
       "    .dataframe tbody tr th {\n",
       "        vertical-align: top;\n",
       "    }\n",
       "\n",
       "    .dataframe thead th {\n",
       "        text-align: right;\n",
       "    }\n",
       "</style>\n",
       "<table border=\"1\" class=\"dataframe\">\n",
       "  <thead>\n",
       "    <tr style=\"text-align: right;\">\n",
       "      <th></th>\n",
       "      <th>State_Name</th>\n",
       "      <th>District_Name</th>\n",
       "      <th>Crop_Year</th>\n",
       "      <th>Season</th>\n",
       "      <th>Crop</th>\n",
       "      <th>Area</th>\n",
       "      <th>Production</th>\n",
       "    </tr>\n",
       "  </thead>\n",
       "  <tbody>\n",
       "    <tr>\n",
       "      <th>5</th>\n",
       "      <td>Andaman and Nicobar Islands</td>\n",
       "      <td>NICOBARS</td>\n",
       "      <td>2000</td>\n",
       "      <td>Whole Year</td>\n",
       "      <td>Coconut</td>\n",
       "      <td>18168.00</td>\n",
       "      <td>65100000.0</td>\n",
       "    </tr>\n",
       "    <tr>\n",
       "      <th>14</th>\n",
       "      <td>Andaman and Nicobar Islands</td>\n",
       "      <td>NICOBARS</td>\n",
       "      <td>2001</td>\n",
       "      <td>Whole Year</td>\n",
       "      <td>Coconut</td>\n",
       "      <td>18190.00</td>\n",
       "      <td>64430000.0</td>\n",
       "    </tr>\n",
       "    <tr>\n",
       "      <th>23</th>\n",
       "      <td>Andaman and Nicobar Islands</td>\n",
       "      <td>NICOBARS</td>\n",
       "      <td>2002</td>\n",
       "      <td>Whole Year</td>\n",
       "      <td>Coconut</td>\n",
       "      <td>18240.00</td>\n",
       "      <td>67490000.0</td>\n",
       "    </tr>\n",
       "    <tr>\n",
       "      <th>32</th>\n",
       "      <td>Andaman and Nicobar Islands</td>\n",
       "      <td>NICOBARS</td>\n",
       "      <td>2003</td>\n",
       "      <td>Whole Year</td>\n",
       "      <td>Coconut</td>\n",
       "      <td>18284.74</td>\n",
       "      <td>68580000.0</td>\n",
       "    </tr>\n",
       "    <tr>\n",
       "      <th>41</th>\n",
       "      <td>Andaman and Nicobar Islands</td>\n",
       "      <td>NICOBARS</td>\n",
       "      <td>2004</td>\n",
       "      <td>Whole Year</td>\n",
       "      <td>Coconut</td>\n",
       "      <td>18394.70</td>\n",
       "      <td>52380000.0</td>\n",
       "    </tr>\n",
       "    <tr>\n",
       "      <th>...</th>\n",
       "      <td>...</td>\n",
       "      <td>...</td>\n",
       "      <td>...</td>\n",
       "      <td>...</td>\n",
       "      <td>...</td>\n",
       "      <td>...</td>\n",
       "      <td>...</td>\n",
       "    </tr>\n",
       "    <tr>\n",
       "      <th>241972</th>\n",
       "      <td>West Bengal</td>\n",
       "      <td>HOWRAH</td>\n",
       "      <td>2007</td>\n",
       "      <td>Whole Year</td>\n",
       "      <td>Coconut</td>\n",
       "      <td>2895.00</td>\n",
       "      <td>30687000.0</td>\n",
       "    </tr>\n",
       "    <tr>\n",
       "      <th>243491</th>\n",
       "      <td>West Bengal</td>\n",
       "      <td>MEDINIPUR EAST</td>\n",
       "      <td>2006</td>\n",
       "      <td>Whole Year</td>\n",
       "      <td>Coconut</td>\n",
       "      <td>3662.00</td>\n",
       "      <td>40824000.0</td>\n",
       "    </tr>\n",
       "    <tr>\n",
       "      <th>243517</th>\n",
       "      <td>West Bengal</td>\n",
       "      <td>MEDINIPUR EAST</td>\n",
       "      <td>2007</td>\n",
       "      <td>Whole Year</td>\n",
       "      <td>Coconut</td>\n",
       "      <td>3692.00</td>\n",
       "      <td>46905000.0</td>\n",
       "    </tr>\n",
       "    <tr>\n",
       "      <th>244598</th>\n",
       "      <td>West Bengal</td>\n",
       "      <td>MURSHIDABAD</td>\n",
       "      <td>2006</td>\n",
       "      <td>Whole Year</td>\n",
       "      <td>Coconut</td>\n",
       "      <td>4202.00</td>\n",
       "      <td>59361700.0</td>\n",
       "    </tr>\n",
       "    <tr>\n",
       "      <th>244637</th>\n",
       "      <td>West Bengal</td>\n",
       "      <td>MURSHIDABAD</td>\n",
       "      <td>2007</td>\n",
       "      <td>Whole Year</td>\n",
       "      <td>Coconut</td>\n",
       "      <td>4610.00</td>\n",
       "      <td>59350000.0</td>\n",
       "    </tr>\n",
       "  </tbody>\n",
       "</table>\n",
       "<p>406 rows × 7 columns</p>\n",
       "</div>"
      ],
      "text/plain": [
       "                         State_Name   District_Name  Crop_Year       Season  \\\n",
       "5       Andaman and Nicobar Islands        NICOBARS       2000  Whole Year    \n",
       "14      Andaman and Nicobar Islands        NICOBARS       2001  Whole Year    \n",
       "23      Andaman and Nicobar Islands        NICOBARS       2002  Whole Year    \n",
       "32      Andaman and Nicobar Islands        NICOBARS       2003  Whole Year    \n",
       "41      Andaman and Nicobar Islands        NICOBARS       2004  Whole Year    \n",
       "...                             ...             ...        ...          ...   \n",
       "241972                  West Bengal          HOWRAH       2007  Whole Year    \n",
       "243491                  West Bengal  MEDINIPUR EAST       2006  Whole Year    \n",
       "243517                  West Bengal  MEDINIPUR EAST       2007  Whole Year    \n",
       "244598                  West Bengal     MURSHIDABAD       2006  Whole Year    \n",
       "244637                  West Bengal     MURSHIDABAD       2007  Whole Year    \n",
       "\n",
       "            Crop      Area  Production  \n",
       "5       Coconut   18168.00  65100000.0  \n",
       "14      Coconut   18190.00  64430000.0  \n",
       "23      Coconut   18240.00  67490000.0  \n",
       "32      Coconut   18284.74  68580000.0  \n",
       "41      Coconut   18394.70  52380000.0  \n",
       "...          ...       ...         ...  \n",
       "241972  Coconut    2895.00  30687000.0  \n",
       "243491  Coconut    3662.00  40824000.0  \n",
       "243517  Coconut    3692.00  46905000.0  \n",
       "244598  Coconut    4202.00  59361700.0  \n",
       "244637  Coconut    4610.00  59350000.0  \n",
       "\n",
       "[406 rows x 7 columns]"
      ]
     },
     "execution_count": 136,
     "metadata": {},
     "output_type": "execute_result"
    }
   ],
   "source": [
    "x = z(df['Production'],mean=mean,std=std)\n",
    "print((x>1.5).sum())\n",
    "df[x>1.5]"
   ]
  },
  {
   "cell_type": "code",
   "execution_count": 138,
   "metadata": {},
   "outputs": [
    {
     "name": "stderr",
     "output_type": "stream",
     "text": [
      "/tmp/ipykernel_3487/3360450897.py:1: SettingWithCopyWarning: \n",
      "A value is trying to be set on a copy of a slice from a DataFrame\n",
      "\n",
      "See the caveats in the documentation: https://pandas.pydata.org/pandas-docs/stable/user_guide/indexing.html#returning-a-view-versus-a-copy\n",
      "  df['Production'][x>1.5] =median\n"
     ]
    }
   ],
   "source": [
    "df['Production'][x>1.5] =median"
   ]
  },
  {
   "cell_type": "code",
   "execution_count": 139,
   "metadata": {},
   "outputs": [
    {
     "data": {
      "text/plain": [
       "5         729.0\n",
       "14        729.0\n",
       "23        729.0\n",
       "32        729.0\n",
       "41        729.0\n",
       "          ...  \n",
       "241972    729.0\n",
       "243491    729.0\n",
       "243517    729.0\n",
       "244598    729.0\n",
       "244637    729.0\n",
       "Name: Production, Length: 406, dtype: float64"
      ]
     },
     "execution_count": 139,
     "metadata": {},
     "output_type": "execute_result"
    }
   ],
   "source": [
    "df['Production'][x>1.5]"
   ]
  },
  {
   "cell_type": "code",
   "execution_count": 169,
   "metadata": {},
   "outputs": [
    {
     "data": {
      "image/png": "[encoded data removed]",
      "text/plain": [
       "<Figure size 2000x1000 with 1 Axes>"
      ]
     },
     "metadata": {},
     "output_type": "display_data"
    }
   ],
   "source": [
    "import matplotlib.pyplot as plt\n",
    "import seaborn as sns\n",
    "plt.figure(figsize=(20,10))\n",
    "sns.barplot(x=df['Production'],y=df['Season'],orient='h',hue=df['Crop_Year'])\n",
    "plt.tight_layout()\n",
    "plt.show()"
   ]
  },
  {
   "cell_type": "code",
   "execution_count": 145,
   "metadata": {},
   "outputs": [
    {
     "data": {
      "text/plain": [
       "0           2000.0\n",
       "1              1.0\n",
       "2            321.0\n",
       "3            641.0\n",
       "4            165.0\n",
       "            ...   \n",
       "246086       801.0\n",
       "246087       463.0\n",
       "246088     16250.0\n",
       "246089    597899.0\n",
       "246090        88.0\n",
       "Name: Production, Length: 246091, dtype: float64"
      ]
     },
     "execution_count": 145,
     "metadata": {},
     "output_type": "execute_result"
    }
   ],
   "source": [
    "df['Production']"
   ]
  },
  {
   "cell_type": "markdown",
   "metadata": {},
   "source": [
    "# END"
   ]
  },
  {
   "cell_type": "code",
   "execution_count": 74,
   "metadata": {
    "scrolled": true
   },
   "outputs": [
    {
     "name": "stdout",
     "output_type": "stream",
     "text": [
      "(246091, 7)\n",
      "[   208    236    261 ... 246017 246052 246089] (6636,)\n",
      "[] (0,)\n",
      "                    State_Name District_Name  Crop_Year       Season  \\\n",
      "0  Andaman and Nicobar Islands      NICOBARS       2000  Kharif        \n",
      "1  Andaman and Nicobar Islands      NICOBARS       2000  Kharif        \n",
      "2  Andaman and Nicobar Islands      NICOBARS       2000  Kharif        \n",
      "\n",
      "                  Crop    Area  Production  Q_Area  Q_Production  \n",
      "0             Arecanut  1254.0      2000.0    True         False  \n",
      "1  Other Kharif pulses     2.0         1.0    True         False  \n",
      "2                 Rice   102.0       321.0    True         False  \n",
      "Number of Area Non outliers: 239455\n",
      "Number of Production Non outliers: 0\n",
      "Final DataFrame:\n",
      "Empty DataFrame\n",
      "Columns: [State_Name, District_Name, Crop_Year, Season, Crop, Area, Production, Q_Area, Q_Production]\n",
      "Index: []\n",
      "Final DataFrame shape: (0, 9)\n"
     ]
    },
    {
     "data": {
      "text/html": [
       "<div>\n",
       "<style scoped>\n",
       "    .dataframe tbody tr th:only-of-type {\n",
       "        vertical-align: middle;\n",
       "    }\n",
       "\n",
       "    .dataframe tbody tr th {\n",
       "        vertical-align: top;\n",
       "    }\n",
       "\n",
       "    .dataframe thead th {\n",
       "        text-align: right;\n",
       "    }\n",
       "</style>\n",
       "<table border=\"1\" class=\"dataframe\">\n",
       "  <thead>\n",
       "    <tr style=\"text-align: right;\">\n",
       "      <th></th>\n",
       "      <th>State_Name</th>\n",
       "      <th>District_Name</th>\n",
       "      <th>Crop_Year</th>\n",
       "      <th>Season</th>\n",
       "      <th>Crop</th>\n",
       "      <th>Area</th>\n",
       "      <th>Production</th>\n",
       "    </tr>\n",
       "  </thead>\n",
       "  <tbody>\n",
       "    <tr>\n",
       "      <th>0</th>\n",
       "      <td>Andaman and Nicobar Islands</td>\n",
       "      <td>NICOBARS</td>\n",
       "      <td>2000</td>\n",
       "      <td>Kharif</td>\n",
       "      <td>Arecanut</td>\n",
       "      <td>1254.0</td>\n",
       "      <td>2000.0</td>\n",
       "    </tr>\n",
       "    <tr>\n",
       "      <th>1</th>\n",
       "      <td>Andaman and Nicobar Islands</td>\n",
       "      <td>NICOBARS</td>\n",
       "      <td>2000</td>\n",
       "      <td>Kharif</td>\n",
       "      <td>Other Kharif pulses</td>\n",
       "      <td>2.0</td>\n",
       "      <td>1.0</td>\n",
       "    </tr>\n",
       "    <tr>\n",
       "      <th>2</th>\n",
       "      <td>Andaman and Nicobar Islands</td>\n",
       "      <td>NICOBARS</td>\n",
       "      <td>2000</td>\n",
       "      <td>Kharif</td>\n",
       "      <td>Rice</td>\n",
       "      <td>102.0</td>\n",
       "      <td>321.0</td>\n",
       "    </tr>\n",
       "    <tr>\n",
       "      <th>3</th>\n",
       "      <td>Andaman and Nicobar Islands</td>\n",
       "      <td>NICOBARS</td>\n",
       "      <td>2000</td>\n",
       "      <td>Whole Year</td>\n",
       "      <td>Banana</td>\n",
       "      <td>176.0</td>\n",
       "      <td>641.0</td>\n",
       "    </tr>\n",
       "    <tr>\n",
       "      <th>4</th>\n",
       "      <td>Andaman and Nicobar Islands</td>\n",
       "      <td>NICOBARS</td>\n",
       "      <td>2000</td>\n",
       "      <td>Whole Year</td>\n",
       "      <td>Cashewnut</td>\n",
       "      <td>720.0</td>\n",
       "      <td>165.0</td>\n",
       "    </tr>\n",
       "    <tr>\n",
       "      <th>...</th>\n",
       "      <td>...</td>\n",
       "      <td>...</td>\n",
       "      <td>...</td>\n",
       "      <td>...</td>\n",
       "      <td>...</td>\n",
       "      <td>...</td>\n",
       "      <td>...</td>\n",
       "    </tr>\n",
       "    <tr>\n",
       "      <th>246085</th>\n",
       "      <td>West Bengal</td>\n",
       "      <td>PURULIA</td>\n",
       "      <td>2014</td>\n",
       "      <td>Summer</td>\n",
       "      <td>Maize</td>\n",
       "      <td>325.0</td>\n",
       "      <td>2039.0</td>\n",
       "    </tr>\n",
       "    <tr>\n",
       "      <th>246086</th>\n",
       "      <td>West Bengal</td>\n",
       "      <td>PURULIA</td>\n",
       "      <td>2014</td>\n",
       "      <td>Summer</td>\n",
       "      <td>Rice</td>\n",
       "      <td>306.0</td>\n",
       "      <td>801.0</td>\n",
       "    </tr>\n",
       "    <tr>\n",
       "      <th>246087</th>\n",
       "      <td>West Bengal</td>\n",
       "      <td>PURULIA</td>\n",
       "      <td>2014</td>\n",
       "      <td>Summer</td>\n",
       "      <td>Sesamum</td>\n",
       "      <td>627.0</td>\n",
       "      <td>463.0</td>\n",
       "    </tr>\n",
       "    <tr>\n",
       "      <th>246088</th>\n",
       "      <td>West Bengal</td>\n",
       "      <td>PURULIA</td>\n",
       "      <td>2014</td>\n",
       "      <td>Whole Year</td>\n",
       "      <td>Sugarcane</td>\n",
       "      <td>324.0</td>\n",
       "      <td>16250.0</td>\n",
       "    </tr>\n",
       "    <tr>\n",
       "      <th>246090</th>\n",
       "      <td>West Bengal</td>\n",
       "      <td>PURULIA</td>\n",
       "      <td>2014</td>\n",
       "      <td>Winter</td>\n",
       "      <td>Sesamum</td>\n",
       "      <td>175.0</td>\n",
       "      <td>88.0</td>\n",
       "    </tr>\n",
       "  </tbody>\n",
       "</table>\n",
       "<p>232445 rows × 7 columns</p>\n",
       "</div>"
      ],
      "text/plain": [
       "                         State_Name District_Name  Crop_Year       Season  \\\n",
       "0       Andaman and Nicobar Islands      NICOBARS       2000  Kharif        \n",
       "1       Andaman and Nicobar Islands      NICOBARS       2000  Kharif        \n",
       "2       Andaman and Nicobar Islands      NICOBARS       2000  Kharif        \n",
       "3       Andaman and Nicobar Islands      NICOBARS       2000  Whole Year    \n",
       "4       Andaman and Nicobar Islands      NICOBARS       2000  Whole Year    \n",
       "...                             ...           ...        ...          ...   \n",
       "246085                  West Bengal       PURULIA       2014  Summer        \n",
       "246086                  West Bengal       PURULIA       2014  Summer        \n",
       "246087                  West Bengal       PURULIA       2014  Summer        \n",
       "246088                  West Bengal       PURULIA       2014  Whole Year    \n",
       "246090                  West Bengal       PURULIA       2014  Winter        \n",
       "\n",
       "                       Crop    Area  Production  \n",
       "0                  Arecanut  1254.0      2000.0  \n",
       "1       Other Kharif pulses     2.0         1.0  \n",
       "2                      Rice   102.0       321.0  \n",
       "3                    Banana   176.0       641.0  \n",
       "4                 Cashewnut   720.0       165.0  \n",
       "...                     ...     ...         ...  \n",
       "246085                Maize   325.0      2039.0  \n",
       "246086                 Rice   306.0       801.0  \n",
       "246087              Sesamum   627.0       463.0  \n",
       "246088            Sugarcane   324.0     16250.0  \n",
       "246090              Sesamum   175.0        88.0  \n",
       "\n",
       "[232445 rows x 7 columns]"
      ]
     },
     "execution_count": 74,
     "metadata": {},
     "output_type": "execute_result"
    }
   ],
   "source": [
    "import pandas as pd\n",
    "import numpy as np\n",
    "\n",
    "def find_outliers_iqr(data, threshold):\n",
    "    q25, q75 = np.percentile(data, [25, 75])\n",
    "    iqr = q75 - q25\n",
    "    lower_bound = q25 - (threshold * iqr)\n",
    "    upper_bound = q75 + (threshold * iqr)\n",
    "    outliers = np.where((data < lower_bound) | (data > upper_bound))[0]\n",
    "    return outliers\n",
    "\n",
    "def find_iqr(data, threshold):\n",
    "    q25, q75 = np.percentile(data, [25, 75])\n",
    "    iqr = q75 - q25\n",
    "    lower_bound = q25 - (threshold * iqr)\n",
    "    upper_bound = q75 + (threshold * iqr)\n",
    "    non_outliers = ((data > lower_bound) & (data < upper_bound))\n",
    "    return non_outliers\n",
    "\n",
    "def main():\n",
    "    df = pd.read_csv('data.csv')\n",
    "    initial_shape = df.shape\n",
    "    print(df.shape)\n",
    "    \n",
    "    area = df['Area']\n",
    "    production = df['Production']\n",
    "    a_threshold = 25\n",
    "    p_threshold = 45\n",
    "    \n",
    "    a_outliers = find_outliers_iqr(area, a_threshold)\n",
    "    p_outliers = find_outliers_iqr(production, p_threshold)\n",
    "    \n",
    "    print(a_outliers, a_outliers.shape)\n",
    "    print(p_outliers, p_outliers.shape)\n",
    "    \n",
    "    df['Q_Area'] = find_iqr(area, a_threshold)\n",
    "    df['Q_Production'] = find_iqr(production, p_threshold)\n",
    "    print(df.head(3))\n",
    "    print(f'Number of Area Non outliers: {df[\"Q_Area\"].sum()}')\n",
    "    print(f'Number of Production Non outliers: {df[\"Q_Production\"].sum()}')\n",
    "    df_non_outliers = df[df['Q_Area'] & df['Q_Production']]\n",
    "    print(f'Final DataFrame:\\n{df_non_outliers}')\n",
    "    print(f'Final DataFrame shape: {df_non_outliers.shape}')\n",
    "\n",
    "if __name__ == \"__main__\":\n",
    "    main()\n",
    "df\n"
   ]
  },
  {
   "cell_type": "code",
   "execution_count": 76,
   "metadata": {},
   "outputs": [
    {
     "name": "stdout",
     "output_type": "stream",
     "text": [
      "Initial DataFrame shape: (246091, 7)\n",
      "Outliers in Area: [236486 237381 238007 238610 239174 240719 241314 242744 242757 243301\n",
      " 243654 244290 244305 244878 244891]\n",
      "Number of Area outliers: 15\n",
      "\n",
      "\n",
      "Outliers in Production: []\n",
      "Number of Production outliers: 0\n",
      "                    State_Name District_Name  Crop_Year       Season  \\\n",
      "0  Andaman and Nicobar Islands      NICOBARS       2000  Kharif        \n",
      "1  Andaman and Nicobar Islands      NICOBARS       2000  Kharif        \n",
      "2  Andaman and Nicobar Islands      NICOBARS       2000  Kharif        \n",
      "\n",
      "                  Crop    Area  Production  z_score_Area  \n",
      "0             Arecanut  1254.0      2000.0      0.212750  \n",
      "1  Other Kharif pulses     2.0         1.0      0.237530  \n",
      "2                 Rice   102.0       321.0      0.235551  \n",
      "                    State_Name District_Name  Crop_Year       Season  \\\n",
      "0  Andaman and Nicobar Islands      NICOBARS       2000  Kharif        \n",
      "1  Andaman and Nicobar Islands      NICOBARS       2000  Kharif        \n",
      "2  Andaman and Nicobar Islands      NICOBARS       2000  Kharif        \n",
      "\n",
      "                  Crop    Area  Production  z_score_Area  z_score_Production  \n",
      "0             Arecanut  1254.0      2000.0      0.212750                 NaN  \n",
      "1  Other Kharif pulses     2.0         1.0      0.237530                 NaN  \n",
      "2                 Rice   102.0       321.0      0.235551                 NaN  \n",
      "DataFrame after adding z-score columns:\n",
      "                    State_Name District_Name  Crop_Year       Season  \\\n",
      "0  Andaman and Nicobar Islands      NICOBARS       2000  Kharif        \n",
      "1  Andaman and Nicobar Islands      NICOBARS       2000  Kharif        \n",
      "2  Andaman and Nicobar Islands      NICOBARS       2000  Kharif        \n",
      "\n",
      "                  Crop    Area  Production  z_score_Area  z_score_Production  \n",
      "0             Arecanut  1254.0      2000.0      0.212750                 NaN  \n",
      "1  Other Kharif pulses     2.0         1.0      0.237530                 NaN  \n",
      "2                 Rice   102.0       321.0      0.235551                 NaN  \n",
      "\n",
      "Final DataFrame after filtering:\n",
      "Empty DataFrame\n",
      "Columns: [State_Name, District_Name, Crop_Year, Season, Crop, Area, Production]\n",
      "Index: []\n",
      "Final DataFrame shape: (0, 7)\n"
     ]
    },
    {
     "data": {
      "text/html": [
       "<div>\n",
       "<style scoped>\n",
       "    .dataframe tbody tr th:only-of-type {\n",
       "        vertical-align: middle;\n",
       "    }\n",
       "\n",
       "    .dataframe tbody tr th {\n",
       "        vertical-align: top;\n",
       "    }\n",
       "\n",
       "    .dataframe thead th {\n",
       "        text-align: right;\n",
       "    }\n",
       "</style>\n",
       "<table border=\"1\" class=\"dataframe\">\n",
       "  <thead>\n",
       "    <tr style=\"text-align: right;\">\n",
       "      <th></th>\n",
       "      <th>State_Name</th>\n",
       "      <th>District_Name</th>\n",
       "      <th>Crop_Year</th>\n",
       "      <th>Season</th>\n",
       "      <th>Crop</th>\n",
       "      <th>Area</th>\n",
       "      <th>Production</th>\n",
       "    </tr>\n",
       "  </thead>\n",
       "  <tbody>\n",
       "    <tr>\n",
       "      <th>0</th>\n",
       "      <td>Andaman and Nicobar Islands</td>\n",
       "      <td>NICOBARS</td>\n",
       "      <td>2000</td>\n",
       "      <td>Kharif</td>\n",
       "      <td>Arecanut</td>\n",
       "      <td>1254.0</td>\n",
       "      <td>2000.0</td>\n",
       "    </tr>\n",
       "    <tr>\n",
       "      <th>1</th>\n",
       "      <td>Andaman and Nicobar Islands</td>\n",
       "      <td>NICOBARS</td>\n",
       "      <td>2000</td>\n",
       "      <td>Kharif</td>\n",
       "      <td>Other Kharif pulses</td>\n",
       "      <td>2.0</td>\n",
       "      <td>1.0</td>\n",
       "    </tr>\n",
       "    <tr>\n",
       "      <th>2</th>\n",
       "      <td>Andaman and Nicobar Islands</td>\n",
       "      <td>NICOBARS</td>\n",
       "      <td>2000</td>\n",
       "      <td>Kharif</td>\n",
       "      <td>Rice</td>\n",
       "      <td>102.0</td>\n",
       "      <td>321.0</td>\n",
       "    </tr>\n",
       "    <tr>\n",
       "      <th>3</th>\n",
       "      <td>Andaman and Nicobar Islands</td>\n",
       "      <td>NICOBARS</td>\n",
       "      <td>2000</td>\n",
       "      <td>Whole Year</td>\n",
       "      <td>Banana</td>\n",
       "      <td>176.0</td>\n",
       "      <td>641.0</td>\n",
       "    </tr>\n",
       "    <tr>\n",
       "      <th>4</th>\n",
       "      <td>Andaman and Nicobar Islands</td>\n",
       "      <td>NICOBARS</td>\n",
       "      <td>2000</td>\n",
       "      <td>Whole Year</td>\n",
       "      <td>Cashewnut</td>\n",
       "      <td>720.0</td>\n",
       "      <td>165.0</td>\n",
       "    </tr>\n",
       "    <tr>\n",
       "      <th>...</th>\n",
       "      <td>...</td>\n",
       "      <td>...</td>\n",
       "      <td>...</td>\n",
       "      <td>...</td>\n",
       "      <td>...</td>\n",
       "      <td>...</td>\n",
       "      <td>...</td>\n",
       "    </tr>\n",
       "    <tr>\n",
       "      <th>246085</th>\n",
       "      <td>West Bengal</td>\n",
       "      <td>PURULIA</td>\n",
       "      <td>2014</td>\n",
       "      <td>Summer</td>\n",
       "      <td>Maize</td>\n",
       "      <td>325.0</td>\n",
       "      <td>2039.0</td>\n",
       "    </tr>\n",
       "    <tr>\n",
       "      <th>246086</th>\n",
       "      <td>West Bengal</td>\n",
       "      <td>PURULIA</td>\n",
       "      <td>2014</td>\n",
       "      <td>Summer</td>\n",
       "      <td>Rice</td>\n",
       "      <td>306.0</td>\n",
       "      <td>801.0</td>\n",
       "    </tr>\n",
       "    <tr>\n",
       "      <th>246087</th>\n",
       "      <td>West Bengal</td>\n",
       "      <td>PURULIA</td>\n",
       "      <td>2014</td>\n",
       "      <td>Summer</td>\n",
       "      <td>Sesamum</td>\n",
       "      <td>627.0</td>\n",
       "      <td>463.0</td>\n",
       "    </tr>\n",
       "    <tr>\n",
       "      <th>246088</th>\n",
       "      <td>West Bengal</td>\n",
       "      <td>PURULIA</td>\n",
       "      <td>2014</td>\n",
       "      <td>Whole Year</td>\n",
       "      <td>Sugarcane</td>\n",
       "      <td>324.0</td>\n",
       "      <td>16250.0</td>\n",
       "    </tr>\n",
       "    <tr>\n",
       "      <th>246090</th>\n",
       "      <td>West Bengal</td>\n",
       "      <td>PURULIA</td>\n",
       "      <td>2014</td>\n",
       "      <td>Winter</td>\n",
       "      <td>Sesamum</td>\n",
       "      <td>175.0</td>\n",
       "      <td>88.0</td>\n",
       "    </tr>\n",
       "  </tbody>\n",
       "</table>\n",
       "<p>232445 rows × 7 columns</p>\n",
       "</div>"
      ],
      "text/plain": [
       "                         State_Name District_Name  Crop_Year       Season  \\\n",
       "0       Andaman and Nicobar Islands      NICOBARS       2000  Kharif        \n",
       "1       Andaman and Nicobar Islands      NICOBARS       2000  Kharif        \n",
       "2       Andaman and Nicobar Islands      NICOBARS       2000  Kharif        \n",
       "3       Andaman and Nicobar Islands      NICOBARS       2000  Whole Year    \n",
       "4       Andaman and Nicobar Islands      NICOBARS       2000  Whole Year    \n",
       "...                             ...           ...        ...          ...   \n",
       "246085                  West Bengal       PURULIA       2014  Summer        \n",
       "246086                  West Bengal       PURULIA       2014  Summer        \n",
       "246087                  West Bengal       PURULIA       2014  Summer        \n",
       "246088                  West Bengal       PURULIA       2014  Whole Year    \n",
       "246090                  West Bengal       PURULIA       2014  Winter        \n",
       "\n",
       "                       Crop    Area  Production  \n",
       "0                  Arecanut  1254.0      2000.0  \n",
       "1       Other Kharif pulses     2.0         1.0  \n",
       "2                      Rice   102.0       321.0  \n",
       "3                    Banana   176.0       641.0  \n",
       "4                 Cashewnut   720.0       165.0  \n",
       "...                     ...     ...         ...  \n",
       "246085                Maize   325.0      2039.0  \n",
       "246086                 Rice   306.0       801.0  \n",
       "246087              Sesamum   627.0       463.0  \n",
       "246088            Sugarcane   324.0     16250.0  \n",
       "246090              Sesamum   175.0        88.0  \n",
       "\n",
       "[232445 rows x 7 columns]"
      ]
     },
     "execution_count": 76,
     "metadata": {},
     "output_type": "execute_result"
    }
   ],
   "source": [
    "import pandas as pd\n",
    "import numpy as np\n",
    "from scipy import stats\n",
    "\n",
    "# Function to find outliers using z-scores\n",
    "def find_outliers_zscore(data, threshold):\n",
    "    z_scores = np.abs(stats.zscore(data))\n",
    "    outliers = np.where(z_scores > threshold)[0]\n",
    "    return outliers\n",
    "\n",
    "# Function to add z-score columns to the DataFrame\n",
    "def add_z_column(data_frame, column_name, threshold):\n",
    "    z_scores = np.abs(stats.zscore(data_frame[column_name]))\n",
    "    data_frame[f'z_score_{column_name}'] = z_scores\n",
    "    print(data_frame.head(3))\n",
    "\n",
    "# Main function\n",
    "def main():\n",
    "    # Read the CSV file into a DataFrame\n",
    "    df = pd.read_csv('data.csv')\n",
    "    initial_shape = df.shape\n",
    "    print(f'Initial DataFrame shape: {initial_shape}')\n",
    "\n",
    "    # Set thresholds for identifying outliers\n",
    "    z_threshold_area = 25\n",
    "    z_threshold_production = 45\n",
    "\n",
    "    # Find and print outliers for 'Area'\n",
    "    outliers_area = find_outliers_zscore(df['Area'], z_threshold_area)\n",
    "    print(f'Outliers in Area: {outliers_area}')\n",
    "    print(f'Number of Area outliers: {len(outliers_area)}')\n",
    "\n",
    "    print('\\n')\n",
    "\n",
    "    # Find and print outliers for 'Production'\n",
    "    outliers_production = find_outliers_zscore(df['Production'], z_threshold_production)\n",
    "    print(f'Outliers in Production: {outliers_production}')\n",
    "    print(f'Number of Production outliers: {len(outliers_production)}')\n",
    "\n",
    "    # Add z-score columns to the DataFrame\n",
    "    add_z_column(df, 'Area', z_threshold_area)\n",
    "    add_z_column(df, 'Production', z_threshold_production)\n",
    "\n",
    "    print(f\"DataFrame after adding z-score columns:\\n{df.head(3)}\")\n",
    "\n",
    "    # Filter the DataFrame to include only non-outliers\n",
    "    df = df[(df['z_score_Area'] <= z_threshold_area) & (df['z_score_Production'] <= z_threshold_production)]\n",
    "\n",
    "    # Drop the z-score columns\n",
    "    df.drop(['z_score_Area', 'z_score_Production'], axis=1, inplace=True)\n",
    "\n",
    "    print(f\"\\nFinal DataFrame after filtering:\\n{df}\")\n",
    "    print(f'Final DataFrame shape: {df.shape}')\n",
    "\n",
    "# Run the main function if the script is executed directly\n",
    "if __name__ == \"__main__\":\n",
    "    main()\n",
    "df"
   ]
  }
 ],
 "metadata": {
  "kernelspec": {
   "display_name": "Python 3 (ipykernel)",
   "language": "python",
   "name": "python3"
  },
  "language_info": {
   "codemirror_mode": {
    "name": "ipython",
    "version": 3
   },
   "file_extension": ".py",
   "mimetype": "text/x-python",
   "name": "python",
   "nbconvert_exporter": "python",
   "pygments_lexer": "ipython3",
   "version": "3.8.10"
  }
 },
 "nbformat": 4,
 "nbformat_minor": 2
}
