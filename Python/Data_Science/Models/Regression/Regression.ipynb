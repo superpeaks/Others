{
 "cells": [
  {
   "cell_type": "markdown",
   "metadata": {},
   "source": [
    "# Regresssion Models"
   ]
  },
  {
   "cell_type": "markdown",
   "metadata": {},
   "source": [
    "## General"
   ]
  },
  {
   "cell_type": "markdown",
   "metadata": {},
   "source": [
    "Here's a list of various regression models commonly used in machine learning:\n",
    "\n",
    "1. **Linear Regression**: Fits a linear relationship between the input features and the target variable.\n",
    "\n",
    "2. **Ridge Regression**: Adds L2 regularization to linear regression to prevent overfitting.\n",
    "\n",
    "3. **Lasso Regression**: Adds L1 regularization to linear regression, which encourages sparsity in the coefficients.\n",
    "\n",
    "4. **Elastic Net Regression**: Combines L1 and L2 regularization to balance their effects.\n",
    "\n",
    "5. **Polynomial Regression**: Fits a polynomial equation to the data, allowing for more complex relationships.\n",
    "\n",
    "6. **Logistic Regression**: Used for binary classification by modeling the probability of the outcome.\n",
    "\n",
    "7. **RANSAC Regression**: Robustly fits a linear regression model to noisy data by identifying inliers.\n",
    "\n",
    "8. **Huber Regression**: Robust regression method that combines the least squares and absolute loss functions.\n",
    "\n",
    "9. **Quantile Regression**: Models the conditional median or other quantiles of the target variable.\n",
    "\n",
    "10. **Support Vector Regression (SVR)**: Uses support vector machines to perform regression.\n",
    "\n",
    "11. **Decision Tree Regression**: Uses decision trees to predict the target variable based on feature values.\n",
    "\n",
    "12. **Random Forest Regression**: An ensemble of decision trees that averages their predictions.\n",
    "\n",
    "13. **Gradient Boosting Regression**: Builds an ensemble of weak learners (typically decision trees) in a sequential manner.\n",
    "\n",
    "14. **XGBoost Regression**: An optimized gradient boosting library with strong predictive power.\n",
    "\n",
    "15. **LightGBM Regression**: Another efficient gradient boosting framework designed for large datasets.\n",
    "\n",
    "16. **CatBoost Regression**: A gradient boosting library that handles categorical features well.\n",
    "\n",
    "17. **K-Nearest Neighbors Regression (KNN)**: Predicts the target based on the average of k-nearest neighbors' target values.\n",
    "\n",
    "18. **Neural Network Regression**: Utilizes neural networks to model complex relationships in the data.\n",
    "\n",
    "19. **Bayesian Ridge Regression**: Employs a Bayesian approach to linear regression, allowing for uncertainty estimation.\n",
    "\n",
    "20. **ARDRegression (Automatic Relevance Determination)**: Automatically selects relevant features and estimates their importance.\n",
    "\n",
    "21. **Poisson Regression**: Models count data using a Poisson distribution, often used for count-based outcomes.\n",
    "\n",
    "22. **Negative Binomial Regression**: An extension of Poisson regression that accounts for overdispersion.\n",
    "\n",
    "23. **Gaussian Process Regression**: Models the target variable as a Gaussian process, allowing for uncertainty estimation.\n",
    "\n",
    "24. **Quantile Regression Forest**: Combines random forests with quantile regression to predict different quantiles of the target.\n",
    "\n",
    "25. **Orthogonal Matching Pursuit (OMP)**: Iteratively selects features that best correlate with the target.\n",
    "\n",
    "26. **SGDRegressor (Stochastic Gradient Descent)**: Performs linear regression using stochastic gradient descent optimization.\n",
    "\n",
    "27. **PassiveAggressiveRegressor**: An algorithm for online linear regression that adjusts weights incrementally.\n",
    "\n",
    "These are just a few of the regression models available in machine learning. The choice of which model to use depends on the characteristics of your data, the problem you're trying to solve, and the trade-offs you're willing to make between model complexity, interpretability, and performance.\n"
   ]
  },
  {
   "cell_type": "markdown",
   "metadata": {},
   "source": [
    "#### **Accuracy_score**\n",
    "\n",
    "The accuracy score is a measure of the percentage of correctly predicted instances out of all instances in the dataset. It's a straightforward metric to gauge the overall performance of a classification model.\n",
    "\n",
    "Formula: (Number of Correct Predictions) / (Total Number of Predictions)"
   ]
  },
  {
   "cell_type": "code",
   "execution_count": 278,
   "metadata": {},
   "outputs": [
    {
     "name": "stdout",
     "output_type": "stream",
     "text": [
      "Accuracy: 0.8\n"
     ]
    }
   ],
   "source": [
    "from sklearn.metrics import accuracy_score\n",
    "\n",
    "y_true = [0, 1, 1, 0, 1]\n",
    "y_pred = [0, 1, 1, 1, 1]\n",
    "\n",
    "accuracy = accuracy_score(y_true, y_pred)\n",
    "print(\"Accuracy:\", accuracy)\n"
   ]
  },
  {
   "cell_type": "markdown",
   "metadata": {},
   "source": [
    "#### ***confusion_matrix:***\n",
    "\n",
    "The confusion matrix is a table that summarizes the performance of a classification model by showing the number of true positive, true negative, false positive, and false negative predictions. It's a useful tool for understanding the model's error types."
   ]
  },
  {
   "cell_type": "code",
   "execution_count": 6,
   "metadata": {},
   "outputs": [
    {
     "name": "stdout",
     "output_type": "stream",
     "text": [
      "Confusion Matrix:\n",
      " [[2 0]\n",
      " [1 2]]\n"
     ]
    }
   ],
   "source": [
    "from sklearn.metrics import confusion_matrix\n",
    "\n",
    "y_true = [0, 1, 1, 0, 1]\n",
    "y_pred = [0, 1, 0, 0, 1]\n",
    "\n",
    "conf_matrix = confusion_matrix(y_true, y_pred)\n",
    "print(\"Confusion Matrix:\\n\", conf_matrix)\n"
   ]
  },
  {
   "cell_type": "markdown",
   "metadata": {},
   "source": [
    "#### ***classification_report:***\n",
    "\n",
    "The classification report provides a comprehensive summary of key classification metrics such as precision, recall, F1-score, and support for each class in the target variable. It's especially useful when dealing with multi-class classification problems."
   ]
  },
  {
   "cell_type": "code",
   "execution_count": 1,
   "metadata": {},
   "outputs": [
    {
     "name": "stdout",
     "output_type": "stream",
     "text": [
      "Classification Report:\n",
      "               precision    recall  f1-score   support\n",
      "\n",
      "           0       0.67      1.00      0.80         2\n",
      "           1       1.00      0.67      0.80         3\n",
      "\n",
      "    accuracy                           0.80         5\n",
      "   macro avg       0.83      0.83      0.80         5\n",
      "weighted avg       0.87      0.80      0.80         5\n",
      "\n"
     ]
    }
   ],
   "source": [
    "from sklearn.metrics import classification_report\n",
    "\n",
    "y_true = [0, 1, 1, 0, 1]\n",
    "y_pred = [0, 1, 0, 0, 1]\n",
    "\n",
    "class_report = classification_report(y_true, y_pred)\n",
    "print(\"Classification Report:\\n\", class_report)\n"
   ]
  },
  {
   "cell_type": "code",
   "execution_count": 203,
   "metadata": {},
   "outputs": [
    {
     "name": "stdout",
     "output_type": "stream",
     "text": [
      "Head(3):\n",
      "        ID  sales  radio  news   tv  pos       Date\n",
      "0  A123100  10000     65    89  250  1.3 2022-02-01\n",
      "1  A123101  16000     73    55  260  1.6 2022-03-01\n",
      "2  A123102  16500     74    58  270  1.7 2022-04-01\n",
      "\n",
      "Columns:\n",
      "Index(['ID', 'sales', 'radio', 'news', 'tv', 'pos', 'Date'], dtype='object')\n",
      "\n",
      "Rows,Columns=(20, 7) \n",
      "\n",
      "\n"
     ]
    },
    {
     "data": {
      "text/plain": [
       "(818552.6774775226, 0.8848010305348287)"
      ]
     },
     "execution_count": 203,
     "metadata": {},
     "output_type": "execute_result"
    }
   ],
   "source": [
    "import numpy as np\n",
    "import pandas as pd\n",
    "from sklearn.model_selection import train_test_split\n",
    "\n",
    "# Lod Dataset and columns\n",
    "\n",
    "def load_data(file_path, target_column):\n",
    "    X = data.drop(target_column, axis=1)\n",
    "    y = data[target_column]\n",
    "    return X, y\n",
    "\n",
    "file_path = '/media/rajesh/Rajesh/Python Workouts/Data files/Simpledata.xlsx'\n",
    "df = pd.read_excel(file_path,parse_dates=True,sheet_name='data')\n",
    "\n",
    "print(f'Head(3):\\n{df.head(3)}\\n\\nColumns:\\n{df.columns}\\n\\nRows,Columns={df.shape} \\n\\n')\n",
    "X_cols = ['radio', 'news', 'tv', 'pos']\n",
    "y_col = ['sales']\n",
    "X = df[X_cols]\n",
    "y = df[y_col]\n",
    "X_train, X_test, y_train, y_test = train_test_split(X, y, test_size=0.3, random_state=1000)\n",
    "reg_model = LinearRegression()\n",
    "reg_model.fit(X_train, y_train)\n",
    "\n",
    "\"\"\"\n",
    "b = reg_model.intercept_\n",
    "bx = reg_model.coef_\n",
    "\n",
    "feature_names_= reg_model.feature_names_in_\n",
    "eature_count = reg_model.n_features_in_\n",
    "y_predicton = reg_model.predict([[73,55,260,1.6]])\n",
    "f_score = reg_model.score(X,y)\n",
    "\"\"\"\n",
    "\n",
    "\n",
    "\n",
    "y_pred = reg_model.predict(X_test)\n",
    "mse = mean_squared_error(y_test, y_pred)\n",
    "r2 = r2_score(y_test, y_pred)\n",
    "mse,r2"
   ]
  },
  {
   "cell_type": "code",
   "execution_count": 9,
   "metadata": {},
   "outputs": [],
   "source": [
    "from sklearn.linear_model import LinearRegression\n",
    "from sklearn.linear_model import LogisticRegression\n",
    "from sklearn.metrics import mean_squared_error, r2_score, mean_absolute_error\n",
    "from sklearn.metrics import accuracy_score, confusion_matrix, classification_report\n",
    "from sklearn.model_selection import train_test_split\n",
    "import numpy as np\n",
    "\n",
    "\n",
    "def liner_models(X, y, test_size=0.2, random_state=123, reg=None):\n",
    "    X_train, X_test, y_train, y_test = train_test_split(X, y, test_size=test_size, random_state=random_state)\n",
    "    if reg == 'liner':\n",
    "        lin_reg = LinearRegression()\n",
    "        lin_reg.fit(X_train, y_train)\n",
    "        y_pred = lin_reg.predict(X_test)\n",
    "        mse = mean_squared_error(y_test, y_pred)\n",
    "        r2 = r2_score(y_test, y_pred)\n",
    "        rmse = np.sqrt(mse)\n",
    "        mae = mean_absolute_error(y_test, y_pred)\n",
    "        b = lin_reg.intercept_\n",
    "        bx = lin_reg.coef_\n",
    "        return X_train, X_test, y_train, y_test, b, bx, mse, r2, rmse, mae, y_pred\n",
    "    \n",
    "    elif reg == 'logistic':\n",
    "        log_reg = LogisticRegression()\n",
    "        log_reg.fit(X_train, y_train)\n",
    "        \n",
    "        # Make predictions\n",
    "        y_pred = log_reg.predict(X_test)\n",
    "        # Evaluate the model\n",
    "        accuracy = accuracy_score(y_test, y_pred)\n",
    "        conf_matrix = confusion_matrix(y_test, y_pred)\n",
    "        classification_rep = classification_report(y_test, y_pred)\n",
    "        b = log_reg.intercept_\n",
    "        bx = log_reg.coef_\n",
    "\n",
    "        return X_train, X_test, y_train, y_test,b, bx, accuracy, conf_matrix, classification_rep\n",
    "    \n",
    "    else:\n",
    "        return None"
   ]
  },
  {
   "cell_type": "code",
   "execution_count": 6,
   "metadata": {},
   "outputs": [
    {
     "name": "stdout",
     "output_type": "stream",
     "text": [
      "Head(3):\n",
      "        ID  sales  radio  news   tv  pos       Date\n",
      "0  A123100  10000     65    89  250  1.3 2022-02-01\n",
      "1  A123101  16000     73    55  260  1.6 2022-03-01\n",
      "2  A123102  16500     74    58  270  1.7 2022-04-01\n",
      "\n",
      "Columns:\n",
      "Index(['ID', 'sales', 'radio', 'news', 'tv', 'pos', 'Date'], dtype='object')\n",
      "\n",
      "Rows,Columns=(20, 7)\n",
      "\n",
      "Descibe:\n",
      "              sales      radio       news          tv        pos  \\\n",
      "count     20.000000  20.000000  20.000000   20.000000  20.000000   \n",
      "mean   16680.000000  76.100000  62.300000  266.600000   1.540000   \n",
      "min    10000.000000  65.000000  35.000000  250.000000   0.100000   \n",
      "25%    15225.000000  70.000000  53.750000  255.000000   1.200000   \n",
      "50%    16750.000000  74.500000  62.500000  270.000000   1.500000   \n",
      "75%    18925.000000  81.750000  75.500000  276.250000   1.800000   \n",
      "max    20500.000000  89.000000  89.000000  280.000000   3.000000   \n",
      "std     2746.404348   7.354912  15.359208   11.338802   0.739417   \n",
      "\n",
      "                      Date  \n",
      "count                   20  \n",
      "mean   2022-11-15 12:00:00  \n",
      "min    2022-02-01 00:00:00  \n",
      "25%    2022-06-23 12:00:00  \n",
      "50%    2022-11-16 00:00:00  \n",
      "75%    2023-04-08 12:00:00  \n",
      "max    2023-09-01 00:00:00  \n",
      "std                    NaN   \n",
      "\n",
      "\n",
      "<class 'pandas.core.frame.DataFrame'>\n",
      "RangeIndex: 20 entries, 0 to 19\n",
      "Data columns (total 7 columns):\n",
      " #   Column  Non-Null Count  Dtype         \n",
      "---  ------  --------------  -----         \n",
      " 0   ID      20 non-null     object        \n",
      " 1   sales   20 non-null     int64         \n",
      " 2   radio   20 non-null     int64         \n",
      " 3   news    20 non-null     int64         \n",
      " 4   tv      20 non-null     int64         \n",
      " 5   pos     20 non-null     float64       \n",
      " 6   Date    20 non-null     datetime64[ns]\n",
      "dtypes: datetime64[ns](1), float64(1), int64(4), object(1)\n",
      "memory usage: 1.2+ KB\n",
      "None\n"
     ]
    },
    {
     "data": {
      "text/html": [
       "<div>\n",
       "<style scoped>\n",
       "    .dataframe tbody tr th:only-of-type {\n",
       "        vertical-align: middle;\n",
       "    }\n",
       "\n",
       "    .dataframe tbody tr th {\n",
       "        vertical-align: top;\n",
       "    }\n",
       "\n",
       "    .dataframe thead th {\n",
       "        text-align: right;\n",
       "    }\n",
       "</style>\n",
       "<table border=\"1\" class=\"dataframe\">\n",
       "  <thead>\n",
       "    <tr style=\"text-align: right;\">\n",
       "      <th></th>\n",
       "      <th>ID</th>\n",
       "      <th>sales</th>\n",
       "      <th>radio</th>\n",
       "      <th>news</th>\n",
       "      <th>tv</th>\n",
       "      <th>pos</th>\n",
       "      <th>Date</th>\n",
       "    </tr>\n",
       "  </thead>\n",
       "  <tbody>\n",
       "    <tr>\n",
       "      <th>0</th>\n",
       "      <td>A123100</td>\n",
       "      <td>10000</td>\n",
       "      <td>65</td>\n",
       "      <td>89</td>\n",
       "      <td>250</td>\n",
       "      <td>1.3</td>\n",
       "      <td>2022-02-01</td>\n",
       "    </tr>\n",
       "    <tr>\n",
       "      <th>1</th>\n",
       "      <td>A123101</td>\n",
       "      <td>16000</td>\n",
       "      <td>73</td>\n",
       "      <td>55</td>\n",
       "      <td>260</td>\n",
       "      <td>1.6</td>\n",
       "      <td>2022-03-01</td>\n",
       "    </tr>\n",
       "    <tr>\n",
       "      <th>2</th>\n",
       "      <td>A123102</td>\n",
       "      <td>16500</td>\n",
       "      <td>74</td>\n",
       "      <td>58</td>\n",
       "      <td>270</td>\n",
       "      <td>1.7</td>\n",
       "      <td>2022-04-01</td>\n",
       "    </tr>\n",
       "    <tr>\n",
       "      <th>3</th>\n",
       "      <td>A123103</td>\n",
       "      <td>17000</td>\n",
       "      <td>75</td>\n",
       "      <td>82</td>\n",
       "      <td>270</td>\n",
       "      <td>1.3</td>\n",
       "      <td>2022-05-01</td>\n",
       "    </tr>\n",
       "    <tr>\n",
       "      <th>4</th>\n",
       "      <td>A123104</td>\n",
       "      <td>14000</td>\n",
       "      <td>69</td>\n",
       "      <td>75</td>\n",
       "      <td>255</td>\n",
       "      <td>1.5</td>\n",
       "      <td>2022-06-01</td>\n",
       "    </tr>\n",
       "    <tr>\n",
       "      <th>5</th>\n",
       "      <td>A123105</td>\n",
       "      <td>15000</td>\n",
       "      <td>70</td>\n",
       "      <td>71</td>\n",
       "      <td>255</td>\n",
       "      <td>2.1</td>\n",
       "      <td>2022-07-01</td>\n",
       "    </tr>\n",
       "    <tr>\n",
       "      <th>6</th>\n",
       "      <td>A123106</td>\n",
       "      <td>20000</td>\n",
       "      <td>87</td>\n",
       "      <td>59</td>\n",
       "      <td>280</td>\n",
       "      <td>1.2</td>\n",
       "      <td>2022-08-01</td>\n",
       "    </tr>\n",
       "    <tr>\n",
       "      <th>7</th>\n",
       "      <td>A123107</td>\n",
       "      <td>20500</td>\n",
       "      <td>89</td>\n",
       "      <td>65</td>\n",
       "      <td>280</td>\n",
       "      <td>3.0</td>\n",
       "      <td>2022-09-01</td>\n",
       "    </tr>\n",
       "    <tr>\n",
       "      <th>8</th>\n",
       "      <td>A123108</td>\n",
       "      <td>15800</td>\n",
       "      <td>72</td>\n",
       "      <td>62</td>\n",
       "      <td>260</td>\n",
       "      <td>1.6</td>\n",
       "      <td>2022-10-01</td>\n",
       "    </tr>\n",
       "    <tr>\n",
       "      <th>9</th>\n",
       "      <td>A123109</td>\n",
       "      <td>16000</td>\n",
       "      <td>73</td>\n",
       "      <td>56</td>\n",
       "      <td>260</td>\n",
       "      <td>1.6</td>\n",
       "      <td>2022-11-01</td>\n",
       "    </tr>\n",
       "    <tr>\n",
       "      <th>10</th>\n",
       "      <td>A123110</td>\n",
       "      <td>15300</td>\n",
       "      <td>70</td>\n",
       "      <td>66</td>\n",
       "      <td>255</td>\n",
       "      <td>1.5</td>\n",
       "      <td>2022-12-01</td>\n",
       "    </tr>\n",
       "    <tr>\n",
       "      <th>11</th>\n",
       "      <td>A123111</td>\n",
       "      <td>17500</td>\n",
       "      <td>78</td>\n",
       "      <td>50</td>\n",
       "      <td>270</td>\n",
       "      <td>0.1</td>\n",
       "      <td>2023-01-01</td>\n",
       "    </tr>\n",
       "    <tr>\n",
       "      <th>12</th>\n",
       "      <td>A123112</td>\n",
       "      <td>18000</td>\n",
       "      <td>79</td>\n",
       "      <td>47</td>\n",
       "      <td>275</td>\n",
       "      <td>0.2</td>\n",
       "      <td>2023-02-01</td>\n",
       "    </tr>\n",
       "    <tr>\n",
       "      <th>13</th>\n",
       "      <td>A123113</td>\n",
       "      <td>18500</td>\n",
       "      <td>81</td>\n",
       "      <td>78</td>\n",
       "      <td>275</td>\n",
       "      <td>0.9</td>\n",
       "      <td>2023-03-01</td>\n",
       "    </tr>\n",
       "    <tr>\n",
       "      <th>14</th>\n",
       "      <td>A123114</td>\n",
       "      <td>18800</td>\n",
       "      <td>81</td>\n",
       "      <td>41</td>\n",
       "      <td>275</td>\n",
       "      <td>1.0</td>\n",
       "      <td>2023-04-01</td>\n",
       "    </tr>\n",
       "    <tr>\n",
       "      <th>15</th>\n",
       "      <td>A123115</td>\n",
       "      <td>19300</td>\n",
       "      <td>84</td>\n",
       "      <td>63</td>\n",
       "      <td>280</td>\n",
       "      <td>2.6</td>\n",
       "      <td>2023-05-01</td>\n",
       "    </tr>\n",
       "    <tr>\n",
       "      <th>16</th>\n",
       "      <td>A123116</td>\n",
       "      <td>19500</td>\n",
       "      <td>84</td>\n",
       "      <td>77</td>\n",
       "      <td>280</td>\n",
       "      <td>1.2</td>\n",
       "      <td>2023-06-01</td>\n",
       "    </tr>\n",
       "    <tr>\n",
       "      <th>17</th>\n",
       "      <td>A123117</td>\n",
       "      <td>19600</td>\n",
       "      <td>85</td>\n",
       "      <td>35</td>\n",
       "      <td>280</td>\n",
       "      <td>2.5</td>\n",
       "      <td>2023-07-01</td>\n",
       "    </tr>\n",
       "    <tr>\n",
       "      <th>18</th>\n",
       "      <td>A123118</td>\n",
       "      <td>12500</td>\n",
       "      <td>65</td>\n",
       "      <td>37</td>\n",
       "      <td>250</td>\n",
       "      <td>2.5</td>\n",
       "      <td>2023-08-01</td>\n",
       "    </tr>\n",
       "    <tr>\n",
       "      <th>19</th>\n",
       "      <td>A123119</td>\n",
       "      <td>13800</td>\n",
       "      <td>68</td>\n",
       "      <td>80</td>\n",
       "      <td>252</td>\n",
       "      <td>1.4</td>\n",
       "      <td>2023-09-01</td>\n",
       "    </tr>\n",
       "  </tbody>\n",
       "</table>\n",
       "</div>"
      ],
      "text/plain": [
       "         ID  sales  radio  news   tv  pos       Date\n",
       "0   A123100  10000     65    89  250  1.3 2022-02-01\n",
       "1   A123101  16000     73    55  260  1.6 2022-03-01\n",
       "2   A123102  16500     74    58  270  1.7 2022-04-01\n",
       "3   A123103  17000     75    82  270  1.3 2022-05-01\n",
       "4   A123104  14000     69    75  255  1.5 2022-06-01\n",
       "5   A123105  15000     70    71  255  2.1 2022-07-01\n",
       "6   A123106  20000     87    59  280  1.2 2022-08-01\n",
       "7   A123107  20500     89    65  280  3.0 2022-09-01\n",
       "8   A123108  15800     72    62  260  1.6 2022-10-01\n",
       "9   A123109  16000     73    56  260  1.6 2022-11-01\n",
       "10  A123110  15300     70    66  255  1.5 2022-12-01\n",
       "11  A123111  17500     78    50  270  0.1 2023-01-01\n",
       "12  A123112  18000     79    47  275  0.2 2023-02-01\n",
       "13  A123113  18500     81    78  275  0.9 2023-03-01\n",
       "14  A123114  18800     81    41  275  1.0 2023-04-01\n",
       "15  A123115  19300     84    63  280  2.6 2023-05-01\n",
       "16  A123116  19500     84    77  280  1.2 2023-06-01\n",
       "17  A123117  19600     85    35  280  2.5 2023-07-01\n",
       "18  A123118  12500     65    37  250  2.5 2023-08-01\n",
       "19  A123119  13800     68    80  252  1.4 2023-09-01"
      ]
     },
     "execution_count": 6,
     "metadata": {},
     "output_type": "execute_result"
    }
   ],
   "source": [
    "import numpy as np\n",
    "import pandas as pd\n",
    "\n",
    "\n",
    "# Lod Dataset and columns\n",
    "\n",
    "def load_data(file_path, target_column):\n",
    "    X = data.drop(target_column, axis=1)\n",
    "    y = data[target_column]\n",
    "    return X, y\n",
    "\n",
    "file_path = '/media/rajesh/Rajesh/Python Workouts/Data files/Simpledata.xlsx'\n",
    "df = pd.read_excel(file_path,parse_dates=True,sheet_name='data')\n",
    "\n",
    "print(f'Head(3):\\n{df.head(3)}\\n\\nColumns:\\n{df.columns}\\n\\nRows,Columns={df.shape}\\n\\nDescibe:\\n{df.describe()} \\n\\n')\n",
    "print(df.info())\n",
    "df"
   ]
  },
  {
   "cell_type": "code",
   "execution_count": 7,
   "metadata": {},
   "outputs": [],
   "source": [
    "X_cols = ['radio', 'news', 'tv', 'pos']\n",
    "y_col = ['sales']\n",
    "X = df[X_cols]\n",
    "y = df[y_col]"
   ]
  },
  {
   "cell_type": "markdown",
   "metadata": {},
   "source": [
    "## Linear Regression"
   ]
  },
  {
   "cell_type": "code",
   "execution_count": 25,
   "metadata": {},
   "outputs": [],
   "source": [
    "X_train, X_test, y_train, y_test, b, bx, mse, r2, rmse, mae, y_pred = liner_models(X, y, test_size=0.3, random_state=10,reg= 'liner')"
   ]
  },
  {
   "cell_type": "markdown",
   "metadata": {},
   "source": [
    "### Test Data Validations"
   ]
  },
  {
   "cell_type": "code",
   "execution_count": 22,
   "metadata": {},
   "outputs": [
    {
     "data": {
      "image/png": "[encoded data removed]",
      "text/plain": [
       "<Figure size 640x480 with 1 Axes>"
      ]
     },
     "metadata": {},
     "output_type": "display_data"
    }
   ],
   "source": [
    "import matplotlib.pyplot as plt\n",
    "\n",
    "plt.scatter(y_test, y_pred)\n",
    "plt.show()"
   ]
  },
  {
   "cell_type": "code",
   "execution_count": 23,
   "metadata": {},
   "outputs": [
    {
     "name": "stderr",
     "output_type": "stream",
     "text": [
      "/home/rajesh/.local/lib/python3.10/site-packages/seaborn/axisgrid.py:118: UserWarning: The figure layout has changed to tight\n",
      "  self._figure.tight_layout(*args, **kwargs)\n"
     ]
    },
    {
     "data": {
      "image/png": "[encoded data removed]",
      "text/plain": [
       "<Figure size 585.25x500 with 1 Axes>"
      ]
     },
     "metadata": {},
     "output_type": "display_data"
    }
   ],
   "source": [
    "import seaborn as sns\n",
    "sns.displot((y_test-y_pred))\n",
    "plt.show()\n",
    "\n",
    "# Plot looks like reciduals are equally distributed"
   ]
  },
  {
   "cell_type": "code",
   "execution_count": 24,
   "metadata": {},
   "outputs": [
    {
     "data": {
      "text/plain": [
       "<Axes: xlabel='sales'>"
      ]
     },
     "execution_count": 24,
     "metadata": {},
     "output_type": "execute_result"
    },
    {
     "data": {
      "image/png": "[encoded data removed]",
      "text/plain": [
       "<Figure size 640x480 with 1 Axes>"
      ]
     },
     "metadata": {},
     "output_type": "display_data"
    }
   ],
   "source": [
    "sns.regplot(y = y_pred, x = y_test)\n",
    "\n",
    "# Regression Line loocks goods in Test data, Data near by Regg Line"
   ]
  },
  {
   "cell_type": "code",
   "execution_count": 269,
   "metadata": {},
   "outputs": [
    {
     "name": "stdout",
     "output_type": "stream",
     "text": [
      "Linear Regression formula is Y = b0+b1*X1+b2*X2+b3*X3+b4*X4\n",
      "\n",
      "\n",
      "Where,\n",
      "Y is Dependent Variable (sales)\n",
      "\n",
      "X1 is independent Variable (radio)\n",
      "X2 is independent Variable (news)\n",
      "X3 is independent Variable (tv)\n",
      "X4 is independent Variable (pos)\n",
      "\n",
      "\n",
      "Regression coefficient of radio (b1)= 387.3085\n",
      "Regression coefficient of news (b2)= -23.4004\n",
      "Regression coefficient of tv (b3)= -8.8686\n",
      "Regression coefficient of pos (b4)= -110.5306\n",
      "\n",
      "\n",
      "Linear Regression Result is:\n",
      "\t Y = -8856.9862 +387.3085*X1 -23.4004*X2 -8.8686*X3 -110.5306*X4 \n",
      "\n",
      "\n",
      "Evaluations:\n",
      "Mean Squre Error, MSE:844076.5409\n",
      "Coefficient of Determination, R2:0.8943\n",
      "Mean Absolute Error, MAE:825.3068\n",
      "Root Mean Squre Error, RMSE:918.7364\n"
     ]
    }
   ],
   "source": [
    "equ = \"b0\"\n",
    "\n",
    "for i in range(len(X_cols)):\n",
    "    equ += f'+b{i+1}*X{i+1}'\n",
    "print(f'Linear Regression formula is Y = {equ}\\n\\n')\n",
    "\n",
    "print(f'Where,\\nY is Dependent Variable ({y_col[0]})\\n')\n",
    "for i, col in enumerate(X_cols,start=1):\n",
    "    print(f'X{i} is independent Variable ({X_cols[i-1]})')\n",
    "print('\\n')\n",
    "\n",
    "for i, col in enumerate(X_cols,start=1):\n",
    "    print(f'Regression coefficient of {col} (b{i})= {round(bx[0][i-1],4)}')\n",
    "\n",
    "res = f'{round(b[0],4)} '\n",
    "for i in range(len(X_cols)):\n",
    "    if bx[0][i] <0:\n",
    "        res += f'{round(bx[0][i],4)}*X{i+1} '\n",
    "    else:\n",
    "        res += f'+{round(bx[0][i],4)}*X{i+1} '\n",
    "print(f'\\n\\nLinear Regression Result is:\\n\\t Y = {res}')\n",
    "\n",
    "print(f'\\n\\nEvaluations:\\nMean Squre Error, MSE:{round(mse,4)}\\nCoefficient of Determination, R2:{round(r2,4)}\\nMean Absolute Error, MAE:{round(mae,4)}\\nRoot Mean Squre Error, RMSE:{round(rmse,4)}')\n"
   ]
  },
  {
   "cell_type": "markdown",
   "metadata": {},
   "source": [
    "## Logistic Regression"
   ]
  },
  {
   "cell_type": "code",
   "execution_count": 282,
   "metadata": {},
   "outputs": [
    {
     "name": "stderr",
     "output_type": "stream",
     "text": [
      "/home/rajesh/.local/lib/python3.10/site-packages/sklearn/utils/validation.py:1184: DataConversionWarning: A column-vector y was passed when a 1d array was expected. Please change the shape of y to (n_samples, ), for example using ravel().\n",
      "  y = column_or_1d(y, warn=True)\n",
      "/home/rajesh/.local/lib/python3.10/site-packages/sklearn/linear_model/_logistic.py:460: ConvergenceWarning: lbfgs failed to converge (status=1):\n",
      "STOP: TOTAL NO. of ITERATIONS REACHED LIMIT.\n",
      "\n",
      "Increase the number of iterations (max_iter) or scale the data as shown in:\n",
      "    https://scikit-learn.org/stable/modules/preprocessing.html\n",
      "Please also refer to the documentation for alternative solver options:\n",
      "    https://scikit-learn.org/stable/modules/linear_model.html#logistic-regression\n",
      "  n_iter_i = _check_optimize_result(\n",
      "/home/rajesh/.local/lib/python3.10/site-packages/sklearn/metrics/_classification.py:1469: UndefinedMetricWarning: Precision and F-score are ill-defined and being set to 0.0 in labels with no predicted samples. Use `zero_division` parameter to control this behavior.\n",
      "  _warn_prf(average, modifier, msg_start, len(result))\n",
      "/home/rajesh/.local/lib/python3.10/site-packages/sklearn/metrics/_classification.py:1469: UndefinedMetricWarning: Recall and F-score are ill-defined and being set to 0.0 in labels with no true samples. Use `zero_division` parameter to control this behavior.\n",
      "  _warn_prf(average, modifier, msg_start, len(result))\n",
      "/home/rajesh/.local/lib/python3.10/site-packages/sklearn/metrics/_classification.py:1469: UndefinedMetricWarning: Precision and F-score are ill-defined and being set to 0.0 in labels with no predicted samples. Use `zero_division` parameter to control this behavior.\n",
      "  _warn_prf(average, modifier, msg_start, len(result))\n",
      "/home/rajesh/.local/lib/python3.10/site-packages/sklearn/metrics/_classification.py:1469: UndefinedMetricWarning: Recall and F-score are ill-defined and being set to 0.0 in labels with no true samples. Use `zero_division` parameter to control this behavior.\n",
      "  _warn_prf(average, modifier, msg_start, len(result))\n",
      "/home/rajesh/.local/lib/python3.10/site-packages/sklearn/metrics/_classification.py:1469: UndefinedMetricWarning: Precision and F-score are ill-defined and being set to 0.0 in labels with no predicted samples. Use `zero_division` parameter to control this behavior.\n",
      "  _warn_prf(average, modifier, msg_start, len(result))\n",
      "/home/rajesh/.local/lib/python3.10/site-packages/sklearn/metrics/_classification.py:1469: UndefinedMetricWarning: Recall and F-score are ill-defined and being set to 0.0 in labels with no true samples. Use `zero_division` parameter to control this behavior.\n",
      "  _warn_prf(average, modifier, msg_start, len(result))\n"
     ]
    }
   ],
   "source": [
    "X_train, X_test, y_train, y_test, b, bx, accuracy, conf_matrix, classification_rep = liner_models(X, y, test_size=0.3, random_state=1000000, reg= 'logistic')"
   ]
  },
  {
   "cell_type": "code",
   "execution_count": 284,
   "metadata": {},
   "outputs": [
    {
     "data": {
      "text/plain": [
       "array([[-0.30042324,  1.06963144, -0.20506776, -0.0022636 ],\n",
       "       [-0.48862134, -0.77978073,  0.30321877,  0.14350714],\n",
       "       [-0.5057844 ,  0.58802811,  0.00307947,  0.00292234],\n",
       "       [-0.30112255,  0.30650762,  0.0263651 ,  0.17132447],\n",
       "       [-0.18013087,  0.07469553,  0.05393138, -0.00906432],\n",
       "       [-0.08450827, -0.15991246,  0.07974557,  0.04911504],\n",
       "       [-0.44764688, -0.21548748,  0.19312991,  0.05340988],\n",
       "       [ 0.01525859,  0.85293876, -0.21856035, -0.04574086],\n",
       "       [ 0.09439413, -0.41984775,  0.0820513 , -0.18120137],\n",
       "       [ 0.05494008, -0.60412623,  0.12678244, -0.13979667],\n",
       "       [ 0.5176794 ,  0.41499218, -0.23368329, -0.13889377],\n",
       "       [ 0.43706315, -1.03591325,  0.08552667, -0.0043574 ],\n",
       "       [ 0.57997429, -0.29146768, -0.08811571, -0.08912134],\n",
       "       [ 0.6089279 ,  0.19974193, -0.2084035 ,  0.19016044]])"
      ]
     },
     "execution_count": 284,
     "metadata": {},
     "output_type": "execute_result"
    }
   ],
   "source": [
    "bx"
   ]
  },
  {
   "cell_type": "code",
   "execution_count": null,
   "metadata": {},
   "outputs": [],
   "source": [
    "file_path = 'your_dataset.csv'\n",
    "target_column = 'target_column_name'\n",
    "\n",
    "X, y = load_data(file_path, target_column)\n",
    "X_train, X_test, y_train, y_test = train_test_split_data(X, y)\n",
    "logreg_model = train_logistic_regression(X_train, y_train)\n",
    "accuracy, conf_matrix, classification_rep = evaluate_model(logreg_model, X_test, y_test)\n",
    "\n",
    "print(\"Accuracy:\", accuracy)\n",
    "print(\"Confusion Matrix:\\n\", conf_matrix)\n",
    "print(\"Classification Report:\\n\", classification_rep)"
   ]
  },
  {
   "cell_type": "code",
   "execution_count": 254,
   "metadata": {},
   "outputs": [
    {
     "data": {
      "text/plain": [
       "<Axes: >"
      ]
     },
     "execution_count": 254,
     "metadata": {},
     "output_type": "execute_result"
    },
    {
     "data": {
      "image/png": "[encoded data removed]",
      "text/plain": [
       "<Figure size 640x480 with 2 Axes>"
      ]
     },
     "metadata": {},
     "output_type": "display_data"
    }
   ],
   "source": [
    "import seaborn as sns\n",
    "sns.heatmap(df.corr(numeric_only=True), cmap='coolwarm',annot=True)"
   ]
  }
 ],
 "metadata": {
  "kernelspec": {
   "display_name": "Python 3",
   "language": "python",
   "name": "python3"
  },
  "language_info": {
   "codemirror_mode": {
    "name": "ipython",
    "version": 3
   },
   "file_extension": ".py",
   "mimetype": "text/x-python",
   "name": "python",
   "nbconvert_exporter": "python",
   "pygments_lexer": "ipython3",
   "version": "3.10.12"
  },
  "orig_nbformat": 4
 },
 "nbformat": 4,
 "nbformat_minor": 2
}
