{
 "cells": [
  {
   "cell_type": "code",
   "execution_count": 3,
   "id": "452e0f27",
   "metadata": {},
   "outputs": [
    {
     "data": {
      "text/plain": [
       "[1, 2, 3, 4, 5, 6]"
      ]
     },
     "execution_count": 3,
     "metadata": {},
     "output_type": "execute_result"
    }
   ],
   "source": [
    "list1 = [1,2,3,4,5,6]\n",
    "list1"
   ]
  },
  {
   "cell_type": "code",
   "execution_count": 7,
   "id": "d026e2be",
   "metadata": {},
   "outputs": [
    {
     "name": "stdout",
     "output_type": "stream",
     "text": [
      "something else\n"
     ]
    }
   ],
   "source": [
    "if list1[2]==2:\n",
    "    print(\"it is 2\")\n",
    "elif list1[3]==3:\n",
    "    print('it is 3')\n",
    "else:\n",
    "    print('something else')"
   ]
  },
  {
   "cell_type": "markdown",
   "id": "12bd2669",
   "metadata": {},
   "source": [
    "for loop"
   ]
  },
  {
   "cell_type": "code",
   "execution_count": 10,
   "id": "c1a444de",
   "metadata": {},
   "outputs": [
    {
     "data": {
      "text/plain": [
       "[1, 2, 3, 4, 5, 6]"
      ]
     },
     "execution_count": 10,
     "metadata": {},
     "output_type": "execute_result"
    }
   ],
   "source": [
    "list1"
   ]
  },
  {
   "cell_type": "code",
   "execution_count": 12,
   "id": "5ef15572",
   "metadata": {},
   "outputs": [
    {
     "name": "stdout",
     "output_type": "stream",
     "text": [
      "1\n",
      "2\n",
      "3\n",
      "4\n",
      "5\n",
      "6\n"
     ]
    }
   ],
   "source": [
    "for _ in list1:\n",
    "    print(_)"
   ]
  },
  {
   "cell_type": "code",
   "execution_count": 14,
   "id": "3a6cc6a4",
   "metadata": {},
   "outputs": [
    {
     "name": "stdout",
     "output_type": "stream",
     "text": [
      "H\n",
      "e\n",
      "l\n",
      "l\n",
      "o\n",
      " \n",
      "W\n",
      "o\n",
      "r\n",
      "l\n",
      "d\n"
     ]
    }
   ],
   "source": [
    "for _ in 'Hello World':\n",
    "    print(_)"
   ]
  },
  {
   "cell_type": "code",
   "execution_count": 17,
   "id": "296db88e",
   "metadata": {},
   "outputs": [
    {
     "name": "stdout",
     "output_type": "stream",
     "text": [
      "0\n",
      "1\n",
      "2\n",
      "3\n",
      "4\n",
      "5\n",
      "6\n",
      "7\n",
      "8\n",
      "9\n"
     ]
    }
   ],
   "source": [
    "for _ in range(10):\n",
    "    print(_)"
   ]
  },
  {
   "cell_type": "code",
   "execution_count": 27,
   "id": "eee44a56",
   "metadata": {},
   "outputs": [
    {
     "name": "stdout",
     "output_type": "stream",
     "text": [
      "0 is odd number\n",
      "1 is odd number\n",
      "2 is even number\n",
      "3 is odd number\n",
      "4 is even number\n",
      "5 is odd number\n",
      "6 is even number\n",
      "7 is odd number\n",
      "8 is even number\n",
      "9 is odd number\n",
      "10 is even number\n",
      "11 is odd number\n",
      "12 is even number\n",
      "13 is odd number\n",
      "14 is even number\n",
      "15 is odd number\n",
      "16 is even number\n",
      "17 is odd number\n",
      "18 is even number\n",
      "19 is odd number\n"
     ]
    }
   ],
   "source": [
    "for num in range(20):\n",
    "    if num % 2== 0 and num>1:\n",
    "        print(f'{num} is even number')\n",
    "    else:\n",
    "        print(f'{num} is odd number')\n",
    "        "
   ]
  },
  {
   "cell_type": "code",
   "execution_count": 29,
   "id": "02bf5bba",
   "metadata": {},
   "outputs": [
    {
     "data": {
      "text/plain": [
       "[1, 2, 3, 4, 5, 6]"
      ]
     },
     "execution_count": 29,
     "metadata": {},
     "output_type": "execute_result"
    }
   ],
   "source": [
    "list1"
   ]
  },
  {
   "cell_type": "code",
   "execution_count": 32,
   "id": "30df0c54",
   "metadata": {},
   "outputs": [
    {
     "name": "stdout",
     "output_type": "stream",
     "text": [
      "1\n",
      "3\n",
      "6\n",
      "10\n",
      "15\n",
      "21\n"
     ]
    }
   ],
   "source": [
    "sum = 0\n",
    "for num in list1:\n",
    "    sum +=num\n",
    "    print(sum)"
   ]
  },
  {
   "cell_type": "code",
   "execution_count": 34,
   "id": "bb055b41",
   "metadata": {},
   "outputs": [
    {
     "data": {
      "text/plain": [
       "[(1, 2, 3), (4, 5, 6), (7, 8, 9)]"
      ]
     },
     "execution_count": 34,
     "metadata": {},
     "output_type": "execute_result"
    }
   ],
   "source": [
    "listtupple = [(1,2,3),(4,5,6),(7,8,9)]\n",
    "listtupple"
   ]
  },
  {
   "cell_type": "code",
   "execution_count": 71,
   "id": "dc131233",
   "metadata": {},
   "outputs": [
    {
     "name": "stdout",
     "output_type": "stream",
     "text": [
      "1\n",
      "3\n",
      "2\n",
      "1 2 3\n",
      "4\n",
      "6\n",
      "5\n",
      "4 5 6\n",
      "7\n",
      "9\n",
      "8\n",
      "7 8 9\n",
      "\n",
      " 7\n"
     ]
    }
   ],
   "source": [
    "for a,b,c in listtupple:\n",
    "    print(a)\n",
    "    print(c)\n",
    "    print(b)\n",
    "    print(a,b,c)\n",
    "print ('\\n',a)"
   ]
  },
  {
   "cell_type": "code",
   "execution_count": 54,
   "id": "866a2121",
   "metadata": {},
   "outputs": [
    {
     "name": "stdout",
     "output_type": "stream",
     "text": [
      "{'Apple': 120, 'orange': 50, 'mango': 80}\n",
      "dict_items([('Apple', 120), ('orange', 50), ('mango', 80)])\n",
      "dict_keys(['Apple', 'orange', 'mango'])\n",
      "dict_values([120, 50, 80])\n"
     ]
    }
   ],
   "source": [
    "listdict = {\"Apple\":120,\"orange\":50,\"mango\":80}\n",
    "print(listdict)\n",
    "print(listdict.items())\n",
    "print(listdict.keys())\n",
    "print(listdict.values())"
   ]
  },
  {
   "cell_type": "code",
   "execution_count": 59,
   "id": "4e5f4d42",
   "metadata": {},
   "outputs": [
    {
     "name": "stdout",
     "output_type": "stream",
     "text": [
      "Apple\n",
      "orange\n",
      "mango\n",
      "('Apple', 120)\n",
      "('orange', 50)\n",
      "('mango', 80)\n",
      "120\n",
      "50\n",
      "80\n"
     ]
    }
   ],
   "source": [
    "for k in listdict.keys():\n",
    "    print(k)\n",
    "for k in listdict.items():\n",
    "    print(k)\n",
    "for k in listdict.values():\n",
    "    print(k)"
   ]
  },
  {
   "cell_type": "code",
   "execution_count": 66,
   "id": "055a1782",
   "metadata": {},
   "outputs": [
    {
     "name": "stdout",
     "output_type": "stream",
     "text": [
      "Apple\n",
      "orange\n",
      "mango\n",
      "120\n",
      "50\n",
      "80\n"
     ]
    }
   ],
   "source": [
    "for k in listdict:\n",
    "    print(k)\n",
    "for k,v in listdict.items():\n",
    "    print(v)"
   ]
  },
  {
   "cell_type": "code",
   "execution_count": 70,
   "id": "dbeee5e9",
   "metadata": {},
   "outputs": [
    {
     "name": "stdout",
     "output_type": "stream",
     "text": [
      "[50, 80, 120]\n",
      "['Apple', 'mango', 'orange']\n"
     ]
    }
   ],
   "source": [
    "print(sorted(list(listdict.values())))\n",
    "print(sorted(list(listdict.keys())))"
   ]
  },
  {
   "cell_type": "markdown",
   "id": "321dfdf7",
   "metadata": {},
   "source": [
    "While loop"
   ]
  },
  {
   "cell_type": "code",
   "execution_count": 83,
   "id": "39ef6403",
   "metadata": {},
   "outputs": [
    {
     "name": "stdout",
     "output_type": "stream",
     "text": [
      "Observed value is 50 less tan target value 100\n",
      "Increasing observed value by 3\n",
      "Observed value is 53 less tan target value 100\n",
      "Increasing observed value by 3\n",
      "Observed value is 56 less tan target value 100\n",
      "Increasing observed value by 3\n",
      "Observed value is 59 less tan target value 100\n",
      "Increasing observed value by 3\n",
      "Observed value is 62 less tan target value 100\n",
      "Increasing observed value by 3\n",
      "Observed value is 65 less tan target value 100\n",
      "Increasing observed value by 3\n",
      "Observed value is 68 less tan target value 100\n",
      "Increasing observed value by 3\n",
      "Observed value is 71 less tan target value 100\n",
      "Increasing observed value by 3\n",
      "Observed value is 74 less tan target value 100\n",
      "Increasing observed value by 3\n",
      "Observed value is 77 less tan target value 100\n",
      "Increasing observed value by 3\n",
      "Observed value is 80 less tan target value 100\n",
      "Increasing observed value by 3\n",
      "Observed value is 83 less tan target value 100\n",
      "Increasing observed value by 3\n",
      "Observed value is 86 less tan target value 100\n",
      "Increasing observed value by 3\n",
      "Observed value is 89 less tan target value 100\n",
      "Increasing observed value by 3\n",
      "Observed value is 92 less tan target value 100\n",
      "Increasing observed value by 3\n",
      "Observed value is 95 less tan target value 100\n",
      "Increasing observed value by 3\n",
      "Observed value is 98 less tan target value 100\n",
      "Increasing observed value by 3\n",
      "meets target\n"
     ]
    }
   ],
   "source": [
    "obserevd = 50\n",
    "target = 100\n",
    "\n",
    "while obserevd<=target:\n",
    "    print('Observed value is {} less tan target value {}\\nIncreasing observed value by 3'.format(obserevd,target))\n",
    "    obserevd+=3\n",
    "else:\n",
    "    print('meets target')"
   ]
  },
  {
   "cell_type": "code",
   "execution_count": 5,
   "id": "42c4cebd",
   "metadata": {},
   "outputs": [
    {
     "name": "stdout",
     "output_type": "stream",
     "text": [
      "0\n",
      "continueing...\n",
      "1\n",
      "continueing...\n",
      "2\n",
      "continueing...\n",
      "3\n",
      "continueing...\n",
      "4\n",
      "continueing...\n",
      "5\n",
      "continueing...\n",
      "6\n",
      "continueing...\n",
      "7\n",
      "continueing...\n",
      "8\n",
      "continueing...\n",
      "9\n",
      "continueing...\n",
      "10\n",
      "continueing...\n",
      "11\n",
      "continueing...\n",
      "12\n",
      "continueing...\n",
      "13\n",
      "continueing...\n",
      "14\n",
      "continueing...\n",
      "15\n",
      "x is 15\n"
     ]
    }
   ],
   "source": [
    "x=0\n",
    "while x<=20:\n",
    "    print(x)\n",
    "    y=x\n",
    "    x+=1\n",
    "    if y==15:\n",
    "        print(\"x is 15\")\n",
    "        break\n",
    "    else:\n",
    "        print(\"continueing...\")\n",
    "        continue"
   ]
  }
 ],
 "metadata": {
  "kernelspec": {
   "display_name": "Python 3 (ipykernel)",
   "language": "python",
   "name": "python3"
  },
  "language_info": {
   "codemirror_mode": {
    "name": "ipython",
    "version": 3
   },
   "file_extension": ".py",
   "mimetype": "text/x-python",
   "name": "python",
   "nbconvert_exporter": "python",
   "pygments_lexer": "ipython3",
   "version": "3.10.9"
  }
 },
 "nbformat": 4,
 "nbformat_minor": 5
}
