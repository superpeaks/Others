{
 "cells": [
  {
   "cell_type": "code",
   "execution_count": 4,
   "id": "fb7c7c15",
   "metadata": {},
   "outputs": [
    {
     "data": {
      "text/plain": [
       "'Hello world'"
      ]
     },
     "execution_count": 4,
     "metadata": {},
     "output_type": "execute_result"
    }
   ],
   "source": [
    "word = 'Hello world'\n",
    "word"
   ]
  },
  {
   "cell_type": "code",
   "execution_count": 29,
   "id": "c74a0a34",
   "metadata": {},
   "outputs": [
    {
     "name": "stdout",
     "output_type": "stream",
     "text": [
      "Overwriting text.txt\n"
     ]
    }
   ],
   "source": [
    "%%writefile text.txt\n",
    "1st line\n",
    "2nd line\n",
    "3rd line\n",
    "4th line"
   ]
  },
  {
   "cell_type": "code",
   "execution_count": 33,
   "id": "fbcdd89e",
   "metadata": {},
   "outputs": [
    {
     "data": {
      "text/plain": [
       "'1st line\\n2nd line\\n3rd line\\n4th line\\n'"
      ]
     },
     "execution_count": 33,
     "metadata": {},
     "output_type": "execute_result"
    }
   ],
   "source": [
    "myfile = open('text.txt')\n",
    "myfile.read()"
   ]
  },
  {
   "cell_type": "code",
   "execution_count": 35,
   "id": "8f9d54e8",
   "metadata": {},
   "outputs": [
    {
     "data": {
      "text/plain": [
       "''"
      ]
     },
     "execution_count": 35,
     "metadata": {},
     "output_type": "execute_result"
    }
   ],
   "source": [
    "myfile.read()"
   ]
  },
  {
   "cell_type": "code",
   "execution_count": 37,
   "id": "04972e89",
   "metadata": {},
   "outputs": [
    {
     "data": {
      "text/plain": [
       "'1st line\\n2nd line\\n3rd line\\n4th line\\n'"
      ]
     },
     "execution_count": 37,
     "metadata": {},
     "output_type": "execute_result"
    }
   ],
   "source": [
    "myfile.seek(0)\n",
    "myfile.read()"
   ]
  },
  {
   "cell_type": "code",
   "execution_count": 39,
   "id": "f908d095",
   "metadata": {},
   "outputs": [],
   "source": [
    "myfile.close()"
   ]
  },
  {
   "cell_type": "code",
   "execution_count": 42,
   "id": "49010ad7",
   "metadata": {},
   "outputs": [
    {
     "ename": "ValueError",
     "evalue": "I/O operation on closed file.",
     "output_type": "error",
     "traceback": [
      "\u001b[1;31m---------------------------------------------------------------------------\u001b[0m",
      "\u001b[1;31mValueError\u001b[0m                                Traceback (most recent call last)",
      "Cell \u001b[1;32mIn[42], line 1\u001b[0m\n\u001b[1;32m----> 1\u001b[0m \u001b[43mmyfile\u001b[49m\u001b[38;5;241;43m.\u001b[39;49m\u001b[43mseek\u001b[49m\u001b[43m(\u001b[49m\u001b[38;5;241;43m0\u001b[39;49m\u001b[43m)\u001b[49m\n\u001b[0;32m      2\u001b[0m myfile\u001b[38;5;241m.\u001b[39mread()\n",
      "\u001b[1;31mValueError\u001b[0m: I/O operation on closed file."
     ]
    }
   ],
   "source": [
    "myfile.seek(0)\n",
    "myfile.read()\n"
   ]
  },
  {
   "cell_type": "code",
   "execution_count": 44,
   "id": "47e458af",
   "metadata": {},
   "outputs": [
    {
     "data": {
      "text/plain": [
       "'1st line\\n2nd line\\n3rd line\\n4th line\\n'"
      ]
     },
     "execution_count": 44,
     "metadata": {},
     "output_type": "execute_result"
    }
   ],
   "source": [
    "myfile = open('text.txt')\n",
    "myfile.read()"
   ]
  },
  {
   "cell_type": "code",
   "execution_count": 71,
   "id": "be039562",
   "metadata": {},
   "outputs": [
    {
     "data": {
      "text/plain": [
       "'1st line\\n'"
      ]
     },
     "execution_count": 71,
     "metadata": {},
     "output_type": "execute_result"
    }
   ],
   "source": [
    "myfile.seek(0)\n",
    "myfile.readline()\n"
   ]
  },
  {
   "cell_type": "code",
   "execution_count": 63,
   "id": "32017c25",
   "metadata": {},
   "outputs": [
    {
     "data": {
      "text/plain": [
       "['1st line\\n', '2nd line\\n', '3rd line\\n', '4th line\\n']"
      ]
     },
     "execution_count": 63,
     "metadata": {},
     "output_type": "execute_result"
    }
   ],
   "source": [
    "myfile.seek(0)\n",
    "myfile.readlines()\n"
   ]
  },
  {
   "cell_type": "code",
   "execution_count": 67,
   "id": "ffd7d0d9",
   "metadata": {},
   "outputs": [
    {
     "data": {
      "text/plain": [
       "['1st line\\n', '2nd line\\n', '3rd line\\n', '4th line\\n']"
      ]
     },
     "execution_count": 67,
     "metadata": {},
     "output_type": "execute_result"
    }
   ],
   "source": [
    "myfile.seek(0)\n",
    "list_of_lines = myfile.readlines()\n",
    "list_of_lines"
   ]
  },
  {
   "cell_type": "code",
   "execution_count": 69,
   "id": "30099fad",
   "metadata": {},
   "outputs": [
    {
     "name": "stdout",
     "output_type": "stream",
     "text": [
      "1st line\n",
      "\n",
      "2nd line\n",
      "\n",
      "3rd line\n",
      "\n",
      "4th line\n",
      "\n"
     ]
    }
   ],
   "source": [
    "for _ in list_of_lines:\n",
    "    print(_)"
   ]
  },
  {
   "cell_type": "code",
   "execution_count": 73,
   "id": "05001068",
   "metadata": {},
   "outputs": [
    {
     "data": {
      "text/plain": [
       "38"
      ]
     },
     "execution_count": 73,
     "metadata": {},
     "output_type": "execute_result"
    }
   ],
   "source": [
    "myfiles = open('text.txt','w+')\n",
    "myfiles.write('New 1st file\\nNew 2nd line\\nNew 3rd line')"
   ]
  },
  {
   "cell_type": "code",
   "execution_count": 80,
   "id": "c78a4e2e",
   "metadata": {},
   "outputs": [
    {
     "name": "stdout",
     "output_type": "stream",
     "text": [
      "New 1st file\n",
      "New 2nd line\n",
      "New 3rd line\n"
     ]
    }
   ],
   "source": [
    "myfiles.seek(0)\n",
    "print(myfiles.read())\n"
   ]
  },
  {
   "cell_type": "code",
   "execution_count": 85,
   "id": "a9e4071f",
   "metadata": {},
   "outputs": [
    {
     "name": "stdout",
     "output_type": "stream",
     "text": [
      "New 1st file\n",
      "\n",
      "New 2nd line\n",
      "\n",
      "New 3rd line\n"
     ]
    }
   ],
   "source": [
    "myfiles.seek(0)\n",
    "lines = myfiles.readlines()\n",
    "for _ in lines:\n",
    "    print(_)"
   ]
  },
  {
   "cell_type": "code",
   "execution_count": 89,
   "id": "be58f15e",
   "metadata": {},
   "outputs": [
    {
     "data": {
      "text/plain": [
       "'New 1st file\\nNew 2nd line\\nNew 3rd line\\nVery new line\\nVery new line\\nVery new line'"
      ]
     },
     "execution_count": 89,
     "metadata": {},
     "output_type": "execute_result"
    }
   ],
   "source": [
    "#\n",
    "myfiles = open('text.txt','a+')\n",
    "myfiles.write('\\nVery new line')\n",
    "myfiles.seek(0)\n",
    "myfiles.read()"
   ]
  },
  {
   "cell_type": "code",
   "execution_count": 91,
   "id": "1030d0e9",
   "metadata": {},
   "outputs": [
    {
     "name": "stdout",
     "output_type": "stream",
     "text": [
      "New 1st file\n",
      "\n",
      "New 2nd line\n",
      "\n",
      "New 3rd line\n",
      "\n",
      "Very new line\n",
      "\n",
      "Very new line\n",
      "\n",
      "Very new line\n"
     ]
    }
   ],
   "source": [
    "myfiles.seek(0)\n",
    "lines = myfiles.readlines()\n",
    "for _ in lines:\n",
    "    print(_)"
   ]
  }
 ],
 "metadata": {
  "kernelspec": {
   "display_name": "Python 3 (ipykernel)",
   "language": "python",
   "name": "python3"
  },
  "language_info": {
   "codemirror_mode": {
    "name": "ipython",
    "version": 3
   },
   "file_extension": ".py",
   "mimetype": "text/x-python",
   "name": "python",
   "nbconvert_exporter": "python",
   "pygments_lexer": "ipython3",
   "version": "3.10.9"
  }
 },
 "nbformat": 4,
 "nbformat_minor": 5
}
