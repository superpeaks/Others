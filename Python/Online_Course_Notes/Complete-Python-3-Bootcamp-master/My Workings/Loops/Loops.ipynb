{
 "cells": [
  {
   "cell_type": "code",
   "execution_count": 3,
   "id": "f7e94471",
   "metadata": {},
   "outputs": [
    {
     "data": {
      "text/plain": [
       "[1, 2, 3, 4, 5, 6]"
      ]
     },
     "execution_count": 3,
     "metadata": {},
     "output_type": "execute_result"
    }
   ],
   "source": [
    "list1 = [1,2,3,4,5,6]\n",
    "list1"
   ]
  },
  {
   "cell_type": "code",
   "execution_count": 7,
   "id": "0efc6dd0",
   "metadata": {},
   "outputs": [
    {
     "name": "stdout",
     "output_type": "stream",
     "text": [
      "something else\n"
     ]
    }
   ],
   "source": [
    "if list1[2]==2:\n",
    "    print(\"it is 2\")\n",
    "elif list1[3]==3:\n",
    "    print('it is 3')\n",
    "else:\n",
    "    print('something else')"
   ]
  },
  {
   "cell_type": "markdown",
   "id": "db784be1",
   "metadata": {},
   "source": [
    "for loop"
   ]
  },
  {
   "cell_type": "code",
   "execution_count": 10,
   "id": "2fad4f26",
   "metadata": {},
   "outputs": [
    {
     "data": {
      "text/plain": [
       "[1, 2, 3, 4, 5, 6]"
      ]
     },
     "execution_count": 10,
     "metadata": {},
     "output_type": "execute_result"
    }
   ],
   "source": [
    "list1"
   ]
  },
  {
   "cell_type": "code",
   "execution_count": 12,
   "id": "76a8d143",
   "metadata": {},
   "outputs": [
    {
     "name": "stdout",
     "output_type": "stream",
     "text": [
      "1\n",
      "2\n",
      "3\n",
      "4\n",
      "5\n",
      "6\n"
     ]
    }
   ],
   "source": [
    "for _ in list1:\n",
    "    print(_)"
   ]
  },
  {
   "cell_type": "code",
   "execution_count": 14,
   "id": "d809c01f",
   "metadata": {},
   "outputs": [
    {
     "name": "stdout",
     "output_type": "stream",
     "text": [
      "H\n",
      "e\n",
      "l\n",
      "l\n",
      "o\n",
      " \n",
      "W\n",
      "o\n",
      "r\n",
      "l\n",
      "d\n"
     ]
    }
   ],
   "source": [
    "for _ in 'Hello World':\n",
    "    print(_)"
   ]
  },
  {
   "cell_type": "code",
   "execution_count": 17,
   "id": "4e9cb5b0",
   "metadata": {},
   "outputs": [
    {
     "name": "stdout",
     "output_type": "stream",
     "text": [
      "0\n",
      "1\n",
      "2\n",
      "3\n",
      "4\n",
      "5\n",
      "6\n",
      "7\n",
      "8\n",
      "9\n"
     ]
    }
   ],
   "source": [
    "for _ in range(10):\n",
    "    print(_)"
   ]
  },
  {
   "cell_type": "code",
   "execution_count": 27,
   "id": "d0f88995",
   "metadata": {},
   "outputs": [
    {
     "name": "stdout",
     "output_type": "stream",
     "text": [
      "0 is odd number\n",
      "1 is odd number\n",
      "2 is even number\n",
      "3 is odd number\n",
      "4 is even number\n",
      "5 is odd number\n",
      "6 is even number\n",
      "7 is odd number\n",
      "8 is even number\n",
      "9 is odd number\n",
      "10 is even number\n",
      "11 is odd number\n",
      "12 is even number\n",
      "13 is odd number\n",
      "14 is even number\n",
      "15 is odd number\n",
      "16 is even number\n",
      "17 is odd number\n",
      "18 is even number\n",
      "19 is odd number\n"
     ]
    }
   ],
   "source": [
    "for num in range(20):\n",
    "    if num % 2== 0 and num>1:\n",
    "        print(f'{num} is even number')\n",
    "    else:\n",
    "        print(f'{num} is odd number')\n",
    "        "
   ]
  },
  {
   "cell_type": "code",
   "execution_count": 29,
   "id": "53a86edf",
   "metadata": {},
   "outputs": [
    {
     "data": {
      "text/plain": [
       "[1, 2, 3, 4, 5, 6]"
      ]
     },
     "execution_count": 29,
     "metadata": {},
     "output_type": "execute_result"
    }
   ],
   "source": [
    "list1"
   ]
  },
  {
   "cell_type": "code",
   "execution_count": 32,
   "id": "30c16387",
   "metadata": {},
   "outputs": [
    {
     "name": "stdout",
     "output_type": "stream",
     "text": [
      "1\n",
      "3\n",
      "6\n",
      "10\n",
      "15\n",
      "21\n"
     ]
    }
   ],
   "source": [
    "sum = 0\n",
    "for num in list1:\n",
    "    sum +=num\n",
    "    print(sum)"
   ]
  },
  {
   "cell_type": "code",
   "execution_count": 34,
   "id": "877d5494",
   "metadata": {},
   "outputs": [
    {
     "data": {
      "text/plain": [
       "[(1, 2, 3), (4, 5, 6), (7, 8, 9)]"
      ]
     },
     "execution_count": 34,
     "metadata": {},
     "output_type": "execute_result"
    }
   ],
   "source": [
    "listtupple = [(1,2,3),(4,5,6),(7,8,9)]\n",
    "listtupple"
   ]
  },
  {
   "cell_type": "code",
   "execution_count": 71,
   "id": "adac0976",
   "metadata": {},
   "outputs": [
    {
     "name": "stdout",
     "output_type": "stream",
     "text": [
      "1\n",
      "3\n",
      "2\n",
      "1 2 3\n",
      "4\n",
      "6\n",
      "5\n",
      "4 5 6\n",
      "7\n",
      "9\n",
      "8\n",
      "7 8 9\n",
      "\n",
      " 7\n"
     ]
    }
   ],
   "source": [
    "for a,b,c in listtupple:\n",
    "    print(a)\n",
    "    print(c)\n",
    "    print(b)\n",
    "    print(a,b,c)\n",
    "print ('\\n',a)"
   ]
  },
  {
   "cell_type": "code",
   "execution_count": 54,
   "id": "c77066d3",
   "metadata": {},
   "outputs": [
    {
     "name": "stdout",
     "output_type": "stream",
     "text": [
      "{'Apple': 120, 'orange': 50, 'mango': 80}\n",
      "dict_items([('Apple', 120), ('orange', 50), ('mango', 80)])\n",
      "dict_keys(['Apple', 'orange', 'mango'])\n",
      "dict_values([120, 50, 80])\n"
     ]
    }
   ],
   "source": [
    "listdict = {\"Apple\":120,\"orange\":50,\"mango\":80}\n",
    "print(listdict)\n",
    "print(listdict.items())\n",
    "print(listdict.keys())\n",
    "print(listdict.values())"
   ]
  },
  {
   "cell_type": "code",
   "execution_count": 59,
   "id": "d68e95d3",
   "metadata": {},
   "outputs": [
    {
     "name": "stdout",
     "output_type": "stream",
     "text": [
      "Apple\n",
      "orange\n",
      "mango\n",
      "('Apple', 120)\n",
      "('orange', 50)\n",
      "('mango', 80)\n",
      "120\n",
      "50\n",
      "80\n"
     ]
    }
   ],
   "source": [
    "for k in listdict.keys():\n",
    "    print(k)\n",
    "for k in listdict.items():\n",
    "    print(k)\n",
    "for k in listdict.values():\n",
    "    print(k)"
   ]
  },
  {
   "cell_type": "code",
   "execution_count": 66,
   "id": "a8a021ec",
   "metadata": {},
   "outputs": [
    {
     "name": "stdout",
     "output_type": "stream",
     "text": [
      "Apple\n",
      "orange\n",
      "mango\n",
      "120\n",
      "50\n",
      "80\n"
     ]
    }
   ],
   "source": [
    "for k in listdict:\n",
    "    print(k)\n",
    "for k,v in listdict.items():\n",
    "    print(v)"
   ]
  },
  {
   "cell_type": "code",
   "execution_count": 70,
   "id": "08db59be",
   "metadata": {},
   "outputs": [
    {
     "name": "stdout",
     "output_type": "stream",
     "text": [
      "[50, 80, 120]\n",
      "['Apple', 'mango', 'orange']\n"
     ]
    }
   ],
   "source": [
    "print(sorted(list(listdict.values())))\n",
    "print(sorted(list(listdict.keys())))"
   ]
  },
  {
   "cell_type": "markdown",
   "id": "264e6ced",
   "metadata": {},
   "source": [
    "While loop"
   ]
  },
  {
   "cell_type": "code",
   "execution_count": 83,
   "id": "cec1f7cc",
   "metadata": {},
   "outputs": [
    {
     "name": "stdout",
     "output_type": "stream",
     "text": [
      "Observed value is 50 less tan target value 100\n",
      "Increasing observed value by 3\n",
      "Observed value is 53 less tan target value 100\n",
      "Increasing observed value by 3\n",
      "Observed value is 56 less tan target value 100\n",
      "Increasing observed value by 3\n",
      "Observed value is 59 less tan target value 100\n",
      "Increasing observed value by 3\n",
      "Observed value is 62 less tan target value 100\n",
      "Increasing observed value by 3\n",
      "Observed value is 65 less tan target value 100\n",
      "Increasing observed value by 3\n",
      "Observed value is 68 less tan target value 100\n",
      "Increasing observed value by 3\n",
      "Observed value is 71 less tan target value 100\n",
      "Increasing observed value by 3\n",
      "Observed value is 74 less tan target value 100\n",
      "Increasing observed value by 3\n",
      "Observed value is 77 less tan target value 100\n",
      "Increasing observed value by 3\n",
      "Observed value is 80 less tan target value 100\n",
      "Increasing observed value by 3\n",
      "Observed value is 83 less tan target value 100\n",
      "Increasing observed value by 3\n",
      "Observed value is 86 less tan target value 100\n",
      "Increasing observed value by 3\n",
      "Observed value is 89 less tan target value 100\n",
      "Increasing observed value by 3\n",
      "Observed value is 92 less tan target value 100\n",
      "Increasing observed value by 3\n",
      "Observed value is 95 less tan target value 100\n",
      "Increasing observed value by 3\n",
      "Observed value is 98 less tan target value 100\n",
      "Increasing observed value by 3\n",
      "meets target\n"
     ]
    }
   ],
   "source": [
    "obserevd = 50\n",
    "target = 100\n",
    "\n",
    "while obserevd<=target:\n",
    "    print('Observed value is {} less tan target value {}\\nIncreasing observed value by 3'.format(obserevd,target))\n",
    "    obserevd+=3\n",
    "else:\n",
    "    print('meets target')"
   ]
  },
  {
   "cell_type": "code",
   "execution_count": 8,
   "id": "f92bcd8d",
   "metadata": {},
   "outputs": [
    {
     "name": "stdout",
     "output_type": "stream",
     "text": [
      "0\n",
      "continueing...\n",
      "1\n",
      "continueing...\n",
      "2\n",
      "continueing...\n",
      "3\n",
      "continueing...\n",
      "4\n",
      "continueing...\n",
      "5\n",
      "continueing...\n",
      "6\n",
      "continueing...\n",
      "7\n",
      "continueing...\n",
      "8\n",
      "continueing...\n",
      "9\n",
      "continueing...\n",
      "10\n",
      "continueing...\n",
      "11\n",
      "continueing...\n",
      "12\n",
      "continueing...\n",
      "13\n",
      "continueing...\n",
      "14\n",
      "continueing...\n",
      "15\n",
      "x is 15\n",
      "16\n",
      "continueing...\n",
      "17\n",
      "continueing...\n",
      "18\n",
      "continueing...\n",
      "19\n",
      "continueing...\n",
      "20\n",
      "continueing...\n"
     ]
    }
   ],
   "source": [
    "x=0\n",
    "while x<=20:\n",
    "    print(x)\n",
    "    y=x\n",
    "    x+=1\n",
    "    if y==15:\n",
    "        print(\"x is 15\")\n",
    "        continue\n",
    "    else:\n",
    "        print(\"continueing...\")"
   ]
  },
  {
   "cell_type": "code",
   "execution_count": 10,
   "id": "a273f6ea",
   "metadata": {},
   "outputs": [
    {
     "name": "stdout",
     "output_type": "stream",
     "text": [
      "0\n",
      "continueing...\n",
      "1\n",
      "continueing...\n",
      "2\n",
      "continueing...\n",
      "3\n",
      "continueing...\n",
      "4\n",
      "continueing...\n",
      "5\n",
      "continueing...\n",
      "6\n",
      "continueing...\n",
      "7\n",
      "continueing...\n",
      "8\n",
      "continueing...\n",
      "9\n",
      "continueing...\n",
      "10\n",
      "continueing...\n",
      "11\n",
      "continueing...\n",
      "12\n",
      "continueing...\n",
      "13\n",
      "continueing...\n",
      "14\n",
      "continueing...\n",
      "15\n",
      "x is 15\n"
     ]
    }
   ],
   "source": [
    "x=0\n",
    "while x<=20:\n",
    "    print(x)\n",
    "    y=x\n",
    "    x+=1\n",
    "    if y==15:\n",
    "        print(\"x is 15\")\n",
    "        break\n",
    "    else:\n",
    "        print(\"continueing...\")"
   ]
  },
  {
   "cell_type": "code",
   "execution_count": 12,
   "id": "b5a854c3",
   "metadata": {},
   "outputs": [
    {
     "name": "stdout",
     "output_type": "stream",
     "text": [
      "0\n",
      "continueing...\n",
      "1\n",
      "continueing...\n",
      "2\n",
      "continueing...\n",
      "3\n",
      "continueing...\n",
      "4\n",
      "continueing...\n",
      "5\n",
      "continueing...\n",
      "6\n",
      "continueing...\n",
      "7\n",
      "continueing...\n",
      "8\n",
      "continueing...\n",
      "9\n",
      "continueing...\n",
      "10\n",
      "continueing...\n",
      "11\n",
      "continueing...\n",
      "12\n",
      "continueing...\n",
      "13\n",
      "continueing...\n",
      "14\n",
      "continueing...\n",
      "15\n",
      "x is 15\n",
      "16\n",
      "continueing...\n",
      "17\n",
      "continueing...\n",
      "18\n",
      "continueing...\n",
      "19\n",
      "continueing...\n",
      "20\n",
      "continueing...\n"
     ]
    }
   ],
   "source": [
    "x=0\n",
    "while x<=20:\n",
    "    print(x)\n",
    "    y=x\n",
    "    x+=1\n",
    "    if y==15:\n",
    "        print(\"x is 15\")\n",
    "        pass\n",
    "    else:\n",
    "        print(\"continueing...\")"
   ]
  },
  {
   "cell_type": "code",
   "execution_count": 14,
   "id": "2727fc2b",
   "metadata": {},
   "outputs": [
    {
     "name": "stdout",
     "output_type": "stream",
     "text": [
      "g\n",
      "e\n",
      "e\n",
      "Pass executed\n",
      "k\n",
      "s\n",
      "\n",
      "g\n",
      "e\n",
      "e\n",
      "Continue executed\n",
      "s\n"
     ]
    }
   ],
   "source": [
    "# Python program to demonstrate\n",
    "# difference between pass and\n",
    "# continue statements\n",
    "\n",
    "s = \"geeks\"\n",
    "\n",
    "# Pass statement\n",
    "for i in s:\n",
    "\tif i == 'k':\n",
    "\t\tprint('Pass executed')\n",
    "\t\tpass\n",
    "\tprint(i)\n",
    "\n",
    "print()\n",
    "\t\n",
    "# Continue statement\n",
    "for i in s:\n",
    "\tif i == 'k':\n",
    "\t\tprint('Continue executed')\n",
    "\t\tcontinue\n",
    "\tprint(i)\n"
   ]
  },
  {
   "cell_type": "code",
   "execution_count": 18,
   "id": "be8538b0",
   "metadata": {},
   "outputs": [
    {
     "data": {
      "text/plain": [
       "[0, 1, 2, 3, 4, 5, 6, 7, 8, 9]"
      ]
     },
     "execution_count": 18,
     "metadata": {},
     "output_type": "execute_result"
    }
   ],
   "source": [
    "list(range(0,10))"
   ]
  },
  {
   "cell_type": "code",
   "execution_count": 20,
   "id": "7e14e34f",
   "metadata": {},
   "outputs": [
    {
     "data": {
      "text/plain": [
       "[(0, 'a'), (1, 'b'), (2, 'c'), (3, 'd'), (4, 'e')]"
      ]
     },
     "execution_count": 20,
     "metadata": {},
     "output_type": "execute_result"
    }
   ],
   "source": [
    "list(enumerate('abcde'))"
   ]
  },
  {
   "cell_type": "code",
   "execution_count": 23,
   "id": "56f61038",
   "metadata": {},
   "outputs": [
    {
     "data": {
      "text/plain": [
       "{(0, 0),\n",
       " (1, 1),\n",
       " (2, 2),\n",
       " (3, 3),\n",
       " (4, 4),\n",
       " (5, 5),\n",
       " (6, 6),\n",
       " (7, 7),\n",
       " (8, 8),\n",
       " (9, 9)}"
      ]
     },
     "execution_count": 23,
     "metadata": {},
     "output_type": "execute_result"
    }
   ],
   "source": [
    "set(list(enumerate(range(0,10))))\n"
   ]
  },
  {
   "cell_type": "code",
   "execution_count": 29,
   "id": "55378ac4",
   "metadata": {},
   "outputs": [
    {
     "data": {
      "text/plain": [
       "((0, 1), (1, 2), (2, 3), (3, 4), (4, 5))"
      ]
     },
     "execution_count": 29,
     "metadata": {},
     "output_type": "execute_result"
    }
   ],
   "source": [
    "tup = (1,2,3,4,5)\n",
    "tuple(enumerate(tup))"
   ]
  },
  {
   "cell_type": "code",
   "execution_count": 43,
   "id": "02d144d7",
   "metadata": {},
   "outputs": [
    {
     "data": {
      "text/plain": [
       "[(0, ('a', 10)), (1, ('b', 20)), (2, ('c', 30))]"
      ]
     },
     "execution_count": 43,
     "metadata": {},
     "output_type": "execute_result"
    }
   ],
   "source": [
    "dict = {'a':10,'b':20,'c':30}\n",
    "x= list(dict.values())\n",
    "list(enumerate(dict.items()))"
   ]
  },
  {
   "cell_type": "code",
   "execution_count": null,
   "id": "f9009a51",
   "metadata": {},
   "outputs": [],
   "source": []
  }
 ],
 "metadata": {
  "kernelspec": {
   "display_name": "Python 3 (ipykernel)",
   "language": "python",
   "name": "python3"
  },
  "language_info": {
   "codemirror_mode": {
    "name": "ipython",
    "version": 3
   },
   "file_extension": ".py",
   "mimetype": "text/x-python",
   "name": "python",
   "nbconvert_exporter": "python",
   "pygments_lexer": "ipython3",
   "version": "3.10.9"
  }
 },
 "nbformat": 4,
 "nbformat_minor": 5
}
