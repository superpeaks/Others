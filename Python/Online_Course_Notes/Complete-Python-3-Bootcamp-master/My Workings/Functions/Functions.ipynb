{
 "cells": [
  {
   "cell_type": "code",
   "execution_count": 20,
   "id": "e9406ace",
   "metadata": {},
   "outputs": [],
   "source": [
    "def myfunc(*arg):\n",
    "    result =[]\n",
    "    for x in arg:\n",
    "        if x % 2==0:\n",
    "            result.append(x)\n",
    "        else:\n",
    "            pass\n",
    "    return result"
   ]
  },
  {
   "cell_type": "code",
   "execution_count": 21,
   "id": "303ada99",
   "metadata": {},
   "outputs": [
    {
     "data": {
      "text/plain": [
       "[2, 4, 6]"
      ]
     },
     "execution_count": 21,
     "metadata": {},
     "output_type": "execute_result"
    }
   ],
   "source": [
    "myfunc(2,3,4,5,6,7)"
   ]
  },
  {
   "cell_type": "code",
   "execution_count": 18,
   "id": "d50807dd",
   "metadata": {},
   "outputs": [
    {
     "name": "stdout",
     "output_type": "stream",
     "text": [
      "1\n",
      "2\n",
      "3\n"
     ]
    }
   ],
   "source": [
    "def myf(*arg):\n",
    "    for x in arg:\n",
    "        print(x)\n",
    "myf(1,2,3)"
   ]
  },
  {
   "cell_type": "code",
   "execution_count": 2,
   "id": "c705742c",
   "metadata": {},
   "outputs": [
    {
     "data": {
      "text/plain": [
       "'aSdFgHjQwErY'"
      ]
     },
     "execution_count": 2,
     "metadata": {},
     "output_type": "execute_result"
    }
   ],
   "source": [
    "def myfunc(string):\n",
    "    out =\"\"\n",
    "    for x in range(len(string)):\n",
    "        if x%2==0:\n",
    "            out +=(string[x].lower())\n",
    "        else:\n",
    "            out +=(string[x].upper())\n",
    "    return out\n",
    "\n",
    "        \n",
    "myfunc('asdfghjqwery')"
   ]
  },
  {
   "cell_type": "markdown",
   "id": "c8918716",
   "metadata": {},
   "source": [
    "\n",
    "\n",
    "Game: Three Cup Monta"
   ]
  },
  {
   "cell_type": "code",
   "execution_count": 3,
   "id": "1b695662",
   "metadata": {},
   "outputs": [],
   "source": [
    "from random import shuffle"
   ]
  },
  {
   "cell_type": "code",
   "execution_count": 5,
   "id": "93cdfea1",
   "metadata": {},
   "outputs": [],
   "source": [
    "def shuffled_list(mylist):\n",
    "    shuffle(mylist)\n",
    "    return mylist"
   ]
  },
  {
   "cell_type": "code",
   "execution_count": 12,
   "id": "e381c09d",
   "metadata": {},
   "outputs": [],
   "source": [
    "def guees():\n",
    "    gueess = ''\n",
    "    while gueess not in ['1','2','3']:\n",
    "        gueess=input(\"Please chose your guess(1,2,3): \")\n",
    "    return int(gueess)-1"
   ]
  },
  {
   "cell_type": "code",
   "execution_count": 9,
   "id": "ec53ffb3",
   "metadata": {},
   "outputs": [],
   "source": [
    "def check(mylist,guees):\n",
    "    if mylist[guees]=='O':\n",
    "        print('correct')\n",
    "    else:\n",
    "        print('wrong choise')\n",
    "    print(mylist)"
   ]
  },
  {
   "cell_type": "code",
   "execution_count": 15,
   "id": "eb6821f0",
   "metadata": {},
   "outputs": [
    {
     "name": "stdout",
     "output_type": "stream",
     "text": [
      "Please chose your guess(1,2,3): 1\n",
      "correct\n",
      "['O', ' ', ' ']\n"
     ]
    }
   ],
   "source": [
    "mylist = [' ','O',' ']\n",
    "\n",
    "my_shuffled_list = shuffled_list(mylist)\n",
    "\n",
    "get_user_guess = guees()\n",
    "\n",
    "check(my_shuffled_list,get_user_guess)"
   ]
  },
  {
   "cell_type": "code",
   "execution_count": null,
   "id": "223fd77e",
   "metadata": {},
   "outputs": [],
   "source": []
  }
 ],
 "metadata": {
  "kernelspec": {
   "display_name": "Python 3 (ipykernel)",
   "language": "python",
   "name": "python3"
  },
  "language_info": {
   "codemirror_mode": {
    "name": "ipython",
    "version": 3
   },
   "file_extension": ".py",
   "mimetype": "text/x-python",
   "name": "python",
   "nbconvert_exporter": "python",
   "pygments_lexer": "ipython3",
   "version": "3.10.9"
  }
 },
 "nbformat": 4,
 "nbformat_minor": 5
}
