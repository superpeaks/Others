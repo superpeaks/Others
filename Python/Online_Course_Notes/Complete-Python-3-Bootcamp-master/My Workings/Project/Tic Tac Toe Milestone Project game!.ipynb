{
 "cells": [
  {
   "cell_type": "code",
   "execution_count": 207,
   "id": "8869fd22",
   "metadata": {},
   "outputs": [],
   "source": [
    "def start_game():\n",
    "    start = True\n",
    "    while start == True:\n",
    "        get_game_start = input(\"\\nDo you wanna play this game (yes or no): \").lower()\n",
    "        if get_game_start =='yes' or get_game_start=='y':\n",
    "            print('\\nStart the Game')\n",
    "            board = board_reset()\n",
    "            player1,player2,start_palyer=marker_choise()\n",
    "            board_display(board)\n",
    "            play_xo(player1,player2,start_palyer,board)\n",
    "            \n",
    "            \n",
    "            \n",
    "            \n",
    "            \n",
    "            \n",
    "            \n",
    "            \n",
    "            start = False\n",
    "        elif get_game_start =='no' or get_game_start=='n':\n",
    "            print('\\nGame Ended\\nThank you for chosing this game.....')\n",
    "            start = False\n",
    "        else:\n",
    "            print('\\nPlease enter valid input')\n",
    "            start = True"
   ]
  },
  {
   "cell_type": "code",
   "execution_count": 208,
   "id": "6598898c",
   "metadata": {},
   "outputs": [],
   "source": [
    "def board_display(board):\n",
    "    print(board[7]+'|'+board[8]+'|'+board[9])\n",
    "    print('-----')\n",
    "    print(board[6]+'|'+board[5]+'|'+board[6])\n",
    "    print('-----')\n",
    "    print(board[1]+'|'+board[2]+'|'+board[3])"
   ]
  },
  {
   "cell_type": "code",
   "execution_count": 209,
   "id": "b3df8f45",
   "metadata": {},
   "outputs": [],
   "source": [
    "def board_reset():\n",
    "    board = [' ']*10\n",
    "    return board"
   ]
  },
  {
   "cell_type": "code",
   "execution_count": 210,
   "id": "f558a48e",
   "metadata": {},
   "outputs": [],
   "source": [
    "from random import randint\n",
    "def marker_choise():\n",
    "    random_no = randint(1,2)\n",
    "    choise =True\n",
    "    player1_choise = ''\n",
    "    player2_choise = ''\n",
    "    while choise == True:\n",
    "        if random_no==1:\n",
    "            player1_choise=input(\"Player{}: Please Enter your choise(X/O): \".format(random_no)).upper()\n",
    "            if player1_choise in ['X','O']:\n",
    "                choise = False\n",
    "            else:\n",
    "                print('\\nPlease select valid input: ')\n",
    "        else:\n",
    "            player2_choise=input(\"Player{}: Please Enter your choise(X/O): \".format(random_no)).upper()\n",
    "            if player2_choise in ['X','O']:\n",
    "                choise = False\n",
    "            else:\n",
    "                print('\\nPlease select valid input: ')\n",
    "    if player2_choise=='X' or player1_choise == 'O':\n",
    "        player1_choise='O'\n",
    "        pla = 'X'\n",
    "    else:\n",
    "        player1_choise = 'X'\n",
    "        player2_choise = 'O'\n",
    "    return (player1_choise,player2_choise,random_no)"
   ]
  },
  {
   "cell_type": "code",
   "execution_count": 211,
   "id": "ad04e62d",
   "metadata": {},
   "outputs": [],
   "source": [
    "def check_game_won_condition(board,mark):\n",
    "    \n",
    "    return ((board[7] == mark and board[8] == mark and board[9] == mark) or # across the top\n",
    "    (board[4] == mark and board[5] == mark and board[6] == mark) or # across the middle\n",
    "    (board[1] == mark and board[2] == mark and board[3] == mark) or # across the bottom\n",
    "    (board[7] == mark and board[4] == mark and board[1] == mark) or # down the middle\n",
    "    (board[8] == mark and board[5] == mark and board[2] == mark) or # down the middle\n",
    "    (board[9] == mark and board[6] == mark and board[3] == mark) or # down the right side\n",
    "    (board[7] == mark and board[5] == mark and board[3] == mark) or # diagonal\n",
    "    (board[9] == mark and board[5] == mark and board[1] == mark)) # diagonal"
   ]
  },
  {
   "cell_type": "code",
   "execution_count": 223,
   "id": "27ff2906",
   "metadata": {},
   "outputs": [],
   "source": [
    "def play_xo(p1,p2,start_with,board):\n",
    "    print(p1)\n",
    "    print(p2)\n",
    "    print(start_with)\n",
    "    print(board)\n",
    "    if start_with == 1:\n",
    "        \n",
    "        board=board_update"
   ]
  },
  {
   "cell_type": "code",
   "execution_count": 222,
   "id": "078501d0",
   "metadata": {},
   "outputs": [],
   "source": [
    "def board_update(p1,p2,board):\n",
    "    return board"
   ]
  },
  {
   "cell_type": "code",
   "execution_count": 219,
   "id": "2d0a3eac",
   "metadata": {},
   "outputs": [
    {
     "name": "stdout",
     "output_type": "stream",
     "text": [
      "Player1: Please Enter your choise(X/O): x\n",
      " | | \n",
      "-----\n",
      " | | \n",
      "-----\n",
      " | | \n",
      "X\n",
      "O\n",
      "1\n",
      "[' ', ' ', ' ', ' ', ' ', ' ', ' ', ' ', ' ', ' ']\n"
     ]
    }
   ],
   "source": [
    "board = board_reset()\n",
    "player1,player2,start_palyer=marker_choise()\n",
    "board_display(board)\n",
    "play_xo(player1,player2,start_palyer,board)"
   ]
  },
  {
   "cell_type": "code",
   "execution_count": 216,
   "id": "d24f2274",
   "metadata": {},
   "outputs": [
    {
     "name": "stdout",
     "output_type": "stream",
     "text": [
      "\n",
      "Do you wanna play this game (yes or no): y\n",
      "\n",
      "Start the Game\n",
      "Player1: Please Enter your choise(X/O): x\n",
      " | | \n",
      "-----\n",
      " | | \n",
      "-----\n",
      " | | \n"
     ]
    },
    {
     "ename": "UnboundLocalError",
     "evalue": "local variable 'won' referenced before assignment",
     "output_type": "error",
     "traceback": [
      "\u001b[1;31m---------------------------------------------------------------------------\u001b[0m",
      "\u001b[1;31mUnboundLocalError\u001b[0m                         Traceback (most recent call last)",
      "Cell \u001b[1;32mIn[216], line 1\u001b[0m\n\u001b[1;32m----> 1\u001b[0m \u001b[43mstart_game\u001b[49m\u001b[43m(\u001b[49m\u001b[43m)\u001b[49m\n",
      "Cell \u001b[1;32mIn[207], line 10\u001b[0m, in \u001b[0;36mstart_game\u001b[1;34m()\u001b[0m\n\u001b[0;32m      8\u001b[0m     player1,player2,start_palyer\u001b[38;5;241m=\u001b[39mmarker_choise()\n\u001b[0;32m      9\u001b[0m     board_display(board)\n\u001b[1;32m---> 10\u001b[0m     \u001b[43mplay_xo\u001b[49m\u001b[43m(\u001b[49m\u001b[43mplayer1\u001b[49m\u001b[43m,\u001b[49m\u001b[43mplayer2\u001b[49m\u001b[43m,\u001b[49m\u001b[43mstart_palyer\u001b[49m\u001b[43m,\u001b[49m\u001b[43mboard\u001b[49m\u001b[43m)\u001b[49m\n\u001b[0;32m     19\u001b[0m     start \u001b[38;5;241m=\u001b[39m \u001b[38;5;28;01mFalse\u001b[39;00m\n\u001b[0;32m     20\u001b[0m \u001b[38;5;28;01melif\u001b[39;00m get_game_start \u001b[38;5;241m==\u001b[39m\u001b[38;5;124m'\u001b[39m\u001b[38;5;124mno\u001b[39m\u001b[38;5;124m'\u001b[39m \u001b[38;5;129;01mor\u001b[39;00m get_game_start\u001b[38;5;241m==\u001b[39m\u001b[38;5;124m'\u001b[39m\u001b[38;5;124mn\u001b[39m\u001b[38;5;124m'\u001b[39m:\n",
      "Cell \u001b[1;32mIn[188], line 4\u001b[0m, in \u001b[0;36mplay_xo\u001b[1;34m(p1, p2, start_palyer, board)\u001b[0m\n\u001b[0;32m      2\u001b[0m all_possition \u001b[38;5;241m=\u001b[39m [\u001b[38;5;241m1\u001b[39m,\u001b[38;5;241m2\u001b[39m,\u001b[38;5;241m3\u001b[39m,\u001b[38;5;241m4\u001b[39m,\u001b[38;5;241m5\u001b[39m,\u001b[38;5;241m6\u001b[39m,\u001b[38;5;241m7\u001b[39m,\u001b[38;5;241m8\u001b[39m,\u001b[38;5;241m9\u001b[39m]\n\u001b[0;32m      3\u001b[0m \u001b[38;5;28;01mif\u001b[39;00m start_palyer \u001b[38;5;241m==\u001b[39m \u001b[38;5;241m1\u001b[39m:\n\u001b[1;32m----> 4\u001b[0m     \u001b[38;5;28;01mwhile\u001b[39;00m \u001b[43mwon\u001b[49m \u001b[38;5;241m==\u001b[39m \u001b[38;5;28;01mFalse\u001b[39;00m:\n\u001b[0;32m      5\u001b[0m         possition \u001b[38;5;241m=\u001b[39m \u001b[38;5;28mint\u001b[39m(\u001b[38;5;28minput\u001b[39m(\u001b[38;5;124m'\u001b[39m\u001b[38;5;130;01m\\n\u001b[39;00m\u001b[38;5;124mPlayer1 Possition(1-9): \u001b[39m\u001b[38;5;124m'\u001b[39m))\n\u001b[0;32m      6\u001b[0m         \u001b[38;5;28;01mif\u001b[39;00m possition \u001b[38;5;129;01min\u001b[39;00m all_possition:\n",
      "\u001b[1;31mUnboundLocalError\u001b[0m: local variable 'won' referenced before assignment"
     ]
    }
   ],
   "source": [
    "start_game()"
   ]
  },
  {
   "cell_type": "code",
   "execution_count": null,
   "id": "10f6cdcd",
   "metadata": {},
   "outputs": [],
   "source": []
  }
 ],
 "metadata": {
  "kernelspec": {
   "display_name": "Python 3 (ipykernel)",
   "language": "python",
   "name": "python3"
  },
  "language_info": {
   "codemirror_mode": {
    "name": "ipython",
    "version": 3
   },
   "file_extension": ".py",
   "mimetype": "text/x-python",
   "name": "python",
   "nbconvert_exporter": "python",
   "pygments_lexer": "ipython3",
   "version": "3.10.9"
  }
 },
 "nbformat": 4,
 "nbformat_minor": 5
}
