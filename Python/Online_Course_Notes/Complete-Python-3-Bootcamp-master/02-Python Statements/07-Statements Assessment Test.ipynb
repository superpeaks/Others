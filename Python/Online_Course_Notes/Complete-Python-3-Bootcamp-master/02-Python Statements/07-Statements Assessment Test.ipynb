{
 "cells": [
  {
   "cell_type": "markdown",
   "metadata": {},
   "source": [
    "___\n",
    "\n",
    "<a href='https://www.udemy.com/user/joseportilla/'><img src='../Pierian_Data_Logo.png'/></a>\n",
    "___\n",
    "<center><em>Content Copyright by Pierian Data</em></center>"
   ]
  },
  {
   "cell_type": "markdown",
   "metadata": {
    "collapsed": true
   },
   "source": [
    "# Statements Assessment Test\n",
    "Let's test your knowledge!"
   ]
  },
  {
   "cell_type": "markdown",
   "metadata": {},
   "source": [
    "_____\n",
    "**Use <code>for</code>, .split(), and <code>if</code> to create a Statement that will print out words that start with 's':**"
   ]
  },
  {
   "cell_type": "code",
   "execution_count": 28,
   "metadata": {},
   "outputs": [],
   "source": [
    "st = 'Print only the words that Start with s in this sentence'"
   ]
  },
  {
   "cell_type": "code",
   "execution_count": 29,
   "metadata": {},
   "outputs": [
    {
     "name": "stdout",
     "output_type": "stream",
     "text": [
      "Start\n",
      "s\n",
      "sentence\n"
     ]
    }
   ],
   "source": [
    "#Code her\n",
    "for x in st.split():\n",
    "    if x[0].upper()=='S':\n",
    "        print(x)\n"
   ]
  },
  {
   "cell_type": "markdown",
   "metadata": {},
   "source": [
    "______\n",
    "**Use range() to print all the even numbers from 0 to 10.**"
   ]
  },
  {
   "cell_type": "code",
   "execution_count": 34,
   "metadata": {},
   "outputs": [
    {
     "name": "stdout",
     "output_type": "stream",
     "text": [
      "[0, 1, 2, 3, 4, 5, 6, 7, 8, 9, 10]\n"
     ]
    }
   ],
   "source": [
    "#Code Here\n",
    "print(list(range(0,11)))"
   ]
  },
  {
   "cell_type": "markdown",
   "metadata": {},
   "source": [
    "___\n",
    "**Use a List Comprehension to create a list of all numbers between 1 and 50 that are divisible by 3.**"
   ]
  },
  {
   "cell_type": "code",
   "execution_count": 35,
   "metadata": {},
   "outputs": [
    {
     "name": "stdout",
     "output_type": "stream",
     "text": [
      "[0, 3, 6, 9, 12, 15, 18, 21, 24, 27, 30, 33, 36, 39, 42, 45, 48]\n"
     ]
    }
   ],
   "source": [
    "#Code in this cell\n",
    "print(list(range(0,51,3)))"
   ]
  },
  {
   "cell_type": "markdown",
   "metadata": {},
   "source": [
    "_____\n",
    "**Go through the string below and if the length of a word is even print \"even!\"**"
   ]
  },
  {
   "cell_type": "code",
   "execution_count": null,
   "metadata": {
    "collapsed": true
   },
   "outputs": [],
   "source": [
    "st = 'Print every word in this sentence that has an even number of letters'"
   ]
  },
  {
   "cell_type": "code",
   "execution_count": 36,
   "metadata": {},
   "outputs": [
    {
     "name": "stdout",
     "output_type": "stream",
     "text": [
      "only\n",
      "that\n",
      "with\n",
      "in\n",
      "this\n",
      "sentence\n"
     ]
    }
   ],
   "source": [
    "#Code in this cell\n",
    "for word in st.split():\n",
    "    if len(word)% 2==0:\n",
    "        print(word)"
   ]
  },
  {
   "cell_type": "markdown",
   "metadata": {},
   "source": [
    "____\n",
    "**Write a program that prints the integers from 1 to 100. But for multiples of three print \"Fizz\" instead of the number, and for the multiples of five print \"Buzz\". For numbers which are multiples of both three and five print \"FizzBuzz\".**"
   ]
  },
  {
   "cell_type": "code",
   "execution_count": 39,
   "metadata": {},
   "outputs": [
    {
     "name": "stdout",
     "output_type": "stream",
     "text": [
      "1\n",
      "2\n",
      "3  is Fizz\n",
      "4\n",
      "5  is Buzz\n",
      "6  is Fizz\n",
      "7\n",
      "8\n",
      "9  is Fizz\n",
      "10  is Buzz\n",
      "11\n",
      "12  is Fizz\n",
      "13\n",
      "14\n",
      "15  is FizzBuzz\n",
      "16\n",
      "17\n",
      "18  is Fizz\n",
      "19\n",
      "20  is Buzz\n",
      "21  is Fizz\n",
      "22\n",
      "23\n",
      "24  is Fizz\n",
      "25  is Buzz\n",
      "26\n",
      "27  is Fizz\n",
      "28\n",
      "29\n",
      "30  is FizzBuzz\n",
      "31\n",
      "32\n",
      "33  is Fizz\n",
      "34\n",
      "35  is Buzz\n",
      "36  is Fizz\n",
      "37\n",
      "38\n",
      "39  is Fizz\n",
      "40  is Buzz\n",
      "41\n",
      "42  is Fizz\n",
      "43\n",
      "44\n",
      "45  is FizzBuzz\n",
      "46\n",
      "47\n",
      "48  is Fizz\n",
      "49\n",
      "50  is Buzz\n",
      "51  is Fizz\n",
      "52\n",
      "53\n",
      "54  is Fizz\n",
      "55  is Buzz\n",
      "56\n",
      "57  is Fizz\n",
      "58\n",
      "59\n",
      "60  is FizzBuzz\n",
      "61\n",
      "62\n",
      "63  is Fizz\n",
      "64\n",
      "65  is Buzz\n",
      "66  is Fizz\n",
      "67\n",
      "68\n",
      "69  is Fizz\n",
      "70  is Buzz\n",
      "71\n",
      "72  is Fizz\n",
      "73\n",
      "74\n",
      "75  is FizzBuzz\n",
      "76\n",
      "77\n",
      "78  is Fizz\n",
      "79\n",
      "80  is Buzz\n",
      "81  is Fizz\n",
      "82\n",
      "83\n",
      "84  is Fizz\n",
      "85  is Buzz\n",
      "86\n",
      "87  is Fizz\n",
      "88\n",
      "89\n",
      "90  is FizzBuzz\n",
      "91\n",
      "92\n",
      "93  is Fizz\n",
      "94\n",
      "95  is Buzz\n",
      "96  is Fizz\n",
      "97\n",
      "98\n",
      "99  is Fizz\n",
      "100  is Buzz\n"
     ]
    }
   ],
   "source": [
    "#Code in this cell\n",
    "for x in range(1,101):\n",
    "    if x%3==0 and x%5==0:\n",
    "        print(x, \" is FizzBuzz\")\n",
    "    elif x%3==0:\n",
    "        print(x, \" is Fizz\")\n",
    "    elif x%5==0:\n",
    "        print(x, \" is Buzz\")\n",
    "    else:\n",
    "        print(x)"
   ]
  },
  {
   "cell_type": "markdown",
   "metadata": {},
   "source": [
    "____\n",
    "**Use List Comprehension to create a list of the first letters of every word in the string below:**"
   ]
  },
  {
   "cell_type": "code",
   "execution_count": 40,
   "metadata": {},
   "outputs": [],
   "source": [
    "st = 'Create a list of the first letters of every word in this string'"
   ]
  },
  {
   "cell_type": "code",
   "execution_count": 45,
   "metadata": {},
   "outputs": [
    {
     "name": "stdout",
     "output_type": "stream",
     "text": [
      "['C', 'a', 'l', 'o', 't', 'f', 'l', 'o', 'e', 'w', 'i', 't', 's']\n"
     ]
    }
   ],
   "source": [
    "#Code in this cell\n",
    "lst = [x[0] for x in st.split()]\n",
    "print(lst)"
   ]
  },
  {
   "cell_type": "markdown",
   "metadata": {},
   "source": [
    "### Great Job!"
   ]
  }
 ],
 "metadata": {
  "kernelspec": {
   "display_name": "Python 3 (ipykernel)",
   "language": "python",
   "name": "python3"
  },
  "language_info": {
   "codemirror_mode": {
    "name": "ipython",
    "version": 3
   },
   "file_extension": ".py",
   "mimetype": "text/x-python",
   "name": "python",
   "nbconvert_exporter": "python",
   "pygments_lexer": "ipython3",
   "version": "3.10.9"
  }
 },
 "nbformat": 4,
 "nbformat_minor": 1
}
